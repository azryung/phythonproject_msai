{
 "cells": [
  {
   "cell_type": "markdown",
   "id": "922f6371",
   "metadata": {},
   "source": [
    "중접반복문"
   ]
  },
  {
   "cell_type": "markdown",
   "id": "1b396d6b",
   "metadata": {},
   "source": []
  },
  {
   "cell_type": "code",
   "execution_count": null,
   "id": "034979c7",
   "metadata": {},
   "outputs": [
    {
     "name": "stdout",
     "output_type": "stream",
     "text": [
      "i=0, j=0\n",
      "i=0, j=1\n",
      "i=0, j=2\n",
      "i=0, j=3\n",
      "i=0, j=4\n",
      "i=1, j=0\n",
      "i=1, j=1\n",
      "i=1, j=2\n",
      "i=1, j=3\n",
      "i=1, j=4\n",
      "i=2, j=0\n",
      "i=2, j=1\n",
      "i=2, j=2\n",
      "i=2, j=3\n",
      "i=3, j=0\n",
      "i=3, j=1\n",
      "i=3, j=2\n",
      "i=3, j=3\n",
      "i=3, j=4\n",
      "i=4, j=0\n",
      "i=4, j=1\n",
      "i=4, j=2\n",
      "i=4, j=3\n",
      "i=4, j=4\n",
      "0\n"
     ]
    },
    {
     "ename": "TypeError",
     "evalue": "unsupported operand type(s) for //: 'NoneType' and 'int'",
     "output_type": "error",
     "traceback": [
      "\u001b[31m---------------------------------------------------------------------------\u001b[39m",
      "\u001b[31mTypeError\u001b[39m                                 Traceback (most recent call last)",
      "\u001b[36mCell\u001b[39m\u001b[36m \u001b[39m\u001b[32mIn[5]\u001b[39m\u001b[32m, line 7\u001b[39m\n\u001b[32m      5\u001b[39m         \u001b[38;5;28;01mif\u001b[39;00m i == \u001b[32m2\u001b[39m \u001b[38;5;129;01mand\u001b[39;00m j ==\u001b[32m3\u001b[39m:\n\u001b[32m      6\u001b[39m             \u001b[38;5;28;01mbreak\u001b[39;00m\n\u001b[32m----> \u001b[39m\u001b[32m7\u001b[39m \u001b[38;5;28;43mprint\u001b[39;49m\u001b[43m(\u001b[49m\u001b[43mnumber\u001b[49m\u001b[43m)\u001b[49m\u001b[43m/\u001b[49m\u001b[43m/\u001b[49m\u001b[32;43m6\u001b[39;49m\n",
      "\u001b[31mTypeError\u001b[39m: unsupported operand type(s) for //: 'NoneType' and 'int'"
     ]
    }
   ],
   "source": [
    "number = 0\n",
    "for i in range(5):\n",
    "    for j in range(5):\n",
    "        print(f\"i={i}, j={j}\")\n",
    "        if i == 2 and j ==3:\n",
    "            break_all \n",
    "print(number)//6"
   ]
  },
  {
   "cell_type": "code",
   "execution_count": 6,
   "id": "45a5cb3d",
   "metadata": {},
   "outputs": [
    {
     "name": "stdout",
     "output_type": "stream",
     "text": [
      "*\n",
      "**\n",
      "***\n",
      "****\n",
      "*****\n",
      "******\n",
      "*******\n",
      "**\n"
     ]
    }
   ],
   "source": [
    "# 별의 총 개수(n)를 입력받습니다.\n",
    "n = int(input(\"별의 총 개수를 입력하세요: \"))\n",
    "\n",
    "# 트리의 최대 층은 10층으로 제한합니다.\n",
    "for floor in range(1, 11):\n",
    "    # 남은 별이 없으면 반복문을 멈춥니다.\n",
    "    if n <= 0:\n",
    "        break\n",
    "\n",
    "    # 각 층에 출력할 별의 개수를 제어합니다.\n",
    "    for i in range(1, floor + 1):\n",
    "        # 남은 별이 없으면 현재 층의 출력을 멈춥니다.\n",
    "        if n <= 0:\n",
    "            break\n",
    "        \n",
    "        # 별을 출력하고 남은 별의 개수에서 1을 뺍니다.\n",
    "        print(\"*\", end=\"\")\n",
    "        n -= 1\n",
    "    \n",
    "    # 한 층의 별 출력이 끝나면 줄바꿈합니다.\n",
    "    print()"
   ]
  },
  {
   "cell_type": "code",
   "execution_count": 11,
   "id": "6afca720",
   "metadata": {},
   "outputs": [
    {
     "name": "stdout",
     "output_type": "stream",
     "text": [
      "['Hello', ' Python']\n"
     ]
    }
   ],
   "source": [
    "my_str = \"Hello, Python\"\n",
    "words = my_str.split(',')\n",
    "print(words)"
   ]
  },
  {
   "cell_type": "code",
   "execution_count": 12,
   "id": "72068dc0",
   "metadata": {},
   "outputs": [
    {
     "data": {
      "text/plain": [
       "list"
      ]
     },
     "execution_count": 12,
     "metadata": {},
     "output_type": "execute_result"
    }
   ],
   "source": [
    "#리스트 : 복수의 데이터를 순서대로 저장하고 조작하는 기본 자료형\n",
    "numbers = [1,2,3,4,5]\n",
    "fruits = ['apple', 'banana', 'mango','pear']\n",
    "\n",
    "type(numbers)"
   ]
  },
  {
   "cell_type": "code",
   "execution_count": 13,
   "id": "63a78ae7",
   "metadata": {},
   "outputs": [
    {
     "data": {
      "text/plain": [
       "[1, 2, 3, 4, 5, 6, 7, 8, 9, 10]"
      ]
     },
     "execution_count": 13,
     "metadata": {},
     "output_type": "execute_result"
    }
   ],
   "source": [
    "numbers1 = [1,2,3,4,5]\n",
    "numbers2 = [6,7,8,9,10]\n",
    "\n",
    "numbers1+numbers2"
   ]
  },
  {
   "cell_type": "code",
   "execution_count": 14,
   "id": "f330d6f9",
   "metadata": {},
   "outputs": [
    {
     "data": {
      "text/plain": [
       "'pear'"
      ]
     },
     "execution_count": 14,
     "metadata": {},
     "output_type": "execute_result"
    }
   ],
   "source": [
    "fruits[-1]"
   ]
  },
  {
   "cell_type": "code",
   "execution_count": 15,
   "id": "3b2680a1",
   "metadata": {},
   "outputs": [
    {
     "data": {
      "text/plain": [
       "['apple', 'banana']"
      ]
     },
     "execution_count": 15,
     "metadata": {},
     "output_type": "execute_result"
    }
   ],
   "source": [
    "fruits[:2]"
   ]
  },
  {
   "cell_type": "code",
   "execution_count": 16,
   "id": "1a94c39a",
   "metadata": {},
   "outputs": [
    {
     "ename": "IndexError",
     "evalue": "list assignment index out of range",
     "output_type": "error",
     "traceback": [
      "\u001b[31m---------------------------------------------------------------------------\u001b[39m",
      "\u001b[31mIndexError\u001b[39m                                Traceback (most recent call last)",
      "\u001b[36mCell\u001b[39m\u001b[36m \u001b[39m\u001b[32mIn[16]\u001b[39m\u001b[32m, line 1\u001b[39m\n\u001b[32m----> \u001b[39m\u001b[32m1\u001b[39m \u001b[43mfruits\u001b[49m\u001b[43m[\u001b[49m\u001b[32;43m4\u001b[39;49m\u001b[43m]\u001b[49m = \u001b[33m'\u001b[39m\u001b[33mgrape\u001b[39m\u001b[33m'\u001b[39m\n",
      "\u001b[31mIndexError\u001b[39m: list assignment index out of range"
     ]
    }
   ],
   "source": [
    "fruits[4] = 'grape'"
   ]
  },
  {
   "cell_type": "code",
   "execution_count": 21,
   "id": "639153a8",
   "metadata": {},
   "outputs": [],
   "source": [
    "#인덱스추가하고 싶을때\n",
    "#fruits.append('cherry')"
   ]
  },
  {
   "cell_type": "code",
   "execution_count": 22,
   "id": "4d9e7357",
   "metadata": {},
   "outputs": [
    {
     "data": {
      "text/plain": [
       "['apple', 'banana', 'mango', 'pear', 'cherry', 'cherry', 'cherry']"
      ]
     },
     "execution_count": 22,
     "metadata": {},
     "output_type": "execute_result"
    }
   ],
   "source": [
    "fruits"
   ]
  },
  {
   "cell_type": "code",
   "execution_count": 23,
   "id": "649201d9",
   "metadata": {},
   "outputs": [],
   "source": [
    "fruits.insert(2,'kiwi')"
   ]
  },
  {
   "cell_type": "code",
   "execution_count": 24,
   "id": "442a2b6c",
   "metadata": {},
   "outputs": [
    {
     "data": {
      "text/plain": [
       "['apple', 'banana', 'kiwi', 'mango', 'pear', 'cherry', 'cherry', 'cherry']"
      ]
     },
     "execution_count": 24,
     "metadata": {},
     "output_type": "execute_result"
    }
   ],
   "source": [
    "fruits"
   ]
  },
  {
   "cell_type": "code",
   "execution_count": 25,
   "id": "8ef840c3",
   "metadata": {},
   "outputs": [],
   "source": [
    "fruits.extend(['orange','date'])"
   ]
  },
  {
   "cell_type": "code",
   "execution_count": 26,
   "id": "e37eaf1a",
   "metadata": {},
   "outputs": [
    {
     "data": {
      "text/plain": [
       "['apple',\n",
       " 'banana',\n",
       " 'kiwi',\n",
       " 'mango',\n",
       " 'pear',\n",
       " 'cherry',\n",
       " 'cherry',\n",
       " 'cherry',\n",
       " 'orange',\n",
       " 'date']"
      ]
     },
     "execution_count": 26,
     "metadata": {},
     "output_type": "execute_result"
    }
   ],
   "source": [
    "fruits"
   ]
  },
  {
   "cell_type": "code",
   "execution_count": 27,
   "id": "6ecce389",
   "metadata": {},
   "outputs": [
    {
     "data": {
      "text/plain": [
       "['apple',\n",
       " 'banana',\n",
       " 'kiwi',\n",
       " 'mango',\n",
       " 'pear',\n",
       " 'cherry',\n",
       " 'cherry',\n",
       " 'cherry',\n",
       " 'orange']"
      ]
     },
     "execution_count": 27,
     "metadata": {},
     "output_type": "execute_result"
    }
   ],
   "source": [
    "fruits.pop()\n",
    "fruits"
   ]
  },
  {
   "cell_type": "code",
   "execution_count": 28,
   "id": "fc3baabe",
   "metadata": {},
   "outputs": [
    {
     "data": {
      "text/plain": [
       "'cherry'"
      ]
     },
     "execution_count": 28,
     "metadata": {},
     "output_type": "execute_result"
    }
   ],
   "source": [
    "fruits.pop(6)"
   ]
  },
  {
   "cell_type": "code",
   "execution_count": 29,
   "id": "60f02f73",
   "metadata": {},
   "outputs": [
    {
     "data": {
      "text/plain": [
       "['apple', 'banana', 'kiwi', 'mango', 'pear', 'cherry', 'orange']"
      ]
     },
     "execution_count": 29,
     "metadata": {},
     "output_type": "execute_result"
    }
   ],
   "source": [
    "fruits.remove('cherry')\n",
    "fruits"
   ]
  },
  {
   "cell_type": "code",
   "execution_count": 38,
   "id": "4423dcfb",
   "metadata": {},
   "outputs": [
    {
     "data": {
      "text/plain": [
       "2"
      ]
     },
     "execution_count": 38,
     "metadata": {},
     "output_type": "execute_result"
    }
   ],
   "source": [
    "fruits.index('kiwi')"
   ]
  },
  {
   "cell_type": "code",
   "execution_count": 39,
   "id": "7bfb86d6",
   "metadata": {},
   "outputs": [
    {
     "data": {
      "text/plain": [
       "1"
      ]
     },
     "execution_count": 39,
     "metadata": {},
     "output_type": "execute_result"
    }
   ],
   "source": [
    "fruits.count('kiwi')"
   ]
  },
  {
   "cell_type": "code",
   "execution_count": 32,
   "id": "1c27dca8",
   "metadata": {},
   "outputs": [
    {
     "data": {
      "text/plain": [
       "7"
      ]
     },
     "execution_count": 32,
     "metadata": {},
     "output_type": "execute_result"
    }
   ],
   "source": [
    "len(fruits)"
   ]
  },
  {
   "cell_type": "code",
   "execution_count": 34,
   "id": "ded26402",
   "metadata": {},
   "outputs": [
    {
     "data": {
      "text/plain": [
       "['grape', 'banana', 'kiwi', 'mango', 'pear', 'cherry', 'orange']"
      ]
     },
     "execution_count": 34,
     "metadata": {},
     "output_type": "execute_result"
    }
   ],
   "source": [
    "#리스트 수정\n",
    "fruits[0] = 'grape'\n",
    "fruits"
   ]
  },
  {
   "cell_type": "code",
   "execution_count": 43,
   "id": "cec96069",
   "metadata": {},
   "outputs": [
    {
     "data": {
      "text/plain": [
       "[5, 4, 3, 2, 1]"
      ]
     },
     "execution_count": 43,
     "metadata": {},
     "output_type": "execute_result"
    }
   ],
   "source": [
    "numbers = [1,2,3,4,5]\n",
    "numbers.sort(reverse=True)\n",
    "numbers"
   ]
  },
  {
   "cell_type": "code",
   "execution_count": 45,
   "id": "5535a7bd",
   "metadata": {},
   "outputs": [
    {
     "name": "stdout",
     "output_type": "stream",
     "text": [
      "grape\n",
      "banana\n",
      "kiwi\n",
      "mango\n",
      "pear\n",
      "cherry\n",
      "orange\n"
     ]
    }
   ],
   "source": [
    "for i in fruits:\n",
    "    print(i)"
   ]
  },
  {
   "cell_type": "code",
   "execution_count": 47,
   "id": "391feab5",
   "metadata": {},
   "outputs": [
    {
     "name": "stdout",
     "output_type": "stream",
     "text": [
      "0번째 과일: grape\n",
      "1번째 과일: banana\n",
      "2번째 과일: kiwi\n",
      "3번째 과일: mango\n",
      "4번째 과일: pear\n",
      "5번째 과일: cherry\n",
      "6번째 과일: orange\n"
     ]
    }
   ],
   "source": [
    "for i in range(len(fruits)):\n",
    "    print(f\"{i}번째 과일: {fruits[i]}\")"
   ]
  },
  {
   "cell_type": "code",
   "execution_count": 48,
   "id": "e883c88b",
   "metadata": {},
   "outputs": [
    {
     "data": {
      "text/plain": [
       "3.0"
      ]
     },
     "execution_count": 48,
     "metadata": {},
     "output_type": "execute_result"
    }
   ],
   "source": [
    "#평균값\n",
    "sum(numbers)/len(numbers)"
   ]
  },
  {
   "cell_type": "code",
   "execution_count": 50,
   "id": "f1b2a5be",
   "metadata": {},
   "outputs": [],
   "source": [
    "#반복문을 이용해서 리스트를 간단하게 생성해보자~~~\n",
    "# list comprehansion"
   ]
  },
  {
   "cell_type": "code",
   "execution_count": 52,
   "id": "121020ce",
   "metadata": {},
   "outputs": [
    {
     "data": {
      "text/plain": [
       "[0, 1, 2, 3, 4, 5, 6, 7, 8, 9]"
      ]
     },
     "execution_count": 52,
     "metadata": {},
     "output_type": "execute_result"
    }
   ],
   "source": [
    "num_list=[]\n",
    "for i in range(10):\n",
    "    num_list.append(i)\n",
    "num_list"
   ]
  },
  {
   "cell_type": "code",
   "execution_count": null,
   "id": "ca8a23e1",
   "metadata": {},
   "outputs": [
    {
     "data": {
      "text/plain": [
       "[0, 2, 4, 6, 8, 10]"
      ]
     },
     "execution_count": 58,
     "metadata": {},
     "output_type": "execute_result"
    }
   ],
   "source": [
    "num_list = []\n",
    "for i in range(10+1):\n",
    "    if i % 2 == 0:\n",
    "        num_list.append(i)\n",
    "num_list"
   ]
  },
  {
   "cell_type": "code",
   "execution_count": 55,
   "id": "676fa3ea",
   "metadata": {},
   "outputs": [
    {
     "data": {
      "text/plain": [
       "[2, 4, 6, 8, 10]"
      ]
     },
     "execution_count": 55,
     "metadata": {},
     "output_type": "execute_result"
    }
   ],
   "source": [
    "numbers = [i for i in range(1,10+1) if i%2 ==0]\n",
    "numbers"
   ]
  },
  {
   "cell_type": "code",
   "execution_count": 65,
   "id": "79040c37",
   "metadata": {},
   "outputs": [
    {
     "name": "stdout",
     "output_type": "stream",
     "text": [
      "1번 합격\n",
      "2번 불합\n",
      "3번 합격\n",
      "4번 불합\n",
      "5번 합격\n"
     ]
    }
   ],
   "source": [
    "marks = [90, 25,67,45,80]\n",
    "number = 0\n",
    "\n",
    "for i in marks:\n",
    "    number= 1+number\n",
    "    #print(i)\n",
    "    if i>=60:\n",
    "        print(f\"{number}번 합격\")\n",
    "    else :\n",
    "        print(f\"{number}번 불합\")"
   ]
  },
  {
   "cell_type": "code",
   "execution_count": 66,
   "id": "565aa4f7",
   "metadata": {},
   "outputs": [
    {
     "name": "stdout",
     "output_type": "stream",
     "text": [
      "1번 합격\n",
      "2번 불합\n",
      "3번 합격\n",
      "4번 불합\n",
      "5번 합격\n"
     ]
    }
   ],
   "source": [
    "for i in range(len(marks)):\n",
    "    if marks[i] >=60:\n",
    "        print(f'{i+1}번 합격')\n",
    "    else :\n",
    "        print(f'{i+1}번 불합')"
   ]
  },
  {
   "cell_type": "code",
   "execution_count": 8,
   "id": "6c38e564",
   "metadata": {},
   "outputs": [
    {
     "name": "stdout",
     "output_type": "stream",
     "text": [
      "끝말잇기 게임\n",
      "시작\n",
      "가나다\n",
      "끝말잇기 단어: 다람쥐\n",
      "끝말잇기 단어: 쥐포\n",
      "끝말잇기 단어: 포도\n",
      "끝말잇기 단어: 도라지\n",
      "끝말잇기 단어: 지드래곤\n",
      "끝말잇기 단어: 땡\n",
      "땡\n"
     ]
    }
   ],
   "source": [
    "#끝말잇기 게임만들기\n",
    "print(\"끝말잇기 게임\")\n",
    "print(\"시작\")\n",
    "var =\"가나다\"\n",
    "\n",
    "print(var)\n",
    "while True:\n",
    "    user_input = input(\"단어를 입력해주세요\")\n",
    "    print(f\"끝말잇기 단어: {user_input}\")\n",
    "    if user_input[0] == var[-1]:\n",
    "        var = user_input\n",
    "    else:\n",
    "        print(\"땡\")\n",
    "        break\n"
   ]
  },
  {
   "cell_type": "code",
   "execution_count": 9,
   "id": "13d3f171",
   "metadata": {},
   "outputs": [
    {
     "ename": "SyntaxError",
     "evalue": "invalid syntax (4205897675.py, line 5)",
     "output_type": "error",
     "traceback": [
      "  \u001b[36mCell\u001b[39m\u001b[36m \u001b[39m\u001b[32mIn[9]\u001b[39m\u001b[32m, line 5\u001b[39m\n\u001b[31m    \u001b[39m\u001b[31mnumbers = [ 1,1,3,3,0,1,1] --> [1,3,0,1]\u001b[39m\n                                ^\n\u001b[31mSyntaxError\u001b[39m\u001b[31m:\u001b[39m invalid syntax\n"
     ]
    }
   ],
   "source": [
    "#리스트 numbers 각 원소는 0 ~ 9 숫자로 구성.\n",
    "# numburs에서 연속적으로 나타나는 숫자는 하나만 남기고 전부 제거 하려고 합니다.\n",
    "# 단, 제거된 후 남은 수들을 반환할 때는 numbers의 원소들의 순서를 유지해야 합니다.\n",
    "#예를 들면 \n",
    "numbers = [ 1,1,3,3,0,1,1] --> [1,3,0,1]\n",
    "numbers = [4,4,4,3,3] --> [4,3]\n",
    "코드를 작성해주세요.\n"
   ]
  },
  {
   "cell_type": "code",
   "execution_count": 14,
   "id": "4b530ece",
   "metadata": {},
   "outputs": [
    {
     "data": {
      "text/plain": [
       "[1, 3, 0, 1]"
      ]
     },
     "execution_count": 14,
     "metadata": {},
     "output_type": "execute_result"
    }
   ],
   "source": [
    "numbers = [1,1,3,3,0,1,1]\n",
    "\n",
    "answer =[]\n",
    "comp = numbers[0]\n",
    "answer.append(comp)\n",
    "\n",
    "for i in numbers:\n",
    "    if comp != i: #이전숫자와 같은지 비교\n",
    "        comp = i #다르다면 비교할 숫자 갱신\n",
    "        answer.append(comp) #새로운숫자이므로 갱신\n",
    "answer"
   ]
  },
  {
   "cell_type": "markdown",
   "id": "457566f7",
   "metadata": {},
   "source": [
    "딕셔너리"
   ]
  },
  {
   "cell_type": "code",
   "execution_count": null,
   "id": "c4354234",
   "metadata": {},
   "outputs": [],
   "source": [
    "#키는 고유해야 한다. 중복된 키는 안됨. 그냥 덮어짐.\n",
    "#Value 값은 동일해도 상관 없음. "
   ]
  },
  {
   "cell_type": "code",
   "execution_count": 21,
   "id": "df0b9df5",
   "metadata": {},
   "outputs": [],
   "source": [
    "student = {'name':'jimin', 'age':29, 'hobby':'game'}"
   ]
  },
  {
   "cell_type": "code",
   "execution_count": 22,
   "id": "01df38b8",
   "metadata": {},
   "outputs": [
    {
     "data": {
      "text/plain": [
       "'jimin'"
      ]
     },
     "execution_count": 22,
     "metadata": {},
     "output_type": "execute_result"
    }
   ],
   "source": [
    "student['name']"
   ]
  },
  {
   "cell_type": "code",
   "execution_count": 23,
   "id": "9c09cbbe",
   "metadata": {},
   "outputs": [
    {
     "data": {
      "text/plain": [
       "dict_keys(['name', 'age', 'hobby'])"
      ]
     },
     "execution_count": 23,
     "metadata": {},
     "output_type": "execute_result"
    }
   ],
   "source": [
    "student.keys()"
   ]
  },
  {
   "cell_type": "code",
   "execution_count": 24,
   "id": "3b33f7a4",
   "metadata": {},
   "outputs": [
    {
     "data": {
      "text/plain": [
       "dict_values(['jimin', 29, 'game'])"
      ]
     },
     "execution_count": 24,
     "metadata": {},
     "output_type": "execute_result"
    }
   ],
   "source": [
    "student.values()"
   ]
  },
  {
   "cell_type": "code",
   "execution_count": 25,
   "id": "8dd540bc",
   "metadata": {},
   "outputs": [
    {
     "data": {
      "text/plain": [
       "dict_items([('name', 'jimin'), ('age', 29), ('hobby', 'game')])"
      ]
     },
     "execution_count": 25,
     "metadata": {},
     "output_type": "execute_result"
    }
   ],
   "source": [
    "student.items()"
   ]
  },
  {
   "cell_type": "code",
   "execution_count": 28,
   "id": "4dda3261",
   "metadata": {},
   "outputs": [
    {
     "name": "stdout",
     "output_type": "stream",
     "text": [
      "('name', 'jimin')\n",
      "('age', 29)\n",
      "('hobby', 'game')\n"
     ]
    }
   ],
   "source": [
    "for i in student.items():\n",
    "    print(i)"
   ]
  },
  {
   "cell_type": "code",
   "execution_count": 30,
   "id": "21d27bbd",
   "metadata": {},
   "outputs": [],
   "source": [
    "#추가/삭제\n",
    "student['hobby'] ='swim'"
   ]
  },
  {
   "cell_type": "code",
   "execution_count": 31,
   "id": "55dce977",
   "metadata": {},
   "outputs": [
    {
     "data": {
      "text/plain": [
       "{'name': 'jimin', 'age': 29, 'hobby': 'swim'}"
      ]
     },
     "execution_count": 31,
     "metadata": {},
     "output_type": "execute_result"
    }
   ],
   "source": [
    "student"
   ]
  },
  {
   "cell_type": "code",
   "execution_count": 34,
   "id": "d2944223",
   "metadata": {},
   "outputs": [
    {
     "data": {
      "text/plain": [
       "{'name': 'jimin', 'age': 29, 'hobby': 'swim', 'addr': '용산구'}"
      ]
     },
     "execution_count": 34,
     "metadata": {},
     "output_type": "execute_result"
    }
   ],
   "source": [
    "#없는 키로 접근하면 그냥 값이 추가됨.\n",
    "student['addr'] = '용산구'\n",
    "student"
   ]
  },
  {
   "cell_type": "code",
   "execution_count": 36,
   "id": "32b41848",
   "metadata": {},
   "outputs": [
    {
     "data": {
      "text/plain": [
       "'용산구'"
      ]
     },
     "execution_count": 36,
     "metadata": {},
     "output_type": "execute_result"
    }
   ],
   "source": [
    "student.pop('addr')"
   ]
  },
  {
   "cell_type": "code",
   "execution_count": 37,
   "id": "f3dc4ae2",
   "metadata": {},
   "outputs": [
    {
     "data": {
      "text/plain": [
       "True"
      ]
     },
     "execution_count": 37,
     "metadata": {},
     "output_type": "execute_result"
    }
   ],
   "source": [
    "'name' in student.keys()"
   ]
  },
  {
   "cell_type": "code",
   "execution_count": 38,
   "id": "74a00551",
   "metadata": {},
   "outputs": [
    {
     "name": "stdout",
     "output_type": "stream",
     "text": [
      "name\n",
      "age\n",
      "hobby\n"
     ]
    }
   ],
   "source": [
    "for i in student:\n",
    "    print(f'{i}')"
   ]
  },
  {
   "cell_type": "code",
   "execution_count": 39,
   "id": "89d6ed4a",
   "metadata": {},
   "outputs": [
    {
     "name": "stdout",
     "output_type": "stream",
     "text": [
      "name jimin\n",
      "age 29\n",
      "hobby swim\n"
     ]
    }
   ],
   "source": [
    "for i,j in student.items():\n",
    "    print(i,j)"
   ]
  },
  {
   "cell_type": "code",
   "execution_count": 40,
   "id": "b71cb01b",
   "metadata": {},
   "outputs": [],
   "source": [
    "#패킹 언패킹?"
   ]
  },
  {
   "cell_type": "code",
   "execution_count": 47,
   "id": "08e328b1",
   "metadata": {},
   "outputs": [
    {
     "ename": "NameError",
     "evalue": "name 'fruits' is not defined",
     "output_type": "error",
     "traceback": [
      "\u001b[31m---------------------------------------------------------------------------\u001b[39m",
      "\u001b[31mNameError\u001b[39m                                 Traceback (most recent call last)",
      "\u001b[36mCell\u001b[39m\u001b[36m \u001b[39m\u001b[32mIn[47]\u001b[39m\u001b[32m, line 1\u001b[39m\n\u001b[32m----> \u001b[39m\u001b[32m1\u001b[39m \u001b[33m'\u001b[39m\u001b[33mkiwi\u001b[39m\u001b[33m'\u001b[39m \u001b[38;5;129;01mnot\u001b[39;00m \u001b[38;5;129;01min\u001b[39;00m \u001b[43mfruits\u001b[49m\n",
      "\u001b[31mNameError\u001b[39m: name 'fruits' is not defined"
     ]
    }
   ],
   "source": [
    "'kiwi' not in fruits"
   ]
  },
  {
   "cell_type": "code",
   "execution_count": 48,
   "id": "35ee6d9e",
   "metadata": {},
   "outputs": [
    {
     "ename": "SyntaxError",
     "evalue": "invalid syntax (426223683.py, line 2)",
     "output_type": "error",
     "traceback": [
      "  \u001b[36mCell\u001b[39m\u001b[36m \u001b[39m\u001b[32mIn[48]\u001b[39m\u001b[32m, line 2\u001b[39m\n\u001b[31m    \u001b[39m\u001b[31m문자열.split() --> 디폴트 값이 스페이스\u001b[39m\n                 ^\n\u001b[31mSyntaxError\u001b[39m\u001b[31m:\u001b[39m invalid syntax\n"
     ]
    }
   ],
   "source": [
    "#문자열 쪼개기\n",
    "문자열.split() --> 디폴트 값이 스페이스"
   ]
  },
  {
   "cell_type": "code",
   "execution_count": 59,
   "id": "98deae12",
   "metadata": {},
   "outputs": [
    {
     "name": "stdout",
     "output_type": "stream",
     "text": [
      "hello\n"
     ]
    }
   ],
   "source": [
    "#모스부호 값을 딕셔너리 정의\n",
    "morse = {\n",
    " '.-':'a','-...':'b','-.-.':'c','-..':'d','.':'e','..-.':'f',\n",
    " '--.':'g','....':'h','..':'i','.---':'j','-.-':'k','.-..':'l',\n",
    " '--':'m','-.':'n','---':'o','.--.':'p','--.-':'q','.-.':'r',\n",
    " '...':'s','-':'t','..-':'u','...-':'v','.--':'w','-..-':'x',\n",
    " '-.--':'y','--..':'z'\n",
    "}\n",
    "\n",
    "morse_input = input(\"모스부호를 입력해주세요\")\n",
    "\n",
    "\n",
    "letters=''\n",
    "for i in morse_input.split():\n",
    "    letters+=morse[i]\n",
    "print(letters)\n"
   ]
  },
  {
   "cell_type": "code",
   "execution_count": 52,
   "id": "9f76acc2",
   "metadata": {},
   "outputs": [
    {
     "data": {
      "text/plain": [
       "dict_keys(['.-', '-...', '-.-.', '-..', '.', '..-.', '--.', '....', '..', '.---', '-.-', '.-..', '--', '-.', '---', '.--.', '--.-', '.-.', '...', '-', '..-', '...-', '.--', '-..-', '-.--', '--..'])"
      ]
     },
     "execution_count": 52,
     "metadata": {},
     "output_type": "execute_result"
    }
   ],
   "source": [
    "morse.keys()"
   ]
  },
  {
   "cell_type": "code",
   "execution_count": 53,
   "id": "d915a35c",
   "metadata": {},
   "outputs": [
    {
     "data": {
      "text/plain": [
       "dict_items([('.-', 'a'), ('-...', 'b'), ('-.-.', 'c'), ('-..', 'd'), ('.', 'e'), ('..-.', 'f'), ('--.', 'g'), ('....', 'h'), ('..', 'i'), ('.---', 'j'), ('-.-', 'k'), ('.-..', 'l'), ('--', 'm'), ('-.', 'n'), ('---', 'o'), ('.--.', 'p'), ('--.-', 'q'), ('.-.', 'r'), ('...', 's'), ('-', 't'), ('..-', 'u'), ('...-', 'v'), ('.--', 'w'), ('-..-', 'x'), ('-.--', 'y'), ('--..', 'z')])"
      ]
     },
     "execution_count": 53,
     "metadata": {},
     "output_type": "execute_result"
    }
   ],
   "source": [
    "morse.items()"
   ]
  },
  {
   "cell_type": "code",
   "execution_count": 54,
   "id": "c05f5145",
   "metadata": {},
   "outputs": [
    {
     "data": {
      "text/plain": [
       "dict_values(['a', 'b', 'c', 'd', 'e', 'f', 'g', 'h', 'i', 'j', 'k', 'l', 'm', 'n', 'o', 'p', 'q', 'r', 's', 't', 'u', 'v', 'w', 'x', 'y', 'z'])"
      ]
     },
     "execution_count": 54,
     "metadata": {},
     "output_type": "execute_result"
    }
   ],
   "source": [
    "morse.values()"
   ]
  },
  {
   "cell_type": "markdown",
   "id": "1952a236",
   "metadata": {},
   "source": [
    "세트 / 튜플"
   ]
  },
  {
   "cell_type": "markdown",
   "id": "596a87af",
   "metadata": {},
   "source": [
    "##리스트 중복값을 세트로 바꾸면 중복데이터를 제거해줌. 중복데이터 제거용으로 많이 씀. 세트는 집합개념을 따온 거라, 두 개 리스트에서 교집합?을 구한다고 할때 세트로 가서 연산을 했다가 리스트로 돌아오는 경우가 있음."
   ]
  },
  {
   "cell_type": "code",
   "execution_count": 1,
   "id": "48225977",
   "metadata": {},
   "outputs": [],
   "source": [
    "s={1,2,3,4,5,6,7,8,8,0}"
   ]
  },
  {
   "cell_type": "code",
   "execution_count": 2,
   "id": "45dc3688",
   "metadata": {},
   "outputs": [
    {
     "data": {
      "text/plain": [
       "{0, 1, 2, 3, 4, 5, 6, 7, 8}"
      ]
     },
     "execution_count": 2,
     "metadata": {},
     "output_type": "execute_result"
    }
   ],
   "source": [
    "s"
   ]
  },
  {
   "cell_type": "code",
   "execution_count": 3,
   "id": "12bade8a",
   "metadata": {},
   "outputs": [],
   "source": [
    "s.add(10)"
   ]
  },
  {
   "cell_type": "code",
   "execution_count": 4,
   "id": "7e0120f5",
   "metadata": {},
   "outputs": [
    {
     "data": {
      "text/plain": [
       "{0, 1, 2, 3, 4, 5, 6, 7, 8, 10}"
      ]
     },
     "execution_count": 4,
     "metadata": {},
     "output_type": "execute_result"
    }
   ],
   "source": [
    "s"
   ]
  },
  {
   "cell_type": "code",
   "execution_count": 5,
   "id": "dd677423",
   "metadata": {},
   "outputs": [
    {
     "data": {
      "text/plain": [
       "0"
      ]
     },
     "execution_count": 5,
     "metadata": {},
     "output_type": "execute_result"
    }
   ],
   "source": [
    "s.pop() #순서가 중요하진 않음. 임의의 요소를 꺼내는 방법."
   ]
  },
  {
   "cell_type": "code",
   "execution_count": 6,
   "id": "1ef25657",
   "metadata": {},
   "outputs": [
    {
     "data": {
      "text/plain": [
       "{1, 2, 3, 4, 5, 6, 7, 8, 10}"
      ]
     },
     "execution_count": 6,
     "metadata": {},
     "output_type": "execute_result"
    }
   ],
   "source": [
    "s"
   ]
  },
  {
   "cell_type": "code",
   "execution_count": 7,
   "id": "46b4b47a",
   "metadata": {},
   "outputs": [],
   "source": [
    "s.remove(8)"
   ]
  },
  {
   "cell_type": "code",
   "execution_count": 8,
   "id": "23ab4a6a",
   "metadata": {},
   "outputs": [
    {
     "data": {
      "text/plain": [
       "{1, 2, 3, 4, 5, 6, 7, 10}"
      ]
     },
     "execution_count": 8,
     "metadata": {},
     "output_type": "execute_result"
    }
   ],
   "source": [
    "s"
   ]
  },
  {
   "cell_type": "code",
   "execution_count": 9,
   "id": "5776f07e",
   "metadata": {},
   "outputs": [],
   "source": [
    "mylist1 = [1,2,3,4,5,5,6,6,7,8,9,10,10,0]"
   ]
  },
  {
   "cell_type": "code",
   "execution_count": 10,
   "id": "a4b9aa5f",
   "metadata": {},
   "outputs": [
    {
     "data": {
      "text/plain": [
       "[0, 1, 2, 3, 4, 5, 6, 7, 8, 9, 10]"
      ]
     },
     "execution_count": 10,
     "metadata": {},
     "output_type": "execute_result"
    }
   ],
   "source": [
    "list(set(mylist1))"
   ]
  },
  {
   "cell_type": "code",
   "execution_count": 12,
   "id": "458e267b",
   "metadata": {},
   "outputs": [],
   "source": [
    "set_a = {1,2,3,4,5}\n",
    "set_b = {5,6,7,8,9}"
   ]
  },
  {
   "cell_type": "code",
   "execution_count": 13,
   "id": "be687304",
   "metadata": {},
   "outputs": [
    {
     "data": {
      "text/plain": [
       "{1, 2, 3, 4}"
      ]
     },
     "execution_count": 13,
     "metadata": {},
     "output_type": "execute_result"
    }
   ],
   "source": [
    "set_a-set_b"
   ]
  },
  {
   "cell_type": "code",
   "execution_count": 15,
   "id": "86616e28",
   "metadata": {},
   "outputs": [
    {
     "data": {
      "text/plain": [
       "{5}"
      ]
     },
     "execution_count": 15,
     "metadata": {},
     "output_type": "execute_result"
    }
   ],
   "source": [
    "set_a.intersection(set_b)"
   ]
  },
  {
   "cell_type": "markdown",
   "id": "dd979e1e",
   "metadata": {},
   "source": [
    "### 튜플"
   ]
  },
  {
   "cell_type": "code",
   "execution_count": 20,
   "id": "b3fcc7e2",
   "metadata": {},
   "outputs": [],
   "source": [
    "#초기화 후 편집불가 immutable ?  튜플은 불변/바꿀수 없어서 정보, 데이터의 순수성을 도리어 증명함"
   ]
  },
  {
   "cell_type": "code",
   "execution_count": 17,
   "id": "f429dff0",
   "metadata": {},
   "outputs": [],
   "source": [
    "t1 = ()\n",
    "t2 = (1,2,3)"
   ]
  },
  {
   "cell_type": "code",
   "execution_count": 18,
   "id": "34bb1060",
   "metadata": {},
   "outputs": [
    {
     "data": {
      "text/plain": [
       "tuple"
      ]
     },
     "execution_count": 18,
     "metadata": {},
     "output_type": "execute_result"
    }
   ],
   "source": [
    "type(t2)"
   ]
  },
  {
   "cell_type": "code",
   "execution_count": 19,
   "id": "3b28cdef",
   "metadata": {},
   "outputs": [
    {
     "data": {
      "text/plain": [
       "1"
      ]
     },
     "execution_count": 19,
     "metadata": {},
     "output_type": "execute_result"
    }
   ],
   "source": [
    "t2[0]"
   ]
  },
  {
   "cell_type": "code",
   "execution_count": 11,
   "id": "d635eb5a",
   "metadata": {},
   "outputs": [
    {
     "data": {
      "text/plain": [
       "['누드초코', '아몬드', '초코', '크런키', '화이트쿠키']"
      ]
     },
     "execution_count": 11,
     "metadata": {},
     "output_type": "execute_result"
    }
   ],
   "source": [
    "# 빼빼로데이\n",
    "\n",
    "# 빼빼로의 종류는 6가지 맛('누드초코', '아몬드', '초코', '크런키', '크림치즈', '화이트쿠키')이 있었습니다.\n",
    "# 이벤트 빼빼로는 한가지 맛에 하나만 구매할 수 있습니다.\n",
    "# 구매한 빼빼로를 오름차순으로 정렬하여 결과를 나타내 주세요.\n",
    "\n",
    "# 입력1\n",
    "# [\"초코\", \"누드초코\", \"크런키\", \"아몬드\", \"초코\", \"누드초코\", \"아몬드\", \"화이트쿠키\", \"초코\", \"초코\"]\n",
    "\n",
    "# 출력1\n",
    "# ['누드초코', '아몬드', '초코', '크런키', '화이트쿠키']\n",
    "\n",
    "ppr_all = [\"초코\", \"누드초코\", \"크런키\", \"아몬드\", \"초코\", \"누드초코\", \"아몬드\", \"화이트쿠키\", \"초코\", \"초코\"]\n",
    "ppr_list = list(set(ppr_all))\n",
    "sorted(list(set(ppr_all)))"
   ]
  },
  {
   "cell_type": "code",
   "execution_count": 21,
   "id": "5976f63b",
   "metadata": {},
   "outputs": [
    {
     "name": "stdout",
     "output_type": "stream",
     "text": [
      "culture,experience,symbol,symbol,education,symbol,effect,education,affair,liberty,liberty,affair\n"
     ]
    },
    {
     "data": {
      "text/plain": [
       "{*list['culture,experience,symbol,symbol,education,symbol,effect,education,affair,liberty,liberty,affair']}"
      ]
     },
     "execution_count": 21,
     "metadata": {},
     "output_type": "execute_result"
    }
   ],
   "source": [
    "# 영단어갯수세기\n",
    "\n",
    "# 내가 외운 단어의 개수는 몇개일까요?\n",
    "\n",
    "# 입력1\n",
    "# \"culture experience symbol symbol education symbol effect education affair liberty liberty affair\"\n",
    "\n",
    "# 출력1\n",
    "# 7\n",
    "\n",
    "word1=\"culture experience symbol symbol education symbol effect education affair liberty liberty affair\"\n",
    "word =word1.replace(\" \", \",\")\n",
    "print(word)\n",
    "\n",
    "word_list = list[word]\n",
    "set(word_list)"
   ]
  },
  {
   "cell_type": "code",
   "execution_count": 23,
   "id": "5ff665e7",
   "metadata": {},
   "outputs": [
    {
     "data": {
      "text/plain": [
       "7"
      ]
     },
     "execution_count": 23,
     "metadata": {},
     "output_type": "execute_result"
    }
   ],
   "source": [
    "len(set(word1.split()))"
   ]
  },
  {
   "cell_type": "markdown",
   "id": "6e3e54aa",
   "metadata": {},
   "source": [
    "### 함수 / 클래스"
   ]
  },
  {
   "cell_type": "code",
   "execution_count": null,
   "id": "bce45f54",
   "metadata": {},
   "outputs": [],
   "source": [
    "#함수 function"
   ]
  },
  {
   "cell_type": "code",
   "execution_count": 27,
   "id": "2682daaf",
   "metadata": {},
   "outputs": [],
   "source": [
    "def my_func():\n",
    "    print('내가 만든 함수')"
   ]
  },
  {
   "cell_type": "code",
   "execution_count": 28,
   "id": "7c18befa",
   "metadata": {},
   "outputs": [
    {
     "name": "stdout",
     "output_type": "stream",
     "text": [
      "내가 만든 함수\n"
     ]
    }
   ],
   "source": [
    "my_func()"
   ]
  },
  {
   "cell_type": "code",
   "execution_count": 29,
   "id": "30b7a9a3",
   "metadata": {},
   "outputs": [],
   "source": [
    "def my_sum(a,b):\n",
    "    result = a+b\n",
    "    return result"
   ]
  },
  {
   "cell_type": "code",
   "execution_count": 31,
   "id": "4ddbec9b",
   "metadata": {},
   "outputs": [
    {
     "name": "stdout",
     "output_type": "stream",
     "text": [
      "7\n"
     ]
    }
   ],
   "source": [
    "num1=my_sum(3,4)\n",
    "print(num1)"
   ]
  },
  {
   "cell_type": "code",
   "execution_count": 32,
   "id": "5b2f02f6",
   "metadata": {},
   "outputs": [
    {
     "name": "stdout",
     "output_type": "stream",
     "text": [
      "7 11\n"
     ]
    }
   ],
   "source": [
    "num1=my_sum(3,4)\n",
    "num2=my_sum(7,4)\n",
    "print(num1,num2)"
   ]
  },
  {
   "cell_type": "code",
   "execution_count": 37,
   "id": "4bdabe98",
   "metadata": {},
   "outputs": [],
   "source": [
    "##내장함수는 건들이지 않기!!\n",
    "#a b c 가 있으면 이중에서 제일 큰걸 찾는 방법 max 안쓰고\n",
    "def max_num(a,b,c):\n",
    "    max_val=a\n",
    "    if b > max_val:\n",
    "        max_val = b\n",
    "    if c > max_val:\n",
    "        max_val = c\n",
    "    return max_val"
   ]
  },
  {
   "cell_type": "code",
   "execution_count": 38,
   "id": "6643e601",
   "metadata": {},
   "outputs": [
    {
     "data": {
      "text/plain": [
       "12"
      ]
     },
     "execution_count": 38,
     "metadata": {},
     "output_type": "execute_result"
    }
   ],
   "source": [
    "max_num(10,12,7)"
   ]
  },
  {
   "cell_type": "code",
   "execution_count": null,
   "id": "4cb9c857",
   "metadata": {},
   "outputs": [],
   "source": [
    "#모스부호를 함수로..  > 뭔가 잘못된거 같은데? 다시 복습...\n",
    "morse = {\n",
    " '.-':'a','-...':'b','-.-.':'c','-..':'d','.':'e','..-.':'f',\n",
    " '--.':'g','....':'h','..':'i','.---':'j','-.-':'k','.-..':'l',\n",
    " '--':'m','-.':'n','---':'o','.--.':'p','--.-':'q','.-.':'r',\n",
    " '...':'s','-':'t','..-':'u','...-':'v','.--':'w','-..-':'x',\n",
    " '-.--':'y','--..':'z'\n",
    "}\n",
    "\n",
    "morse_input = input(\"모스부호를 입력해주세요\")\n",
    "\n",
    "\n",
    "\n",
    "def morse_to_string(morse_input):\n",
    "    morse = {'.-':'a','-...':'b','-.-.':'c','-..':'d','.':'e','..-.':'f',\n",
    " '--.':'g','....':'h','..':'i','.---':'j','-.-':'k','.-..':'l',\n",
    " '--':'m','-.':'n','---':'o','.--.':'p','--.-':'q','.-.':'r',\n",
    " '...':'s','-':'t','..-':'u','...-':'v','.--':'w','-..-':'x',\n",
    " '-.--':'y','--..':'z'}\n",
    "\n",
    "    letters=''\n",
    "    for i in morse_input.split():\n",
    "        letters+=morse[i]\n",
    "    print(letters)\n",
    "\n",
    "\n",
    "    return"
   ]
  },
  {
   "cell_type": "code",
   "execution_count": null,
   "id": "1def57b0",
   "metadata": {},
   "outputs": [],
   "source": []
  }
 ],
 "metadata": {
  "kernelspec": {
   "display_name": "Python 3",
   "language": "python",
   "name": "python3"
  },
  "language_info": {
   "codemirror_mode": {
    "name": "ipython",
    "version": 3
   },
   "file_extension": ".py",
   "mimetype": "text/x-python",
   "name": "python",
   "nbconvert_exporter": "python",
   "pygments_lexer": "ipython3",
   "version": "3.11.9"
  }
 },
 "nbformat": 4,
 "nbformat_minor": 5
}
