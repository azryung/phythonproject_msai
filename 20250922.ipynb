{
 "cells": [
  {
   "cell_type": "markdown",
   "id": "922f6371",
   "metadata": {},
   "source": [
    "중접반복문"
   ]
  },
  {
   "cell_type": "markdown",
   "id": "1b396d6b",
   "metadata": {},
   "source": []
  },
  {
   "cell_type": "code",
   "execution_count": null,
   "id": "034979c7",
   "metadata": {},
   "outputs": [
    {
     "name": "stdout",
     "output_type": "stream",
     "text": [
      "i=0, j=0\n",
      "i=0, j=1\n",
      "i=0, j=2\n",
      "i=0, j=3\n",
      "i=0, j=4\n",
      "i=1, j=0\n",
      "i=1, j=1\n",
      "i=1, j=2\n",
      "i=1, j=3\n",
      "i=1, j=4\n",
      "i=2, j=0\n",
      "i=2, j=1\n",
      "i=2, j=2\n",
      "i=2, j=3\n",
      "i=3, j=0\n",
      "i=3, j=1\n",
      "i=3, j=2\n",
      "i=3, j=3\n",
      "i=3, j=4\n",
      "i=4, j=0\n",
      "i=4, j=1\n",
      "i=4, j=2\n",
      "i=4, j=3\n",
      "i=4, j=4\n",
      "0\n"
     ]
    },
    {
     "ename": "TypeError",
     "evalue": "unsupported operand type(s) for //: 'NoneType' and 'int'",
     "output_type": "error",
     "traceback": [
      "\u001b[31m---------------------------------------------------------------------------\u001b[39m",
      "\u001b[31mTypeError\u001b[39m                                 Traceback (most recent call last)",
      "\u001b[36mCell\u001b[39m\u001b[36m \u001b[39m\u001b[32mIn[5]\u001b[39m\u001b[32m, line 7\u001b[39m\n\u001b[32m      5\u001b[39m         \u001b[38;5;28;01mif\u001b[39;00m i == \u001b[32m2\u001b[39m \u001b[38;5;129;01mand\u001b[39;00m j ==\u001b[32m3\u001b[39m:\n\u001b[32m      6\u001b[39m             \u001b[38;5;28;01mbreak\u001b[39;00m\n\u001b[32m----> \u001b[39m\u001b[32m7\u001b[39m \u001b[38;5;28;43mprint\u001b[39;49m\u001b[43m(\u001b[49m\u001b[43mnumber\u001b[49m\u001b[43m)\u001b[49m\u001b[43m/\u001b[49m\u001b[43m/\u001b[49m\u001b[32;43m6\u001b[39;49m\n",
      "\u001b[31mTypeError\u001b[39m: unsupported operand type(s) for //: 'NoneType' and 'int'"
     ]
    }
   ],
   "source": [
    "number = 0\n",
    "for i in range(5):\n",
    "    for j in range(5):\n",
    "        print(f\"i={i}, j={j}\")\n",
    "        if i == 2 and j ==3:\n",
    "            break_all \n",
    "print(number)//6"
   ]
  },
  {
   "cell_type": "code",
   "execution_count": 6,
   "id": "45a5cb3d",
   "metadata": {},
   "outputs": [
    {
     "name": "stdout",
     "output_type": "stream",
     "text": [
      "*\n",
      "**\n",
      "***\n",
      "****\n",
      "*****\n",
      "******\n",
      "*******\n",
      "**\n"
     ]
    }
   ],
   "source": [
    "# 별의 총 개수(n)를 입력받습니다.\n",
    "n = int(input(\"별의 총 개수를 입력하세요: \"))\n",
    "\n",
    "# 트리의 최대 층은 10층으로 제한합니다.\n",
    "for floor in range(1, 11):\n",
    "    # 남은 별이 없으면 반복문을 멈춥니다.\n",
    "    if n <= 0:\n",
    "        break\n",
    "\n",
    "    # 각 층에 출력할 별의 개수를 제어합니다.\n",
    "    for i in range(1, floor + 1):\n",
    "        # 남은 별이 없으면 현재 층의 출력을 멈춥니다.\n",
    "        if n <= 0:\n",
    "            break\n",
    "        \n",
    "        # 별을 출력하고 남은 별의 개수에서 1을 뺍니다.\n",
    "        print(\"*\", end=\"\")\n",
    "        n -= 1\n",
    "    \n",
    "    # 한 층의 별 출력이 끝나면 줄바꿈합니다.\n",
    "    print()"
   ]
  },
  {
   "cell_type": "code",
   "execution_count": 11,
   "id": "6afca720",
   "metadata": {},
   "outputs": [
    {
     "name": "stdout",
     "output_type": "stream",
     "text": [
      "['Hello', ' Python']\n"
     ]
    }
   ],
   "source": [
    "my_str = \"Hello, Python\"\n",
    "words = my_str.split(',')\n",
    "print(words)"
   ]
  },
  {
   "cell_type": "code",
   "execution_count": 12,
   "id": "72068dc0",
   "metadata": {},
   "outputs": [
    {
     "data": {
      "text/plain": [
       "list"
      ]
     },
     "execution_count": 12,
     "metadata": {},
     "output_type": "execute_result"
    }
   ],
   "source": [
    "#리스트 : 복수의 데이터를 순서대로 저장하고 조작하는 기본 자료형\n",
    "numbers = [1,2,3,4,5]\n",
    "fruits = ['apple', 'banana', 'mango','pear']\n",
    "\n",
    "type(numbers)"
   ]
  },
  {
   "cell_type": "code",
   "execution_count": 13,
   "id": "63a78ae7",
   "metadata": {},
   "outputs": [
    {
     "data": {
      "text/plain": [
       "[1, 2, 3, 4, 5, 6, 7, 8, 9, 10]"
      ]
     },
     "execution_count": 13,
     "metadata": {},
     "output_type": "execute_result"
    }
   ],
   "source": [
    "numbers1 = [1,2,3,4,5]\n",
    "numbers2 = [6,7,8,9,10]\n",
    "\n",
    "numbers1+numbers2"
   ]
  },
  {
   "cell_type": "code",
   "execution_count": 14,
   "id": "f330d6f9",
   "metadata": {},
   "outputs": [
    {
     "data": {
      "text/plain": [
       "'pear'"
      ]
     },
     "execution_count": 14,
     "metadata": {},
     "output_type": "execute_result"
    }
   ],
   "source": [
    "fruits[-1]"
   ]
  },
  {
   "cell_type": "code",
   "execution_count": 15,
   "id": "3b2680a1",
   "metadata": {},
   "outputs": [
    {
     "data": {
      "text/plain": [
       "['apple', 'banana']"
      ]
     },
     "execution_count": 15,
     "metadata": {},
     "output_type": "execute_result"
    }
   ],
   "source": [
    "fruits[:2]"
   ]
  },
  {
   "cell_type": "code",
   "execution_count": 16,
   "id": "1a94c39a",
   "metadata": {},
   "outputs": [
    {
     "ename": "IndexError",
     "evalue": "list assignment index out of range",
     "output_type": "error",
     "traceback": [
      "\u001b[31m---------------------------------------------------------------------------\u001b[39m",
      "\u001b[31mIndexError\u001b[39m                                Traceback (most recent call last)",
      "\u001b[36mCell\u001b[39m\u001b[36m \u001b[39m\u001b[32mIn[16]\u001b[39m\u001b[32m, line 1\u001b[39m\n\u001b[32m----> \u001b[39m\u001b[32m1\u001b[39m \u001b[43mfruits\u001b[49m\u001b[43m[\u001b[49m\u001b[32;43m4\u001b[39;49m\u001b[43m]\u001b[49m = \u001b[33m'\u001b[39m\u001b[33mgrape\u001b[39m\u001b[33m'\u001b[39m\n",
      "\u001b[31mIndexError\u001b[39m: list assignment index out of range"
     ]
    }
   ],
   "source": [
    "fruits[4] = 'grape'"
   ]
  },
  {
   "cell_type": "code",
   "execution_count": 21,
   "id": "639153a8",
   "metadata": {},
   "outputs": [],
   "source": [
    "#인덱스추가하고 싶을때\n",
    "#fruits.append('cherry')"
   ]
  },
  {
   "cell_type": "code",
   "execution_count": 22,
   "id": "4d9e7357",
   "metadata": {},
   "outputs": [
    {
     "data": {
      "text/plain": [
       "['apple', 'banana', 'mango', 'pear', 'cherry', 'cherry', 'cherry']"
      ]
     },
     "execution_count": 22,
     "metadata": {},
     "output_type": "execute_result"
    }
   ],
   "source": [
    "fruits"
   ]
  },
  {
   "cell_type": "code",
   "execution_count": 23,
   "id": "649201d9",
   "metadata": {},
   "outputs": [],
   "source": [
    "fruits.insert(2,'kiwi')"
   ]
  },
  {
   "cell_type": "code",
   "execution_count": 24,
   "id": "442a2b6c",
   "metadata": {},
   "outputs": [
    {
     "data": {
      "text/plain": [
       "['apple', 'banana', 'kiwi', 'mango', 'pear', 'cherry', 'cherry', 'cherry']"
      ]
     },
     "execution_count": 24,
     "metadata": {},
     "output_type": "execute_result"
    }
   ],
   "source": [
    "fruits"
   ]
  },
  {
   "cell_type": "code",
   "execution_count": 25,
   "id": "8ef840c3",
   "metadata": {},
   "outputs": [],
   "source": [
    "fruits.extend(['orange','date'])"
   ]
  },
  {
   "cell_type": "code",
   "execution_count": 26,
   "id": "e37eaf1a",
   "metadata": {},
   "outputs": [
    {
     "data": {
      "text/plain": [
       "['apple',\n",
       " 'banana',\n",
       " 'kiwi',\n",
       " 'mango',\n",
       " 'pear',\n",
       " 'cherry',\n",
       " 'cherry',\n",
       " 'cherry',\n",
       " 'orange',\n",
       " 'date']"
      ]
     },
     "execution_count": 26,
     "metadata": {},
     "output_type": "execute_result"
    }
   ],
   "source": [
    "fruits"
   ]
  },
  {
   "cell_type": "code",
   "execution_count": 27,
   "id": "6ecce389",
   "metadata": {},
   "outputs": [
    {
     "data": {
      "text/plain": [
       "['apple',\n",
       " 'banana',\n",
       " 'kiwi',\n",
       " 'mango',\n",
       " 'pear',\n",
       " 'cherry',\n",
       " 'cherry',\n",
       " 'cherry',\n",
       " 'orange']"
      ]
     },
     "execution_count": 27,
     "metadata": {},
     "output_type": "execute_result"
    }
   ],
   "source": [
    "fruits.pop()\n",
    "fruits"
   ]
  },
  {
   "cell_type": "code",
   "execution_count": 28,
   "id": "fc3baabe",
   "metadata": {},
   "outputs": [
    {
     "data": {
      "text/plain": [
       "'cherry'"
      ]
     },
     "execution_count": 28,
     "metadata": {},
     "output_type": "execute_result"
    }
   ],
   "source": [
    "fruits.pop(6)"
   ]
  },
  {
   "cell_type": "code",
   "execution_count": 29,
   "id": "60f02f73",
   "metadata": {},
   "outputs": [
    {
     "data": {
      "text/plain": [
       "['apple', 'banana', 'kiwi', 'mango', 'pear', 'cherry', 'orange']"
      ]
     },
     "execution_count": 29,
     "metadata": {},
     "output_type": "execute_result"
    }
   ],
   "source": [
    "fruits.remove('cherry')\n",
    "fruits"
   ]
  },
  {
   "cell_type": "code",
   "execution_count": 38,
   "id": "4423dcfb",
   "metadata": {},
   "outputs": [
    {
     "data": {
      "text/plain": [
       "2"
      ]
     },
     "execution_count": 38,
     "metadata": {},
     "output_type": "execute_result"
    }
   ],
   "source": [
    "fruits.index('kiwi')"
   ]
  },
  {
   "cell_type": "code",
   "execution_count": 39,
   "id": "7bfb86d6",
   "metadata": {},
   "outputs": [
    {
     "data": {
      "text/plain": [
       "1"
      ]
     },
     "execution_count": 39,
     "metadata": {},
     "output_type": "execute_result"
    }
   ],
   "source": [
    "fruits.count('kiwi')"
   ]
  },
  {
   "cell_type": "code",
   "execution_count": 32,
   "id": "1c27dca8",
   "metadata": {},
   "outputs": [
    {
     "data": {
      "text/plain": [
       "7"
      ]
     },
     "execution_count": 32,
     "metadata": {},
     "output_type": "execute_result"
    }
   ],
   "source": [
    "len(fruits)"
   ]
  },
  {
   "cell_type": "code",
   "execution_count": 34,
   "id": "ded26402",
   "metadata": {},
   "outputs": [
    {
     "data": {
      "text/plain": [
       "['grape', 'banana', 'kiwi', 'mango', 'pear', 'cherry', 'orange']"
      ]
     },
     "execution_count": 34,
     "metadata": {},
     "output_type": "execute_result"
    }
   ],
   "source": [
    "#리스트 수정\n",
    "fruits[0] = 'grape'\n",
    "fruits"
   ]
  },
  {
   "cell_type": "code",
   "execution_count": 43,
   "id": "cec96069",
   "metadata": {},
   "outputs": [
    {
     "data": {
      "text/plain": [
       "[5, 4, 3, 2, 1]"
      ]
     },
     "execution_count": 43,
     "metadata": {},
     "output_type": "execute_result"
    }
   ],
   "source": [
    "numbers = [1,2,3,4,5]\n",
    "numbers.sort(reverse=True)\n",
    "numbers"
   ]
  },
  {
   "cell_type": "code",
   "execution_count": 45,
   "id": "5535a7bd",
   "metadata": {},
   "outputs": [
    {
     "name": "stdout",
     "output_type": "stream",
     "text": [
      "grape\n",
      "banana\n",
      "kiwi\n",
      "mango\n",
      "pear\n",
      "cherry\n",
      "orange\n"
     ]
    }
   ],
   "source": [
    "for i in fruits:\n",
    "    print(i)"
   ]
  },
  {
   "cell_type": "code",
   "execution_count": 47,
   "id": "391feab5",
   "metadata": {},
   "outputs": [
    {
     "name": "stdout",
     "output_type": "stream",
     "text": [
      "0번째 과일: grape\n",
      "1번째 과일: banana\n",
      "2번째 과일: kiwi\n",
      "3번째 과일: mango\n",
      "4번째 과일: pear\n",
      "5번째 과일: cherry\n",
      "6번째 과일: orange\n"
     ]
    }
   ],
   "source": [
    "for i in range(len(fruits)):\n",
    "    print(f\"{i}번째 과일: {fruits[i]}\")"
   ]
  },
  {
   "cell_type": "code",
   "execution_count": 48,
   "id": "e883c88b",
   "metadata": {},
   "outputs": [
    {
     "data": {
      "text/plain": [
       "3.0"
      ]
     },
     "execution_count": 48,
     "metadata": {},
     "output_type": "execute_result"
    }
   ],
   "source": [
    "#평균값\n",
    "sum(numbers)/len(numbers)"
   ]
  },
  {
   "cell_type": "code",
   "execution_count": 50,
   "id": "f1b2a5be",
   "metadata": {},
   "outputs": [],
   "source": [
    "#반복문을 이용해서 리스트를 간단하게 생성해보자~~~\n",
    "# list comprehansion"
   ]
  },
  {
   "cell_type": "code",
   "execution_count": 52,
   "id": "121020ce",
   "metadata": {},
   "outputs": [
    {
     "data": {
      "text/plain": [
       "[0, 1, 2, 3, 4, 5, 6, 7, 8, 9]"
      ]
     },
     "execution_count": 52,
     "metadata": {},
     "output_type": "execute_result"
    }
   ],
   "source": [
    "num_list=[]\n",
    "for i in range(10):\n",
    "    num_list.append(i)\n",
    "num_list"
   ]
  },
  {
   "cell_type": "code",
   "execution_count": 58,
   "id": "ca8a23e1",
   "metadata": {},
   "outputs": [
    {
     "data": {
      "text/plain": [
       "[0, 2, 4, 6, 8, 10]"
      ]
     },
     "execution_count": 58,
     "metadata": {},
     "output_type": "execute_result"
    }
   ],
   "source": [
    "num_list = []\n",
    "for i in range(10+1):\n",
    "    if i % 2 == 0:\n",
    "        num_list.append(i)\n",
    "num_list"
   ]
  },
  {
   "cell_type": "code",
   "execution_count": 55,
   "id": "676fa3ea",
   "metadata": {},
   "outputs": [
    {
     "data": {
      "text/plain": [
       "[2, 4, 6, 8, 10]"
      ]
     },
     "execution_count": 55,
     "metadata": {},
     "output_type": "execute_result"
    }
   ],
   "source": [
    "numbers = [i for i in range(1,10+1) if i%2 ==0]\n",
    "numbers"
   ]
  },
  {
   "cell_type": "code",
   "execution_count": 65,
   "id": "79040c37",
   "metadata": {},
   "outputs": [
    {
     "name": "stdout",
     "output_type": "stream",
     "text": [
      "1번 합격\n",
      "2번 불합\n",
      "3번 합격\n",
      "4번 불합\n",
      "5번 합격\n"
     ]
    }
   ],
   "source": [
    "marks = [90, 25,67,45,80]\n",
    "number = 0\n",
    "\n",
    "for i in marks:\n",
    "    number= 1+number\n",
    "    #print(i)\n",
    "    if i>=60:\n",
    "        print(f\"{number}번 합격\")\n",
    "    else :\n",
    "        print(f\"{number}번 불합\")"
   ]
  },
  {
   "cell_type": "code",
   "execution_count": 66,
   "id": "565aa4f7",
   "metadata": {},
   "outputs": [
    {
     "name": "stdout",
     "output_type": "stream",
     "text": [
      "1번 합격\n",
      "2번 불합\n",
      "3번 합격\n",
      "4번 불합\n",
      "5번 합격\n"
     ]
    }
   ],
   "source": [
    "for i in range(len(marks)):\n",
    "    if marks[i] >=60:\n",
    "        print(f'{i+1}번 합격')\n",
    "    else :\n",
    "        print(f'{i+1}번 불합')"
   ]
  },
  {
   "cell_type": "code",
   "execution_count": 8,
   "id": "6c38e564",
   "metadata": {},
   "outputs": [
    {
     "name": "stdout",
     "output_type": "stream",
     "text": [
      "끝말잇기 게임\n",
      "시작\n",
      "가나다\n",
      "끝말잇기 단어: 다람쥐\n",
      "끝말잇기 단어: 쥐포\n",
      "끝말잇기 단어: 포도\n",
      "끝말잇기 단어: 도라지\n",
      "끝말잇기 단어: 지드래곤\n",
      "끝말잇기 단어: 땡\n",
      "땡\n"
     ]
    }
   ],
   "source": [
    "#끝말잇기 게임만들기\n",
    "print(\"끝말잇기 게임\")\n",
    "print(\"시작\")\n",
    "var =\"가나다\"\n",
    "\n",
    "print(var)\n",
    "while True:\n",
    "    user_input = input(\"단어를 입력해주세요\")\n",
    "    print(f\"끝말잇기 단어: {user_input}\")\n",
    "    if user_input[0] == var[-1]:\n",
    "        var = user_input\n",
    "    else:\n",
    "        print(\"땡\")\n",
    "        break\n"
   ]
  },
  {
   "cell_type": "code",
   "execution_count": null,
   "id": "13d3f171",
   "metadata": {},
   "outputs": [],
   "source": [
    "#리스트 numbers 각 원소는 0 ~ 9 숫자로 구성. numburs에서 연속적으로 나타나는 숫자는 하나만 남기고 전부 제거 하려고 합니다. 단, 제거된 후 남은 수들을 반환할 때는 numbers의 원소들의 순서를 유지해야 합니다.\n"
   ]
  }
 ],
 "metadata": {
  "kernelspec": {
   "display_name": "Python 3",
   "language": "python",
   "name": "python3"
  },
  "language_info": {
   "codemirror_mode": {
    "name": "ipython",
    "version": 3
   },
   "file_extension": ".py",
   "mimetype": "text/x-python",
   "name": "python",
   "nbconvert_exporter": "python",
   "pygments_lexer": "ipython3",
   "version": "3.11.9"
  }
 },
 "nbformat": 4,
 "nbformat_minor": 5
}
