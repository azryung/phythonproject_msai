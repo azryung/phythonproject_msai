{
 "cells": [
  {
   "cell_type": "markdown",
   "id": "0991a709",
   "metadata": {},
   "source": [
    "2025-09-19"
   ]
  },
  {
   "cell_type": "code",
   "execution_count": 15,
   "id": "fc9ca074",
   "metadata": {},
   "outputs": [
    {
     "name": "stdout",
     "output_type": "stream",
     "text": [
      "파이선 스타트!\n"
     ]
    }
   ],
   "source": [
    "print(\"파이선 스타트!\") # 문자열 데이터 (string)"
   ]
  },
  {
   "cell_type": "code",
   "execution_count": 16,
   "id": "6d9557cb",
   "metadata": {},
   "outputs": [
    {
     "data": {
      "text/plain": [
       "36.5"
      ]
     },
     "execution_count": 16,
     "metadata": {},
     "output_type": "execute_result"
    }
   ],
   "source": [
    "123 # 정수형 데이터 interger\n",
    "36.5 # 실수형 데이터 float"
   ]
  },
  {
   "cell_type": "code",
   "execution_count": 17,
   "id": "d14d0f3e",
   "metadata": {},
   "outputs": [
    {
     "data": {
      "text/plain": [
       "(True, False)"
      ]
     },
     "execution_count": 17,
     "metadata": {},
     "output_type": "execute_result"
    }
   ],
   "source": [
    "True, False # 논리데이터 참 거짓 boolean"
   ]
  },
  {
   "cell_type": "code",
   "execution_count": 18,
   "id": "9b3d139f",
   "metadata": {},
   "outputs": [
    {
     "ename": "NameError",
     "evalue": "name 'hello' is not defined",
     "output_type": "error",
     "traceback": [
      "\u001b[31m---------------------------------------------------------------------------\u001b[39m",
      "\u001b[31mNameError\u001b[39m                                 Traceback (most recent call last)",
      "\u001b[36mCell\u001b[39m\u001b[36m \u001b[39m\u001b[32mIn[18]\u001b[39m\u001b[32m, line 1\u001b[39m\n\u001b[32m----> \u001b[39m\u001b[32m1\u001b[39m \u001b[43mhello\u001b[49m\n",
      "\u001b[31mNameError\u001b[39m: name 'hello' is not defined"
     ]
    }
   ],
   "source": [
    "hello"
   ]
  },
  {
   "cell_type": "code",
   "execution_count": null,
   "id": "c01e3b6f",
   "metadata": {},
   "outputs": [
    {
     "name": "stdout",
     "output_type": "stream",
     "text": [
      "hello\n"
     ]
    }
   ],
   "source": [
    "print('hello')"
   ]
  },
  {
   "cell_type": "code",
   "execution_count": null,
   "id": "b021ccb2",
   "metadata": {},
   "outputs": [
    {
     "data": {
      "text/plain": [
       "str"
      ]
     },
     "execution_count": 9,
     "metadata": {},
     "output_type": "execute_result"
    }
   ],
   "source": [
    "type('100') ##데이터 타입물어보기"
   ]
  },
  {
   "cell_type": "code",
   "execution_count": null,
   "id": "95622d2a",
   "metadata": {},
   "outputs": [],
   "source": [
    "mynumber = 100"
   ]
  },
  {
   "cell_type": "code",
   "execution_count": null,
   "id": "9414dafd",
   "metadata": {},
   "outputs": [
    {
     "data": {
      "text/plain": [
       "100"
      ]
     },
     "execution_count": 13,
     "metadata": {},
     "output_type": "execute_result"
    }
   ],
   "source": [
    "mynumber"
   ]
  },
  {
   "cell_type": "code",
   "execution_count": null,
   "id": "1a7c6e6b",
   "metadata": {},
   "outputs": [
    {
     "data": {
      "text/plain": [
       "110"
      ]
     },
     "execution_count": 14,
     "metadata": {},
     "output_type": "execute_result"
    }
   ],
   "source": [
    "mynumber+10"
   ]
  },
  {
   "cell_type": "markdown",
   "id": "52941837",
   "metadata": {},
   "source": [
    "연산자"
   ]
  },
  {
   "cell_type": "code",
   "execution_count": 19,
   "id": "74211119",
   "metadata": {},
   "outputs": [
    {
     "ename": "SyntaxError",
     "evalue": "invalid syntax (1155809993.py, line 1)",
     "output_type": "error",
     "traceback": [
      "  \u001b[36mCell\u001b[39m\u001b[36m \u001b[39m\u001b[32mIn[19]\u001b[39m\u001b[32m, line 1\u001b[39m\n\u001b[31m    \u001b[39m\u001b[31m+, -, *, /\u001b[39m\n     ^\n\u001b[31mSyntaxError\u001b[39m\u001b[31m:\u001b[39m invalid syntax\n"
     ]
    }
   ],
   "source": [
    "+, -, *, /"
   ]
  },
  {
   "cell_type": "code",
   "execution_count": 20,
   "id": "8676fd2e",
   "metadata": {},
   "outputs": [],
   "source": [
    "num1 = 7\n",
    "num2 = 3"
   ]
  },
  {
   "cell_type": "code",
   "execution_count": 22,
   "id": "7a24a6b4",
   "metadata": {},
   "outputs": [
    {
     "data": {
      "text/plain": [
       "10"
      ]
     },
     "execution_count": 22,
     "metadata": {},
     "output_type": "execute_result"
    }
   ],
   "source": [
    "num1 + num2"
   ]
  },
  {
   "cell_type": "code",
   "execution_count": 23,
   "id": "53fa857c",
   "metadata": {},
   "outputs": [
    {
     "data": {
      "text/plain": [
       "0.42857142857142855"
      ]
     },
     "execution_count": 23,
     "metadata": {},
     "output_type": "execute_result"
    }
   ],
   "source": [
    "num2 / num1"
   ]
  },
  {
   "cell_type": "code",
   "execution_count": 24,
   "id": "09b8e7ba",
   "metadata": {},
   "outputs": [
    {
     "data": {
      "text/plain": [
       "float"
      ]
     },
     "execution_count": 24,
     "metadata": {},
     "output_type": "execute_result"
    }
   ],
   "source": [
    "type(num2 / num1)"
   ]
  },
  {
   "cell_type": "code",
   "execution_count": 26,
   "id": "63f6c591",
   "metadata": {},
   "outputs": [
    {
     "data": {
      "text/plain": [
       "'HelloWorld'"
      ]
     },
     "execution_count": 26,
     "metadata": {},
     "output_type": "execute_result"
    }
   ],
   "source": [
    "\"Hello\" + \"World\""
   ]
  },
  {
   "cell_type": "code",
   "execution_count": 27,
   "id": "96cd225a",
   "metadata": {},
   "outputs": [],
   "source": [
    "str1 = \"Hello\"\n",
    "str2 = \"World\"\n",
    "num1 = 100\n",
    "num2 = 200"
   ]
  },
  {
   "cell_type": "code",
   "execution_count": 28,
   "id": "3bf17d83",
   "metadata": {},
   "outputs": [
    {
     "ename": "TypeError",
     "evalue": "can't multiply sequence by non-int of type 'str'",
     "output_type": "error",
     "traceback": [
      "\u001b[31m---------------------------------------------------------------------------\u001b[39m",
      "\u001b[31mTypeError\u001b[39m                                 Traceback (most recent call last)",
      "\u001b[36mCell\u001b[39m\u001b[36m \u001b[39m\u001b[32mIn[28]\u001b[39m\u001b[32m, line 1\u001b[39m\n\u001b[32m----> \u001b[39m\u001b[32m1\u001b[39m \u001b[43mstr1\u001b[49m\u001b[43m \u001b[49m\u001b[43m*\u001b[49m\u001b[43m \u001b[49m\u001b[43mstr2\u001b[49m\n",
      "\u001b[31mTypeError\u001b[39m: can't multiply sequence by non-int of type 'str'"
     ]
    }
   ],
   "source": [
    "str1 * str2"
   ]
  },
  {
   "cell_type": "code",
   "execution_count": 29,
   "id": "a2d0e80d",
   "metadata": {},
   "outputs": [
    {
     "data": {
      "text/plain": [
       "'HelloHelloHelloHelloHelloHelloHelloHelloHelloHelloHelloHelloHelloHelloHelloHelloHelloHelloHelloHelloHelloHelloHelloHelloHelloHelloHelloHelloHelloHelloHelloHelloHelloHelloHelloHelloHelloHelloHelloHelloHelloHelloHelloHelloHelloHelloHelloHelloHelloHelloHelloHelloHelloHelloHelloHelloHelloHelloHelloHelloHelloHelloHelloHelloHelloHelloHelloHelloHelloHelloHelloHelloHelloHelloHelloHelloHelloHelloHelloHelloHelloHelloHelloHelloHelloHelloHelloHelloHelloHelloHelloHelloHelloHelloHelloHelloHelloHelloHelloHello'"
      ]
     },
     "execution_count": 29,
     "metadata": {},
     "output_type": "execute_result"
    }
   ],
   "source": [
    "str1 * num1"
   ]
  },
  {
   "cell_type": "code",
   "execution_count": 30,
   "id": "a41fe7c2",
   "metadata": {},
   "outputs": [
    {
     "data": {
      "text/plain": [
       "'HelloWorldHelloWorldHelloWorld'"
      ]
     },
     "execution_count": 30,
     "metadata": {},
     "output_type": "execute_result"
    }
   ],
   "source": [
    "(str1 + str2) * 3"
   ]
  },
  {
   "cell_type": "markdown",
   "id": "509d4de8",
   "metadata": {},
   "source": [
    "###비교연산자"
   ]
  },
  {
   "cell_type": "code",
   "execution_count": 31,
   "id": "542b0c89",
   "metadata": {},
   "outputs": [
    {
     "ename": "SyntaxError",
     "evalue": "invalid syntax (1439610722.py, line 1)",
     "output_type": "error",
     "traceback": [
      "  \u001b[36mCell\u001b[39m\u001b[36m \u001b[39m\u001b[32mIn[31]\u001b[39m\u001b[32m, line 1\u001b[39m\n\u001b[31m    \u001b[39m\u001b[31m같다 ==, 같지않다 !=, 크다 >, 작다 <, 크거나같다 >=, 작거나같다 <=\u001b[39m\n         ^\n\u001b[31mSyntaxError\u001b[39m\u001b[31m:\u001b[39m invalid syntax\n"
     ]
    }
   ],
   "source": [
    "같다 ==, 같지않다 !=, 크다 >, 작다 <, 크거나같다 >=, 작거나같다 <= "
   ]
  },
  {
   "cell_type": "code",
   "execution_count": 33,
   "id": "f3b23711",
   "metadata": {},
   "outputs": [
    {
     "name": "stdout",
     "output_type": "stream",
     "text": [
      "Hello World\n"
     ]
    }
   ],
   "source": [
    "print(str1            + \" \" + str2)"
   ]
  },
  {
   "cell_type": "code",
   "execution_count": 34,
   "id": "02c732bc",
   "metadata": {},
   "outputs": [
    {
     "name": "stdout",
     "output_type": "stream",
     "text": [
      "Hello World\n"
     ]
    }
   ],
   "source": [
    "print(str1, str2)"
   ]
  },
  {
   "cell_type": "code",
   "execution_count": 35,
   "id": "fa1a2ba4",
   "metadata": {},
   "outputs": [
    {
     "name": "stdout",
     "output_type": "stream",
     "text": [
      "Hello World\n"
     ]
    }
   ],
   "source": [
    "print(str1,str2)"
   ]
  },
  {
   "cell_type": "markdown",
   "id": "8b373979",
   "metadata": {},
   "source": [
    "### 사용자입력"
   ]
  },
  {
   "cell_type": "code",
   "execution_count": null,
   "id": "bd842f58",
   "metadata": {},
   "outputs": [],
   "source": []
  },
  {
   "cell_type": "code",
   "execution_count": null,
   "id": "909c0503",
   "metadata": {},
   "outputs": [],
   "source": [
    "name = input(\"이름을 입력하세요 :)\")\n",
    "print(\"이름은\", name, \"입니다.\")"
   ]
  },
  {
   "cell_type": "code",
   "execution_count": null,
   "id": "27c90e87",
   "metadata": {},
   "outputs": [],
   "source": [
    "num1 = 7\n",
    "num2 = 3"
   ]
  },
  {
   "cell_type": "code",
   "execution_count": null,
   "id": "29948bb0",
   "metadata": {},
   "outputs": [],
   "source": [
    "# 미션\n",
    "# 사용자로부터 숫자 입력을 받아서 + 1 * / 연산결과를 출력해주세요."
   ]
  },
  {
   "cell_type": "code",
   "execution_count": null,
   "id": "3e475904",
   "metadata": {},
   "outputs": [
    {
     "name": "stdout",
     "output_type": "stream",
     "text": [
      "73\n"
     ]
    }
   ],
   "source": [
    "num1 = input(\"첫번째 숫자를 입력하세요. :)\")\n",
    "num2 = input(\"두번째 숫자를 입력하세요. :)\")\n",
    "\n",
    "print (num1 + num2)\n",
    "##문자열로 인식하기 때문에 형변환 type을 변환시켜서 정확하게 인식하는 게 만들어 줘야함"
   ]
  },
  {
   "cell_type": "markdown",
   "id": "7f113ee8",
   "metadata": {},
   "source": [
    "##형변환"
   ]
  },
  {
   "cell_type": "code",
   "execution_count": null,
   "id": "b41d9796",
   "metadata": {},
   "outputs": [
    {
     "name": "stdout",
     "output_type": "stream",
     "text": [
      "10\n",
      "4\n",
      "21\n",
      "2\n"
     ]
    }
   ],
   "source": [
    "num1 = int(input(\"첫번째 숫자를 입력하세요. :)\"))\n",
    "num2 = int(input(\"두번째 숫자를 입력하세요. :)\"))\n",
    "\n",
    "print(num1 + num2)\n",
    "print(num1-num2)\n",
    "print(num1*num2) \n",
    "print(num1//num2)"
   ]
  },
  {
   "cell_type": "code",
   "execution_count": null,
   "id": "e34897fd",
   "metadata": {},
   "outputs": [
    {
     "ename": "SyntaxError",
     "evalue": "invalid syntax (1648942759.py, line 1)",
     "output_type": "error",
     "traceback": [
      "  \u001b[36mCell\u001b[39m\u001b[36m \u001b[39m\u001b[32mIn[5]\u001b[39m\u001b[32m, line 1\u001b[39m\n\u001b[31m    \u001b[39m\u001b[31m\"안녕\"이라고 말했다.\u001b[39m\n        ^\n\u001b[31mSyntaxError\u001b[39m\u001b[31m:\u001b[39m invalid syntax\n"
     ]
    }
   ],
   "source": [
    "\"안녕\"이라고 말했다.\n",
    "'그래'라고 생각했다"
   ]
  },
  {
   "cell_type": "code",
   "execution_count": null,
   "id": "6ff06aad",
   "metadata": {},
   "outputs": [
    {
     "name": "stdout",
     "output_type": "stream",
     "text": [
      "\"안녕\"이라고 말했다.\n"
     ]
    }
   ],
   "source": [
    "print(\"\\\"안녕\\\"이라고 말했다.\")\n",
    "##역방향 슬러시를 써야 따옴표 등의 기약속된 명령어(따옴표 등)을 str으로 표현"
   ]
  },
  {
   "cell_type": "code",
   "execution_count": null,
   "id": "565d2b28",
   "metadata": {},
   "outputs": [
    {
     "name": "stdout",
     "output_type": "stream",
     "text": [
      "'낮말'은 새가 듣고 '밤말'은 쥐가 듣는다.\n"
     ]
    }
   ],
   "source": [
    "print(\"\\'낮말\\'은 새가 듣고 \\'밤말\\'은 쥐가 듣는다.\")"
   ]
  },
  {
   "cell_type": "code",
   "execution_count": null,
   "id": "97cbcd14",
   "metadata": {},
   "outputs": [
    {
     "name": "stdout",
     "output_type": "stream",
     "text": [
      "7 + 3 = 10\n",
      "7 + 3 = 10\n"
     ]
    }
   ],
   "source": [
    "#f-string ( {}안은 변수로 인식 그외 값은 str 으로 인식)\n",
    "num1 = 7\n",
    "num2 = 3\n",
    "\n",
    "print(num1, \"+\", num2, \"=\", num1+num2)\n",
    "print(f\"{num1} + {num2} = {num1+num2}\")"
   ]
  },
  {
   "cell_type": "markdown",
   "id": "7eb05b7f",
   "metadata": {},
   "source": [
    "###bool 자료형"
   ]
  },
  {
   "cell_type": "code",
   "execution_count": null,
   "id": "d7b490c0",
   "metadata": {},
   "outputs": [],
   "source": [
    "#True 참 false 거짓"
   ]
  },
  {
   "cell_type": "code",
   "execution_count": null,
   "id": "76f4287b",
   "metadata": {},
   "outputs": [
    {
     "name": "stdout",
     "output_type": "stream",
     "text": [
      "<class 'bool'>\n"
     ]
    }
   ],
   "source": [
    "print(type(True))"
   ]
  },
  {
   "cell_type": "code",
   "execution_count": null,
   "id": "890e4b3a",
   "metadata": {},
   "outputs": [
    {
     "data": {
      "text/plain": [
       "False"
      ]
     },
     "execution_count": 23,
     "metadata": {},
     "output_type": "execute_result"
    }
   ],
   "source": [
    "bool(0)"
   ]
  },
  {
   "cell_type": "code",
   "execution_count": null,
   "id": "aeb74c58",
   "metadata": {},
   "outputs": [
    {
     "data": {
      "text/plain": [
       "True"
      ]
     },
     "execution_count": 24,
     "metadata": {},
     "output_type": "execute_result"
    }
   ],
   "source": [
    "bool(100)"
   ]
  },
  {
   "cell_type": "code",
   "execution_count": null,
   "id": "7cfed466",
   "metadata": {},
   "outputs": [
    {
     "data": {
      "text/plain": [
       "False"
      ]
     },
     "execution_count": 25,
     "metadata": {},
     "output_type": "execute_result"
    }
   ],
   "source": [
    "bool('')"
   ]
  },
  {
   "cell_type": "code",
   "execution_count": null,
   "id": "32ad39a0",
   "metadata": {},
   "outputs": [
    {
     "data": {
      "text/plain": [
       "True"
      ]
     },
     "execution_count": 26,
     "metadata": {},
     "output_type": "execute_result"
    }
   ],
   "source": [
    "bool('    ')"
   ]
  },
  {
   "cell_type": "code",
   "execution_count": null,
   "id": "12421ad7",
   "metadata": {},
   "outputs": [
    {
     "data": {
      "text/plain": [
       "True"
      ]
     },
     "execution_count": 27,
     "metadata": {},
     "output_type": "execute_result"
    }
   ],
   "source": [
    "bool(-3)"
   ]
  },
  {
   "cell_type": "code",
   "execution_count": null,
   "id": "6ab21bd0",
   "metadata": {},
   "outputs": [
    {
     "name": "stdout",
     "output_type": "stream",
     "text": [
      "김밥 : 3000 x 2개\n",
      "김밥 : 3500 x 2개\n",
      "김밥 : 2500 x 2개\n",
      "지불하실 금액은 18000원입니다\n"
     ]
    }
   ],
   "source": [
    "kim = int(input(\"김밥 주문 갯수 입력하세요. :)\"))\n",
    "duk = int(input(\"떡볶이 주문 갯수 입력하세요. :)\"))\n",
    "lam = int(input(\"라면 주문 갯수를 입력하세요 :)\"))\n",
    "\n",
    "pr_kim = int(3000)\n",
    "pr_duk = int(3500)\n",
    "pr_lam = int(2500)\n",
    "\n",
    "print(f\"김밥 : {pr_kim} x {kim}개\")\n",
    "print(f\"김밥 : {pr_duk} x {duk}개\")\n",
    "print(f\"김밥 : {pr_lam} x {lam}개\")\n",
    "\n",
    "print(f\"지불하실 금액은 {kim*pr_kim + duk*pr_duk +lam*pr_lam}원입니다\")"
   ]
  },
  {
   "cell_type": "code",
   "execution_count": null,
   "id": "ca3f06a9",
   "metadata": {},
   "outputs": [],
   "source": [
    "#조건에 따라서 명령어 실행여부가 결정 조건문 골조\n",
    "\n",
    "#if 조건:\n",
    "#       실행할 명령조건문\n",
    "#밖의 명령어가 실행\n"
   ]
  },
  {
   "cell_type": "code",
   "execution_count": null,
   "id": "c1ac2eef",
   "metadata": {},
   "outputs": [
    {
     "name": "stdout",
     "output_type": "stream",
     "text": [
      "밥을 먹자 비싼 밥\n",
      "조건문 종료\n"
     ]
    }
   ],
   "source": [
    "money=True\n",
    "\n",
    "if money:\n",
    "    print(\"밥을 먹자 비싼 밥\")\n",
    "print ('조건문 종료')"
   ]
  },
  {
   "cell_type": "code",
   "execution_count": null,
   "id": "6c2e9bf3",
   "metadata": {},
   "outputs": [
    {
     "name": "stdout",
     "output_type": "stream",
     "text": [
      "조건문 종료\n"
     ]
    }
   ],
   "source": [
    "money=False\n",
    "\n",
    "if money:\n",
    "    print(\"밥을 먹자 비싼 밥\")\n",
    "print ('조건문 종료')"
   ]
  },
  {
   "cell_type": "code",
   "execution_count": null,
   "id": "2ba11fbe",
   "metadata": {},
   "outputs": [
    {
     "name": "stdout",
     "output_type": "stream",
     "text": [
      "밥을 먹자 비싼 밥\n",
      "조건문 종료\n"
     ]
    }
   ],
   "source": [
    "money=True\n",
    "\n",
    "if money:\n",
    "    print(\"밥을 먹자 비싼 밥\")\n",
    "print ('조건문 종료')"
   ]
  },
  {
   "cell_type": "code",
   "execution_count": null,
   "id": "77b1538a",
   "metadata": {},
   "outputs": [
    {
     "name": "stdout",
     "output_type": "stream",
     "text": [
      "홀수\n"
     ]
    }
   ],
   "source": [
    "#짝수홀수 구분\n",
    "# num %2 ==0 짝수\n",
    "\n",
    "num1 =int(input(\"숫자를 입력해주세요\"))\n",
    "\n",
    "if num1 %2==0:\n",
    "    print(\"짝수\")\n",
    "print(\"홀수\")"
   ]
  },
  {
   "cell_type": "code",
   "execution_count": null,
   "id": "0a6ff97c",
   "metadata": {},
   "outputs": [
    {
     "name": "stdout",
     "output_type": "stream",
     "text": [
      "홀수\n"
     ]
    }
   ],
   "source": [
    "#짝수홀수 구분\n",
    "# num %2 ==0 짝수\n",
    "\n",
    "num1 =int(input(\"숫자를 입력해주세요\"))\n",
    "\n",
    "if num1 %2==0:\n",
    "    print(\"짝수\")\n",
    "else:\n",
    "    print(\"홀수\")"
   ]
  },
  {
   "cell_type": "code",
   "execution_count": null,
   "id": "edd49c83",
   "metadata": {},
   "outputs": [
    {
     "name": "stdout",
     "output_type": "stream",
     "text": [
      "C 학점. 파이선 학생! 좀 더 노력해요.\n"
     ]
    }
   ],
   "source": [
    "name=str(input(\"학생 이름을 입력해주세요\"))\n",
    "score_eng=int(input(\"영어점수를 입력하세요\"))\n",
    "score_mat=int(input(\"수학점수를 입력해주세요\"))\n",
    "\n",
    "rate_a =score_eng >=90 and score_mat >=90\n",
    "rate_b =score_eng >=80 and score_mat >=80\n",
    "rate_c =score_eng >=70 and score_mat >=70\n",
    "rate_d =score_eng >=60 and score_mat >=60\n",
    "\n",
    "\n",
    "\n",
    "if rate_a:\n",
    "    print(f\"A 학점. {name} 학생! 참 잘 했어요.\")\n",
    "elif rate_b:\n",
    "    print(f\"B 학점. {name} 학생! 잘 했어요.\")\n",
    "elif rate_c:\n",
    "    print(f\"C 학점. {name} 학생! 좀 더 노력해요.\")\n",
    "elif rate_d:\n",
    "    print(f\"D 학점. {name} 학생! 좀 더 노력해요.\")\n",
    "else:\n",
    "    print(f\"F 학점. {name} 학생! 다음 학기에 봐요 ^^.\")\n"
   ]
  },
  {
   "cell_type": "code",
   "execution_count": null,
   "id": "5e0a14d1",
   "metadata": {},
   "outputs": [
    {
     "ename": "ValueError",
     "evalue": "invalid literal for int() with base 10: '에아이'",
     "output_type": "error",
     "traceback": [
      "\u001b[31m---------------------------------------------------------------------------\u001b[39m",
      "\u001b[31mValueError\u001b[39m                                Traceback (most recent call last)",
      "\u001b[36mCell\u001b[39m\u001b[36m \u001b[39m\u001b[32mIn[68]\u001b[39m\u001b[32m, line 1\u001b[39m\n\u001b[32m----> \u001b[39m\u001b[32m1\u001b[39m num=\u001b[38;5;28;43mint\u001b[39;49m\u001b[43m(\u001b[49m\u001b[38;5;28;43minput\u001b[39;49m\u001b[43m(\u001b[49m\u001b[33;43m\"\u001b[39;49m\u001b[33;43m숫자를 입력해주세요\u001b[39;49m\u001b[33;43m\"\u001b[39;49m\u001b[43m)\u001b[49m\u001b[43m)\u001b[49m\n\u001b[32m      3\u001b[39m result = num %\u001b[32m2\u001b[39m\n\u001b[32m      5\u001b[39m \u001b[38;5;28;01mif\u001b[39;00m result:\n",
      "\u001b[31mValueError\u001b[39m: invalid literal for int() with base 10: '에아이'"
     ]
    }
   ],
   "source": [
    "num=int(input(\"숫자를 입력해주세요\"))\n",
    "\n",
    "result = num %2\n",
    "\n",
    "if result:\n",
    "    print(\"홀수\")\n",
    "else:\n",
    "    print(\"짝수\")"
   ]
  },
  {
   "cell_type": "markdown",
   "id": "09ec5353",
   "metadata": {},
   "source": [
    "##반복문"
   ]
  },
  {
   "cell_type": "markdown",
   "id": "41e4cb8d",
   "metadata": {},
   "source": [
    "#for, while\n",
    "#for : 횟수나 기준이 있고 그때 까지 반복\n",
    "#while : 조건을 만족시키면 반복 종료"
   ]
  },
  {
   "cell_type": "code",
   "execution_count": null,
   "id": "c6e2c7bf",
   "metadata": {},
   "outputs": [],
   "source": [
    "for 변수 in 이터러블:\n",
    "    반복할 문장"
   ]
  },
  {
   "cell_type": "code",
   "execution_count": 1,
   "id": "3bb0477b",
   "metadata": {},
   "outputs": [
    {
     "name": "stdout",
     "output_type": "stream",
     "text": [
      "헬로\n",
      "헬로\n",
      "헬로\n",
      "헬로\n",
      "헬로\n",
      "헬로\n",
      "헬로\n",
      "헬로\n",
      "헬로\n",
      "헬로\n"
     ]
    }
   ],
   "source": [
    " for i in range(10) :\n",
    "    print(\"헬로\")"
   ]
  },
  {
   "cell_type": "code",
   "execution_count": 3,
   "id": "2cd39c34",
   "metadata": {},
   "outputs": [
    {
     "name": "stdout",
     "output_type": "stream",
     "text": [
      "1헬로\n",
      "2헬로\n",
      "3헬로\n",
      "4헬로\n",
      "5헬로\n",
      "6헬로\n",
      "7헬로\n",
      "8헬로\n",
      "9헬로\n",
      "10헬로\n"
     ]
    }
   ],
   "source": [
    "for i in range(10) :\n",
    "    print(f\"{i+1}헬로\")"
   ]
  },
  {
   "cell_type": "code",
   "execution_count": 6,
   "id": "b3d66df0",
   "metadata": {},
   "outputs": [
    {
     "name": "stdout",
     "output_type": "stream",
     "text": [
      "1헬로\n",
      "2헬로\n",
      "3헬로\n",
      "4헬로\n",
      "5헬로\n",
      "6헬로\n",
      "7헬로\n",
      "8헬로\n",
      "9헬로\n"
     ]
    }
   ],
   "source": [
    "for i in range(1,10) :\n",
    "    print(f\"{i}헬로\")\n",
    "#Range 의미 : 1부터 시작하고 10 전까지."
   ]
  },
  {
   "cell_type": "code",
   "execution_count": 8,
   "id": "c716b22f",
   "metadata": {},
   "outputs": [
    {
     "name": "stdout",
     "output_type": "stream",
     "text": [
      "1헬로\n",
      "3헬로\n",
      "5헬로\n",
      "7헬로\n",
      "9헬로\n"
     ]
    }
   ],
   "source": [
    "for i in range(1,10,2) :\n",
    "    print(f\"{i}헬로\")\n",
    "#Range 의미 : 1부터 시작하고 10 전까지. +2씩 start, end, step"
   ]
  },
  {
   "cell_type": "code",
   "execution_count": null,
   "id": "75277a37",
   "metadata": {},
   "outputs": [
    {
     "name": "stdout",
     "output_type": "stream",
     "text": [
      "10헬로\n",
      "7헬로\n",
      "4헬로\n",
      "1헬로\n"
     ]
    }
   ],
   "source": [
    "for i in range(10,0,-3) :\n",
    "    print(f\"{i}헬로\")\n",
    "#Range 의미 : 10부터 0 사이, -3씩 start, end, step"
   ]
  },
  {
   "cell_type": "code",
   "execution_count": 22,
   "id": "1f84b995",
   "metadata": {},
   "outputs": [
    {
     "name": "stdout",
     "output_type": "stream",
     "text": [
      "55\n"
     ]
    }
   ],
   "source": [
    "#for 반복문과 range()함수를 사용해서 1~10합을 출력\n",
    "sum = 0\n",
    "for i in range (1,10+1):\n",
    "    \n",
    "    sum = sum+i\n",
    "print(sum)"
   ]
  },
  {
   "cell_type": "code",
   "execution_count": 25,
   "id": "bf3dee3d",
   "metadata": {},
   "outputs": [
    {
     "name": "stdout",
     "output_type": "stream",
     "text": [
      "3628800\n"
     ]
    }
   ],
   "source": [
    "#for 반복문과 range()함수를 사용해서 1~10곱\n",
    "multi = 1\n",
    "for i in range (1,10+1):\n",
    "    \n",
    "    multi = multi*i\n",
    "print(multi)"
   ]
  },
  {
   "cell_type": "code",
   "execution_count": null,
   "id": "11d99e53",
   "metadata": {},
   "outputs": [],
   "source": [
    "#구구단 출력 문자"
   ]
  },
  {
   "cell_type": "code",
   "execution_count": null,
   "id": "d7ff8335",
   "metadata": {},
   "outputs": [],
   "source": [
    "while 조건 : \n",
    "    반복할 문장들\n",
    "    "
   ]
  },
  {
   "cell_type": "code",
   "execution_count": null,
   "id": "3c22f738",
   "metadata": {},
   "outputs": [
    {
     "name": "stdout",
     "output_type": "stream",
     "text": [
      "1번째 헬로\n",
      "2번째 헬로\n",
      "3번째 헬로\n",
      "4번째 헬로\n",
      "5번째 헬로\n"
     ]
    }
   ],
   "source": [
    "i = 1\n",
    "while i <=5:\n",
    "    print(f\"{i}번째 헬로\")\n",
    "    i = i +1"
   ]
  },
  {
   "cell_type": "code",
   "execution_count": null,
   "id": "550d146b",
   "metadata": {},
   "outputs": [
    {
     "name": "stdout",
     "output_type": "stream",
     "text": [
      "15\n"
     ]
    }
   ],
   "source": [
    "#while문을 이용해 1-사용자부터 입력받은 정수값까지 합\n",
    "\n",
    "sum = 0\n",
    "i = 1\n",
    "while i <=5:\n",
    "    sum = sum+i\n",
    "    i = i+1\n",
    "print(sum)"
   ]
  },
  {
   "cell_type": "code",
   "execution_count": 7,
   "id": "011ddc00",
   "metadata": {},
   "outputs": [
    {
     "name": "stdout",
     "output_type": "stream",
     "text": [
      "362880\n"
     ]
    }
   ],
   "source": [
    "#while문을 이용해 1~입력받은 정수값까지 곱\n",
    "num = int(input(\"숫자를 입력하세요\"))\n",
    "multi = 1\n",
    "i = 1\n",
    "while i < num:\n",
    "    multi = multi*i\n",
    "    i = i+1\n",
    "print(multi)"
   ]
  },
  {
   "cell_type": "code",
   "execution_count": 20,
   "id": "0a2b00f5",
   "metadata": {},
   "outputs": [
    {
     "name": "stdout",
     "output_type": "stream",
     "text": [
      "2 * 1 = 2\n",
      "2 * 2 = 2\n",
      "2 * 3 = 2\n",
      "2 * 4 = 2\n",
      "2 * 5 = 2\n",
      "2 * 6 = 2\n",
      "2 * 7 = 2\n",
      "2 * 8 = 2\n",
      "2 * 9 = 2\n"
     ]
    }
   ],
   "source": [
    "#while문을 이용해 1~입력받은 구구단\n",
    "#입력 숫자 * 반복숫자 = 최종값\n",
    "\n",
    "num = int(input(\"숫자를 입력하세요\"))\n",
    "i = 1\n",
    "result=num*i\n",
    "\n",
    "while i <=9:\n",
    "    print(f\"{num} * {i} = {result}\")\n",
    "    i += 1"
   ]
  },
  {
   "cell_type": "code",
   "execution_count": 21,
   "id": "b9fa6927",
   "metadata": {},
   "outputs": [],
   "source": [
    "#while은 변수를 잘 모를 때 씀. 예를 들어서 사용자의 입력에 따라 action이 필요할따~"
   ]
  },
  {
   "cell_type": "markdown",
   "id": "ce021b35",
   "metadata": {},
   "source": [
    "break, continue"
   ]
  },
  {
   "cell_type": "code",
   "execution_count": 29,
   "id": "4dcb65fa",
   "metadata": {},
   "outputs": [
    {
     "name": "stdout",
     "output_type": "stream",
     "text": [
      "정수: 6, 합계 :21\n"
     ]
    }
   ],
   "source": [
    "#1부터 10까지 더하되, 합이 20이상되는 정수값! 더하다 스톱~~\n",
    "\n",
    "sum = 0\n",
    "for i in range(1,10+1,+1):\n",
    "    sum +=i\n",
    "    if(sum>=20):\n",
    "        print(f\"정수: {i}, 합계 :{sum}\")\n",
    "        break"
   ]
  },
  {
   "cell_type": "code",
   "execution_count": 30,
   "id": "329e6152",
   "metadata": {},
   "outputs": [
    {
     "name": "stdout",
     "output_type": "stream",
     "text": [
      "정수: 6, 합계 :21\n",
      "정수: 7, 합계 :28\n",
      "정수: 8, 합계 :36\n",
      "정수: 9, 합계 :45\n",
      "정수: 10, 합계 :55\n"
     ]
    }
   ],
   "source": [
    "sum = 0\n",
    "for i in range(1,10+1,+1):\n",
    "    sum +=i\n",
    "    if(sum>=20):\n",
    "        print(f\"정수: {i}, 합계 :{sum}\")"
   ]
  },
  {
   "cell_type": "code",
   "execution_count": 31,
   "id": "d6f1fd94",
   "metadata": {},
   "outputs": [
    {
     "name": "stdout",
     "output_type": "stream",
     "text": [
      "0 1 2 3 4 5 6 7 8 9 "
     ]
    }
   ],
   "source": [
    "for i in range(10):\n",
    "    print(i, end=\" \")"
   ]
  },
  {
   "cell_type": "code",
   "execution_count": null,
   "id": "2bbea239",
   "metadata": {},
   "outputs": [
    {
     "name": "stdout",
     "output_type": "stream",
     "text": [
      "1 2 4 5 7 8 "
     ]
    }
   ],
   "source": [
    "#맞는 조건까지 산출해~\n",
    "for i in range(10):\n",
    "    if i%3==0:\n",
    "        continue\n",
    "    print(i, end=\" \")"
   ]
  },
  {
   "cell_type": "code",
   "execution_count": 37,
   "id": "a4336a5f",
   "metadata": {},
   "outputs": [
    {
     "name": "stdout",
     "output_type": "stream",
     "text": [
      "업!\n",
      "업!\n",
      "다운!\n",
      "다운!\n",
      "업!\n",
      "업!\n",
      "다운!\n",
      "다운!\n",
      "다운!\n",
      "다운!\n",
      "다운!\n",
      "업!\n",
      "정답입니다! 13번만에 성공했습니다!\n"
     ]
    }
   ],
   "source": [
    "import random\n",
    "answer=random.randint(1,100)\n",
    "\n",
    "i=0\n",
    "\n",
    "while True:\n",
    "    user=int(input(\"숫자를 입력하세요\"))\n",
    "    i+=1\n",
    "\n",
    "    if user <answer:\n",
    "        print(\"업!\")\n",
    "    elif user >answer:\n",
    "        print(\"다운!\")\n",
    "    else:\n",
    "        print(f\"정답입니다! {i}번만에 성공했습니다!\")\n",
    "        break\n",
    "\n"
   ]
  },
  {
   "cell_type": "code",
   "execution_count": null,
   "id": "a91cd982",
   "metadata": {},
   "outputs": [],
   "source": [
    "#업앤다운 게임을 만들자\n",
    "\n",
    "사용자가 입력해야해 > 입력요청을 만들어야 겠네 input 넣자 input은 숫자로 입력되어야 하니까 int 쓰고...\n",
    "(사용자가 한글로 넣으면 어떻하지?? 나중에 오표기 알람 넣자)\n",
    "\n",
    "입력하면 업/다운을 표기하고 맞추면 정답을 표기\n",
    ">> if -elif - else 함수 순서대로 사용하자\n",
    "언제까지 하게 할거야? 맞출때까지 할거니까 무한 루프?? >> while true?\n",
    "답한 기록 쌓아서..몇번만에 맞추는지?입력횟수를 쌓아야 겠네...아까 sum 에서 사용했던 i+=1..."
   ]
  },
  {
   "cell_type": "code",
   "execution_count": 48,
   "id": "9f8c19e3",
   "metadata": {},
   "outputs": [
    {
     "name": "stdout",
     "output_type": "stream",
     "text": [
      "1 2 4 7 8 11 13 14 16 17 19 "
     ]
    }
   ],
   "source": [
    "#20보다 작은 정수 중에서 3의 배수 & 5의 배수 제외하고 출력 while true 구문 사용\n",
    "\n",
    "#3배수 : i%3==0\n",
    "#5배수 : i%5==0\n",
    "#제외 > break?\n",
    "\n",
    "for i in range(20):\n",
    "    if i%3==0 or i%5==0:\n",
    "        continue\n",
    "    print(i, end=\" \")\n",
    "\n",
    "\n"
   ]
  },
  {
   "cell_type": "code",
   "execution_count": 47,
   "id": "e3594bd7",
   "metadata": {},
   "outputs": [
    {
     "name": "stdout",
     "output_type": "stream",
     "text": [
      "1 2 4 7 8 11 13 14 16 17 19 "
     ]
    }
   ],
   "source": [
    "i=0\n",
    "while True:\n",
    "    i +=1\n",
    "    if i>=20:\n",
    "        break\n",
    "    if i % 3 ==0 or i%5==0:\n",
    "        continue\n",
    "    print(i,end=\" \")"
   ]
  },
  {
   "cell_type": "code",
   "execution_count": 58,
   "id": "b394d511",
   "metadata": {},
   "outputs": [
    {
     "name": "stdout",
     "output_type": "stream",
     "text": [
      "2단\n",
      "2*1=2\n",
      "2*2=4\n",
      "2*3=6\n",
      "2*4=8\n",
      "2*5=10\n",
      "2*6=12\n",
      "2*7=14\n",
      "2*8=16\n",
      "2*9=18\n",
      "3단\n",
      "3*1=3\n",
      "3*2=6\n",
      "3*3=9\n",
      "3*4=12\n",
      "3*5=15\n",
      "3*6=18\n",
      "3*7=21\n",
      "3*8=24\n",
      "3*9=27\n",
      "4단\n",
      "4*1=4\n",
      "4*2=8\n",
      "4*3=12\n",
      "4*4=16\n",
      "4*5=20\n",
      "4*6=24\n",
      "4*7=28\n",
      "4*8=32\n",
      "4*9=36\n",
      "5단\n",
      "5*1=5\n",
      "5*2=10\n",
      "5*3=15\n",
      "5*4=20\n",
      "5*5=25\n",
      "5*6=30\n",
      "5*7=35\n",
      "5*8=40\n",
      "5*9=45\n",
      "6단\n",
      "6*1=6\n",
      "6*2=12\n",
      "6*3=18\n",
      "6*4=24\n",
      "6*5=30\n",
      "6*6=36\n",
      "6*7=42\n",
      "6*8=48\n",
      "6*9=54\n",
      "7단\n",
      "7*1=7\n",
      "7*2=14\n",
      "7*3=21\n",
      "7*4=28\n",
      "7*5=35\n",
      "7*6=42\n",
      "7*7=49\n",
      "7*8=56\n",
      "7*9=63\n",
      "8단\n",
      "8*1=8\n",
      "8*2=16\n",
      "8*3=24\n",
      "8*4=32\n",
      "8*5=40\n",
      "8*6=48\n",
      "8*7=56\n",
      "8*8=64\n",
      "8*9=72\n",
      "9단\n",
      "9*1=9\n",
      "9*2=18\n",
      "9*3=27\n",
      "9*4=36\n",
      "9*5=45\n",
      "9*6=54\n",
      "9*7=63\n",
      "9*8=72\n",
      "9*9=81\n"
     ]
    }
   ],
   "source": [
    "#중첩반복문 / 2-9단까지 출력\n",
    "for dan in range (2,10):\n",
    "    print(f\"{dan}단\")\n",
    "    for i in range (1,9+1):\n",
    "        print(f\"{dan}*{i}={dan*i}\")"
   ]
  },
  {
   "cell_type": "code",
   "execution_count": 70,
   "id": "f895ec70",
   "metadata": {},
   "outputs": [
    {
     "name": "stdout",
     "output_type": "stream",
     "text": [
      "\n",
      "2단:2 4 6 8 10 12 14 16 18 \n",
      "3단:3 6 9 12 15 18 21 24 27 \n",
      "4단:4 8 12 16 20 24 28 32 36 \n",
      "5단:5 10 15 20 25 30 35 40 45 \n",
      "6단:6 12 18 24 30 36 42 48 54 \n",
      "7단:7 14 21 28 35 42 49 56 63 \n",
      "8단:8 16 24 32 40 48 56 64 72 \n",
      "9단:9 18 27 36 45 54 63 72 81 "
     ]
    }
   ],
   "source": [
    "for dan in range (2,10):\n",
    "    print(f\"\\n{dan}단:\", end=\"\")\n",
    "    for i in range (1,9+1):\n",
    "        print(f\"{dan*i}\",end=\" \",)\n",
    "     "
   ]
  },
  {
   "cell_type": "code",
   "execution_count": 68,
   "id": "5e93ed9e",
   "metadata": {},
   "outputs": [
    {
     "name": "stdout",
     "output_type": "stream",
     "text": [
      "\n",
      "--- 2단 ---\n",
      "2 * 1 = 2\n",
      "2 * 2 = 4\n",
      "2 * 3 = 6\n",
      "2 * 4 = 8\n",
      "2 * 5 = 10\n",
      "2 * 6 = 12\n",
      "2 * 7 = 14\n",
      "2 * 8 = 16\n",
      "2 * 9 = 18\n",
      "\n",
      "--- 3단 ---\n",
      "3 * 1 = 3\n",
      "3 * 2 = 6\n",
      "3 * 3 = 9\n",
      "3 * 4 = 12\n",
      "3 * 5 = 15\n",
      "3 * 6 = 18\n",
      "3 * 7 = 21\n",
      "3 * 8 = 24\n",
      "3 * 9 = 27\n",
      "\n",
      "--- 4단 ---\n",
      "4 * 1 = 4\n",
      "4 * 2 = 8\n",
      "4 * 3 = 12\n",
      "4 * 4 = 16\n",
      "4 * 5 = 20\n",
      "4 * 6 = 24\n",
      "4 * 7 = 28\n",
      "4 * 8 = 32\n",
      "4 * 9 = 36\n",
      "\n",
      "--- 5단 ---\n",
      "5 * 1 = 5\n",
      "5 * 2 = 10\n",
      "5 * 3 = 15\n",
      "5 * 4 = 20\n",
      "5 * 5 = 25\n",
      "5 * 6 = 30\n",
      "5 * 7 = 35\n",
      "5 * 8 = 40\n",
      "5 * 9 = 45\n",
      "\n",
      "--- 6단 ---\n",
      "6 * 1 = 6\n",
      "6 * 2 = 12\n",
      "6 * 3 = 18\n",
      "6 * 4 = 24\n",
      "6 * 5 = 30\n",
      "6 * 6 = 36\n",
      "6 * 7 = 42\n",
      "6 * 8 = 48\n",
      "6 * 9 = 54\n",
      "\n",
      "--- 7단 ---\n",
      "7 * 1 = 7\n",
      "7 * 2 = 14\n",
      "7 * 3 = 21\n",
      "7 * 4 = 28\n",
      "7 * 5 = 35\n",
      "7 * 6 = 42\n",
      "7 * 7 = 49\n",
      "7 * 8 = 56\n",
      "7 * 9 = 63\n",
      "\n",
      "--- 8단 ---\n",
      "8 * 1 = 8\n",
      "8 * 2 = 16\n",
      "8 * 3 = 24\n",
      "8 * 4 = 32\n",
      "8 * 5 = 40\n",
      "8 * 6 = 48\n",
      "8 * 7 = 56\n",
      "8 * 8 = 64\n",
      "8 * 9 = 72\n",
      "\n",
      "--- 9단 ---\n",
      "9 * 1 = 9\n",
      "9 * 2 = 18\n",
      "9 * 3 = 27\n",
      "9 * 4 = 36\n",
      "9 * 5 = 45\n",
      "9 * 6 = 54\n",
      "9 * 7 = 63\n",
      "9 * 8 = 72\n",
      "9 * 9 = 81\n"
     ]
    }
   ],
   "source": [
    "# 2단부터 9단까지 반복\n",
    "for dan in range(2, 10):\n",
    "    print(f\"\\n--- {dan}단 ---\")\n",
    "    \n",
    "    # 1부터 9까지 반복하며 곱하기\n",
    "    for num in range(1, 10):\n",
    "        result = dan * num\n",
    "        print(f\"{dan} * {num} = {result}\")"
   ]
  },
  {
   "cell_type": "code",
   "execution_count": 132,
   "id": "65b9ac2a",
   "metadata": {},
   "outputs": [
    {
     "name": "stdout",
     "output_type": "stream",
     "text": [
      "              *              \n",
      "             ***             \n",
      "            *****            \n",
      "           ****a**           \n",
      "          *********          \n",
      "         **a********         \n",
      "        *******a*****        \n",
      "       a********a*****       \n",
      "      ******a**********      \n",
      "     a*******a**********     \n",
      "    ****a****************    \n",
      "   *****a*****************   \n",
      "  *****a*a************a****  \n",
      " *******a******a****a******* \n"
     ]
    }
   ],
   "source": [
    "# for k in range(1,28,2):\n",
    "#     for i in range ((27-k)//2):\n",
    "#         print(\" \",end=\"\")\n",
    "#     for i in range(k) :\n",
    "#         print(\"*\",end=\"\")\n",
    "#     print()\n",
    "import random\n",
    "\n",
    "for k in range(1,28,2):\n",
    "    # s = \"*\" * k\n",
    "    s = \"\"\n",
    "    for _ in range(k) :\n",
    "        if random.random() < 0.1:\n",
    "            s += \"a\"\n",
    "        else:\n",
    "            s += \"*\"\n",
    "    while len(s) <= 27:\n",
    "        s = \" \" + s + \" \"\n",
    "    print(s)"
   ]
  },
  {
   "cell_type": "code",
   "execution_count": 151,
   "id": "a618f278",
   "metadata": {},
   "outputs": [
    {
     "name": "stdout",
     "output_type": "stream",
     "text": [
      "            *            \n",
      "           ***           \n",
      "          *****          \n",
      "         *******         \n",
      "        *********        \n",
      "       ***********       \n",
      "      *************      \n",
      "     ***************     \n",
      "    *****************    \n",
      "   *******************   \n",
      "  *********************  \n",
      " *********************** \n",
      "*************************\n"
     ]
    }
   ],
   "source": [
    "# for k in range(1,28,2):\n",
    "#     for i in range ((27-k)//2):\n",
    "#         print(\" \",end=\"\")\n",
    "#     for i in range(k) :\n",
    "#         print(\"*\",end=\"\")\n",
    "#     print()\n",
    "\n",
    "h = 13\n",
    "for kk in range (h):\n",
    "    k = 2*kk + 1\n",
    "    s=\"\"\n",
    "    for _ in range (k):\n",
    "        s=\"*\"+s\n",
    "    while len(s) <h*2-1:\n",
    "        s=\" \" + s + \" \"\n",
    "    print(s)"
   ]
  },
  {
   "cell_type": "code",
   "execution_count": 152,
   "id": "86412940",
   "metadata": {},
   "outputs": [
    {
     "name": "stdout",
     "output_type": "stream",
     "text": [
      "             *\n",
      "            ***\n",
      "           *****\n",
      "          *******\n",
      "         *********\n",
      "        ***********\n",
      "       *************\n",
      "      ***************\n",
      "     *****************\n",
      "    *******************\n",
      "   *********************\n",
      "  ***********************\n",
      " *************************\n",
      "***************************\n"
     ]
    }
   ],
   "source": [
    "for k in range(1,28,2):\n",
    "    for i in range ((27-k)//2):\n",
    "        print(\" \",end=\"\")\n",
    "    for i in range(k) :\n",
    "        print(\"*\",end=\"\")\n",
    "    print()"
   ]
  },
  {
   "cell_type": "code",
   "execution_count": null,
   "id": "064bc46e",
   "metadata": {},
   "outputs": [],
   "source": []
  },
  {
   "cell_type": "code",
   "execution_count": null,
   "id": "80f4d8f6",
   "metadata": {},
   "outputs": [],
   "source": []
  }
 ],
 "metadata": {
  "kernelspec": {
   "display_name": "Python 3",
   "language": "python",
   "name": "python3"
  },
  "language_info": {
   "codemirror_mode": {
    "name": "ipython",
    "version": 3
   },
   "file_extension": ".py",
   "mimetype": "text/x-python",
   "name": "python",
   "nbconvert_exporter": "python",
   "pygments_lexer": "ipython3",
   "version": "3.11.9"
  }
 },
 "nbformat": 4,
 "nbformat_minor": 5
}
