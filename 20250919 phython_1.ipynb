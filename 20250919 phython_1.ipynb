{
 "cells": [
  {
   "cell_type": "markdown",
   "id": "0991a709",
   "metadata": {},
   "source": [
    "2025-09-19"
   ]
  },
  {
   "cell_type": "code",
   "execution_count": 1,
   "id": "fc9ca074",
   "metadata": {},
   "outputs": [
    {
     "name": "stdout",
     "output_type": "stream",
     "text": [
      "파이선 스타트!\n"
     ]
    }
   ],
   "source": [
    "print(\"파이선 스타트!\")"
   ]
  }
 ],
 "metadata": {
  "kernelspec": {
   "display_name": "Python 3",
   "language": "python",
   "name": "python3"
  },
  "language_info": {
   "codemirror_mode": {
    "name": "ipython",
    "version": 3
   },
   "file_extension": ".py",
   "mimetype": "text/x-python",
   "name": "python",
   "nbconvert_exporter": "python",
   "pygments_lexer": "ipython3",
   "version": "3.11.9"
  }
 },
 "nbformat": 4,
 "nbformat_minor": 5
}
