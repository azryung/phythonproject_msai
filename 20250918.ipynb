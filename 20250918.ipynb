{
 "cells": [
  {
   "cell_type": "code",
   "execution_count": 4,
   "id": "6e3bca53",
   "metadata": {},
   "outputs": [
    {
     "name": "stdout",
     "output_type": "stream",
     "text": [
      "1.깃헙 동기화 - VS\n"
     ]
    }
   ],
   "source": [
    "print(\"1.깃헙 동기화 - VS\")"
   ]
  },
  {
   "cell_type": "code",
   "execution_count": 5,
   "id": "1a0980a3",
   "metadata": {},
   "outputs": [
    {
     "name": "stdout",
     "output_type": "stream",
     "text": [
      "2.깃헙commit전에 반드시 저장\n"
     ]
    }
   ],
   "source": [
    "print(\"2.깃헙commit전에 반드시 저장\")"
   ]
  }
 ],
 "metadata": {
  "kernelspec": {
   "display_name": "Python 3",
   "language": "python",
   "name": "python3"
  },
  "language_info": {
   "codemirror_mode": {
    "name": "ipython",
    "version": 3
   },
   "file_extension": ".py",
   "mimetype": "text/x-python",
   "name": "python",
   "nbconvert_exporter": "python",
   "pygments_lexer": "ipython3",
   "version": "3.11.9"
  }
 },
 "nbformat": 4,
 "nbformat_minor": 5
}
