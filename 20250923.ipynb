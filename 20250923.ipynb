{
 "cells": [
  {
   "cell_type": "code",
   "execution_count": null,
   "id": "fcf1574e",
   "metadata": {},
   "outputs": [],
   "source": [
    "#map - 앞에 놓침 ㅋㅋ 뭐였을까 \n",
    "#map (function, iterable)\n",
    "# - 인자로 function을 받고 / iterable 반복가능한 변수를 또 다른 인자로 받음.\n",
    "# 즉 fuction에 iterable의 item들을 인자로 받아서 map이 실행\n",
    "# fuction의 parameter  수만큼? >> 이게 무슨 의미일까"
   ]
  },
  {
   "cell_type": "code",
   "execution_count": null,
   "id": "e4adb36a",
   "metadata": {},
   "outputs": [
    {
     "name": "stdout",
     "output_type": "stream",
     "text": [
      "result1: [2, 3, 4, 5, 6]\n"
     ]
    }
   ],
   "source": [
    "mylist = [1,2,3,4,5] #> 2,3,4,5,6 으로 수정해서 만들어라\n",
    "\n",
    "#for 반복문 이용\n",
    "result1=[]\n",
    "for i in mylist:\n",
    "    result1.append(i+1)\n",
    "print(f'result1: {result1}')\n",
    "\n",
    "# result =[] ---> 빈 바구니\n",
    "# result.append --> 빈 바구니에 넣겠습니다\n",
    "# 뭘 넣을래? i 넣을 건데요\n",
    "# i가 뭔데? mylist 에 있는 거 참고해서 넣겠습니당\n",
    "# 거기게 i+1씩 넣을거에욧\n",
    "# 출력해주세요 결과값은 리스트로~"
   ]
  },
  {
   "cell_type": "code",
   "execution_count": 3,
   "id": "a6ad5e50",
   "metadata": {},
   "outputs": [
    {
     "data": {
      "text/plain": [
       "[2, 3, 4, 5, 6]"
      ]
     },
     "execution_count": 3,
     "metadata": {},
     "output_type": "execute_result"
    }
   ],
   "source": [
    "mylist = [1,2,3,4,5] #> 2,3,4,5,6 으로 수정해서 만들어라\n",
    "\n",
    "def add_one(n):\n",
    "    return n+1\n",
    "\n",
    "result = list(map(add_one,mylist))\n",
    "result"
   ]
  },
  {
   "cell_type": "code",
   "execution_count": 4,
   "id": "8257f2de",
   "metadata": {},
   "outputs": [
    {
     "data": {
      "text/plain": [
       "[3, -6, 100, 26]"
      ]
     },
     "execution_count": 4,
     "metadata": {},
     "output_type": "execute_result"
    }
   ],
   "source": [
    "mylist = [3.14, -5.6,100.4,25.7]\n",
    "\n",
    "result = list(map(round,mylist))\n",
    "result"
   ]
  },
  {
   "cell_type": "code",
   "execution_count": 6,
   "id": "8c8110b2",
   "metadata": {},
   "outputs": [],
   "source": [
    "#람다함수 익명함수\n",
    "#이름이 없어요 > 코드 간단! 메모리 절약!\n",
    "\n",
    "# def 함수이름(매개변수) :\n",
    "#  return 결과\n",
    "#\n",
    "# 람다로 변환하면>>>  람다 lambda 매개변수 : 결과"
   ]
  },
  {
   "cell_type": "code",
   "execution_count": 1,
   "id": "e6169fab",
   "metadata": {},
   "outputs": [
    {
     "data": {
      "text/plain": [
       "[2, 3, 4, 5, 6]"
      ]
     },
     "execution_count": 1,
     "metadata": {},
     "output_type": "execute_result"
    }
   ],
   "source": [
    "mylist = [1,2,3,4,5] #> 2,3,4,5,6 으로 수정해서 만들어라\n",
    "\n",
    "result = list(map(lambda x:x+1,mylist))\n",
    "result"
   ]
  },
  {
   "cell_type": "code",
   "execution_count": 2,
   "id": "02f6b739",
   "metadata": {},
   "outputs": [
    {
     "data": {
      "text/plain": [
       "[1, 4, 9, 16, 25]"
      ]
     },
     "execution_count": 2,
     "metadata": {},
     "output_type": "execute_result"
    }
   ],
   "source": [
    "mylist = [1,2,3,4,5] #> 2,3,4,5,6 으로 수정해서 만들어라\n",
    "\n",
    "result = list(map(lambda x:x**2,mylist))\n",
    "result"
   ]
  },
  {
   "cell_type": "code",
   "execution_count": 3,
   "id": "62c49a13",
   "metadata": {},
   "outputs": [
    {
     "data": {
      "text/plain": [
       "[4]"
      ]
     },
     "execution_count": 3,
     "metadata": {},
     "output_type": "execute_result"
    }
   ],
   "source": [
    "list(filter(lambda x: x>3 and x<5,mylist))"
   ]
  },
  {
   "cell_type": "code",
   "execution_count": 4,
   "id": "3c47fed9",
   "metadata": {},
   "outputs": [
    {
     "name": "stdout",
     "output_type": "stream",
     "text": [
      "[1, 4, 9, 16]\n"
     ]
    }
   ],
   "source": [
    "numbers = [1,2,3,4]\n",
    "squared = list(map(lambda x:x**2,numbers))\n",
    "print(squared)"
   ]
  },
  {
   "cell_type": "code",
   "execution_count": 7,
   "id": "ff7d1b26",
   "metadata": {},
   "outputs": [
    {
     "name": "stdout",
     "output_type": "stream",
     "text": [
      "[2, 4, 6]\n"
     ]
    }
   ],
   "source": [
    "numbers = [1,2,3,4,5,6]\n",
    "even_numbers = list(filter(lambda x:x%2==0,numbers))\n",
    "print(even_numbers)"
   ]
  },
  {
   "cell_type": "code",
   "execution_count": 8,
   "id": "f334471e",
   "metadata": {},
   "outputs": [
    {
     "ename": "NameError",
     "evalue": "name 'sorted_points' is not defined",
     "output_type": "error",
     "traceback": [
      "\u001b[31m---------------------------------------------------------------------------\u001b[39m",
      "\u001b[31mNameError\u001b[39m                                 Traceback (most recent call last)",
      "\u001b[36mCell\u001b[39m\u001b[36m \u001b[39m\u001b[32mIn[8]\u001b[39m\u001b[32m, line 2\u001b[39m\n\u001b[32m      1\u001b[39m points = [(\u001b[32m1\u001b[39m,\u001b[32m2\u001b[39m), (\u001b[32m3\u001b[39m,\u001b[32m4\u001b[39m), (\u001b[32m5\u001b[39m,\u001b[32m6\u001b[39m)]\n\u001b[32m----> \u001b[39m\u001b[32m2\u001b[39m \u001b[43msorted_points\u001b[49m\n",
      "\u001b[31mNameError\u001b[39m: name 'sorted_points' is not defined"
     ]
    }
   ],
   "source": [
    "points = [(1,2), (3,4), (5,6)]\n",
    "sorted_points"
   ]
  },
  {
   "cell_type": "code",
   "execution_count": null,
   "id": "fc0e3df4",
   "metadata": {},
   "outputs": [
    {
     "data": {
      "text/plain": [
       "[6, 5, 4, 3, 2, 1]"
      ]
     },
     "execution_count": 9,
     "metadata": {},
     "output_type": "execute_result"
    }
   ],
   "source": [
    "sorted(numbers, reverse=True) #sorted는 원본을 건들이지 않고 새로운 리스트 생성 가능"
   ]
  },
  {
   "cell_type": "code",
   "execution_count": 10,
   "id": "46f6c5f5",
   "metadata": {},
   "outputs": [],
   "source": [
    "fruits =['apple', 'banana','cherry','date','pear']"
   ]
  },
  {
   "cell_type": "code",
   "execution_count": null,
   "id": "2fcebd0f",
   "metadata": {},
   "outputs": [
    {
     "data": {
      "text/plain": [
       "['date', 'pear', 'apple', 'banana', 'cherry']"
      ]
     },
     "execution_count": 12,
     "metadata": {},
     "output_type": "execute_result"
    }
   ],
   "source": [
    "myfruits = sorted(fruits, key=len) #뒤에 조건을 붙이는 식으로 정렬조건을 맞출 수 있음.\n",
    "myfruits"
   ]
  },
  {
   "cell_type": "code",
   "execution_count": 18,
   "id": "730d6dd9",
   "metadata": {},
   "outputs": [
    {
     "name": "stdout",
     "output_type": "stream",
     "text": [
      "[75.0, 75.0, 40.0, 95.0, 95.0, 100.0, 20.0]\n"
     ]
    }
   ],
   "source": [
    "###>> 뭘 꺼낸다는 건지 모르겠다 ㅋㅋㄴ11시 20분 쯤 수업\n",
    "\n",
    "##영어접수와 수학점수 평균 점수 기준으로 등수 매긴다. 영어-수학 리스트가 있음. 평균 기준으로 매긴 등수를 담은 리스트를 리턴하도록 함수를 만들어 주세요.\n",
    "#sorted 함수 사용 해서 rank 함수 만드는 거임.\n",
    "#첫 번째로 평균이 계산되도록 함수를 만들어 줘야겠고\n",
    "#그다음 평균 계산된 걸 리스트로 print\n",
    "#리스트에서 몇 등인지 몇번째 인지 ?\n",
    "\n",
    "score1 = [[80,70],[70,80],[30,50],[90,100],[100,90],[100,100],[10,30]]\n",
    "\n",
    "#반복문 사용!! 왜냐 리스트에 있는 거 계속 반복적으로 평균으로 변환해줘야 하니까.\n",
    "list_average = []\n",
    "\n",
    "for score in score1:\n",
    "    average = sum(score)/len(score)\n",
    "    list_average.append(average)\n",
    "\n",
    "print(list_average)\n",
    "\n"
   ]
  },
  {
   "cell_type": "code",
   "execution_count": 23,
   "id": "d922609d",
   "metadata": {},
   "outputs": [
    {
     "name": "stdout",
     "output_type": "stream",
     "text": [
      "[100.0, 95.0, 95.0, 75.0, 75.0, 40.0, 20.0]\n"
     ]
    }
   ],
   "source": [
    "avg_sort=sorted(list_average,reverse=True)\n",
    "print(avg_sort)"
   ]
  },
  {
   "cell_type": "code",
   "execution_count": null,
   "id": "da2b81d2",
   "metadata": {},
   "outputs": [
    {
     "name": "stdout",
     "output_type": "stream",
     "text": [
      "[4, 4, 6, 2, 2, 1, 7]\n"
     ]
    }
   ],
   "source": [
    "## 인덱스는 리스트 상에 있는 숫자가 위치? 몇번째? 인지 표기하는 셈...\n",
    "##즉 등수 찾을 때 유의미한게 같은 숫자가 있으면 같은 숫자 위치를 반복적으로 셀 수 있어서..\n",
    "\n",
    "result = []\n",
    "for i in list_average:\n",
    "    result.append(avg_sort.index(i)+1)\n",
    "print(result)"
   ]
  },
  {
   "cell_type": "code",
   "execution_count": 24,
   "id": "0d7fd6e5",
   "metadata": {},
   "outputs": [],
   "source": [
    "def rank(score) :\n",
    "    result = []\n",
    "    list_average = []\n",
    "\n",
    "    for score in score1:\n",
    "        average = sum(score)/len(score)\n",
    "        list_average.append(average)\n",
    "\n",
    "    avg_sort=sorted(list_average,reverse=True)\n",
    "\n",
    "    for i in list_average:\n",
    "        result.append(avg_sort.index(i)+1)\n",
    "\n",
    "    return result"
   ]
  },
  {
   "cell_type": "code",
   "execution_count": 25,
   "id": "205ee009",
   "metadata": {},
   "outputs": [
    {
     "data": {
      "text/plain": [
       "[4, 4, 6, 2, 2, 1, 7]"
      ]
     },
     "execution_count": 25,
     "metadata": {},
     "output_type": "execute_result"
    }
   ],
   "source": [
    "rank(score1)"
   ]
  },
  {
   "cell_type": "code",
   "execution_count": 30,
   "id": "8c0e935f",
   "metadata": {},
   "outputs": [],
   "source": [
    "#리스트 컴프리핸션\n",
    "\n",
    "def rank(score) :\n",
    "    \n",
    "    list_average = [sum(score)/len(score) for score in score1]\n",
    "    avg_sort=sorted(list_average,reverse=True)\n",
    "    result = [avg_sort.index(i)+1 for i in list_average]\n",
    "\n",
    "    return result"
   ]
  },
  {
   "cell_type": "code",
   "execution_count": 31,
   "id": "9a49d57f",
   "metadata": {},
   "outputs": [
    {
     "data": {
      "text/plain": [
       "[4, 4, 6, 2, 2, 1, 7]"
      ]
     },
     "execution_count": 31,
     "metadata": {},
     "output_type": "execute_result"
    }
   ],
   "source": [
    "rank(score1)"
   ]
  },
  {
   "cell_type": "code",
   "execution_count": 29,
   "id": "9b0fbeb2",
   "metadata": {},
   "outputs": [
    {
     "data": {
      "text/plain": [
       "[2, 3, 4, 5, 6, 7, 8, 9]"
      ]
     },
     "execution_count": 29,
     "metadata": {},
     "output_type": "execute_result"
    }
   ],
   "source": [
    "#소수판결함수 is_prime()\n",
    "[2,3,4,5,6,7,8,9]"
   ]
  },
  {
   "cell_type": "markdown",
   "id": "9d69972f",
   "metadata": {},
   "source": [
    "### 묘듈!"
   ]
  },
  {
   "cell_type": "code",
   "execution_count": null,
   "id": "8c3fe683",
   "metadata": {},
   "outputs": [],
   "source": [
    "import random #>>모듈을 부르는 말 import"
   ]
  },
  {
   "cell_type": "code",
   "execution_count": null,
   "id": "78899037",
   "metadata": {},
   "outputs": [
    {
     "data": {
      "text/plain": [
       "88"
      ]
     },
     "execution_count": 33,
     "metadata": {},
     "output_type": "execute_result"
    }
   ],
   "source": [
    "random.randint(1,100) #>>모듈의 기능 중에서 randint 라는 숫자추출 기능을 활용."
   ]
  },
  {
   "cell_type": "code",
   "execution_count": null,
   "id": "0e5f7228",
   "metadata": {},
   "outputs": [
    {
     "data": {
      "text/plain": [
       "61"
      ]
     },
     "execution_count": 34,
     "metadata": {},
     "output_type": "execute_result"
    }
   ],
   "source": [
    "import random\n",
    "random.randint(1,100)  ##> 줄여서 할 경우 import random as r 로 앞으로 random은 r로 하겠다고 천명해도 됨."
   ]
  },
  {
   "cell_type": "code",
   "execution_count": null,
   "id": "9e209030",
   "metadata": {},
   "outputs": [
    {
     "data": {
      "text/plain": [
       "[2]"
      ]
     },
     "execution_count": 39,
     "metadata": {},
     "output_type": "execute_result"
    }
   ],
   "source": [
    "; from random import randint, randrange, sample  # randint만 쓰겠다고 줄임말 설정한 셈\n",
    "; randint(1,100)\n",
    "; randrange (1,10)\n",
    "; sample([1,2,3],1)\n",
    "\n",
    "## 단점 : 내장함수랑 겹치는 경우가 생길수도 있다~"
   ]
  },
  {
   "cell_type": "code",
   "execution_count": 18,
   "id": "c3467783",
   "metadata": {},
   "outputs": [
    {
     "name": "stdout",
     "output_type": "stream",
     "text": [
      "[40, 6, 42, 39, 24, 9]\n"
     ]
    }
   ],
   "source": [
    "#행운번호 추첨기 무작위 6개\n",
    "\n",
    "import random\n",
    "\n",
    "result =[]\n",
    "for i in range(6):  #>> 중복값이 나오는 걸 거르지 못함. while로 가야함\n",
    "    num = random.randint(1,45)  #>중복되면 안됨.\n",
    "    if num not in result:\n",
    "        result.append(num)\n",
    "\n",
    "print(result)\n",
    "\n"
   ]
  },
  {
   "cell_type": "code",
   "execution_count": 19,
   "id": "d5e49d20",
   "metadata": {},
   "outputs": [
    {
     "name": "stdout",
     "output_type": "stream",
     "text": [
      "[22, 16, 9, 31, 21, 12]\n"
     ]
    }
   ],
   "source": [
    "import random\n",
    "\n",
    "result =[]\n",
    "while len(result) <6 :\n",
    "    num = random.randint(1,45)\n",
    "    if num not in result:\n",
    "        result.append(num)\n",
    "\n",
    "print(result)"
   ]
  },
  {
   "cell_type": "code",
   "execution_count": null,
   "id": "5aa5425f",
   "metadata": {},
   "outputs": [],
   "source": [
    "#함수만들기 : def , 조건문, 랜점, 딕셔너리, 등 사용\n",
    "#checkWin / countinueConfirm 함수 만들어서 실행\n",
    "##>> 도전 미션에서 확인\n",
    "\n",
    "##같은 디렉토리 내에서 사용자정의 모듈을 만들고 > 다른 페이지에서 불러다 쓸 수 있음."
   ]
  },
  {
   "cell_type": "code",
   "execution_count": 1,
   "id": "24cc0760",
   "metadata": {},
   "outputs": [
    {
     "name": "stdout",
     "output_type": "stream",
     "text": [
      "-1\n"
     ]
    }
   ],
   "source": [
    "import mymodule\n",
    "print(mymodule.my_sub(1,2))"
   ]
  },
  {
   "cell_type": "markdown",
   "id": "70e43975",
   "metadata": {},
   "source": [
    "## 클래스"
   ]
  },
  {
   "cell_type": "code",
   "execution_count": 2,
   "id": "d2f71f57",
   "metadata": {},
   "outputs": [],
   "source": [
    "# 똑같은 것을 찍어낼 수 있는 틀\n",
    "# 그 틀에서 나온 애 = 객체. 객체마다 고유한 성격이 있음!"
   ]
  },
  {
   "cell_type": "code",
   "execution_count": 3,
   "id": "f77ec0fb",
   "metadata": {},
   "outputs": [],
   "source": [
    "# class Person:\n",
    "#     def __init__ > 클래스를 사용할때는 함수 선언할때 꼭 __init__ 를 써줘야 함약속!\n"
   ]
  },
  {
   "cell_type": "code",
   "execution_count": 4,
   "id": "f9ce5bbe",
   "metadata": {},
   "outputs": [],
   "source": [
    "class Person:\n",
    "    def __init__(self,name,age):\n",
    "        self.name = name\n",
    "        self.age = age\n",
    "    def walk(self): \n",
    "        print(f'{self.name}이 걸어가요')"
   ]
  },
  {
   "cell_type": "code",
   "execution_count": 5,
   "id": "e23b2587",
   "metadata": {},
   "outputs": [],
   "source": [
    "person1 = Person(\"박지민\", 31)"
   ]
  },
  {
   "cell_type": "code",
   "execution_count": 7,
   "id": "15622b24",
   "metadata": {},
   "outputs": [
    {
     "name": "stdout",
     "output_type": "stream",
     "text": [
      "박지민이 걸어가요\n"
     ]
    }
   ],
   "source": [
    "person1.walk()"
   ]
  },
  {
   "cell_type": "code",
   "execution_count": 9,
   "id": "31370156",
   "metadata": {},
   "outputs": [],
   "source": [
    "class Newperson(Person):\n",
    "    def fly(self):\n",
    "        print(f'{self.name} 하늘을 날아요')"
   ]
  },
  {
   "cell_type": "code",
   "execution_count": 10,
   "id": "d90bb33f",
   "metadata": {},
   "outputs": [],
   "source": [
    "person3 = Newperson(\"강호동\", 40)"
   ]
  },
  {
   "cell_type": "code",
   "execution_count": null,
   "id": "1509da69",
   "metadata": {},
   "outputs": [
    {
     "name": "stdout",
     "output_type": "stream",
     "text": [
      "강호동 하늘을 날아요\n"
     ]
    }
   ],
   "source": [
    "person3.fly()  #class는 기존의 것에 추가추가해서 기능을 업그레이드 할 수 있는 셈"
   ]
  },
  {
   "cell_type": "code",
   "execution_count": null,
   "id": "a82ba5fd",
   "metadata": {},
   "outputs": [],
   "source": []
  }
 ],
 "metadata": {
  "kernelspec": {
   "display_name": "Python 3",
   "language": "python",
   "name": "python3"
  },
  "language_info": {
   "codemirror_mode": {
    "name": "ipython",
    "version": 3
   },
   "file_extension": ".py",
   "mimetype": "text/x-python",
   "name": "python",
   "nbconvert_exporter": "python",
   "pygments_lexer": "ipython3",
   "version": "3.11.9"
  }
 },
 "nbformat": 4,
 "nbformat_minor": 5
}
