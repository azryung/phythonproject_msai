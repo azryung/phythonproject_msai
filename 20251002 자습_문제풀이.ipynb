{
 "cells": [
  {
   "cell_type": "markdown",
   "id": "1d8221cf",
   "metadata": {},
   "source": [
    "for while 중첩반복문 연습"
   ]
  },
  {
   "cell_type": "markdown",
   "id": "93dc534f",
   "metadata": {},
   "source": [
    "# for 중첩반복문 list / list method 들 연습 문제\n",
    " - https://school.programmers.co.kr/learn/courses/30/lessons/68644\n",
    " - 문제 : 정수 배열 numbers가 주어집니다. numbers에서 서로 다른 인덱스에 있는 두 개의 수를 뽑아 더해서 만들 수 있는 모든 수를 배열에 오름차순으로 담아 return 하도록 solution 함수를 완성해주세요.\n",
    "\n",
    "numbers의 길이는 2 이상 100 이하입니다.\n",
    "numbers의 모든 수는 0 이상 100 이하입니다."
   ]
  },
  {
   "cell_type": "code",
   "execution_count": null,
   "id": "449efe24",
   "metadata": {},
   "outputs": [],
   "source": [
    "def solution(numbers):\n",
    "\n",
    "    \n",
    "    # 1. 중복된 합계를 제거하기 위해 set을 사용합니다.\n",
    "    numbers_list = set()\n",
    "    n = len(numbers)\n",
    "\n",
    "    # 2. 바깥쪽 반복문: 첫 번째 숫자(i)를 선택합니다.\n",
    "    for i in range(n):\n",
    "        \n",
    "        # 3. 안쪽 반복문: i+1부터 시작하여 두 번째 숫자(j)를 선택합니다.\n",
    "        # 이렇게 하면 (0, 1)을 계산한 후 (1, 0)을 다시 계산하는 중복을 막을 수 있으며,\n",
    "        # i와 j가 같아지는 경우(같은 인덱스)를 방지할 수 있습니다.\n",
    "        for j in range(i + 1, n):\n",
    "            \n",
    "            # 두 수의 합을 계산합니다.\n",
    "            twosum = numbers[i] + numbers[j]\n",
    "            \n",
    "            # 4. 합계를 set에 추가합니다. set은 중복된 값을 자동으로 걸러줍니다.\n",
    "            numbers_list.add(twosum)\n",
    "            \n",
    "    # 5. set에 저장된 모든 합계를 list로 변환한 후 오름차순으로 정렬하여 반환합니다.\n",
    "    numbers_list = sorted(list(numbers_list))\n",
    "    \n",
    "    return numbers_list\n",
    "\n",
    "\n",
    "\n",
    "# ##for 문에서 리미트 걸때 꿀팁\n",
    "# for i in numbers 이러면 실제 안에 있는 값을 꺼내 쓰는거고\n",
    "#  --> 이건 리스트에 있는 실제 값에 연산을 계속 반복해야할 때 쓰는 거,\n",
    " \n",
    "# for index in range(len(numbers) 이러면 안에 인덱스를 꺼내쓰는거\n",
    "#  --> 즉, 이거는 리스트 안에 순서인 인덱스 123456...을 치환해서 연산해야할 때 쓸 수 있음.\n"
   ]
  },
  {
   "cell_type": "code",
   "execution_count": null,
   "id": "a4ad5eae",
   "metadata": {},
   "outputs": [
    {
     "name": "stdout",
     "output_type": "stream",
     "text": [
      "[2, 3, 4, 5, 6, 7, 8, 9]\n"
     ]
    }
   ],
   "source": [
    "test1 = [2,1,3,4,5,1,3]\n",
    "print(solution(test1))"
   ]
  },
  {
   "cell_type": "code",
   "execution_count": null,
   "id": "37612f89",
   "metadata": {},
   "outputs": [],
   "source": []
  }
 ],
 "metadata": {
  "kernelspec": {
   "display_name": "Python 3",
   "language": "python",
   "name": "python3"
  },
  "language_info": {
   "codemirror_mode": {
    "name": "ipython",
    "version": 3
   },
   "file_extension": ".py",
   "mimetype": "text/x-python",
   "name": "python",
   "nbconvert_exporter": "python",
   "pygments_lexer": "ipython3",
   "version": "3.11.9"
  }
 },
 "nbformat": 4,
 "nbformat_minor": 5
}
