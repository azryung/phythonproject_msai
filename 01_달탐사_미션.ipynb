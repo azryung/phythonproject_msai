{
  "cells": [
    {
      "cell_type": "code",
      "execution_count": 78,
      "metadata": {
        "gather": {
          "logged": 1718683920330
        }
      },
      "outputs": [],
      "source": [
        "# pandas 라이브러리를 Import하기\n",
        "import pandas as pd\n"
      ]
    },
    {
      "cell_type": "code",
      "execution_count": 79,
      "metadata": {
        "gather": {
          "logged": 1718683920480
        }
      },
      "outputs": [
        {
          "data": {
            "text/html": [
              "<div>\n",
              "<style scoped>\n",
              "    .dataframe tbody tr th:only-of-type {\n",
              "        vertical-align: middle;\n",
              "    }\n",
              "\n",
              "    .dataframe tbody tr th {\n",
              "        vertical-align: top;\n",
              "    }\n",
              "\n",
              "    .dataframe thead th {\n",
              "        text-align: right;\n",
              "    }\n",
              "</style>\n",
              "<table border=\"1\" class=\"dataframe\">\n",
              "  <thead>\n",
              "    <tr style=\"text-align: right;\">\n",
              "      <th></th>\n",
              "      <th>ID</th>\n",
              "      <th>Mission</th>\n",
              "      <th>Type</th>\n",
              "      <th>Subtype</th>\n",
              "      <th>Weight (g)</th>\n",
              "      <th>Pristine (%)</th>\n",
              "    </tr>\n",
              "  </thead>\n",
              "  <tbody>\n",
              "    <tr>\n",
              "      <th>0</th>\n",
              "      <td>10001</td>\n",
              "      <td>Apollo11</td>\n",
              "      <td>Soil</td>\n",
              "      <td>Unsieved</td>\n",
              "      <td>125.80</td>\n",
              "      <td>88.36</td>\n",
              "    </tr>\n",
              "    <tr>\n",
              "      <th>1</th>\n",
              "      <td>10002</td>\n",
              "      <td>Apollo11</td>\n",
              "      <td>Soil</td>\n",
              "      <td>Unsieved</td>\n",
              "      <td>5629.00</td>\n",
              "      <td>93.73</td>\n",
              "    </tr>\n",
              "    <tr>\n",
              "      <th>2</th>\n",
              "      <td>10003</td>\n",
              "      <td>Apollo11</td>\n",
              "      <td>Basalt</td>\n",
              "      <td>Ilmenite</td>\n",
              "      <td>213.00</td>\n",
              "      <td>65.56</td>\n",
              "    </tr>\n",
              "    <tr>\n",
              "      <th>3</th>\n",
              "      <td>10004</td>\n",
              "      <td>Apollo11</td>\n",
              "      <td>Core</td>\n",
              "      <td>Unsieved</td>\n",
              "      <td>44.80</td>\n",
              "      <td>71.76</td>\n",
              "    </tr>\n",
              "    <tr>\n",
              "      <th>4</th>\n",
              "      <td>10005</td>\n",
              "      <td>Apollo11</td>\n",
              "      <td>Core</td>\n",
              "      <td>Unsieved</td>\n",
              "      <td>53.40</td>\n",
              "      <td>40.31</td>\n",
              "    </tr>\n",
              "    <tr>\n",
              "      <th>...</th>\n",
              "      <td>...</td>\n",
              "      <td>...</td>\n",
              "      <td>...</td>\n",
              "      <td>...</td>\n",
              "      <td>...</td>\n",
              "      <td>...</td>\n",
              "    </tr>\n",
              "    <tr>\n",
              "      <th>2224</th>\n",
              "      <td>79528</td>\n",
              "      <td>Apollo17</td>\n",
              "      <td>Breccia</td>\n",
              "      <td>Regolith</td>\n",
              "      <td>2.38</td>\n",
              "      <td>100.00</td>\n",
              "    </tr>\n",
              "    <tr>\n",
              "      <th>2225</th>\n",
              "      <td>79529</td>\n",
              "      <td>Apollo17</td>\n",
              "      <td>Breccia</td>\n",
              "      <td>Regolith</td>\n",
              "      <td>1.84</td>\n",
              "      <td>100.00</td>\n",
              "    </tr>\n",
              "    <tr>\n",
              "      <th>2226</th>\n",
              "      <td>79535</td>\n",
              "      <td>Apollo17</td>\n",
              "      <td>Breccia</td>\n",
              "      <td>Regolith</td>\n",
              "      <td>1.69</td>\n",
              "      <td>100.00</td>\n",
              "    </tr>\n",
              "    <tr>\n",
              "      <th>2227</th>\n",
              "      <td>79536</td>\n",
              "      <td>Apollo17</td>\n",
              "      <td>Breccia</td>\n",
              "      <td>Regolith</td>\n",
              "      <td>1.66</td>\n",
              "      <td>100.00</td>\n",
              "    </tr>\n",
              "    <tr>\n",
              "      <th>2228</th>\n",
              "      <td>79537</td>\n",
              "      <td>Apollo17</td>\n",
              "      <td>Breccia</td>\n",
              "      <td>Regolith</td>\n",
              "      <td>1.05</td>\n",
              "      <td>100.00</td>\n",
              "    </tr>\n",
              "  </tbody>\n",
              "</table>\n",
              "<p>2229 rows × 6 columns</p>\n",
              "</div>"
            ],
            "text/plain": [
              "         ID   Mission     Type   Subtype  Weight (g)  Pristine (%)\n",
              "0     10001  Apollo11     Soil  Unsieved      125.80         88.36\n",
              "1     10002  Apollo11     Soil  Unsieved     5629.00         93.73\n",
              "2     10003  Apollo11   Basalt  Ilmenite      213.00         65.56\n",
              "3     10004  Apollo11     Core  Unsieved       44.80         71.76\n",
              "4     10005  Apollo11     Core  Unsieved       53.40         40.31\n",
              "...     ...       ...      ...       ...         ...           ...\n",
              "2224  79528  Apollo17  Breccia  Regolith        2.38        100.00\n",
              "2225  79529  Apollo17  Breccia  Regolith        1.84        100.00\n",
              "2226  79535  Apollo17  Breccia  Regolith        1.69        100.00\n",
              "2227  79536  Apollo17  Breccia  Regolith        1.66        100.00\n",
              "2228  79537  Apollo17  Breccia  Regolith        1.05        100.00\n",
              "\n",
              "[2229 rows x 6 columns]"
            ]
          },
          "execution_count": 79,
          "metadata": {},
          "output_type": "execute_result"
        }
      ],
      "source": [
        "# 데이터 파일을 읽어오기\n",
        "#pd 판다스로 read_csv csv를 읽어 보는 것\n",
        "#그리고 해당 데이터를 변수화\n",
        "rocks=pd.read_csv('data/rocksamples.csv') #경로 포함해서 이름\n",
        "rocks"
      ]
    },
    {
      "cell_type": "code",
      "execution_count": 80,
      "metadata": {
        "gather": {
          "logged": 1718683920653
        }
      },
      "outputs": [
        {
          "data": {
            "text/html": [
              "<div>\n",
              "<style scoped>\n",
              "    .dataframe tbody tr th:only-of-type {\n",
              "        vertical-align: middle;\n",
              "    }\n",
              "\n",
              "    .dataframe tbody tr th {\n",
              "        vertical-align: top;\n",
              "    }\n",
              "\n",
              "    .dataframe thead th {\n",
              "        text-align: right;\n",
              "    }\n",
              "</style>\n",
              "<table border=\"1\" class=\"dataframe\">\n",
              "  <thead>\n",
              "    <tr style=\"text-align: right;\">\n",
              "      <th></th>\n",
              "      <th>ID</th>\n",
              "      <th>Mission</th>\n",
              "      <th>Type</th>\n",
              "      <th>Subtype</th>\n",
              "      <th>Weight (g)</th>\n",
              "      <th>Pristine (%)</th>\n",
              "    </tr>\n",
              "  </thead>\n",
              "  <tbody>\n",
              "    <tr>\n",
              "      <th>0</th>\n",
              "      <td>10001</td>\n",
              "      <td>Apollo11</td>\n",
              "      <td>Soil</td>\n",
              "      <td>Unsieved</td>\n",
              "      <td>125.8</td>\n",
              "      <td>88.36</td>\n",
              "    </tr>\n",
              "    <tr>\n",
              "      <th>1</th>\n",
              "      <td>10002</td>\n",
              "      <td>Apollo11</td>\n",
              "      <td>Soil</td>\n",
              "      <td>Unsieved</td>\n",
              "      <td>5629.0</td>\n",
              "      <td>93.73</td>\n",
              "    </tr>\n",
              "    <tr>\n",
              "      <th>2</th>\n",
              "      <td>10003</td>\n",
              "      <td>Apollo11</td>\n",
              "      <td>Basalt</td>\n",
              "      <td>Ilmenite</td>\n",
              "      <td>213.0</td>\n",
              "      <td>65.56</td>\n",
              "    </tr>\n",
              "    <tr>\n",
              "      <th>3</th>\n",
              "      <td>10004</td>\n",
              "      <td>Apollo11</td>\n",
              "      <td>Core</td>\n",
              "      <td>Unsieved</td>\n",
              "      <td>44.8</td>\n",
              "      <td>71.76</td>\n",
              "    </tr>\n",
              "    <tr>\n",
              "      <th>4</th>\n",
              "      <td>10005</td>\n",
              "      <td>Apollo11</td>\n",
              "      <td>Core</td>\n",
              "      <td>Unsieved</td>\n",
              "      <td>53.4</td>\n",
              "      <td>40.31</td>\n",
              "    </tr>\n",
              "  </tbody>\n",
              "</table>\n",
              "</div>"
            ],
            "text/plain": [
              "      ID   Mission    Type   Subtype  Weight (g)  Pristine (%)\n",
              "0  10001  Apollo11    Soil  Unsieved       125.8         88.36\n",
              "1  10002  Apollo11    Soil  Unsieved      5629.0         93.73\n",
              "2  10003  Apollo11  Basalt  Ilmenite       213.0         65.56\n",
              "3  10004  Apollo11    Core  Unsieved        44.8         71.76\n",
              "4  10005  Apollo11    Core  Unsieved        53.4         40.31"
            ]
          },
          "execution_count": 80,
          "metadata": {},
          "output_type": "execute_result"
        }
      ],
      "source": [
        "# 데이터프레임 처음과 마지막 5개행 확인하기\n",
        "rocks.head()"
      ]
    },
    {
      "cell_type": "code",
      "execution_count": 81,
      "metadata": {},
      "outputs": [
        {
          "data": {
            "text/html": [
              "<div>\n",
              "<style scoped>\n",
              "    .dataframe tbody tr th:only-of-type {\n",
              "        vertical-align: middle;\n",
              "    }\n",
              "\n",
              "    .dataframe tbody tr th {\n",
              "        vertical-align: top;\n",
              "    }\n",
              "\n",
              "    .dataframe thead th {\n",
              "        text-align: right;\n",
              "    }\n",
              "</style>\n",
              "<table border=\"1\" class=\"dataframe\">\n",
              "  <thead>\n",
              "    <tr style=\"text-align: right;\">\n",
              "      <th></th>\n",
              "      <th>ID</th>\n",
              "      <th>Mission</th>\n",
              "      <th>Type</th>\n",
              "      <th>Subtype</th>\n",
              "      <th>Weight (g)</th>\n",
              "      <th>Pristine (%)</th>\n",
              "    </tr>\n",
              "  </thead>\n",
              "  <tbody>\n",
              "    <tr>\n",
              "      <th>2224</th>\n",
              "      <td>79528</td>\n",
              "      <td>Apollo17</td>\n",
              "      <td>Breccia</td>\n",
              "      <td>Regolith</td>\n",
              "      <td>2.38</td>\n",
              "      <td>100.0</td>\n",
              "    </tr>\n",
              "    <tr>\n",
              "      <th>2225</th>\n",
              "      <td>79529</td>\n",
              "      <td>Apollo17</td>\n",
              "      <td>Breccia</td>\n",
              "      <td>Regolith</td>\n",
              "      <td>1.84</td>\n",
              "      <td>100.0</td>\n",
              "    </tr>\n",
              "    <tr>\n",
              "      <th>2226</th>\n",
              "      <td>79535</td>\n",
              "      <td>Apollo17</td>\n",
              "      <td>Breccia</td>\n",
              "      <td>Regolith</td>\n",
              "      <td>1.69</td>\n",
              "      <td>100.0</td>\n",
              "    </tr>\n",
              "    <tr>\n",
              "      <th>2227</th>\n",
              "      <td>79536</td>\n",
              "      <td>Apollo17</td>\n",
              "      <td>Breccia</td>\n",
              "      <td>Regolith</td>\n",
              "      <td>1.66</td>\n",
              "      <td>100.0</td>\n",
              "    </tr>\n",
              "    <tr>\n",
              "      <th>2228</th>\n",
              "      <td>79537</td>\n",
              "      <td>Apollo17</td>\n",
              "      <td>Breccia</td>\n",
              "      <td>Regolith</td>\n",
              "      <td>1.05</td>\n",
              "      <td>100.0</td>\n",
              "    </tr>\n",
              "  </tbody>\n",
              "</table>\n",
              "</div>"
            ],
            "text/plain": [
              "         ID   Mission     Type   Subtype  Weight (g)  Pristine (%)\n",
              "2224  79528  Apollo17  Breccia  Regolith        2.38         100.0\n",
              "2225  79529  Apollo17  Breccia  Regolith        1.84         100.0\n",
              "2226  79535  Apollo17  Breccia  Regolith        1.69         100.0\n",
              "2227  79536  Apollo17  Breccia  Regolith        1.66         100.0\n",
              "2228  79537  Apollo17  Breccia  Regolith        1.05         100.0"
            ]
          },
          "execution_count": 81,
          "metadata": {},
          "output_type": "execute_result"
        }
      ],
      "source": [
        "rocks.tail()"
      ]
    },
    {
      "cell_type": "code",
      "execution_count": 82,
      "metadata": {},
      "outputs": [
        {
          "data": {
            "text/html": [
              "<div>\n",
              "<style scoped>\n",
              "    .dataframe tbody tr th:only-of-type {\n",
              "        vertical-align: middle;\n",
              "    }\n",
              "\n",
              "    .dataframe tbody tr th {\n",
              "        vertical-align: top;\n",
              "    }\n",
              "\n",
              "    .dataframe thead th {\n",
              "        text-align: right;\n",
              "    }\n",
              "</style>\n",
              "<table border=\"1\" class=\"dataframe\">\n",
              "  <thead>\n",
              "    <tr style=\"text-align: right;\">\n",
              "      <th></th>\n",
              "      <th>ID</th>\n",
              "      <th>Mission</th>\n",
              "      <th>Type</th>\n",
              "      <th>Subtype</th>\n",
              "      <th>Weight (g)</th>\n",
              "      <th>Pristine (%)</th>\n",
              "    </tr>\n",
              "  </thead>\n",
              "  <tbody>\n",
              "    <tr>\n",
              "      <th>401</th>\n",
              "      <td>15092</td>\n",
              "      <td>Apollo15</td>\n",
              "      <td>Soil</td>\n",
              "      <td>1-2mm</td>\n",
              "      <td>2.7</td>\n",
              "      <td>90.74</td>\n",
              "    </tr>\n",
              "  </tbody>\n",
              "</table>\n",
              "</div>"
            ],
            "text/plain": [
              "        ID   Mission  Type Subtype  Weight (g)  Pristine (%)\n",
              "401  15092  Apollo15  Soil   1-2mm         2.7         90.74"
            ]
          },
          "execution_count": 82,
          "metadata": {},
          "output_type": "execute_result"
        }
      ],
      "source": [
        "rocks.sample()"
      ]
    },
    {
      "cell_type": "code",
      "execution_count": 83,
      "metadata": {
        "gather": {
          "logged": 1718683920791
        }
      },
      "outputs": [
        {
          "name": "stdout",
          "output_type": "stream",
          "text": [
            "<class 'pandas.core.frame.DataFrame'>\n",
            "RangeIndex: 2229 entries, 0 to 2228\n",
            "Data columns (total 6 columns):\n",
            " #   Column        Non-Null Count  Dtype  \n",
            "---  ------        --------------  -----  \n",
            " 0   ID            2229 non-null   int64  \n",
            " 1   Mission       2229 non-null   object \n",
            " 2   Type          2229 non-null   object \n",
            " 3   Subtype       2226 non-null   object \n",
            " 4   Weight (g)    2229 non-null   float64\n",
            " 5   Pristine (%)  2229 non-null   float64\n",
            "dtypes: float64(2), int64(1), object(3)\n",
            "memory usage: 104.6+ KB\n"
          ]
        }
      ],
      "source": [
        "#rock_samples 데이터프레임 정보 확인하기\n",
        "rocks.info()\n",
        "\n",
        "#데이터"
      ]
    },
    {
      "cell_type": "code",
      "execution_count": 84,
      "metadata": {
        "gather": {
          "logged": 1718683920927
        }
      },
      "outputs": [],
      "source": [
        "#rock_samples 데이터프레임 행수 확인\n"
      ]
    },
    {
      "cell_type": "code",
      "execution_count": 85,
      "metadata": {
        "gather": {
          "logged": 1718683921069
        }
      },
      "outputs": [
        {
          "name": "stdout",
          "output_type": "stream",
          "text": [
            "RangeIndex(start=0, stop=2229, step=1)\n"
          ]
        }
      ],
      "source": [
        "#rock_samples 데이터 프레임의 인덱스 확인\n",
        "print(rocks.index)"
      ]
    },
    {
      "cell_type": "code",
      "execution_count": 86,
      "metadata": {
        "gather": {
          "logged": 1718683921221
        }
      },
      "outputs": [],
      "source": [
        "#rock_samples 데이터프레임 열수 확인\n"
      ]
    },
    {
      "cell_type": "code",
      "execution_count": 87,
      "metadata": {
        "gather": {
          "logged": 1718683921363
        }
      },
      "outputs": [],
      "source": [
        "#rock_samples 데이터프레임의 모양 확인\n"
      ]
    },
    {
      "cell_type": "code",
      "execution_count": 88,
      "metadata": {
        "gather": {
          "logged": 1718683921516
        }
      },
      "outputs": [
        {
          "name": "stdout",
          "output_type": "stream",
          "text": [
            "Index(['ID', 'Mission', 'Type', 'Subtype', 'Weight (g)', 'Pristine (%)'], dtype='object')\n"
          ]
        }
      ],
      "source": [
        "#rock_samples 데이터프레임의 컬럼명 확인\n",
        "print(rocks.columns)"
      ]
    },
    {
      "cell_type": "code",
      "execution_count": 89,
      "metadata": {
        "gather": {
          "logged": 1718683921666
        }
      },
      "outputs": [
        {
          "data": {
            "text/plain": [
              "ID                int64\n",
              "Mission          object\n",
              "Type             object\n",
              "Subtype          object\n",
              "Weight (g)      float64\n",
              "Pristine (%)    float64\n",
              "dtype: object"
            ]
          },
          "execution_count": 89,
          "metadata": {},
          "output_type": "execute_result"
        }
      ],
      "source": [
        "#rock_samples 데이터프레임 컬럼들의 데이터타입 확인\n",
        "rocks.dtypes"
      ]
    },
    {
      "cell_type": "code",
      "execution_count": 90,
      "metadata": {
        "gather": {
          "logged": 1718683921813
        }
      },
      "outputs": [
        {
          "data": {
            "text/html": [
              "<div>\n",
              "<style scoped>\n",
              "    .dataframe tbody tr th:only-of-type {\n",
              "        vertical-align: middle;\n",
              "    }\n",
              "\n",
              "    .dataframe tbody tr th {\n",
              "        vertical-align: top;\n",
              "    }\n",
              "\n",
              "    .dataframe thead th {\n",
              "        text-align: right;\n",
              "    }\n",
              "</style>\n",
              "<table border=\"1\" class=\"dataframe\">\n",
              "  <thead>\n",
              "    <tr style=\"text-align: right;\">\n",
              "      <th></th>\n",
              "      <th>ID</th>\n",
              "      <th>Weight (g)</th>\n",
              "      <th>Pristine (%)</th>\n",
              "    </tr>\n",
              "  </thead>\n",
              "  <tbody>\n",
              "    <tr>\n",
              "      <th>count</th>\n",
              "      <td>2229.000000</td>\n",
              "      <td>2229.000000</td>\n",
              "      <td>2229.000000</td>\n",
              "    </tr>\n",
              "    <tr>\n",
              "      <th>mean</th>\n",
              "      <td>52058.432032</td>\n",
              "      <td>168.253024</td>\n",
              "      <td>84.512764</td>\n",
              "    </tr>\n",
              "    <tr>\n",
              "      <th>std</th>\n",
              "      <td>26207.651471</td>\n",
              "      <td>637.286458</td>\n",
              "      <td>22.057299</td>\n",
              "    </tr>\n",
              "    <tr>\n",
              "      <th>min</th>\n",
              "      <td>10001.000000</td>\n",
              "      <td>0.000000</td>\n",
              "      <td>0.000000</td>\n",
              "    </tr>\n",
              "    <tr>\n",
              "      <th>25%</th>\n",
              "      <td>15437.000000</td>\n",
              "      <td>3.000000</td>\n",
              "      <td>80.010000</td>\n",
              "    </tr>\n",
              "    <tr>\n",
              "      <th>50%</th>\n",
              "      <td>65527.000000</td>\n",
              "      <td>10.200000</td>\n",
              "      <td>92.300000</td>\n",
              "    </tr>\n",
              "    <tr>\n",
              "      <th>75%</th>\n",
              "      <td>72142.000000</td>\n",
              "      <td>93.490000</td>\n",
              "      <td>98.140000</td>\n",
              "    </tr>\n",
              "    <tr>\n",
              "      <th>max</th>\n",
              "      <td>79537.000000</td>\n",
              "      <td>11729.000000</td>\n",
              "      <td>180.000000</td>\n",
              "    </tr>\n",
              "  </tbody>\n",
              "</table>\n",
              "</div>"
            ],
            "text/plain": [
              "                 ID    Weight (g)  Pristine (%)\n",
              "count   2229.000000   2229.000000   2229.000000\n",
              "mean   52058.432032    168.253024     84.512764\n",
              "std    26207.651471    637.286458     22.057299\n",
              "min    10001.000000      0.000000      0.000000\n",
              "25%    15437.000000      3.000000     80.010000\n",
              "50%    65527.000000     10.200000     92.300000\n",
              "75%    72142.000000     93.490000     98.140000\n",
              "max    79537.000000  11729.000000    180.000000"
            ]
          },
          "execution_count": 90,
          "metadata": {},
          "output_type": "execute_result"
        }
      ],
      "source": [
        "# rock_samples 데이터프레임 수치 데이터의 요약 통계 확인\n",
        "rocks.describe()"
      ]
    },
    {
      "cell_type": "markdown",
      "metadata": {},
      "source": [
        "## 각 컬럼별 누락값 검사"
      ]
    },
    {
      "cell_type": "code",
      "execution_count": 91,
      "metadata": {
        "gather": {
          "logged": 1718683922187
        }
      },
      "outputs": [
        {
          "data": {
            "text/html": [
              "<div>\n",
              "<style scoped>\n",
              "    .dataframe tbody tr th:only-of-type {\n",
              "        vertical-align: middle;\n",
              "    }\n",
              "\n",
              "    .dataframe tbody tr th {\n",
              "        vertical-align: top;\n",
              "    }\n",
              "\n",
              "    .dataframe thead th {\n",
              "        text-align: right;\n",
              "    }\n",
              "</style>\n",
              "<table border=\"1\" class=\"dataframe\">\n",
              "  <thead>\n",
              "    <tr style=\"text-align: right;\">\n",
              "      <th></th>\n",
              "      <th>ID</th>\n",
              "      <th>Mission</th>\n",
              "      <th>Type</th>\n",
              "      <th>Subtype</th>\n",
              "      <th>Weight (g)</th>\n",
              "      <th>Pristine (%)</th>\n",
              "    </tr>\n",
              "  </thead>\n",
              "  <tbody>\n",
              "    <tr>\n",
              "      <th>0</th>\n",
              "      <td>False</td>\n",
              "      <td>False</td>\n",
              "      <td>False</td>\n",
              "      <td>False</td>\n",
              "      <td>False</td>\n",
              "      <td>False</td>\n",
              "    </tr>\n",
              "    <tr>\n",
              "      <th>1</th>\n",
              "      <td>False</td>\n",
              "      <td>False</td>\n",
              "      <td>False</td>\n",
              "      <td>False</td>\n",
              "      <td>False</td>\n",
              "      <td>False</td>\n",
              "    </tr>\n",
              "    <tr>\n",
              "      <th>2</th>\n",
              "      <td>False</td>\n",
              "      <td>False</td>\n",
              "      <td>False</td>\n",
              "      <td>False</td>\n",
              "      <td>False</td>\n",
              "      <td>False</td>\n",
              "    </tr>\n",
              "    <tr>\n",
              "      <th>3</th>\n",
              "      <td>False</td>\n",
              "      <td>False</td>\n",
              "      <td>False</td>\n",
              "      <td>False</td>\n",
              "      <td>False</td>\n",
              "      <td>False</td>\n",
              "    </tr>\n",
              "    <tr>\n",
              "      <th>4</th>\n",
              "      <td>False</td>\n",
              "      <td>False</td>\n",
              "      <td>False</td>\n",
              "      <td>False</td>\n",
              "      <td>False</td>\n",
              "      <td>False</td>\n",
              "    </tr>\n",
              "    <tr>\n",
              "      <th>...</th>\n",
              "      <td>...</td>\n",
              "      <td>...</td>\n",
              "      <td>...</td>\n",
              "      <td>...</td>\n",
              "      <td>...</td>\n",
              "      <td>...</td>\n",
              "    </tr>\n",
              "    <tr>\n",
              "      <th>2224</th>\n",
              "      <td>False</td>\n",
              "      <td>False</td>\n",
              "      <td>False</td>\n",
              "      <td>False</td>\n",
              "      <td>False</td>\n",
              "      <td>False</td>\n",
              "    </tr>\n",
              "    <tr>\n",
              "      <th>2225</th>\n",
              "      <td>False</td>\n",
              "      <td>False</td>\n",
              "      <td>False</td>\n",
              "      <td>False</td>\n",
              "      <td>False</td>\n",
              "      <td>False</td>\n",
              "    </tr>\n",
              "    <tr>\n",
              "      <th>2226</th>\n",
              "      <td>False</td>\n",
              "      <td>False</td>\n",
              "      <td>False</td>\n",
              "      <td>False</td>\n",
              "      <td>False</td>\n",
              "      <td>False</td>\n",
              "    </tr>\n",
              "    <tr>\n",
              "      <th>2227</th>\n",
              "      <td>False</td>\n",
              "      <td>False</td>\n",
              "      <td>False</td>\n",
              "      <td>False</td>\n",
              "      <td>False</td>\n",
              "      <td>False</td>\n",
              "    </tr>\n",
              "    <tr>\n",
              "      <th>2228</th>\n",
              "      <td>False</td>\n",
              "      <td>False</td>\n",
              "      <td>False</td>\n",
              "      <td>False</td>\n",
              "      <td>False</td>\n",
              "      <td>False</td>\n",
              "    </tr>\n",
              "  </tbody>\n",
              "</table>\n",
              "<p>2229 rows × 6 columns</p>\n",
              "</div>"
            ],
            "text/plain": [
              "         ID  Mission   Type  Subtype  Weight (g)  Pristine (%)\n",
              "0     False    False  False    False       False         False\n",
              "1     False    False  False    False       False         False\n",
              "2     False    False  False    False       False         False\n",
              "3     False    False  False    False       False         False\n",
              "4     False    False  False    False       False         False\n",
              "...     ...      ...    ...      ...         ...           ...\n",
              "2224  False    False  False    False       False         False\n",
              "2225  False    False  False    False       False         False\n",
              "2226  False    False  False    False       False         False\n",
              "2227  False    False  False    False       False         False\n",
              "2228  False    False  False    False       False         False\n",
              "\n",
              "[2229 rows x 6 columns]"
            ]
          },
          "execution_count": 91,
          "metadata": {},
          "output_type": "execute_result"
        }
      ],
      "source": [
        "# 1단계 -> rock_samples 데이터프레임에 null값이 있는지 확인\n",
        "rocks.isnull()"
      ]
    },
    {
      "cell_type": "code",
      "execution_count": 92,
      "metadata": {
        "gather": {
          "logged": 1718683922531
        }
      },
      "outputs": [
        {
          "data": {
            "text/plain": [
              "ID              0\n",
              "Mission         0\n",
              "Type            0\n",
              "Subtype         3\n",
              "Weight (g)      0\n",
              "Pristine (%)    0\n",
              "dtype: int64"
            ]
          },
          "execution_count": 92,
          "metadata": {},
          "output_type": "execute_result"
        }
      ],
      "source": [
        "#결측치 갯수 확인인. false:0, True:1\n",
        "rocks.isnull().sum()\n",
        "\n"
      ]
    },
    {
      "cell_type": "code",
      "execution_count": 93,
      "metadata": {},
      "outputs": [
        {
          "data": {
            "text/html": [
              "<div>\n",
              "<style scoped>\n",
              "    .dataframe tbody tr th:only-of-type {\n",
              "        vertical-align: middle;\n",
              "    }\n",
              "\n",
              "    .dataframe tbody tr th {\n",
              "        vertical-align: top;\n",
              "    }\n",
              "\n",
              "    .dataframe thead th {\n",
              "        text-align: right;\n",
              "    }\n",
              "</style>\n",
              "<table border=\"1\" class=\"dataframe\">\n",
              "  <thead>\n",
              "    <tr style=\"text-align: right;\">\n",
              "      <th></th>\n",
              "      <th>ID</th>\n",
              "      <th>Mission</th>\n",
              "      <th>Type</th>\n",
              "      <th>Subtype</th>\n",
              "      <th>Weight (g)</th>\n",
              "      <th>Pristine (%)</th>\n",
              "    </tr>\n",
              "  </thead>\n",
              "  <tbody>\n",
              "    <tr>\n",
              "      <th>89</th>\n",
              "      <td>12023</td>\n",
              "      <td>Apollo12</td>\n",
              "      <td>Special</td>\n",
              "      <td>NaN</td>\n",
              "      <td>407.90</td>\n",
              "      <td>66.89</td>\n",
              "    </tr>\n",
              "    <tr>\n",
              "      <th>355</th>\n",
              "      <td>15014</td>\n",
              "      <td>Apollo15</td>\n",
              "      <td>Special</td>\n",
              "      <td>NaN</td>\n",
              "      <td>333.20</td>\n",
              "      <td>100.00</td>\n",
              "    </tr>\n",
              "    <tr>\n",
              "      <th>1513</th>\n",
              "      <td>70149</td>\n",
              "      <td>Apollo17</td>\n",
              "      <td>Basalt</td>\n",
              "      <td>NaN</td>\n",
              "      <td>0.95</td>\n",
              "      <td>0.00</td>\n",
              "    </tr>\n",
              "  </tbody>\n",
              "</table>\n",
              "</div>"
            ],
            "text/plain": [
              "         ID   Mission     Type Subtype  Weight (g)  Pristine (%)\n",
              "89    12023  Apollo12  Special     NaN      407.90         66.89\n",
              "355   15014  Apollo15  Special     NaN      333.20        100.00\n",
              "1513  70149  Apollo17   Basalt     NaN        0.95          0.00"
            ]
          },
          "execution_count": 93,
          "metadata": {},
          "output_type": "execute_result"
        }
      ],
      "source": [
        "#결측치 처리 -> 어디에 있는지 추출?\n",
        "rocks['Subtype'].isnull() #+어디서있는지 리스트로 뽑기\n",
        "rocks[rocks['Subtype'].isnull()]"
      ]
    },
    {
      "cell_type": "code",
      "execution_count": 94,
      "metadata": {},
      "outputs": [
        {
          "data": {
            "text/plain": [
              "Type     Subtype     \n",
              "Basalt   Cristobalite      1\n",
              "         Feldspathic       7\n",
              "         Ilmenite        184\n",
              "         KREEP             3\n",
              "         Olivine         115\n",
              "         Pigeonite        37\n",
              "         Plagioclase       1\n",
              "         Unclassified      2\n",
              "Breccia  Agglomerate      10\n",
              "         Anorthosite      21\n",
              "         Clod             17\n",
              "         Feldspathic       1\n",
              "         Fragmental      207\n",
              "         Glass             7\n",
              "         ImpactMelt      393\n",
              "         Regolith        248\n",
              "         Unclassified     22\n",
              "         Unstudied         1\n",
              "         fragmental       21\n",
              "         notstudied        1\n",
              "         unstudied        10\n",
              "Core     Unsieved         41\n",
              "         unsieved         15\n",
              "Crustal  Anorthosite      20\n",
              "         Cataclasite      16\n",
              "         Cataclastic       3\n",
              "         Fragmental        1\n",
              "         Norite            4\n",
              "         Pristine          1\n",
              "         Troctolite        1\n",
              "Soil     1-2mm           145\n",
              "         2-4mm           145\n",
              "         4-10mm          145\n",
              "         <1mm            147\n",
              "         >10mm             1\n",
              "         Unsieved        230\n",
              "Special  unsieved          2\n",
              "dtype: int64"
            ]
          },
          "execution_count": 94,
          "metadata": {},
          "output_type": "execute_result"
        }
      ],
      "source": [
        "rocks.groupby(['Type','Subtype']).size()"
      ]
    },
    {
      "cell_type": "code",
      "execution_count": null,
      "metadata": {},
      "outputs": [],
      "source": []
    },
    {
      "cell_type": "markdown",
      "metadata": {},
      "source": [
        "## 컬럼값 변환 : weight(g) -> weight(kg)\n",
        "    "
      ]
    },
    {
      "cell_type": "code",
      "execution_count": 95,
      "metadata": {
        "gather": {
          "logged": 1718683922744
        }
      },
      "outputs": [
        {
          "data": {
            "text/html": [
              "<div>\n",
              "<style scoped>\n",
              "    .dataframe tbody tr th:only-of-type {\n",
              "        vertical-align: middle;\n",
              "    }\n",
              "\n",
              "    .dataframe tbody tr th {\n",
              "        vertical-align: top;\n",
              "    }\n",
              "\n",
              "    .dataframe thead th {\n",
              "        text-align: right;\n",
              "    }\n",
              "</style>\n",
              "<table border=\"1\" class=\"dataframe\">\n",
              "  <thead>\n",
              "    <tr style=\"text-align: right;\">\n",
              "      <th></th>\n",
              "      <th>ID</th>\n",
              "      <th>Mission</th>\n",
              "      <th>Type</th>\n",
              "      <th>Subtype</th>\n",
              "      <th>Weight (g)</th>\n",
              "      <th>Pristine (%)</th>\n",
              "    </tr>\n",
              "  </thead>\n",
              "  <tbody>\n",
              "    <tr>\n",
              "      <th>0</th>\n",
              "      <td>10001</td>\n",
              "      <td>Apollo11</td>\n",
              "      <td>Soil</td>\n",
              "      <td>Unsieved</td>\n",
              "      <td>125.8</td>\n",
              "      <td>88.36</td>\n",
              "    </tr>\n",
              "    <tr>\n",
              "      <th>1</th>\n",
              "      <td>10002</td>\n",
              "      <td>Apollo11</td>\n",
              "      <td>Soil</td>\n",
              "      <td>Unsieved</td>\n",
              "      <td>5629.0</td>\n",
              "      <td>93.73</td>\n",
              "    </tr>\n",
              "  </tbody>\n",
              "</table>\n",
              "</div>"
            ],
            "text/plain": [
              "      ID   Mission  Type   Subtype  Weight (g)  Pristine (%)\n",
              "0  10001  Apollo11  Soil  Unsieved       125.8         88.36\n",
              "1  10002  Apollo11  Soil  Unsieved      5629.0         93.73"
            ]
          },
          "execution_count": 95,
          "metadata": {},
          "output_type": "execute_result"
        }
      ],
      "source": [
        "rocks.head(2)"
      ]
    },
    {
      "cell_type": "code",
      "execution_count": 96,
      "metadata": {
        "gather": {
          "logged": 1718683922899
        }
      },
      "outputs": [
        {
          "data": {
            "text/plain": [
              "0        125.80\n",
              "1       5629.00\n",
              "2        213.00\n",
              "3         44.80\n",
              "4         53.40\n",
              "         ...   \n",
              "2224       2.38\n",
              "2225       1.84\n",
              "2226       1.69\n",
              "2227       1.66\n",
              "2228       1.05\n",
              "Name: Weight (g), Length: 2229, dtype: float64"
            ]
          },
          "execution_count": 96,
          "metadata": {},
          "output_type": "execute_result"
        }
      ],
      "source": [
        "rocks['Weight (g)']"
      ]
    },
    {
      "cell_type": "code",
      "execution_count": 97,
      "metadata": {
        "gather": {
          "logged": 1718683923109
        }
      },
      "outputs": [
        {
          "data": {
            "text/plain": [
              "0       0.12580\n",
              "1       5.62900\n",
              "2       0.21300\n",
              "3       0.04480\n",
              "4       0.05340\n",
              "         ...   \n",
              "2224    0.00238\n",
              "2225    0.00184\n",
              "2226    0.00169\n",
              "2227    0.00166\n",
              "2228    0.00105\n",
              "Name: Weight (g), Length: 2229, dtype: float64"
            ]
          },
          "execution_count": 97,
          "metadata": {},
          "output_type": "execute_result"
        }
      ],
      "source": [
        "# 1단계 -> 컬럼값변환 : rock_samples['Weight (g)'] -> rock_samples['Weight (kg)]\n",
        "\n",
        "#값을 기존값에서 /1000 --> kg으로 변환 +소수점 세자리 반올림\n",
        "rocks['Weight (g)'] = rocks['Weight (g)']/1000\n",
        "rocks['Weight (g)']\n",
        "#컬럼이름을 Weight (kg)으로 변경\n",
        "\n",
        "#선생님 답 = apply로 적용\n",
        "# rocks['Weight(g)'] = df['Weight(g)'].apply(lambda x: x / 1000)\n"
      ]
    },
    {
      "cell_type": "code",
      "execution_count": 98,
      "metadata": {},
      "outputs": [
        {
          "data": {
            "text/plain": [
              "['ID', 'Mission', 'Type', 'Subtype', 'Weight (g)', 'Pristine (%)']"
            ]
          },
          "execution_count": 98,
          "metadata": {},
          "output_type": "execute_result"
        }
      ],
      "source": [
        "#선생님 답변 list comprehesion 사용\n",
        "newcols = ['Weight (kg)' if col == 'Weight(g)' else col for col in rocks.columns]\n",
        "newcols"
      ]
    },
    {
      "cell_type": "code",
      "execution_count": 99,
      "metadata": {},
      "outputs": [
        {
          "data": {
            "text/html": [
              "<div>\n",
              "<style scoped>\n",
              "    .dataframe tbody tr th:only-of-type {\n",
              "        vertical-align: middle;\n",
              "    }\n",
              "\n",
              "    .dataframe tbody tr th {\n",
              "        vertical-align: top;\n",
              "    }\n",
              "\n",
              "    .dataframe thead th {\n",
              "        text-align: right;\n",
              "    }\n",
              "</style>\n",
              "<table border=\"1\" class=\"dataframe\">\n",
              "  <thead>\n",
              "    <tr style=\"text-align: right;\">\n",
              "      <th></th>\n",
              "      <th>ID</th>\n",
              "      <th>Mission</th>\n",
              "      <th>Type</th>\n",
              "      <th>Subtype</th>\n",
              "      <th>Weight (kg)</th>\n",
              "      <th>Pristine (%)</th>\n",
              "    </tr>\n",
              "  </thead>\n",
              "  <tbody>\n",
              "    <tr>\n",
              "      <th>0</th>\n",
              "      <td>10001</td>\n",
              "      <td>Apollo11</td>\n",
              "      <td>Soil</td>\n",
              "      <td>Unsieved</td>\n",
              "      <td>0.12580</td>\n",
              "      <td>88.36</td>\n",
              "    </tr>\n",
              "    <tr>\n",
              "      <th>1</th>\n",
              "      <td>10002</td>\n",
              "      <td>Apollo11</td>\n",
              "      <td>Soil</td>\n",
              "      <td>Unsieved</td>\n",
              "      <td>5.62900</td>\n",
              "      <td>93.73</td>\n",
              "    </tr>\n",
              "    <tr>\n",
              "      <th>2</th>\n",
              "      <td>10003</td>\n",
              "      <td>Apollo11</td>\n",
              "      <td>Basalt</td>\n",
              "      <td>Ilmenite</td>\n",
              "      <td>0.21300</td>\n",
              "      <td>65.56</td>\n",
              "    </tr>\n",
              "    <tr>\n",
              "      <th>3</th>\n",
              "      <td>10004</td>\n",
              "      <td>Apollo11</td>\n",
              "      <td>Core</td>\n",
              "      <td>Unsieved</td>\n",
              "      <td>0.04480</td>\n",
              "      <td>71.76</td>\n",
              "    </tr>\n",
              "    <tr>\n",
              "      <th>4</th>\n",
              "      <td>10005</td>\n",
              "      <td>Apollo11</td>\n",
              "      <td>Core</td>\n",
              "      <td>Unsieved</td>\n",
              "      <td>0.05340</td>\n",
              "      <td>40.31</td>\n",
              "    </tr>\n",
              "    <tr>\n",
              "      <th>...</th>\n",
              "      <td>...</td>\n",
              "      <td>...</td>\n",
              "      <td>...</td>\n",
              "      <td>...</td>\n",
              "      <td>...</td>\n",
              "      <td>...</td>\n",
              "    </tr>\n",
              "    <tr>\n",
              "      <th>2224</th>\n",
              "      <td>79528</td>\n",
              "      <td>Apollo17</td>\n",
              "      <td>Breccia</td>\n",
              "      <td>Regolith</td>\n",
              "      <td>0.00238</td>\n",
              "      <td>100.00</td>\n",
              "    </tr>\n",
              "    <tr>\n",
              "      <th>2225</th>\n",
              "      <td>79529</td>\n",
              "      <td>Apollo17</td>\n",
              "      <td>Breccia</td>\n",
              "      <td>Regolith</td>\n",
              "      <td>0.00184</td>\n",
              "      <td>100.00</td>\n",
              "    </tr>\n",
              "    <tr>\n",
              "      <th>2226</th>\n",
              "      <td>79535</td>\n",
              "      <td>Apollo17</td>\n",
              "      <td>Breccia</td>\n",
              "      <td>Regolith</td>\n",
              "      <td>0.00169</td>\n",
              "      <td>100.00</td>\n",
              "    </tr>\n",
              "    <tr>\n",
              "      <th>2227</th>\n",
              "      <td>79536</td>\n",
              "      <td>Apollo17</td>\n",
              "      <td>Breccia</td>\n",
              "      <td>Regolith</td>\n",
              "      <td>0.00166</td>\n",
              "      <td>100.00</td>\n",
              "    </tr>\n",
              "    <tr>\n",
              "      <th>2228</th>\n",
              "      <td>79537</td>\n",
              "      <td>Apollo17</td>\n",
              "      <td>Breccia</td>\n",
              "      <td>Regolith</td>\n",
              "      <td>0.00105</td>\n",
              "      <td>100.00</td>\n",
              "    </tr>\n",
              "  </tbody>\n",
              "</table>\n",
              "<p>2229 rows × 6 columns</p>\n",
              "</div>"
            ],
            "text/plain": [
              "         ID   Mission     Type   Subtype  Weight (kg)  Pristine (%)\n",
              "0     10001  Apollo11     Soil  Unsieved      0.12580         88.36\n",
              "1     10002  Apollo11     Soil  Unsieved      5.62900         93.73\n",
              "2     10003  Apollo11   Basalt  Ilmenite      0.21300         65.56\n",
              "3     10004  Apollo11     Core  Unsieved      0.04480         71.76\n",
              "4     10005  Apollo11     Core  Unsieved      0.05340         40.31\n",
              "...     ...       ...      ...       ...          ...           ...\n",
              "2224  79528  Apollo17  Breccia  Regolith      0.00238        100.00\n",
              "2225  79529  Apollo17  Breccia  Regolith      0.00184        100.00\n",
              "2226  79535  Apollo17  Breccia  Regolith      0.00169        100.00\n",
              "2227  79536  Apollo17  Breccia  Regolith      0.00166        100.00\n",
              "2228  79537  Apollo17  Breccia  Regolith      0.00105        100.00\n",
              "\n",
              "[2229 rows x 6 columns]"
            ]
          },
          "execution_count": 99,
          "metadata": {},
          "output_type": "execute_result"
        }
      ],
      "source": [
        "rocks.rename(columns={'Weight (g)': 'Weight (kg)'}, inplace=True)\n",
        "rocks"
      ]
    },
    {
      "cell_type": "code",
      "execution_count": 100,
      "metadata": {},
      "outputs": [
        {
          "data": {
            "text/plain": [
              "Index(['ID', 'Mission', 'Type', 'Subtype', 'Weight (kg)', 'Pristine (%)'], dtype='object')"
            ]
          },
          "execution_count": 100,
          "metadata": {},
          "output_type": "execute_result"
        }
      ],
      "source": [
        "rocks.columns"
      ]
    },
    {
      "cell_type": "code",
      "execution_count": 101,
      "metadata": {
        "gather": {
          "logged": 1718683923395
        }
      },
      "outputs": [
        {
          "data": {
            "text/html": [
              "<div>\n",
              "<style scoped>\n",
              "    .dataframe tbody tr th:only-of-type {\n",
              "        vertical-align: middle;\n",
              "    }\n",
              "\n",
              "    .dataframe tbody tr th {\n",
              "        vertical-align: top;\n",
              "    }\n",
              "\n",
              "    .dataframe thead th {\n",
              "        text-align: right;\n",
              "    }\n",
              "</style>\n",
              "<table border=\"1\" class=\"dataframe\">\n",
              "  <thead>\n",
              "    <tr style=\"text-align: right;\">\n",
              "      <th></th>\n",
              "      <th>ID</th>\n",
              "      <th>Mission</th>\n",
              "      <th>Type</th>\n",
              "      <th>Subtype</th>\n",
              "      <th>Weight (kg)</th>\n",
              "      <th>Pristine (%)</th>\n",
              "    </tr>\n",
              "  </thead>\n",
              "  <tbody>\n",
              "    <tr>\n",
              "      <th>0</th>\n",
              "      <td>10001</td>\n",
              "      <td>Apollo11</td>\n",
              "      <td>Soil</td>\n",
              "      <td>Unsieved</td>\n",
              "      <td>0.1258</td>\n",
              "      <td>88.36</td>\n",
              "    </tr>\n",
              "    <tr>\n",
              "      <th>1</th>\n",
              "      <td>10002</td>\n",
              "      <td>Apollo11</td>\n",
              "      <td>Soil</td>\n",
              "      <td>Unsieved</td>\n",
              "      <td>5.6290</td>\n",
              "      <td>93.73</td>\n",
              "    </tr>\n",
              "    <tr>\n",
              "      <th>2</th>\n",
              "      <td>10003</td>\n",
              "      <td>Apollo11</td>\n",
              "      <td>Basalt</td>\n",
              "      <td>Ilmenite</td>\n",
              "      <td>0.2130</td>\n",
              "      <td>65.56</td>\n",
              "    </tr>\n",
              "    <tr>\n",
              "      <th>3</th>\n",
              "      <td>10004</td>\n",
              "      <td>Apollo11</td>\n",
              "      <td>Core</td>\n",
              "      <td>Unsieved</td>\n",
              "      <td>0.0448</td>\n",
              "      <td>71.76</td>\n",
              "    </tr>\n",
              "    <tr>\n",
              "      <th>4</th>\n",
              "      <td>10005</td>\n",
              "      <td>Apollo11</td>\n",
              "      <td>Core</td>\n",
              "      <td>Unsieved</td>\n",
              "      <td>0.0534</td>\n",
              "      <td>40.31</td>\n",
              "    </tr>\n",
              "  </tbody>\n",
              "</table>\n",
              "</div>"
            ],
            "text/plain": [
              "      ID   Mission    Type   Subtype  Weight (kg)  Pristine (%)\n",
              "0  10001  Apollo11    Soil  Unsieved       0.1258         88.36\n",
              "1  10002  Apollo11    Soil  Unsieved       5.6290         93.73\n",
              "2  10003  Apollo11  Basalt  Ilmenite       0.2130         65.56\n",
              "3  10004  Apollo11    Core  Unsieved       0.0448         71.76\n",
              "4  10005  Apollo11    Core  Unsieved       0.0534         40.31"
            ]
          },
          "execution_count": 101,
          "metadata": {},
          "output_type": "execute_result"
        }
      ],
      "source": [
        "rocks.head()\n"
      ]
    },
    {
      "cell_type": "code",
      "execution_count": 102,
      "metadata": {
        "gather": {
          "logged": 1718683923601
        }
      },
      "outputs": [],
      "source": [
        "#2단계 -> 컬럼명 변환 : 'Weight(g)' -> 'Weight(kg)\n"
      ]
    },
    {
      "cell_type": "markdown",
      "metadata": {},
      "source": [
        "## 아폴로 임무별 데이터 프레임 만들기 : missions"
      ]
    },
    {
      "cell_type": "code",
      "execution_count": null,
      "metadata": {},
      "outputs": [],
      "source": []
    },
    {
      "cell_type": "code",
      "execution_count": 103,
      "metadata": {
        "gather": {
          "logged": 1718683923800
        }
      },
      "outputs": [
        {
          "data": {
            "text/html": [
              "<div>\n",
              "<style scoped>\n",
              "    .dataframe tbody tr th:only-of-type {\n",
              "        vertical-align: middle;\n",
              "    }\n",
              "\n",
              "    .dataframe tbody tr th {\n",
              "        vertical-align: top;\n",
              "    }\n",
              "\n",
              "    .dataframe thead th {\n",
              "        text-align: right;\n",
              "    }\n",
              "</style>\n",
              "<table border=\"1\" class=\"dataframe\">\n",
              "  <thead>\n",
              "    <tr style=\"text-align: right;\">\n",
              "      <th></th>\n",
              "    </tr>\n",
              "  </thead>\n",
              "  <tbody>\n",
              "  </tbody>\n",
              "</table>\n",
              "</div>"
            ],
            "text/plain": [
              "Empty DataFrame\n",
              "Columns: []\n",
              "Index: []"
            ]
          },
          "execution_count": 103,
          "metadata": {},
          "output_type": "execute_result"
        }
      ],
      "source": [
        "# 빈 데이터 프레임을 만들고 변수 missions에 할당한다.\n",
        "missions = pd.DataFrame()\n",
        "missions\n"
      ]
    },
    {
      "cell_type": "code",
      "execution_count": 104,
      "metadata": {
        "gather": {
          "logged": 1718683924006
        }
      },
      "outputs": [
        {
          "data": {
            "text/plain": [
              "pandas.core.frame.DataFrame"
            ]
          },
          "execution_count": 104,
          "metadata": {},
          "output_type": "execute_result"
        }
      ],
      "source": [
        "type(missions)"
      ]
    },
    {
      "cell_type": "code",
      "execution_count": 105,
      "metadata": {
        "gather": {
          "logged": 1718683924154
        }
      },
      "outputs": [
        {
          "data": {
            "text/plain": [
              "array(['Apollo11', 'Apollo12', 'Apollo14', 'Apollo15', 'Apollo16',\n",
              "       'Apollo17'], dtype=object)"
            ]
          },
          "execution_count": 105,
          "metadata": {},
          "output_type": "execute_result"
        }
      ],
      "source": [
        "#rock_samples['Mission']의 중복되지 않은 고유값들을 알아본다.\n",
        "rocks['Mission'].unique()"
      ]
    },
    {
      "cell_type": "code",
      "execution_count": 106,
      "metadata": {
        "gather": {
          "logged": 1718683924367
        }
      },
      "outputs": [
        {
          "data": {
            "text/html": [
              "<div>\n",
              "<style scoped>\n",
              "    .dataframe tbody tr th:only-of-type {\n",
              "        vertical-align: middle;\n",
              "    }\n",
              "\n",
              "    .dataframe tbody tr th {\n",
              "        vertical-align: top;\n",
              "    }\n",
              "\n",
              "    .dataframe thead th {\n",
              "        text-align: right;\n",
              "    }\n",
              "</style>\n",
              "<table border=\"1\" class=\"dataframe\">\n",
              "  <thead>\n",
              "    <tr style=\"text-align: right;\">\n",
              "      <th></th>\n",
              "      <th>Mission</th>\n",
              "    </tr>\n",
              "  </thead>\n",
              "  <tbody>\n",
              "    <tr>\n",
              "      <th>0</th>\n",
              "      <td>Apollo11</td>\n",
              "    </tr>\n",
              "    <tr>\n",
              "      <th>1</th>\n",
              "      <td>Apollo12</td>\n",
              "    </tr>\n",
              "    <tr>\n",
              "      <th>2</th>\n",
              "      <td>Apollo14</td>\n",
              "    </tr>\n",
              "    <tr>\n",
              "      <th>3</th>\n",
              "      <td>Apollo15</td>\n",
              "    </tr>\n",
              "    <tr>\n",
              "      <th>4</th>\n",
              "      <td>Apollo16</td>\n",
              "    </tr>\n",
              "    <tr>\n",
              "      <th>5</th>\n",
              "      <td>Apollo17</td>\n",
              "    </tr>\n",
              "  </tbody>\n",
              "</table>\n",
              "</div>"
            ],
            "text/plain": [
              "    Mission\n",
              "0  Apollo11\n",
              "1  Apollo12\n",
              "2  Apollo14\n",
              "3  Apollo15\n",
              "4  Apollo16\n",
              "5  Apollo17"
            ]
          },
          "execution_count": 106,
          "metadata": {},
          "output_type": "execute_result"
        }
      ],
      "source": [
        "#위의 값들을 mission 데이터프레임의 새로운 컬럼인 mission['Mission']에 할당한다.\n",
        "missions['Mission']=rocks['Mission'].unique()\n",
        "missions\n",
        "\n",
        "#df + ['칼럼명']써놓으면 컬럼이름이 있으면 덮어쓰고, 없으면 추가됨 좋은 기능~"
      ]
    },
    {
      "cell_type": "code",
      "execution_count": 107,
      "metadata": {},
      "outputs": [
        {
          "data": {
            "text/plain": [
              "Mission\n",
              "Apollo16    767\n",
              "Apollo17    756\n",
              "Apollo15    364\n",
              "Apollo14    207\n",
              "Apollo12     68\n",
              "Apollo11     67\n",
              "Name: count, dtype: int64"
            ]
          },
          "execution_count": 107,
          "metadata": {},
          "output_type": "execute_result"
        }
      ],
      "source": [
        "# 각 미션의 고유값과 그 개수를 확인합니다.\n",
        "rocks['Mission'].value_counts()"
      ]
    },
    {
      "cell_type": "code",
      "execution_count": 108,
      "metadata": {},
      "outputs": [
        {
          "data": {
            "text/plain": [
              "Subtype\n",
              "ImpactMelt      393\n",
              "Unsieved        271\n",
              "Regolith        248\n",
              "Fragmental      208\n",
              "Ilmenite        184\n",
              "<1mm            147\n",
              "1-2mm           145\n",
              "4-10mm          145\n",
              "2-4mm           145\n",
              "Olivine         115\n",
              "Anorthosite      41\n",
              "Pigeonite        37\n",
              "Unclassified     24\n",
              "fragmental       21\n",
              "unsieved         17\n",
              "Clod             17\n",
              "Cataclasite      16\n",
              "Agglomerate      10\n",
              "unstudied        10\n",
              "Feldspathic       8\n",
              "Glass             7\n",
              "Norite            4\n",
              "KREEP             3\n",
              "Cataclastic       3\n",
              "Cristobalite      1\n",
              ">10mm             1\n",
              "Unstudied         1\n",
              "notstudied        1\n",
              "Plagioclase       1\n",
              "Troctolite        1\n",
              "Pristine          1\n",
              "Name: count, dtype: int64"
            ]
          },
          "execution_count": 108,
          "metadata": {},
          "output_type": "execute_result"
        }
      ],
      "source": [
        "rocks['Subtype'].value_counts()"
      ]
    },
    {
      "cell_type": "markdown",
      "metadata": {},
      "source": [
        "#### 아폴로 임무별 샘플 중량 총합"
      ]
    },
    {
      "cell_type": "code",
      "execution_count": 109,
      "metadata": {
        "gather": {
          "logged": 1718683924585
        }
      },
      "outputs": [],
      "source": [
        "# rock_samples 데이터프레임의 'Mission' 컬럼을 기준으로 그룹으로 나눈다 -> groupby()\n",
        "# 나누어진 그룹에서 'weight (kg)' 컬럼의 총합을 구한다 -> groupby('Mission')['weight (kg)].sum()\n",
        "# 결국 아폴로 달탐사 임무별로 수집해온 암석 샘플 총중량을 구해서 새로운 변수에 할당한다. -> 이 변수는 시리즈이다.\n",
        "\n",
        "sample_total_weight = rocks.groupby('Mission')['Weight (kg)'].sum()"
      ]
    },
    {
      "cell_type": "code",
      "execution_count": 110,
      "metadata": {
        "gather": {
          "logged": 1718683924918
        }
      },
      "outputs": [
        {
          "data": {
            "text/html": [
              "<div>\n",
              "<style scoped>\n",
              "    .dataframe tbody tr th:only-of-type {\n",
              "        vertical-align: middle;\n",
              "    }\n",
              "\n",
              "    .dataframe tbody tr th {\n",
              "        vertical-align: top;\n",
              "    }\n",
              "\n",
              "    .dataframe thead th {\n",
              "        text-align: right;\n",
              "    }\n",
              "</style>\n",
              "<table border=\"1\" class=\"dataframe\">\n",
              "  <thead>\n",
              "    <tr style=\"text-align: right;\">\n",
              "      <th></th>\n",
              "      <th>Mission</th>\n",
              "      <th>Weight (kg)</th>\n",
              "    </tr>\n",
              "  </thead>\n",
              "  <tbody>\n",
              "    <tr>\n",
              "      <th>0</th>\n",
              "      <td>Apollo11</td>\n",
              "      <td>21.55424</td>\n",
              "    </tr>\n",
              "    <tr>\n",
              "      <th>1</th>\n",
              "      <td>Apollo12</td>\n",
              "      <td>34.34238</td>\n",
              "    </tr>\n",
              "    <tr>\n",
              "      <th>2</th>\n",
              "      <td>Apollo14</td>\n",
              "      <td>41.83363</td>\n",
              "    </tr>\n",
              "    <tr>\n",
              "      <th>3</th>\n",
              "      <td>Apollo15</td>\n",
              "      <td>75.39910</td>\n",
              "    </tr>\n",
              "    <tr>\n",
              "      <th>4</th>\n",
              "      <td>Apollo16</td>\n",
              "      <td>92.46262</td>\n",
              "    </tr>\n",
              "    <tr>\n",
              "      <th>5</th>\n",
              "      <td>Apollo17</td>\n",
              "      <td>109.44402</td>\n",
              "    </tr>\n",
              "  </tbody>\n",
              "</table>\n",
              "</div>"
            ],
            "text/plain": [
              "    Mission  Weight (kg)\n",
              "0  Apollo11     21.55424\n",
              "1  Apollo12     34.34238\n",
              "2  Apollo14     41.83363\n",
              "3  Apollo15     75.39910\n",
              "4  Apollo16     92.46262\n",
              "5  Apollo17    109.44402"
            ]
          },
          "execution_count": 110,
          "metadata": {},
          "output_type": "execute_result"
        }
      ],
      "source": [
        "# missions 데이터프레임과 sample_total_weight 시리즈를 병합한다.\n",
        "\n",
        "missions['Weight (kg)'] = sample_total_weight.values\n",
        "missions"
      ]
    },
    {
      "cell_type": "code",
      "execution_count": 111,
      "metadata": {
        "gather": {
          "logged": 1718683925125
        }
      },
      "outputs": [
        {
          "data": {
            "text/html": [
              "<div>\n",
              "<style scoped>\n",
              "    .dataframe tbody tr th:only-of-type {\n",
              "        vertical-align: middle;\n",
              "    }\n",
              "\n",
              "    .dataframe tbody tr th {\n",
              "        vertical-align: top;\n",
              "    }\n",
              "\n",
              "    .dataframe thead th {\n",
              "        text-align: right;\n",
              "    }\n",
              "</style>\n",
              "<table border=\"1\" class=\"dataframe\">\n",
              "  <thead>\n",
              "    <tr style=\"text-align: right;\">\n",
              "      <th></th>\n",
              "      <th>Mission</th>\n",
              "      <th>Sample W.(kg)</th>\n",
              "    </tr>\n",
              "  </thead>\n",
              "  <tbody>\n",
              "    <tr>\n",
              "      <th>0</th>\n",
              "      <td>Apollo11</td>\n",
              "      <td>21.55424</td>\n",
              "    </tr>\n",
              "    <tr>\n",
              "      <th>1</th>\n",
              "      <td>Apollo12</td>\n",
              "      <td>34.34238</td>\n",
              "    </tr>\n",
              "    <tr>\n",
              "      <th>2</th>\n",
              "      <td>Apollo14</td>\n",
              "      <td>41.83363</td>\n",
              "    </tr>\n",
              "    <tr>\n",
              "      <th>3</th>\n",
              "      <td>Apollo15</td>\n",
              "      <td>75.39910</td>\n",
              "    </tr>\n",
              "    <tr>\n",
              "      <th>4</th>\n",
              "      <td>Apollo16</td>\n",
              "      <td>92.46262</td>\n",
              "    </tr>\n",
              "    <tr>\n",
              "      <th>5</th>\n",
              "      <td>Apollo17</td>\n",
              "      <td>109.44402</td>\n",
              "    </tr>\n",
              "  </tbody>\n",
              "</table>\n",
              "</div>"
            ],
            "text/plain": [
              "    Mission  Sample W.(kg)\n",
              "0  Apollo11       21.55424\n",
              "1  Apollo12       34.34238\n",
              "2  Apollo14       41.83363\n",
              "3  Apollo15       75.39910\n",
              "4  Apollo16       92.46262\n",
              "5  Apollo17      109.44402"
            ]
          },
          "execution_count": 111,
          "metadata": {},
          "output_type": "execute_result"
        }
      ],
      "source": [
        "# 컬럼명을 'Weight (kg)' 을 'Sample weight (kg)'으로 변경한다.\n",
        "missions.rename(columns={'Weight (kg)': 'Sample W.(kg)'}, inplace=True)\n",
        "missions"
      ]
    },
    {
      "cell_type": "code",
      "execution_count": 112,
      "metadata": {},
      "outputs": [
        {
          "data": {
            "text/plain": [
              "0         NaN\n",
              "1    12.78814\n",
              "2     7.49125\n",
              "3    33.56547\n",
              "4    17.06352\n",
              "5    16.98140\n",
              "Name: Sample W.(kg), dtype: float64"
            ]
          },
          "execution_count": 112,
          "metadata": {},
          "output_type": "execute_result"
        }
      ],
      "source": [
        "# 임무간 중량 차이 구하기\n",
        "missions['Sample W.(kg)'].diff()"
      ]
    },
    {
      "cell_type": "code",
      "execution_count": 113,
      "metadata": {},
      "outputs": [
        {
          "data": {
            "text/plain": [
              "0         NaN\n",
              "1    12.78814\n",
              "2     7.49125\n",
              "3    33.56547\n",
              "4    17.06352\n",
              "5    16.98140\n",
              "Name: Sample W.(kg), dtype: float64"
            ]
          },
          "execution_count": 113,
          "metadata": {},
          "output_type": "execute_result"
        }
      ],
      "source": [
        "# 임무간 중량 차이 구하기  >> 열간 차이 구하는 거 \n",
        "missions['Sample W.(kg)'].diff()"
      ]
    },
    {
      "cell_type": "code",
      "execution_count": null,
      "metadata": {},
      "outputs": [],
      "source": []
    },
    {
      "cell_type": "code",
      "execution_count": 114,
      "metadata": {
        "gather": {
          "logged": 1718683925270
        }
      },
      "outputs": [],
      "source": [
        "# 아폴로 임무간의 수집해온 암석 샘플 총중량 차이를 나타내는 컬럼 'Weight diff'를 missions 데이터프레임에 추가\n",
        "missions['Weight diff'] = missions['Sample W.(kg)'].diff()"
      ]
    },
    {
      "cell_type": "code",
      "execution_count": 115,
      "metadata": {
        "gather": {
          "logged": 1718683925470
        }
      },
      "outputs": [
        {
          "data": {
            "text/html": [
              "<div>\n",
              "<style scoped>\n",
              "    .dataframe tbody tr th:only-of-type {\n",
              "        vertical-align: middle;\n",
              "    }\n",
              "\n",
              "    .dataframe tbody tr th {\n",
              "        vertical-align: top;\n",
              "    }\n",
              "\n",
              "    .dataframe thead th {\n",
              "        text-align: right;\n",
              "    }\n",
              "</style>\n",
              "<table border=\"1\" class=\"dataframe\">\n",
              "  <thead>\n",
              "    <tr style=\"text-align: right;\">\n",
              "      <th></th>\n",
              "      <th>Mission</th>\n",
              "      <th>Sample W.(kg)</th>\n",
              "      <th>Weight diff</th>\n",
              "    </tr>\n",
              "  </thead>\n",
              "  <tbody>\n",
              "    <tr>\n",
              "      <th>0</th>\n",
              "      <td>Apollo11</td>\n",
              "      <td>21.55424</td>\n",
              "      <td>0.00000</td>\n",
              "    </tr>\n",
              "    <tr>\n",
              "      <th>1</th>\n",
              "      <td>Apollo12</td>\n",
              "      <td>34.34238</td>\n",
              "      <td>12.78814</td>\n",
              "    </tr>\n",
              "    <tr>\n",
              "      <th>2</th>\n",
              "      <td>Apollo14</td>\n",
              "      <td>41.83363</td>\n",
              "      <td>7.49125</td>\n",
              "    </tr>\n",
              "    <tr>\n",
              "      <th>3</th>\n",
              "      <td>Apollo15</td>\n",
              "      <td>75.39910</td>\n",
              "      <td>33.56547</td>\n",
              "    </tr>\n",
              "    <tr>\n",
              "      <th>4</th>\n",
              "      <td>Apollo16</td>\n",
              "      <td>92.46262</td>\n",
              "      <td>17.06352</td>\n",
              "    </tr>\n",
              "    <tr>\n",
              "      <th>5</th>\n",
              "      <td>Apollo17</td>\n",
              "      <td>109.44402</td>\n",
              "      <td>16.98140</td>\n",
              "    </tr>\n",
              "  </tbody>\n",
              "</table>\n",
              "</div>"
            ],
            "text/plain": [
              "    Mission  Sample W.(kg)  Weight diff\n",
              "0  Apollo11       21.55424      0.00000\n",
              "1  Apollo12       34.34238     12.78814\n",
              "2  Apollo14       41.83363      7.49125\n",
              "3  Apollo15       75.39910     33.56547\n",
              "4  Apollo16       92.46262     17.06352\n",
              "5  Apollo17      109.44402     16.98140"
            ]
          },
          "execution_count": 115,
          "metadata": {},
          "output_type": "execute_result"
        }
      ],
      "source": [
        "# 아폴로 11은 그 전 달탐사가 없어 NaN 값을 가지므로 결측치 0으로 채우기\n",
        "missions.fillna(value=0, inplace=True)\n",
        "missions"
      ]
    },
    {
      "cell_type": "code",
      "execution_count": 116,
      "metadata": {
        "gather": {
          "logged": 1718683925665
        }
      },
      "outputs": [
        {
          "data": {
            "text/html": [
              "<div>\n",
              "<style scoped>\n",
              "    .dataframe tbody tr th:only-of-type {\n",
              "        vertical-align: middle;\n",
              "    }\n",
              "\n",
              "    .dataframe tbody tr th {\n",
              "        vertical-align: top;\n",
              "    }\n",
              "\n",
              "    .dataframe thead th {\n",
              "        text-align: right;\n",
              "    }\n",
              "</style>\n",
              "<table border=\"1\" class=\"dataframe\">\n",
              "  <thead>\n",
              "    <tr style=\"text-align: right;\">\n",
              "      <th></th>\n",
              "      <th>Mission</th>\n",
              "      <th>Sample W.(kg)</th>\n",
              "      <th>Weight diff</th>\n",
              "      <th>Luner Module(LM)</th>\n",
              "      <th>LM mass(kg)</th>\n",
              "    </tr>\n",
              "  </thead>\n",
              "  <tbody>\n",
              "    <tr>\n",
              "      <th>0</th>\n",
              "      <td>Apollo11</td>\n",
              "      <td>21.55424</td>\n",
              "      <td>0.00000</td>\n",
              "      <td>Eagle (LM-5)</td>\n",
              "      <td>15103</td>\n",
              "    </tr>\n",
              "    <tr>\n",
              "      <th>1</th>\n",
              "      <td>Apollo12</td>\n",
              "      <td>34.34238</td>\n",
              "      <td>12.78814</td>\n",
              "      <td>Intrepid (LM-6)</td>\n",
              "      <td>15235</td>\n",
              "    </tr>\n",
              "    <tr>\n",
              "      <th>2</th>\n",
              "      <td>Apollo14</td>\n",
              "      <td>41.83363</td>\n",
              "      <td>7.49125</td>\n",
              "      <td>Antares (LM-8)</td>\n",
              "      <td>15264</td>\n",
              "    </tr>\n",
              "    <tr>\n",
              "      <th>3</th>\n",
              "      <td>Apollo15</td>\n",
              "      <td>75.39910</td>\n",
              "      <td>33.56547</td>\n",
              "      <td>Falcon (LM-10)</td>\n",
              "      <td>16430</td>\n",
              "    </tr>\n",
              "    <tr>\n",
              "      <th>4</th>\n",
              "      <td>Apollo16</td>\n",
              "      <td>92.46262</td>\n",
              "      <td>17.06352</td>\n",
              "      <td>Orion (LM-11)</td>\n",
              "      <td>16445</td>\n",
              "    </tr>\n",
              "    <tr>\n",
              "      <th>5</th>\n",
              "      <td>Apollo17</td>\n",
              "      <td>109.44402</td>\n",
              "      <td>16.98140</td>\n",
              "      <td>Challenger (LM-12)</td>\n",
              "      <td>16456</td>\n",
              "    </tr>\n",
              "  </tbody>\n",
              "</table>\n",
              "</div>"
            ],
            "text/plain": [
              "    Mission  Sample W.(kg)  Weight diff    Luner Module(LM)  LM mass(kg)\n",
              "0  Apollo11       21.55424      0.00000        Eagle (LM-5)        15103\n",
              "1  Apollo12       34.34238     12.78814     Intrepid (LM-6)        15235\n",
              "2  Apollo14       41.83363      7.49125      Antares (LM-8)        15264\n",
              "3  Apollo15       75.39910     33.56547      Falcon (LM-10)        16430\n",
              "4  Apollo16       92.46262     17.06352       Orion (LM-11)        16445\n",
              "5  Apollo17      109.44402     16.98140  Challenger (LM-12)        16456"
            ]
          },
          "execution_count": 116,
          "metadata": {},
          "output_type": "execute_result"
        }
      ],
      "source": [
        "# 달탐사선 = 달모듈 + 명령모듈 --> 이 둘을 합쳐서 승무원 모듈\n",
        "# 달 모듈의 이름, 중량 컬럼을 missions 데이터프레임에 추가\n",
        "달모듈이름 = ['Eagle (LM-5)', 'Intrepid (LM-6)', 'Antares (LM-8)', 'Falcon (LM-10)', 'Orion (LM-11)', 'Challenger (LM-12)']\n",
        "달모듈중량 = [15103, 15235, 15264, 16430, 16445, 16456]\n",
        "\n",
        "missions['Luner Module(LM)'] = 달모듈이름\n",
        "missions['LM mass(kg)'] =달모듈중량\n",
        "missions"
      ]
    },
    {
      "cell_type": "code",
      "execution_count": 117,
      "metadata": {
        "gather": {
          "logged": 1718683925862
        }
      },
      "outputs": [
        {
          "data": {
            "text/html": [
              "<div>\n",
              "<style scoped>\n",
              "    .dataframe tbody tr th:only-of-type {\n",
              "        vertical-align: middle;\n",
              "    }\n",
              "\n",
              "    .dataframe tbody tr th {\n",
              "        vertical-align: top;\n",
              "    }\n",
              "\n",
              "    .dataframe thead th {\n",
              "        text-align: right;\n",
              "    }\n",
              "</style>\n",
              "<table border=\"1\" class=\"dataframe\">\n",
              "  <thead>\n",
              "    <tr style=\"text-align: right;\">\n",
              "      <th></th>\n",
              "      <th>Mission</th>\n",
              "      <th>Sample W.(kg)</th>\n",
              "      <th>Weight diff</th>\n",
              "      <th>Luner Module(LM)</th>\n",
              "      <th>LM mass(kg)</th>\n",
              "      <th>LM mass diff</th>\n",
              "    </tr>\n",
              "  </thead>\n",
              "  <tbody>\n",
              "    <tr>\n",
              "      <th>0</th>\n",
              "      <td>Apollo11</td>\n",
              "      <td>21.55424</td>\n",
              "      <td>0.00000</td>\n",
              "      <td>Eagle (LM-5)</td>\n",
              "      <td>15103</td>\n",
              "      <td>NaN</td>\n",
              "    </tr>\n",
              "    <tr>\n",
              "      <th>1</th>\n",
              "      <td>Apollo12</td>\n",
              "      <td>34.34238</td>\n",
              "      <td>12.78814</td>\n",
              "      <td>Intrepid (LM-6)</td>\n",
              "      <td>15235</td>\n",
              "      <td>132.0</td>\n",
              "    </tr>\n",
              "    <tr>\n",
              "      <th>2</th>\n",
              "      <td>Apollo14</td>\n",
              "      <td>41.83363</td>\n",
              "      <td>7.49125</td>\n",
              "      <td>Antares (LM-8)</td>\n",
              "      <td>15264</td>\n",
              "      <td>29.0</td>\n",
              "    </tr>\n",
              "    <tr>\n",
              "      <th>3</th>\n",
              "      <td>Apollo15</td>\n",
              "      <td>75.39910</td>\n",
              "      <td>33.56547</td>\n",
              "      <td>Falcon (LM-10)</td>\n",
              "      <td>16430</td>\n",
              "      <td>1166.0</td>\n",
              "    </tr>\n",
              "    <tr>\n",
              "      <th>4</th>\n",
              "      <td>Apollo16</td>\n",
              "      <td>92.46262</td>\n",
              "      <td>17.06352</td>\n",
              "      <td>Orion (LM-11)</td>\n",
              "      <td>16445</td>\n",
              "      <td>15.0</td>\n",
              "    </tr>\n",
              "    <tr>\n",
              "      <th>5</th>\n",
              "      <td>Apollo17</td>\n",
              "      <td>109.44402</td>\n",
              "      <td>16.98140</td>\n",
              "      <td>Challenger (LM-12)</td>\n",
              "      <td>16456</td>\n",
              "      <td>11.0</td>\n",
              "    </tr>\n",
              "  </tbody>\n",
              "</table>\n",
              "</div>"
            ],
            "text/plain": [
              "    Mission  Sample W.(kg)  Weight diff    Luner Module(LM)  LM mass(kg)  \\\n",
              "0  Apollo11       21.55424      0.00000        Eagle (LM-5)        15103   \n",
              "1  Apollo12       34.34238     12.78814     Intrepid (LM-6)        15235   \n",
              "2  Apollo14       41.83363      7.49125      Antares (LM-8)        15264   \n",
              "3  Apollo15       75.39910     33.56547      Falcon (LM-10)        16430   \n",
              "4  Apollo16       92.46262     17.06352       Orion (LM-11)        16445   \n",
              "5  Apollo17      109.44402     16.98140  Challenger (LM-12)        16456   \n",
              "\n",
              "   LM mass diff  \n",
              "0           NaN  \n",
              "1         132.0  \n",
              "2          29.0  \n",
              "3        1166.0  \n",
              "4          15.0  \n",
              "5          11.0  "
            ]
          },
          "execution_count": 117,
          "metadata": {},
          "output_type": "execute_result"
        }
      ],
      "source": [
        "# 아폴로 임무별로 달모듈 중량 차이를 구해서 새로운 컬럼 'LM mass diff'를 만들어서  missions 데이터프레임에 추가\n",
        "missions['LM mass diff'] =missions['LM mass(kg)'].diff()\n",
        "missions"
      ]
    },
    {
      "cell_type": "code",
      "execution_count": 118,
      "metadata": {
        "gather": {
          "logged": 1718683926130
        }
      },
      "outputs": [],
      "source": [
        "# 결측치가 있다면 0으로 채우기 **fillna > 값없는거 채우기 fill na !\n",
        "#아래 순서대로\n"
      ]
    },
    {
      "cell_type": "code",
      "execution_count": 119,
      "metadata": {},
      "outputs": [
        {
          "data": {
            "text/plain": [
              "Mission             0\n",
              "Sample W.(kg)       0\n",
              "Weight diff         0\n",
              "Luner Module(LM)    0\n",
              "LM mass(kg)         0\n",
              "LM mass diff        1\n",
              "dtype: int64"
            ]
          },
          "execution_count": 119,
          "metadata": {},
          "output_type": "execute_result"
        }
      ],
      "source": [
        "#결측치 찾기\n",
        "missions.isnull().sum()"
      ]
    },
    {
      "cell_type": "code",
      "execution_count": 120,
      "metadata": {},
      "outputs": [
        {
          "data": {
            "text/html": [
              "<div>\n",
              "<style scoped>\n",
              "    .dataframe tbody tr th:only-of-type {\n",
              "        vertical-align: middle;\n",
              "    }\n",
              "\n",
              "    .dataframe tbody tr th {\n",
              "        vertical-align: top;\n",
              "    }\n",
              "\n",
              "    .dataframe thead th {\n",
              "        text-align: right;\n",
              "    }\n",
              "</style>\n",
              "<table border=\"1\" class=\"dataframe\">\n",
              "  <thead>\n",
              "    <tr style=\"text-align: right;\">\n",
              "      <th></th>\n",
              "      <th>Mission</th>\n",
              "      <th>Sample W.(kg)</th>\n",
              "      <th>Weight diff</th>\n",
              "      <th>Luner Module(LM)</th>\n",
              "      <th>LM mass(kg)</th>\n",
              "      <th>LM mass diff</th>\n",
              "    </tr>\n",
              "  </thead>\n",
              "  <tbody>\n",
              "    <tr>\n",
              "      <th>0</th>\n",
              "      <td>Apollo11</td>\n",
              "      <td>21.55424</td>\n",
              "      <td>0.0</td>\n",
              "      <td>Eagle (LM-5)</td>\n",
              "      <td>15103</td>\n",
              "      <td>NaN</td>\n",
              "    </tr>\n",
              "  </tbody>\n",
              "</table>\n",
              "</div>"
            ],
            "text/plain": [
              "    Mission  Sample W.(kg)  Weight diff Luner Module(LM)  LM mass(kg)  \\\n",
              "0  Apollo11       21.55424          0.0     Eagle (LM-5)        15103   \n",
              "\n",
              "   LM mass diff  \n",
              "0           NaN  "
            ]
          },
          "execution_count": 120,
          "metadata": {},
          "output_type": "execute_result"
        }
      ],
      "source": [
        "#결측치 처리 -> 어디에 있는지 추출\n",
        "missions['LM mass diff'].isnull() #+어디서있는지 리스트로 뽑기\n",
        "missions[missions['LM mass diff'].isnull()]"
      ]
    },
    {
      "cell_type": "code",
      "execution_count": 121,
      "metadata": {},
      "outputs": [
        {
          "data": {
            "text/html": [
              "<div>\n",
              "<style scoped>\n",
              "    .dataframe tbody tr th:only-of-type {\n",
              "        vertical-align: middle;\n",
              "    }\n",
              "\n",
              "    .dataframe tbody tr th {\n",
              "        vertical-align: top;\n",
              "    }\n",
              "\n",
              "    .dataframe thead th {\n",
              "        text-align: right;\n",
              "    }\n",
              "</style>\n",
              "<table border=\"1\" class=\"dataframe\">\n",
              "  <thead>\n",
              "    <tr style=\"text-align: right;\">\n",
              "      <th></th>\n",
              "      <th>Mission</th>\n",
              "      <th>Sample W.(kg)</th>\n",
              "      <th>Weight diff</th>\n",
              "      <th>Luner Module(LM)</th>\n",
              "      <th>LM mass(kg)</th>\n",
              "      <th>LM mass diff</th>\n",
              "    </tr>\n",
              "  </thead>\n",
              "  <tbody>\n",
              "    <tr>\n",
              "      <th>0</th>\n",
              "      <td>Apollo11</td>\n",
              "      <td>21.55424</td>\n",
              "      <td>0.00000</td>\n",
              "      <td>Eagle (LM-5)</td>\n",
              "      <td>15103</td>\n",
              "      <td>0.0</td>\n",
              "    </tr>\n",
              "    <tr>\n",
              "      <th>1</th>\n",
              "      <td>Apollo12</td>\n",
              "      <td>34.34238</td>\n",
              "      <td>12.78814</td>\n",
              "      <td>Intrepid (LM-6)</td>\n",
              "      <td>15235</td>\n",
              "      <td>132.0</td>\n",
              "    </tr>\n",
              "    <tr>\n",
              "      <th>2</th>\n",
              "      <td>Apollo14</td>\n",
              "      <td>41.83363</td>\n",
              "      <td>7.49125</td>\n",
              "      <td>Antares (LM-8)</td>\n",
              "      <td>15264</td>\n",
              "      <td>29.0</td>\n",
              "    </tr>\n",
              "    <tr>\n",
              "      <th>3</th>\n",
              "      <td>Apollo15</td>\n",
              "      <td>75.39910</td>\n",
              "      <td>33.56547</td>\n",
              "      <td>Falcon (LM-10)</td>\n",
              "      <td>16430</td>\n",
              "      <td>1166.0</td>\n",
              "    </tr>\n",
              "    <tr>\n",
              "      <th>4</th>\n",
              "      <td>Apollo16</td>\n",
              "      <td>92.46262</td>\n",
              "      <td>17.06352</td>\n",
              "      <td>Orion (LM-11)</td>\n",
              "      <td>16445</td>\n",
              "      <td>15.0</td>\n",
              "    </tr>\n",
              "    <tr>\n",
              "      <th>5</th>\n",
              "      <td>Apollo17</td>\n",
              "      <td>109.44402</td>\n",
              "      <td>16.98140</td>\n",
              "      <td>Challenger (LM-12)</td>\n",
              "      <td>16456</td>\n",
              "      <td>11.0</td>\n",
              "    </tr>\n",
              "  </tbody>\n",
              "</table>\n",
              "</div>"
            ],
            "text/plain": [
              "    Mission  Sample W.(kg)  Weight diff    Luner Module(LM)  LM mass(kg)  \\\n",
              "0  Apollo11       21.55424      0.00000        Eagle (LM-5)        15103   \n",
              "1  Apollo12       34.34238     12.78814     Intrepid (LM-6)        15235   \n",
              "2  Apollo14       41.83363      7.49125      Antares (LM-8)        15264   \n",
              "3  Apollo15       75.39910     33.56547      Falcon (LM-10)        16430   \n",
              "4  Apollo16       92.46262     17.06352       Orion (LM-11)        16445   \n",
              "5  Apollo17      109.44402     16.98140  Challenger (LM-12)        16456   \n",
              "\n",
              "   LM mass diff  \n",
              "0           0.0  \n",
              "1         132.0  \n",
              "2          29.0  \n",
              "3        1166.0  \n",
              "4          15.0  \n",
              "5          11.0  "
            ]
          },
          "execution_count": 121,
          "metadata": {},
          "output_type": "execute_result"
        }
      ],
      "source": [
        "missions.fillna(value=0, inplace=True)\n",
        "missions"
      ]
    },
    {
      "cell_type": "code",
      "execution_count": 122,
      "metadata": {
        "gather": {
          "logged": 1718683926455
        }
      },
      "outputs": [
        {
          "data": {
            "text/html": [
              "<div>\n",
              "<style scoped>\n",
              "    .dataframe tbody tr th:only-of-type {\n",
              "        vertical-align: middle;\n",
              "    }\n",
              "\n",
              "    .dataframe tbody tr th {\n",
              "        vertical-align: top;\n",
              "    }\n",
              "\n",
              "    .dataframe thead th {\n",
              "        text-align: right;\n",
              "    }\n",
              "</style>\n",
              "<table border=\"1\" class=\"dataframe\">\n",
              "  <thead>\n",
              "    <tr style=\"text-align: right;\">\n",
              "      <th></th>\n",
              "      <th>Mission</th>\n",
              "      <th>Sample W.(kg)</th>\n",
              "      <th>Weight diff</th>\n",
              "      <th>Luner Module(LM)</th>\n",
              "      <th>LM mass(kg)</th>\n",
              "      <th>LM mass diff</th>\n",
              "      <th>Commend Module(CM)</th>\n",
              "      <th>CM mass(kg)</th>\n",
              "    </tr>\n",
              "  </thead>\n",
              "  <tbody>\n",
              "    <tr>\n",
              "      <th>0</th>\n",
              "      <td>Apollo11</td>\n",
              "      <td>21.55424</td>\n",
              "      <td>0.00000</td>\n",
              "      <td>Eagle (LM-5)</td>\n",
              "      <td>15103</td>\n",
              "      <td>0.0</td>\n",
              "      <td>Columbia (CSM-107]</td>\n",
              "      <td>5560</td>\n",
              "    </tr>\n",
              "    <tr>\n",
              "      <th>1</th>\n",
              "      <td>Apollo12</td>\n",
              "      <td>34.34238</td>\n",
              "      <td>12.78814</td>\n",
              "      <td>Intrepid (LM-6)</td>\n",
              "      <td>15235</td>\n",
              "      <td>132.0</td>\n",
              "      <td>Yankee Clipper (CM-100])</td>\n",
              "      <td>5609</td>\n",
              "    </tr>\n",
              "    <tr>\n",
              "      <th>2</th>\n",
              "      <td>Apollo14</td>\n",
              "      <td>41.83363</td>\n",
              "      <td>7.49125</td>\n",
              "      <td>Antares (LM-8)</td>\n",
              "      <td>15264</td>\n",
              "      <td>29.0</td>\n",
              "      <td>Kitty Hawk (CM-110)</td>\n",
              "      <td>5758</td>\n",
              "    </tr>\n",
              "    <tr>\n",
              "      <th>3</th>\n",
              "      <td>Apollo15</td>\n",
              "      <td>75.39910</td>\n",
              "      <td>33.56547</td>\n",
              "      <td>Falcon (LM-10)</td>\n",
              "      <td>16430</td>\n",
              "      <td>1166.0</td>\n",
              "      <td>Endeavor (CM-112)</td>\n",
              "      <td>5875</td>\n",
              "    </tr>\n",
              "    <tr>\n",
              "      <th>4</th>\n",
              "      <td>Apollo16</td>\n",
              "      <td>92.46262</td>\n",
              "      <td>17.06352</td>\n",
              "      <td>Orion (LM-11)</td>\n",
              "      <td>16445</td>\n",
              "      <td>15.0</td>\n",
              "      <td>Casper (CM-113)</td>\n",
              "      <td>5840</td>\n",
              "    </tr>\n",
              "    <tr>\n",
              "      <th>5</th>\n",
              "      <td>Apollo17</td>\n",
              "      <td>109.44402</td>\n",
              "      <td>16.98140</td>\n",
              "      <td>Challenger (LM-12)</td>\n",
              "      <td>16456</td>\n",
              "      <td>11.0</td>\n",
              "      <td>America (CM-114)</td>\n",
              "      <td>5960</td>\n",
              "    </tr>\n",
              "  </tbody>\n",
              "</table>\n",
              "</div>"
            ],
            "text/plain": [
              "    Mission  Sample W.(kg)  Weight diff    Luner Module(LM)  LM mass(kg)  \\\n",
              "0  Apollo11       21.55424      0.00000        Eagle (LM-5)        15103   \n",
              "1  Apollo12       34.34238     12.78814     Intrepid (LM-6)        15235   \n",
              "2  Apollo14       41.83363      7.49125      Antares (LM-8)        15264   \n",
              "3  Apollo15       75.39910     33.56547      Falcon (LM-10)        16430   \n",
              "4  Apollo16       92.46262     17.06352       Orion (LM-11)        16445   \n",
              "5  Apollo17      109.44402     16.98140  Challenger (LM-12)        16456   \n",
              "\n",
              "   LM mass diff        Commend Module(CM)  CM mass(kg)  \n",
              "0           0.0        Columbia (CSM-107]         5560  \n",
              "1         132.0  Yankee Clipper (CM-100])         5609  \n",
              "2          29.0       Kitty Hawk (CM-110)         5758  \n",
              "3        1166.0         Endeavor (CM-112)         5875  \n",
              "4          15.0           Casper (CM-113)         5840  \n",
              "5          11.0          America (CM-114)         5960  "
            ]
          },
          "execution_count": 122,
          "metadata": {},
          "output_type": "execute_result"
        }
      ],
      "source": [
        "#명령모듈의 이름, 중량 컬럼을 missionms 데이터프레임에 추가\n",
        "명령모듈이름 = ['Columbia (CSM-107]', 'Yankee Clipper (CM-100])', 'Kitty Hawk (CM-110)', 'Endeavor (CM-112)', 'Casper (CM-113)', 'America (CM-114)']\n",
        "명령모듈중량 = [5560, 5609, 5758, 5875, 5840, 5960]\n",
        "\n",
        "missions['Commend Module(CM)'] = 명령모듈이름\n",
        "missions['CM mass(kg)']= 명령모듈중량\n",
        "missions\n",
        "\n"
      ]
    },
    {
      "cell_type": "code",
      "execution_count": 123,
      "metadata": {},
      "outputs": [
        {
          "data": {
            "text/html": [
              "<div>\n",
              "<style scoped>\n",
              "    .dataframe tbody tr th:only-of-type {\n",
              "        vertical-align: middle;\n",
              "    }\n",
              "\n",
              "    .dataframe tbody tr th {\n",
              "        vertical-align: top;\n",
              "    }\n",
              "\n",
              "    .dataframe thead th {\n",
              "        text-align: right;\n",
              "    }\n",
              "</style>\n",
              "<table border=\"1\" class=\"dataframe\">\n",
              "  <thead>\n",
              "    <tr style=\"text-align: right;\">\n",
              "      <th></th>\n",
              "      <th>Mission</th>\n",
              "      <th>Sample W.(kg)</th>\n",
              "      <th>Weight diff</th>\n",
              "      <th>Luner Module(LM)</th>\n",
              "    </tr>\n",
              "  </thead>\n",
              "  <tbody>\n",
              "    <tr>\n",
              "      <th>0</th>\n",
              "      <td>Apollo11</td>\n",
              "      <td>21.55424</td>\n",
              "      <td>0.00000</td>\n",
              "      <td>Eagle (LM-5)</td>\n",
              "    </tr>\n",
              "    <tr>\n",
              "      <th>1</th>\n",
              "      <td>Apollo12</td>\n",
              "      <td>34.34238</td>\n",
              "      <td>12.78814</td>\n",
              "      <td>Intrepid (LM-6)</td>\n",
              "    </tr>\n",
              "    <tr>\n",
              "      <th>2</th>\n",
              "      <td>Apollo14</td>\n",
              "      <td>41.83363</td>\n",
              "      <td>7.49125</td>\n",
              "      <td>Antares (LM-8)</td>\n",
              "    </tr>\n",
              "    <tr>\n",
              "      <th>3</th>\n",
              "      <td>Apollo15</td>\n",
              "      <td>75.39910</td>\n",
              "      <td>33.56547</td>\n",
              "      <td>Falcon (LM-10)</td>\n",
              "    </tr>\n",
              "    <tr>\n",
              "      <th>4</th>\n",
              "      <td>Apollo16</td>\n",
              "      <td>92.46262</td>\n",
              "      <td>17.06352</td>\n",
              "      <td>Orion (LM-11)</td>\n",
              "    </tr>\n",
              "    <tr>\n",
              "      <th>5</th>\n",
              "      <td>Apollo17</td>\n",
              "      <td>109.44402</td>\n",
              "      <td>16.98140</td>\n",
              "      <td>Challenger (LM-12)</td>\n",
              "    </tr>\n",
              "  </tbody>\n",
              "</table>\n",
              "</div>"
            ],
            "text/plain": [
              "    Mission  Sample W.(kg)  Weight diff    Luner Module(LM)\n",
              "0  Apollo11       21.55424      0.00000        Eagle (LM-5)\n",
              "1  Apollo12       34.34238     12.78814     Intrepid (LM-6)\n",
              "2  Apollo14       41.83363      7.49125      Antares (LM-8)\n",
              "3  Apollo15       75.39910     33.56547      Falcon (LM-10)\n",
              "4  Apollo16       92.46262     17.06352       Orion (LM-11)\n",
              "5  Apollo17      109.44402     16.98140  Challenger (LM-12)"
            ]
          },
          "execution_count": 123,
          "metadata": {},
          "output_type": "execute_result"
        }
      ],
      "source": [
        "missions = missions.iloc[:, :-4]\n",
        "missions"
      ]
    },
    {
      "cell_type": "code",
      "execution_count": 124,
      "metadata": {},
      "outputs": [
        {
          "data": {
            "text/html": [
              "<div>\n",
              "<style scoped>\n",
              "    .dataframe tbody tr th:only-of-type {\n",
              "        vertical-align: middle;\n",
              "    }\n",
              "\n",
              "    .dataframe tbody tr th {\n",
              "        vertical-align: top;\n",
              "    }\n",
              "\n",
              "    .dataframe thead th {\n",
              "        text-align: right;\n",
              "    }\n",
              "</style>\n",
              "<table border=\"1\" class=\"dataframe\">\n",
              "  <thead>\n",
              "    <tr style=\"text-align: right;\">\n",
              "      <th></th>\n",
              "      <th>Mission</th>\n",
              "      <th>Sample W.(kg)</th>\n",
              "      <th>Weight diff</th>\n",
              "      <th>Luner Module(LM)</th>\n",
              "      <th>Commend Module(CM)</th>\n",
              "      <th>CM mass(kg)</th>\n",
              "    </tr>\n",
              "  </thead>\n",
              "  <tbody>\n",
              "    <tr>\n",
              "      <th>0</th>\n",
              "      <td>Apollo11</td>\n",
              "      <td>21.55424</td>\n",
              "      <td>0.00000</td>\n",
              "      <td>Eagle (LM-5)</td>\n",
              "      <td>Columbia (CSM-107]</td>\n",
              "      <td>5560</td>\n",
              "    </tr>\n",
              "    <tr>\n",
              "      <th>1</th>\n",
              "      <td>Apollo12</td>\n",
              "      <td>34.34238</td>\n",
              "      <td>12.78814</td>\n",
              "      <td>Intrepid (LM-6)</td>\n",
              "      <td>Yankee Clipper (CM-100])</td>\n",
              "      <td>5609</td>\n",
              "    </tr>\n",
              "    <tr>\n",
              "      <th>2</th>\n",
              "      <td>Apollo14</td>\n",
              "      <td>41.83363</td>\n",
              "      <td>7.49125</td>\n",
              "      <td>Antares (LM-8)</td>\n",
              "      <td>Kitty Hawk (CM-110)</td>\n",
              "      <td>5758</td>\n",
              "    </tr>\n",
              "    <tr>\n",
              "      <th>3</th>\n",
              "      <td>Apollo15</td>\n",
              "      <td>75.39910</td>\n",
              "      <td>33.56547</td>\n",
              "      <td>Falcon (LM-10)</td>\n",
              "      <td>Endeavor (CM-112)</td>\n",
              "      <td>5875</td>\n",
              "    </tr>\n",
              "    <tr>\n",
              "      <th>4</th>\n",
              "      <td>Apollo16</td>\n",
              "      <td>92.46262</td>\n",
              "      <td>17.06352</td>\n",
              "      <td>Orion (LM-11)</td>\n",
              "      <td>Casper (CM-113)</td>\n",
              "      <td>5840</td>\n",
              "    </tr>\n",
              "    <tr>\n",
              "      <th>5</th>\n",
              "      <td>Apollo17</td>\n",
              "      <td>109.44402</td>\n",
              "      <td>16.98140</td>\n",
              "      <td>Challenger (LM-12)</td>\n",
              "      <td>America (CM-114)</td>\n",
              "      <td>5960</td>\n",
              "    </tr>\n",
              "  </tbody>\n",
              "</table>\n",
              "</div>"
            ],
            "text/plain": [
              "    Mission  Sample W.(kg)  Weight diff    Luner Module(LM)  \\\n",
              "0  Apollo11       21.55424      0.00000        Eagle (LM-5)   \n",
              "1  Apollo12       34.34238     12.78814     Intrepid (LM-6)   \n",
              "2  Apollo14       41.83363      7.49125      Antares (LM-8)   \n",
              "3  Apollo15       75.39910     33.56547      Falcon (LM-10)   \n",
              "4  Apollo16       92.46262     17.06352       Orion (LM-11)   \n",
              "5  Apollo17      109.44402     16.98140  Challenger (LM-12)   \n",
              "\n",
              "         Commend Module(CM)  CM mass(kg)  \n",
              "0        Columbia (CSM-107]         5560  \n",
              "1  Yankee Clipper (CM-100])         5609  \n",
              "2       Kitty Hawk (CM-110)         5758  \n",
              "3         Endeavor (CM-112)         5875  \n",
              "4           Casper (CM-113)         5840  \n",
              "5          America (CM-114)         5960  "
            ]
          },
          "execution_count": 124,
          "metadata": {},
          "output_type": "execute_result"
        }
      ],
      "source": [
        "명령모듈이름 = ['Columbia (CSM-107]', 'Yankee Clipper (CM-100])', 'Kitty Hawk (CM-110)', 'Endeavor (CM-112)', 'Casper (CM-113)', 'America (CM-114)']\n",
        "명령모듈중량 = [5560, 5609, 5758, 5875, 5840, 5960]\n",
        "\n",
        "missions['Commend Module(CM)'] = 명령모듈이름\n",
        "missions['CM mass(kg)']= 명령모듈중량\n",
        "missions"
      ]
    },
    {
      "cell_type": "code",
      "execution_count": 125,
      "metadata": {},
      "outputs": [
        {
          "ename": "KeyError",
          "evalue": "'LM mass(kg)'",
          "output_type": "error",
          "traceback": [
            "\u001b[31m---------------------------------------------------------------------------\u001b[39m",
            "\u001b[31mKeyError\u001b[39m                                  Traceback (most recent call last)",
            "\u001b[36mFile \u001b[39m\u001b[32mc:\\Users\\EL90\\AppData\\Local\\Programs\\Python\\Python311\\Lib\\site-packages\\pandas\\core\\indexes\\base.py:3812\u001b[39m, in \u001b[36mIndex.get_loc\u001b[39m\u001b[34m(self, key)\u001b[39m\n\u001b[32m   3811\u001b[39m \u001b[38;5;28;01mtry\u001b[39;00m:\n\u001b[32m-> \u001b[39m\u001b[32m3812\u001b[39m     \u001b[38;5;28;01mreturn\u001b[39;00m \u001b[38;5;28;43mself\u001b[39;49m\u001b[43m.\u001b[49m\u001b[43m_engine\u001b[49m\u001b[43m.\u001b[49m\u001b[43mget_loc\u001b[49m\u001b[43m(\u001b[49m\u001b[43mcasted_key\u001b[49m\u001b[43m)\u001b[49m\n\u001b[32m   3813\u001b[39m \u001b[38;5;28;01mexcept\u001b[39;00m \u001b[38;5;167;01mKeyError\u001b[39;00m \u001b[38;5;28;01mas\u001b[39;00m err:\n",
            "\u001b[36mFile \u001b[39m\u001b[32mpandas/_libs/index.pyx:167\u001b[39m, in \u001b[36mpandas._libs.index.IndexEngine.get_loc\u001b[39m\u001b[34m()\u001b[39m\n",
            "\u001b[36mFile \u001b[39m\u001b[32mpandas/_libs/index.pyx:196\u001b[39m, in \u001b[36mpandas._libs.index.IndexEngine.get_loc\u001b[39m\u001b[34m()\u001b[39m\n",
            "\u001b[36mFile \u001b[39m\u001b[32mpandas/_libs/hashtable_class_helper.pxi:7088\u001b[39m, in \u001b[36mpandas._libs.hashtable.PyObjectHashTable.get_item\u001b[39m\u001b[34m()\u001b[39m\n",
            "\u001b[36mFile \u001b[39m\u001b[32mpandas/_libs/hashtable_class_helper.pxi:7096\u001b[39m, in \u001b[36mpandas._libs.hashtable.PyObjectHashTable.get_item\u001b[39m\u001b[34m()\u001b[39m\n",
            "\u001b[31mKeyError\u001b[39m: 'LM mass(kg)'",
            "\nThe above exception was the direct cause of the following exception:\n",
            "\u001b[31mKeyError\u001b[39m                                  Traceback (most recent call last)",
            "\u001b[36mCell\u001b[39m\u001b[36m \u001b[39m\u001b[32mIn[125]\u001b[39m\u001b[32m, line 1\u001b[39m\n\u001b[32m----> \u001b[39m\u001b[32m1\u001b[39m missions[\u001b[33m'\u001b[39m\u001b[33mLM mass diff\u001b[39m\u001b[33m'\u001b[39m]=\u001b[43mmissions\u001b[49m\u001b[43m[\u001b[49m\u001b[33;43m'\u001b[39;49m\u001b[33;43mLM mass(kg)\u001b[39;49m\u001b[33;43m'\u001b[39;49m\u001b[43m]\u001b[49m.diff()\n\u001b[32m      2\u001b[39m missions[\u001b[33m'\u001b[39m\u001b[33mCM mass diff\u001b[39m\u001b[33m'\u001b[39m]=missions[\u001b[33m'\u001b[39m\u001b[33mCM mass(kg)\u001b[39m\u001b[33m'\u001b[39m].diff()\n\u001b[32m      3\u001b[39m missions.fillna(value=\u001b[32m0\u001b[39m, inplace=\u001b[38;5;28;01mTrue\u001b[39;00m)\n",
            "\u001b[36mFile \u001b[39m\u001b[32mc:\\Users\\EL90\\AppData\\Local\\Programs\\Python\\Python311\\Lib\\site-packages\\pandas\\core\\frame.py:4107\u001b[39m, in \u001b[36mDataFrame.__getitem__\u001b[39m\u001b[34m(self, key)\u001b[39m\n\u001b[32m   4105\u001b[39m \u001b[38;5;28;01mif\u001b[39;00m \u001b[38;5;28mself\u001b[39m.columns.nlevels > \u001b[32m1\u001b[39m:\n\u001b[32m   4106\u001b[39m     \u001b[38;5;28;01mreturn\u001b[39;00m \u001b[38;5;28mself\u001b[39m._getitem_multilevel(key)\n\u001b[32m-> \u001b[39m\u001b[32m4107\u001b[39m indexer = \u001b[38;5;28;43mself\u001b[39;49m\u001b[43m.\u001b[49m\u001b[43mcolumns\u001b[49m\u001b[43m.\u001b[49m\u001b[43mget_loc\u001b[49m\u001b[43m(\u001b[49m\u001b[43mkey\u001b[49m\u001b[43m)\u001b[49m\n\u001b[32m   4108\u001b[39m \u001b[38;5;28;01mif\u001b[39;00m is_integer(indexer):\n\u001b[32m   4109\u001b[39m     indexer = [indexer]\n",
            "\u001b[36mFile \u001b[39m\u001b[32mc:\\Users\\EL90\\AppData\\Local\\Programs\\Python\\Python311\\Lib\\site-packages\\pandas\\core\\indexes\\base.py:3819\u001b[39m, in \u001b[36mIndex.get_loc\u001b[39m\u001b[34m(self, key)\u001b[39m\n\u001b[32m   3814\u001b[39m     \u001b[38;5;28;01mif\u001b[39;00m \u001b[38;5;28misinstance\u001b[39m(casted_key, \u001b[38;5;28mslice\u001b[39m) \u001b[38;5;129;01mor\u001b[39;00m (\n\u001b[32m   3815\u001b[39m         \u001b[38;5;28misinstance\u001b[39m(casted_key, abc.Iterable)\n\u001b[32m   3816\u001b[39m         \u001b[38;5;129;01mand\u001b[39;00m \u001b[38;5;28many\u001b[39m(\u001b[38;5;28misinstance\u001b[39m(x, \u001b[38;5;28mslice\u001b[39m) \u001b[38;5;28;01mfor\u001b[39;00m x \u001b[38;5;129;01min\u001b[39;00m casted_key)\n\u001b[32m   3817\u001b[39m     ):\n\u001b[32m   3818\u001b[39m         \u001b[38;5;28;01mraise\u001b[39;00m InvalidIndexError(key)\n\u001b[32m-> \u001b[39m\u001b[32m3819\u001b[39m     \u001b[38;5;28;01mraise\u001b[39;00m \u001b[38;5;167;01mKeyError\u001b[39;00m(key) \u001b[38;5;28;01mfrom\u001b[39;00m\u001b[38;5;250m \u001b[39m\u001b[34;01merr\u001b[39;00m\n\u001b[32m   3820\u001b[39m \u001b[38;5;28;01mexcept\u001b[39;00m \u001b[38;5;167;01mTypeError\u001b[39;00m:\n\u001b[32m   3821\u001b[39m     \u001b[38;5;66;03m# If we have a listlike key, _check_indexing_error will raise\u001b[39;00m\n\u001b[32m   3822\u001b[39m     \u001b[38;5;66;03m#  InvalidIndexError. Otherwise we fall through and re-raise\u001b[39;00m\n\u001b[32m   3823\u001b[39m     \u001b[38;5;66;03m#  the TypeError.\u001b[39;00m\n\u001b[32m   3824\u001b[39m     \u001b[38;5;28mself\u001b[39m._check_indexing_error(key)\n",
            "\u001b[31mKeyError\u001b[39m: 'LM mass(kg)'"
          ]
        }
      ],
      "source": [
        "missions['LM mass diff']=missions['LM mass(kg)'].diff()\n",
        "missions['CM mass diff']=missions['CM mass(kg)'].diff()\n",
        "missions.fillna(value=0, inplace=True)\n",
        "missions"
      ]
    },
    {
      "cell_type": "code",
      "execution_count": null,
      "metadata": {},
      "outputs": [],
      "source": []
    },
    {
      "cell_type": "code",
      "execution_count": null,
      "metadata": {
        "gather": {
          "logged": 1718683926662
        }
      },
      "outputs": [
        {
          "data": {
            "text/html": [
              "<div>\n",
              "<style scoped>\n",
              "    .dataframe tbody tr th:only-of-type {\n",
              "        vertical-align: middle;\n",
              "    }\n",
              "\n",
              "    .dataframe tbody tr th {\n",
              "        vertical-align: top;\n",
              "    }\n",
              "\n",
              "    .dataframe thead th {\n",
              "        text-align: right;\n",
              "    }\n",
              "</style>\n",
              "<table border=\"1\" class=\"dataframe\">\n",
              "  <thead>\n",
              "    <tr style=\"text-align: right;\">\n",
              "      <th></th>\n",
              "      <th>Mission</th>\n",
              "      <th>Sample weight (kg)</th>\n",
              "      <th>Weight diff</th>\n",
              "      <th>Lunar module (LM)</th>\n",
              "      <th>LM mass (kg)</th>\n",
              "      <th>LM mass diff</th>\n",
              "      <th>Command Module (CM)</th>\n",
              "      <th>CM Mass (kg)</th>\n",
              "      <th>CM mass diff</th>\n",
              "    </tr>\n",
              "  </thead>\n",
              "  <tbody>\n",
              "    <tr>\n",
              "      <th>0</th>\n",
              "      <td>Apollo11</td>\n",
              "      <td>21.55424</td>\n",
              "      <td>0.00000</td>\n",
              "      <td>Eagle (LM-5)</td>\n",
              "      <td>15103</td>\n",
              "      <td>0.0</td>\n",
              "      <td>Columbia (CSM-107]</td>\n",
              "      <td>5560</td>\n",
              "      <td>0.0</td>\n",
              "    </tr>\n",
              "    <tr>\n",
              "      <th>1</th>\n",
              "      <td>Apollo12</td>\n",
              "      <td>34.34238</td>\n",
              "      <td>12.78814</td>\n",
              "      <td>Intrepid (LM-6)</td>\n",
              "      <td>15235</td>\n",
              "      <td>132.0</td>\n",
              "      <td>Yankee Clipper (CM-100])</td>\n",
              "      <td>5609</td>\n",
              "      <td>49.0</td>\n",
              "    </tr>\n",
              "    <tr>\n",
              "      <th>2</th>\n",
              "      <td>Apollo14</td>\n",
              "      <td>41.83363</td>\n",
              "      <td>7.49125</td>\n",
              "      <td>Antares (LM-8)</td>\n",
              "      <td>15264</td>\n",
              "      <td>29.0</td>\n",
              "      <td>Kitty Hawk (CM-110)</td>\n",
              "      <td>5758</td>\n",
              "      <td>149.0</td>\n",
              "    </tr>\n",
              "    <tr>\n",
              "      <th>3</th>\n",
              "      <td>Apollo15</td>\n",
              "      <td>75.39910</td>\n",
              "      <td>33.56547</td>\n",
              "      <td>Falcon (LM-10)</td>\n",
              "      <td>16430</td>\n",
              "      <td>1166.0</td>\n",
              "      <td>Endeavor (CM-112)</td>\n",
              "      <td>5875</td>\n",
              "      <td>117.0</td>\n",
              "    </tr>\n",
              "    <tr>\n",
              "      <th>4</th>\n",
              "      <td>Apollo16</td>\n",
              "      <td>92.46262</td>\n",
              "      <td>17.06352</td>\n",
              "      <td>Orion (LM-11)</td>\n",
              "      <td>16445</td>\n",
              "      <td>15.0</td>\n",
              "      <td>Casper (CM-113)</td>\n",
              "      <td>5840</td>\n",
              "      <td>-35.0</td>\n",
              "    </tr>\n",
              "    <tr>\n",
              "      <th>5</th>\n",
              "      <td>Apollo17</td>\n",
              "      <td>109.44402</td>\n",
              "      <td>16.98140</td>\n",
              "      <td>Challenger (LM-12)</td>\n",
              "      <td>16456</td>\n",
              "      <td>11.0</td>\n",
              "      <td>America (CM-114)</td>\n",
              "      <td>5960</td>\n",
              "      <td>120.0</td>\n",
              "    </tr>\n",
              "  </tbody>\n",
              "</table>\n",
              "</div>"
            ],
            "text/plain": [
              "    Mission  Sample weight (kg)  Weight diff   Lunar module (LM)  \\\n",
              "0  Apollo11            21.55424      0.00000        Eagle (LM-5)   \n",
              "1  Apollo12            34.34238     12.78814     Intrepid (LM-6)   \n",
              "2  Apollo14            41.83363      7.49125      Antares (LM-8)   \n",
              "3  Apollo15            75.39910     33.56547      Falcon (LM-10)   \n",
              "4  Apollo16            92.46262     17.06352       Orion (LM-11)   \n",
              "5  Apollo17           109.44402     16.98140  Challenger (LM-12)   \n",
              "\n",
              "   LM mass (kg)  LM mass diff       Command Module (CM)  CM Mass (kg)  \\\n",
              "0         15103           0.0        Columbia (CSM-107]          5560   \n",
              "1         15235         132.0  Yankee Clipper (CM-100])          5609   \n",
              "2         15264          29.0       Kitty Hawk (CM-110)          5758   \n",
              "3         16430        1166.0         Endeavor (CM-112)          5875   \n",
              "4         16445          15.0           Casper (CM-113)          5840   \n",
              "5         16456          11.0          America (CM-114)          5960   \n",
              "\n",
              "   CM mass diff  \n",
              "0           0.0  \n",
              "1          49.0  \n",
              "2         149.0  \n",
              "3         117.0  \n",
              "4         -35.0  \n",
              "5         120.0  "
            ]
          },
          "execution_count": 33,
          "metadata": {},
          "output_type": "execute_result"
        }
      ],
      "source": [
        "#임무간 명령 모듈 중량 차이 구하기기\n",
        "#아폴로 임무별로 명령모듈 중량 차이를 구해서 새로운 컬럼 'CM Mass diff'를 만들어 missions 데이터프레임에 추가\n"
      ]
    },
    {
      "cell_type": "code",
      "execution_count": null,
      "metadata": {
        "gather": {
          "logged": 1718683926809
        }
      },
      "outputs": [
        {
          "data": {
            "text/html": [
              "<div>\n",
              "<style scoped>\n",
              "    .dataframe tbody tr th:only-of-type {\n",
              "        vertical-align: middle;\n",
              "    }\n",
              "\n",
              "    .dataframe tbody tr th {\n",
              "        vertical-align: top;\n",
              "    }\n",
              "\n",
              "    .dataframe thead th {\n",
              "        text-align: right;\n",
              "    }\n",
              "</style>\n",
              "<table border=\"1\" class=\"dataframe\">\n",
              "  <thead>\n",
              "    <tr style=\"text-align: right;\">\n",
              "      <th></th>\n",
              "      <th>Mission</th>\n",
              "      <th>Sample weight (kg)</th>\n",
              "      <th>Weight diff</th>\n",
              "      <th>Lunar module (LM)</th>\n",
              "      <th>LM mass (kg)</th>\n",
              "      <th>LM mass diff</th>\n",
              "      <th>Command Module (CM)</th>\n",
              "      <th>CM Mass (kg)</th>\n",
              "      <th>CM mass diff</th>\n",
              "      <th>Total weight (kg)</th>\n",
              "    </tr>\n",
              "  </thead>\n",
              "  <tbody>\n",
              "    <tr>\n",
              "      <th>0</th>\n",
              "      <td>Apollo11</td>\n",
              "      <td>21.55424</td>\n",
              "      <td>0.00000</td>\n",
              "      <td>Eagle (LM-5)</td>\n",
              "      <td>15103</td>\n",
              "      <td>0.0</td>\n",
              "      <td>Columbia (CSM-107]</td>\n",
              "      <td>5560</td>\n",
              "      <td>0.0</td>\n",
              "      <td>20663</td>\n",
              "    </tr>\n",
              "    <tr>\n",
              "      <th>1</th>\n",
              "      <td>Apollo12</td>\n",
              "      <td>34.34238</td>\n",
              "      <td>12.78814</td>\n",
              "      <td>Intrepid (LM-6)</td>\n",
              "      <td>15235</td>\n",
              "      <td>132.0</td>\n",
              "      <td>Yankee Clipper (CM-100])</td>\n",
              "      <td>5609</td>\n",
              "      <td>49.0</td>\n",
              "      <td>20844</td>\n",
              "    </tr>\n",
              "    <tr>\n",
              "      <th>2</th>\n",
              "      <td>Apollo14</td>\n",
              "      <td>41.83363</td>\n",
              "      <td>7.49125</td>\n",
              "      <td>Antares (LM-8)</td>\n",
              "      <td>15264</td>\n",
              "      <td>29.0</td>\n",
              "      <td>Kitty Hawk (CM-110)</td>\n",
              "      <td>5758</td>\n",
              "      <td>149.0</td>\n",
              "      <td>21022</td>\n",
              "    </tr>\n",
              "    <tr>\n",
              "      <th>3</th>\n",
              "      <td>Apollo15</td>\n",
              "      <td>75.39910</td>\n",
              "      <td>33.56547</td>\n",
              "      <td>Falcon (LM-10)</td>\n",
              "      <td>16430</td>\n",
              "      <td>1166.0</td>\n",
              "      <td>Endeavor (CM-112)</td>\n",
              "      <td>5875</td>\n",
              "      <td>117.0</td>\n",
              "      <td>22305</td>\n",
              "    </tr>\n",
              "    <tr>\n",
              "      <th>4</th>\n",
              "      <td>Apollo16</td>\n",
              "      <td>92.46262</td>\n",
              "      <td>17.06352</td>\n",
              "      <td>Orion (LM-11)</td>\n",
              "      <td>16445</td>\n",
              "      <td>15.0</td>\n",
              "      <td>Casper (CM-113)</td>\n",
              "      <td>5840</td>\n",
              "      <td>-35.0</td>\n",
              "      <td>22285</td>\n",
              "    </tr>\n",
              "    <tr>\n",
              "      <th>5</th>\n",
              "      <td>Apollo17</td>\n",
              "      <td>109.44402</td>\n",
              "      <td>16.98140</td>\n",
              "      <td>Challenger (LM-12)</td>\n",
              "      <td>16456</td>\n",
              "      <td>11.0</td>\n",
              "      <td>America (CM-114)</td>\n",
              "      <td>5960</td>\n",
              "      <td>120.0</td>\n",
              "      <td>22416</td>\n",
              "    </tr>\n",
              "  </tbody>\n",
              "</table>\n",
              "</div>"
            ],
            "text/plain": [
              "    Mission  Sample weight (kg)  Weight diff   Lunar module (LM)  \\\n",
              "0  Apollo11            21.55424      0.00000        Eagle (LM-5)   \n",
              "1  Apollo12            34.34238     12.78814     Intrepid (LM-6)   \n",
              "2  Apollo14            41.83363      7.49125      Antares (LM-8)   \n",
              "3  Apollo15            75.39910     33.56547      Falcon (LM-10)   \n",
              "4  Apollo16            92.46262     17.06352       Orion (LM-11)   \n",
              "5  Apollo17           109.44402     16.98140  Challenger (LM-12)   \n",
              "\n",
              "   LM mass (kg)  LM mass diff       Command Module (CM)  CM Mass (kg)  \\\n",
              "0         15103           0.0        Columbia (CSM-107]          5560   \n",
              "1         15235         132.0  Yankee Clipper (CM-100])          5609   \n",
              "2         15264          29.0       Kitty Hawk (CM-110)          5758   \n",
              "3         16430        1166.0         Endeavor (CM-112)          5875   \n",
              "4         16445          15.0           Casper (CM-113)          5840   \n",
              "5         16456          11.0          America (CM-114)          5960   \n",
              "\n",
              "   CM mass diff  Total weight (kg)  \n",
              "0           0.0              20663  \n",
              "1          49.0              20844  \n",
              "2         149.0              21022  \n",
              "3         117.0              22305  \n",
              "4         -35.0              22285  \n",
              "5         120.0              22416  "
            ]
          },
          "execution_count": 34,
          "metadata": {},
          "output_type": "execute_result"
        }
      ],
      "source": [
        "# 승무원영역 = 달모듈 + 명령모듈\n",
        "# 달 모듈과 명령모듈 중량을 합한 값을 'Total weight (kg)'라는 새로운 컬럼을 만들어 missions 데이터프레임에 추가\n"
      ]
    },
    {
      "cell_type": "code",
      "execution_count": null,
      "metadata": {
        "gather": {
          "logged": 1718683926958
        }
      },
      "outputs": [
        {
          "data": {
            "text/html": [
              "<div>\n",
              "<style scoped>\n",
              "    .dataframe tbody tr th:only-of-type {\n",
              "        vertical-align: middle;\n",
              "    }\n",
              "\n",
              "    .dataframe tbody tr th {\n",
              "        vertical-align: top;\n",
              "    }\n",
              "\n",
              "    .dataframe thead th {\n",
              "        text-align: right;\n",
              "    }\n",
              "</style>\n",
              "<table border=\"1\" class=\"dataframe\">\n",
              "  <thead>\n",
              "    <tr style=\"text-align: right;\">\n",
              "      <th></th>\n",
              "      <th>Mission</th>\n",
              "      <th>Sample weight (kg)</th>\n",
              "      <th>Weight diff</th>\n",
              "      <th>Lunar module (LM)</th>\n",
              "      <th>LM mass (kg)</th>\n",
              "      <th>LM mass diff</th>\n",
              "      <th>Command Module (CM)</th>\n",
              "      <th>CM Mass (kg)</th>\n",
              "      <th>CM mass diff</th>\n",
              "      <th>Total weight (kg)</th>\n",
              "      <th>Total weight diff</th>\n",
              "    </tr>\n",
              "  </thead>\n",
              "  <tbody>\n",
              "    <tr>\n",
              "      <th>0</th>\n",
              "      <td>Apollo11</td>\n",
              "      <td>21.55424</td>\n",
              "      <td>0.00000</td>\n",
              "      <td>Eagle (LM-5)</td>\n",
              "      <td>15103</td>\n",
              "      <td>0.0</td>\n",
              "      <td>Columbia (CSM-107]</td>\n",
              "      <td>5560</td>\n",
              "      <td>0.0</td>\n",
              "      <td>20663</td>\n",
              "      <td>0.0</td>\n",
              "    </tr>\n",
              "    <tr>\n",
              "      <th>1</th>\n",
              "      <td>Apollo12</td>\n",
              "      <td>34.34238</td>\n",
              "      <td>12.78814</td>\n",
              "      <td>Intrepid (LM-6)</td>\n",
              "      <td>15235</td>\n",
              "      <td>132.0</td>\n",
              "      <td>Yankee Clipper (CM-100])</td>\n",
              "      <td>5609</td>\n",
              "      <td>49.0</td>\n",
              "      <td>20844</td>\n",
              "      <td>181.0</td>\n",
              "    </tr>\n",
              "    <tr>\n",
              "      <th>2</th>\n",
              "      <td>Apollo14</td>\n",
              "      <td>41.83363</td>\n",
              "      <td>7.49125</td>\n",
              "      <td>Antares (LM-8)</td>\n",
              "      <td>15264</td>\n",
              "      <td>29.0</td>\n",
              "      <td>Kitty Hawk (CM-110)</td>\n",
              "      <td>5758</td>\n",
              "      <td>149.0</td>\n",
              "      <td>21022</td>\n",
              "      <td>178.0</td>\n",
              "    </tr>\n",
              "    <tr>\n",
              "      <th>3</th>\n",
              "      <td>Apollo15</td>\n",
              "      <td>75.39910</td>\n",
              "      <td>33.56547</td>\n",
              "      <td>Falcon (LM-10)</td>\n",
              "      <td>16430</td>\n",
              "      <td>1166.0</td>\n",
              "      <td>Endeavor (CM-112)</td>\n",
              "      <td>5875</td>\n",
              "      <td>117.0</td>\n",
              "      <td>22305</td>\n",
              "      <td>1283.0</td>\n",
              "    </tr>\n",
              "    <tr>\n",
              "      <th>4</th>\n",
              "      <td>Apollo16</td>\n",
              "      <td>92.46262</td>\n",
              "      <td>17.06352</td>\n",
              "      <td>Orion (LM-11)</td>\n",
              "      <td>16445</td>\n",
              "      <td>15.0</td>\n",
              "      <td>Casper (CM-113)</td>\n",
              "      <td>5840</td>\n",
              "      <td>-35.0</td>\n",
              "      <td>22285</td>\n",
              "      <td>-20.0</td>\n",
              "    </tr>\n",
              "    <tr>\n",
              "      <th>5</th>\n",
              "      <td>Apollo17</td>\n",
              "      <td>109.44402</td>\n",
              "      <td>16.98140</td>\n",
              "      <td>Challenger (LM-12)</td>\n",
              "      <td>16456</td>\n",
              "      <td>11.0</td>\n",
              "      <td>America (CM-114)</td>\n",
              "      <td>5960</td>\n",
              "      <td>120.0</td>\n",
              "      <td>22416</td>\n",
              "      <td>131.0</td>\n",
              "    </tr>\n",
              "  </tbody>\n",
              "</table>\n",
              "</div>"
            ],
            "text/plain": [
              "    Mission  Sample weight (kg)  Weight diff   Lunar module (LM)  \\\n",
              "0  Apollo11            21.55424      0.00000        Eagle (LM-5)   \n",
              "1  Apollo12            34.34238     12.78814     Intrepid (LM-6)   \n",
              "2  Apollo14            41.83363      7.49125      Antares (LM-8)   \n",
              "3  Apollo15            75.39910     33.56547      Falcon (LM-10)   \n",
              "4  Apollo16            92.46262     17.06352       Orion (LM-11)   \n",
              "5  Apollo17           109.44402     16.98140  Challenger (LM-12)   \n",
              "\n",
              "   LM mass (kg)  LM mass diff       Command Module (CM)  CM Mass (kg)  \\\n",
              "0         15103           0.0        Columbia (CSM-107]          5560   \n",
              "1         15235         132.0  Yankee Clipper (CM-100])          5609   \n",
              "2         15264          29.0       Kitty Hawk (CM-110)          5758   \n",
              "3         16430        1166.0         Endeavor (CM-112)          5875   \n",
              "4         16445          15.0           Casper (CM-113)          5840   \n",
              "5         16456          11.0          America (CM-114)          5960   \n",
              "\n",
              "   CM mass diff  Total weight (kg)  Total weight diff  \n",
              "0           0.0              20663                0.0  \n",
              "1          49.0              20844              181.0  \n",
              "2         149.0              21022              178.0  \n",
              "3         117.0              22305             1283.0  \n",
              "4         -35.0              22285              -20.0  \n",
              "5         120.0              22416              131.0  "
            ]
          },
          "execution_count": 35,
          "metadata": {},
          "output_type": "execute_result"
        }
      ],
      "source": [
        "# 승무원 영역을 나타내는 'Total weight (kg)'의 아폴로 임무별 중량 차이를 구하는 새로운 컬럼 'Total weight diff'를 missions 데이터프레임에 추가\n"
      ]
    },
    {
      "cell_type": "code",
      "execution_count": null,
      "metadata": {
        "gather": {
          "logged": 1718683927168
        }
      },
      "outputs": [
        {
          "data": {
            "text/html": [
              "<div>\n",
              "<style scoped>\n",
              "    .dataframe tbody tr th:only-of-type {\n",
              "        vertical-align: middle;\n",
              "    }\n",
              "\n",
              "    .dataframe tbody tr th {\n",
              "        vertical-align: top;\n",
              "    }\n",
              "\n",
              "    .dataframe thead th {\n",
              "        text-align: right;\n",
              "    }\n",
              "</style>\n",
              "<table border=\"1\" class=\"dataframe\">\n",
              "  <thead>\n",
              "    <tr style=\"text-align: right;\">\n",
              "      <th></th>\n",
              "      <th>Mission</th>\n",
              "      <th>Sample weight (kg)</th>\n",
              "      <th>Weight diff</th>\n",
              "      <th>Lunar module (LM)</th>\n",
              "      <th>LM mass (kg)</th>\n",
              "      <th>LM mass diff</th>\n",
              "      <th>Command Module (CM)</th>\n",
              "      <th>CM Mass (kg)</th>\n",
              "      <th>CM mass diff</th>\n",
              "      <th>Total weight (kg)</th>\n",
              "      <th>Total weight diff</th>\n",
              "      <th>Crewed area : Payload</th>\n",
              "    </tr>\n",
              "  </thead>\n",
              "  <tbody>\n",
              "    <tr>\n",
              "      <th>0</th>\n",
              "      <td>Apollo11</td>\n",
              "      <td>21.55424</td>\n",
              "      <td>0.00000</td>\n",
              "      <td>Eagle (LM-5)</td>\n",
              "      <td>15103</td>\n",
              "      <td>0.0</td>\n",
              "      <td>Columbia (CSM-107]</td>\n",
              "      <td>5560</td>\n",
              "      <td>0.0</td>\n",
              "      <td>20663</td>\n",
              "      <td>0.0</td>\n",
              "      <td>0.475011</td>\n",
              "    </tr>\n",
              "    <tr>\n",
              "      <th>1</th>\n",
              "      <td>Apollo12</td>\n",
              "      <td>34.34238</td>\n",
              "      <td>12.78814</td>\n",
              "      <td>Intrepid (LM-6)</td>\n",
              "      <td>15235</td>\n",
              "      <td>132.0</td>\n",
              "      <td>Yankee Clipper (CM-100])</td>\n",
              "      <td>5609</td>\n",
              "      <td>49.0</td>\n",
              "      <td>20844</td>\n",
              "      <td>181.0</td>\n",
              "      <td>0.479172</td>\n",
              "    </tr>\n",
              "    <tr>\n",
              "      <th>2</th>\n",
              "      <td>Apollo14</td>\n",
              "      <td>41.83363</td>\n",
              "      <td>7.49125</td>\n",
              "      <td>Antares (LM-8)</td>\n",
              "      <td>15264</td>\n",
              "      <td>29.0</td>\n",
              "      <td>Kitty Hawk (CM-110)</td>\n",
              "      <td>5758</td>\n",
              "      <td>149.0</td>\n",
              "      <td>21022</td>\n",
              "      <td>178.0</td>\n",
              "      <td>0.483264</td>\n",
              "    </tr>\n",
              "    <tr>\n",
              "      <th>3</th>\n",
              "      <td>Apollo15</td>\n",
              "      <td>75.39910</td>\n",
              "      <td>33.56547</td>\n",
              "      <td>Falcon (LM-10)</td>\n",
              "      <td>16430</td>\n",
              "      <td>1166.0</td>\n",
              "      <td>Endeavor (CM-112)</td>\n",
              "      <td>5875</td>\n",
              "      <td>117.0</td>\n",
              "      <td>22305</td>\n",
              "      <td>1283.0</td>\n",
              "      <td>0.512759</td>\n",
              "    </tr>\n",
              "    <tr>\n",
              "      <th>4</th>\n",
              "      <td>Apollo16</td>\n",
              "      <td>92.46262</td>\n",
              "      <td>17.06352</td>\n",
              "      <td>Orion (LM-11)</td>\n",
              "      <td>16445</td>\n",
              "      <td>15.0</td>\n",
              "      <td>Casper (CM-113)</td>\n",
              "      <td>5840</td>\n",
              "      <td>-35.0</td>\n",
              "      <td>22285</td>\n",
              "      <td>-20.0</td>\n",
              "      <td>0.512299</td>\n",
              "    </tr>\n",
              "    <tr>\n",
              "      <th>5</th>\n",
              "      <td>Apollo17</td>\n",
              "      <td>109.44402</td>\n",
              "      <td>16.98140</td>\n",
              "      <td>Challenger (LM-12)</td>\n",
              "      <td>16456</td>\n",
              "      <td>11.0</td>\n",
              "      <td>America (CM-114)</td>\n",
              "      <td>5960</td>\n",
              "      <td>120.0</td>\n",
              "      <td>22416</td>\n",
              "      <td>131.0</td>\n",
              "      <td>0.515310</td>\n",
              "    </tr>\n",
              "  </tbody>\n",
              "</table>\n",
              "</div>"
            ],
            "text/plain": [
              "    Mission  Sample weight (kg)  Weight diff   Lunar module (LM)  \\\n",
              "0  Apollo11            21.55424      0.00000        Eagle (LM-5)   \n",
              "1  Apollo12            34.34238     12.78814     Intrepid (LM-6)   \n",
              "2  Apollo14            41.83363      7.49125      Antares (LM-8)   \n",
              "3  Apollo15            75.39910     33.56547      Falcon (LM-10)   \n",
              "4  Apollo16            92.46262     17.06352       Orion (LM-11)   \n",
              "5  Apollo17           109.44402     16.98140  Challenger (LM-12)   \n",
              "\n",
              "   LM mass (kg)  LM mass diff       Command Module (CM)  CM Mass (kg)  \\\n",
              "0         15103           0.0        Columbia (CSM-107]          5560   \n",
              "1         15235         132.0  Yankee Clipper (CM-100])          5609   \n",
              "2         15264          29.0       Kitty Hawk (CM-110)          5758   \n",
              "3         16430        1166.0         Endeavor (CM-112)          5875   \n",
              "4         16445          15.0           Casper (CM-113)          5840   \n",
              "5         16456          11.0          America (CM-114)          5960   \n",
              "\n",
              "   CM mass diff  Total weight (kg)  Total weight diff  Crewed area : Payload  \n",
              "0           0.0              20663                0.0               0.475011  \n",
              "1          49.0              20844              181.0               0.479172  \n",
              "2         149.0              21022              178.0               0.483264  \n",
              "3         117.0              22305             1283.0               0.512759  \n",
              "4         -35.0              22285              -20.0               0.512299  \n",
              "5         120.0              22416              131.0               0.515310  "
            ]
          },
          "execution_count": 36,
          "metadata": {},
          "output_type": "execute_result"
        }
      ],
      "source": [
        "# 페이로드에서 승무원 영역이 차지하는 비율 구하기 -> 'Crewed area : Payload'\n",
        "saturnVPayload = 43500\n",
        "missions['Crewed area : Payload'] = missions['Total weight (kg)'] / saturnVPayload\n",
        "missions\n"
      ]
    },
    {
      "cell_type": "code",
      "execution_count": null,
      "metadata": {
        "gather": {
          "logged": 1718683927317
        }
      },
      "outputs": [
        {
          "data": {
            "text/html": [
              "<div>\n",
              "<style scoped>\n",
              "    .dataframe tbody tr th:only-of-type {\n",
              "        vertical-align: middle;\n",
              "    }\n",
              "\n",
              "    .dataframe tbody tr th {\n",
              "        vertical-align: top;\n",
              "    }\n",
              "\n",
              "    .dataframe thead th {\n",
              "        text-align: right;\n",
              "    }\n",
              "</style>\n",
              "<table border=\"1\" class=\"dataframe\">\n",
              "  <thead>\n",
              "    <tr style=\"text-align: right;\">\n",
              "      <th></th>\n",
              "      <th>Mission</th>\n",
              "      <th>Sample weight (kg)</th>\n",
              "      <th>Weight diff</th>\n",
              "      <th>Lunar module (LM)</th>\n",
              "      <th>LM mass (kg)</th>\n",
              "      <th>LM mass diff</th>\n",
              "      <th>Command Module (CM)</th>\n",
              "      <th>CM Mass (kg)</th>\n",
              "      <th>CM mass diff</th>\n",
              "      <th>Total weight (kg)</th>\n",
              "      <th>Total weight diff</th>\n",
              "      <th>Crewed area : Payload</th>\n",
              "      <th>Sample : Crewed area</th>\n",
              "    </tr>\n",
              "  </thead>\n",
              "  <tbody>\n",
              "    <tr>\n",
              "      <th>0</th>\n",
              "      <td>Apollo11</td>\n",
              "      <td>21.55424</td>\n",
              "      <td>0.00000</td>\n",
              "      <td>Eagle (LM-5)</td>\n",
              "      <td>15103</td>\n",
              "      <td>0.0</td>\n",
              "      <td>Columbia (CSM-107]</td>\n",
              "      <td>5560</td>\n",
              "      <td>0.0</td>\n",
              "      <td>20663</td>\n",
              "      <td>0.0</td>\n",
              "      <td>0.475011</td>\n",
              "      <td>0.001043</td>\n",
              "    </tr>\n",
              "    <tr>\n",
              "      <th>1</th>\n",
              "      <td>Apollo12</td>\n",
              "      <td>34.34238</td>\n",
              "      <td>12.78814</td>\n",
              "      <td>Intrepid (LM-6)</td>\n",
              "      <td>15235</td>\n",
              "      <td>132.0</td>\n",
              "      <td>Yankee Clipper (CM-100])</td>\n",
              "      <td>5609</td>\n",
              "      <td>49.0</td>\n",
              "      <td>20844</td>\n",
              "      <td>181.0</td>\n",
              "      <td>0.479172</td>\n",
              "      <td>0.001648</td>\n",
              "    </tr>\n",
              "    <tr>\n",
              "      <th>2</th>\n",
              "      <td>Apollo14</td>\n",
              "      <td>41.83363</td>\n",
              "      <td>7.49125</td>\n",
              "      <td>Antares (LM-8)</td>\n",
              "      <td>15264</td>\n",
              "      <td>29.0</td>\n",
              "      <td>Kitty Hawk (CM-110)</td>\n",
              "      <td>5758</td>\n",
              "      <td>149.0</td>\n",
              "      <td>21022</td>\n",
              "      <td>178.0</td>\n",
              "      <td>0.483264</td>\n",
              "      <td>0.001990</td>\n",
              "    </tr>\n",
              "    <tr>\n",
              "      <th>3</th>\n",
              "      <td>Apollo15</td>\n",
              "      <td>75.39910</td>\n",
              "      <td>33.56547</td>\n",
              "      <td>Falcon (LM-10)</td>\n",
              "      <td>16430</td>\n",
              "      <td>1166.0</td>\n",
              "      <td>Endeavor (CM-112)</td>\n",
              "      <td>5875</td>\n",
              "      <td>117.0</td>\n",
              "      <td>22305</td>\n",
              "      <td>1283.0</td>\n",
              "      <td>0.512759</td>\n",
              "      <td>0.003380</td>\n",
              "    </tr>\n",
              "    <tr>\n",
              "      <th>4</th>\n",
              "      <td>Apollo16</td>\n",
              "      <td>92.46262</td>\n",
              "      <td>17.06352</td>\n",
              "      <td>Orion (LM-11)</td>\n",
              "      <td>16445</td>\n",
              "      <td>15.0</td>\n",
              "      <td>Casper (CM-113)</td>\n",
              "      <td>5840</td>\n",
              "      <td>-35.0</td>\n",
              "      <td>22285</td>\n",
              "      <td>-20.0</td>\n",
              "      <td>0.512299</td>\n",
              "      <td>0.004149</td>\n",
              "    </tr>\n",
              "    <tr>\n",
              "      <th>5</th>\n",
              "      <td>Apollo17</td>\n",
              "      <td>109.44402</td>\n",
              "      <td>16.98140</td>\n",
              "      <td>Challenger (LM-12)</td>\n",
              "      <td>16456</td>\n",
              "      <td>11.0</td>\n",
              "      <td>America (CM-114)</td>\n",
              "      <td>5960</td>\n",
              "      <td>120.0</td>\n",
              "      <td>22416</td>\n",
              "      <td>131.0</td>\n",
              "      <td>0.515310</td>\n",
              "      <td>0.004882</td>\n",
              "    </tr>\n",
              "  </tbody>\n",
              "</table>\n",
              "</div>"
            ],
            "text/plain": [
              "    Mission  Sample weight (kg)  Weight diff   Lunar module (LM)  \\\n",
              "0  Apollo11            21.55424      0.00000        Eagle (LM-5)   \n",
              "1  Apollo12            34.34238     12.78814     Intrepid (LM-6)   \n",
              "2  Apollo14            41.83363      7.49125      Antares (LM-8)   \n",
              "3  Apollo15            75.39910     33.56547      Falcon (LM-10)   \n",
              "4  Apollo16            92.46262     17.06352       Orion (LM-11)   \n",
              "5  Apollo17           109.44402     16.98140  Challenger (LM-12)   \n",
              "\n",
              "   LM mass (kg)  LM mass diff       Command Module (CM)  CM Mass (kg)  \\\n",
              "0         15103           0.0        Columbia (CSM-107]          5560   \n",
              "1         15235         132.0  Yankee Clipper (CM-100])          5609   \n",
              "2         15264          29.0       Kitty Hawk (CM-110)          5758   \n",
              "3         16430        1166.0         Endeavor (CM-112)          5875   \n",
              "4         16445          15.0           Casper (CM-113)          5840   \n",
              "5         16456          11.0          America (CM-114)          5960   \n",
              "\n",
              "   CM mass diff  Total weight (kg)  Total weight diff  Crewed area : Payload  \\\n",
              "0           0.0              20663                0.0               0.475011   \n",
              "1          49.0              20844              181.0               0.479172   \n",
              "2         149.0              21022              178.0               0.483264   \n",
              "3         117.0              22305             1283.0               0.512759   \n",
              "4         -35.0              22285              -20.0               0.512299   \n",
              "5         120.0              22416              131.0               0.515310   \n",
              "\n",
              "   Sample : Crewed area  \n",
              "0              0.001043  \n",
              "1              0.001648  \n",
              "2              0.001990  \n",
              "3              0.003380  \n",
              "4              0.004149  \n",
              "5              0.004882  "
            ]
          },
          "execution_count": 37,
          "metadata": {},
          "output_type": "execute_result"
        }
      ],
      "source": [
        "# 승무원 영역에서 암석 샘플이 차지하는 비율 구하기 -> 'Sample : Crewed area'\n"
      ]
    },
    {
      "cell_type": "code",
      "execution_count": null,
      "metadata": {
        "gather": {
          "logged": 1718683927516
        }
      },
      "outputs": [
        {
          "data": {
            "text/html": [
              "<div>\n",
              "<style scoped>\n",
              "    .dataframe tbody tr th:only-of-type {\n",
              "        vertical-align: middle;\n",
              "    }\n",
              "\n",
              "    .dataframe tbody tr th {\n",
              "        vertical-align: top;\n",
              "    }\n",
              "\n",
              "    .dataframe thead th {\n",
              "        text-align: right;\n",
              "    }\n",
              "</style>\n",
              "<table border=\"1\" class=\"dataframe\">\n",
              "  <thead>\n",
              "    <tr style=\"text-align: right;\">\n",
              "      <th></th>\n",
              "      <th>Mission</th>\n",
              "      <th>Sample weight (kg)</th>\n",
              "      <th>Weight diff</th>\n",
              "      <th>Lunar module (LM)</th>\n",
              "      <th>LM mass (kg)</th>\n",
              "      <th>LM mass diff</th>\n",
              "      <th>Command Module (CM)</th>\n",
              "      <th>CM Mass (kg)</th>\n",
              "      <th>CM mass diff</th>\n",
              "      <th>Total weight (kg)</th>\n",
              "      <th>Total weight diff</th>\n",
              "      <th>Crewed area : Payload</th>\n",
              "      <th>Sample : Crewed area</th>\n",
              "      <th>Sample : Payload</th>\n",
              "    </tr>\n",
              "  </thead>\n",
              "  <tbody>\n",
              "    <tr>\n",
              "      <th>0</th>\n",
              "      <td>Apollo11</td>\n",
              "      <td>21.55424</td>\n",
              "      <td>0.00000</td>\n",
              "      <td>Eagle (LM-5)</td>\n",
              "      <td>15103</td>\n",
              "      <td>0.0</td>\n",
              "      <td>Columbia (CSM-107]</td>\n",
              "      <td>5560</td>\n",
              "      <td>0.0</td>\n",
              "      <td>20663</td>\n",
              "      <td>0.0</td>\n",
              "      <td>0.475011</td>\n",
              "      <td>0.001043</td>\n",
              "      <td>0.000495</td>\n",
              "    </tr>\n",
              "    <tr>\n",
              "      <th>1</th>\n",
              "      <td>Apollo12</td>\n",
              "      <td>34.34238</td>\n",
              "      <td>12.78814</td>\n",
              "      <td>Intrepid (LM-6)</td>\n",
              "      <td>15235</td>\n",
              "      <td>132.0</td>\n",
              "      <td>Yankee Clipper (CM-100])</td>\n",
              "      <td>5609</td>\n",
              "      <td>49.0</td>\n",
              "      <td>20844</td>\n",
              "      <td>181.0</td>\n",
              "      <td>0.479172</td>\n",
              "      <td>0.001648</td>\n",
              "      <td>0.000789</td>\n",
              "    </tr>\n",
              "    <tr>\n",
              "      <th>2</th>\n",
              "      <td>Apollo14</td>\n",
              "      <td>41.83363</td>\n",
              "      <td>7.49125</td>\n",
              "      <td>Antares (LM-8)</td>\n",
              "      <td>15264</td>\n",
              "      <td>29.0</td>\n",
              "      <td>Kitty Hawk (CM-110)</td>\n",
              "      <td>5758</td>\n",
              "      <td>149.0</td>\n",
              "      <td>21022</td>\n",
              "      <td>178.0</td>\n",
              "      <td>0.483264</td>\n",
              "      <td>0.001990</td>\n",
              "      <td>0.000962</td>\n",
              "    </tr>\n",
              "    <tr>\n",
              "      <th>3</th>\n",
              "      <td>Apollo15</td>\n",
              "      <td>75.39910</td>\n",
              "      <td>33.56547</td>\n",
              "      <td>Falcon (LM-10)</td>\n",
              "      <td>16430</td>\n",
              "      <td>1166.0</td>\n",
              "      <td>Endeavor (CM-112)</td>\n",
              "      <td>5875</td>\n",
              "      <td>117.0</td>\n",
              "      <td>22305</td>\n",
              "      <td>1283.0</td>\n",
              "      <td>0.512759</td>\n",
              "      <td>0.003380</td>\n",
              "      <td>0.001733</td>\n",
              "    </tr>\n",
              "    <tr>\n",
              "      <th>4</th>\n",
              "      <td>Apollo16</td>\n",
              "      <td>92.46262</td>\n",
              "      <td>17.06352</td>\n",
              "      <td>Orion (LM-11)</td>\n",
              "      <td>16445</td>\n",
              "      <td>15.0</td>\n",
              "      <td>Casper (CM-113)</td>\n",
              "      <td>5840</td>\n",
              "      <td>-35.0</td>\n",
              "      <td>22285</td>\n",
              "      <td>-20.0</td>\n",
              "      <td>0.512299</td>\n",
              "      <td>0.004149</td>\n",
              "      <td>0.002126</td>\n",
              "    </tr>\n",
              "    <tr>\n",
              "      <th>5</th>\n",
              "      <td>Apollo17</td>\n",
              "      <td>109.44402</td>\n",
              "      <td>16.98140</td>\n",
              "      <td>Challenger (LM-12)</td>\n",
              "      <td>16456</td>\n",
              "      <td>11.0</td>\n",
              "      <td>America (CM-114)</td>\n",
              "      <td>5960</td>\n",
              "      <td>120.0</td>\n",
              "      <td>22416</td>\n",
              "      <td>131.0</td>\n",
              "      <td>0.515310</td>\n",
              "      <td>0.004882</td>\n",
              "      <td>0.002516</td>\n",
              "    </tr>\n",
              "  </tbody>\n",
              "</table>\n",
              "</div>"
            ],
            "text/plain": [
              "    Mission  Sample weight (kg)  Weight diff   Lunar module (LM)  \\\n",
              "0  Apollo11            21.55424      0.00000        Eagle (LM-5)   \n",
              "1  Apollo12            34.34238     12.78814     Intrepid (LM-6)   \n",
              "2  Apollo14            41.83363      7.49125      Antares (LM-8)   \n",
              "3  Apollo15            75.39910     33.56547      Falcon (LM-10)   \n",
              "4  Apollo16            92.46262     17.06352       Orion (LM-11)   \n",
              "5  Apollo17           109.44402     16.98140  Challenger (LM-12)   \n",
              "\n",
              "   LM mass (kg)  LM mass diff       Command Module (CM)  CM Mass (kg)  \\\n",
              "0         15103           0.0        Columbia (CSM-107]          5560   \n",
              "1         15235         132.0  Yankee Clipper (CM-100])          5609   \n",
              "2         15264          29.0       Kitty Hawk (CM-110)          5758   \n",
              "3         16430        1166.0         Endeavor (CM-112)          5875   \n",
              "4         16445          15.0           Casper (CM-113)          5840   \n",
              "5         16456          11.0          America (CM-114)          5960   \n",
              "\n",
              "   CM mass diff  Total weight (kg)  Total weight diff  Crewed area : Payload  \\\n",
              "0           0.0              20663                0.0               0.475011   \n",
              "1          49.0              20844              181.0               0.479172   \n",
              "2         149.0              21022              178.0               0.483264   \n",
              "3         117.0              22305             1283.0               0.512759   \n",
              "4         -35.0              22285              -20.0               0.512299   \n",
              "5         120.0              22416              131.0               0.515310   \n",
              "\n",
              "   Sample : Crewed area  Sample : Payload  \n",
              "0              0.001043          0.000495  \n",
              "1              0.001648          0.000789  \n",
              "2              0.001990          0.000962  \n",
              "3              0.003380          0.001733  \n",
              "4              0.004149          0.002126  \n",
              "5              0.004882          0.002516  "
            ]
          },
          "execution_count": 38,
          "metadata": {},
          "output_type": "execute_result"
        }
      ],
      "source": [
        "# 페이로드에서 샘플이 차지하는 비율 구하기 -> 'Sample : Payload'\n"
      ]
    },
    {
      "cell_type": "markdown",
      "metadata": {},
      "source": [
        "## artemis_mission 데이터프레임 만들기"
      ]
    },
    {
      "cell_type": "code",
      "execution_count": null,
      "metadata": {
        "gather": {
          "logged": 1718683927721
        }
      },
      "outputs": [
        {
          "ename": "NameError",
          "evalue": "name 'artemis_mission' is not defined",
          "output_type": "error",
          "traceback": [
            "\u001b[31m---------------------------------------------------------------------------\u001b[39m",
            "\u001b[31mNameError\u001b[39m                                 Traceback (most recent call last)",
            "\u001b[36mCell\u001b[39m\u001b[36m \u001b[39m\u001b[32mIn[132]\u001b[39m\u001b[32m, line 9\u001b[39m\n\u001b[32m      3\u001b[39m artemis_dict = {\u001b[33m'\u001b[39m\u001b[33mMission\u001b[39m\u001b[33m'\u001b[39m : [\u001b[33m'\u001b[39m\u001b[33martemis1\u001b[39m\u001b[33m'\u001b[39m, \u001b[33m'\u001b[39m\u001b[33martemis1b\u001b[39m\u001b[33m'\u001b[39m, \u001b[33m'\u001b[39m\u001b[33martemis2\u001b[39m\u001b[33m'\u001b[39m],\n\u001b[32m      4\u001b[39m                 \u001b[33m'\u001b[39m\u001b[33mTotal weight (kg)\u001b[39m\u001b[33m'\u001b[39m : [artemis_crewedArea, artemis_crewedArea, artemis_crewedArea],\n\u001b[32m      5\u001b[39m                 \u001b[33m'\u001b[39m\u001b[33mPayload (kg)\u001b[39m\u001b[33m'\u001b[39m : [\u001b[32m26988\u001b[39m, \u001b[32m37965\u001b[39m, \u001b[32m42955\u001b[39m]\n\u001b[32m      6\u001b[39m                }\n\u001b[32m      8\u001b[39m \u001b[38;5;66;03m#딕셔너리를 데이터 프레임으로 저장하기\u001b[39;00m\n\u001b[32m----> \u001b[39m\u001b[32m9\u001b[39m \u001b[43martemis_mission\u001b[49m \n",
            "\u001b[31mNameError\u001b[39m: name 'artemis_mission' is not defined"
          ]
        }
      ],
      "source": [
        "artemis_crewedArea = 26520\n",
        "\n",
        "artemis_dict = {'Mission' : ['artemis1', 'artemis1b', 'artemis2'],\n",
        "                'Total weight (kg)' : [artemis_crewedArea, artemis_crewedArea, artemis_crewedArea],\n",
        "                'Payload (kg)' : [26988, 37965, 42955]\n",
        "               }\n",
        "\n",
        "#딕셔너리를 데이터 프레임으로 저장하기\n",
        "artemis_mission "
      ]
    },
    {
      "cell_type": "code",
      "execution_count": null,
      "metadata": {
        "gather": {
          "logged": 1718683928021
        }
      },
      "outputs": [
        {
          "name": "stdout",
          "output_type": "stream",
          "text": [
            "0.4963026819923371\n",
            "0.002848764392685611\n",
            "0.0014369195019157087\n"
          ]
        }
      ],
      "source": [
        "# missions 데이터프레임에서 'Crewed area : Payload', 'Sample : Crewed area', 'Sample : payload' 의 평균값을 구한다.\n"
      ]
    },
    {
      "cell_type": "code",
      "execution_count": null,
      "metadata": {
        "gather": {
          "logged": 1718683928212
        },
        "jupyter": {
          "outputs_hidden": false,
          "source_hidden": false
        },
        "nteract": {
          "transient": {
            "deleting": false
          }
        }
      },
      "outputs": [
        {
          "data": {
            "text/plain": [
              "375.03598999999997"
            ]
          },
          "execution_count": 41,
          "metadata": {},
          "output_type": "execute_result"
        }
      ],
      "source": [
        "# missions 데이터프레임에서 'Sample weight (kg)'의 총합을 구한다.\n"
      ]
    },
    {
      "cell_type": "code",
      "execution_count": null,
      "metadata": {
        "gather": {
          "logged": 1718683928361
        },
        "jupyter": {
          "outputs_hidden": false,
          "source_hidden": false
        },
        "nteract": {
          "transient": {
            "deleting": false
          }
        }
      },
      "outputs": [
        {
          "data": {
            "text/html": [
              "<div>\n",
              "<style scoped>\n",
              "    .dataframe tbody tr th:only-of-type {\n",
              "        vertical-align: middle;\n",
              "    }\n",
              "\n",
              "    .dataframe tbody tr th {\n",
              "        vertical-align: top;\n",
              "    }\n",
              "\n",
              "    .dataframe thead th {\n",
              "        text-align: right;\n",
              "    }\n",
              "</style>\n",
              "<table border=\"1\" class=\"dataframe\">\n",
              "  <thead>\n",
              "    <tr style=\"text-align: right;\">\n",
              "      <th></th>\n",
              "      <th>Mission</th>\n",
              "      <th>Total weight (kg)</th>\n",
              "      <th>Payload (kg)</th>\n",
              "      <th>Sample weight from total (kg)</th>\n",
              "    </tr>\n",
              "  </thead>\n",
              "  <tbody>\n",
              "    <tr>\n",
              "      <th>0</th>\n",
              "      <td>artemis1</td>\n",
              "      <td>26520</td>\n",
              "      <td>26988</td>\n",
              "      <td>75.549232</td>\n",
              "    </tr>\n",
              "    <tr>\n",
              "      <th>1</th>\n",
              "      <td>artemis1b</td>\n",
              "      <td>26520</td>\n",
              "      <td>37965</td>\n",
              "      <td>75.549232</td>\n",
              "    </tr>\n",
              "    <tr>\n",
              "      <th>2</th>\n",
              "      <td>artemis2</td>\n",
              "      <td>26520</td>\n",
              "      <td>42955</td>\n",
              "      <td>75.549232</td>\n",
              "    </tr>\n",
              "  </tbody>\n",
              "</table>\n",
              "</div>"
            ],
            "text/plain": [
              "     Mission  Total weight (kg)  Payload (kg)  Sample weight from total (kg)\n",
              "0   artemis1              26520         26988                      75.549232\n",
              "1  artemis1b              26520         37965                      75.549232\n",
              "2   artemis2              26520         42955                      75.549232"
            ]
          },
          "execution_count": 42,
          "metadata": {},
          "output_type": "execute_result"
        }
      ],
      "source": [
        "#artemis_missions 데이터 프레임에 'Sample weight from total (kg)' 컬럼을 추가한다.\n",
        "\n"
      ]
    },
    {
      "cell_type": "code",
      "execution_count": null,
      "metadata": {
        "gather": {
          "logged": 1718683928565
        },
        "jupyter": {
          "outputs_hidden": false,
          "source_hidden": false
        },
        "nteract": {
          "transient": {
            "deleting": false
          }
        }
      },
      "outputs": [
        {
          "data": {
            "text/html": [
              "<div>\n",
              "<style scoped>\n",
              "    .dataframe tbody tr th:only-of-type {\n",
              "        vertical-align: middle;\n",
              "    }\n",
              "\n",
              "    .dataframe tbody tr th {\n",
              "        vertical-align: top;\n",
              "    }\n",
              "\n",
              "    .dataframe thead th {\n",
              "        text-align: right;\n",
              "    }\n",
              "</style>\n",
              "<table border=\"1\" class=\"dataframe\">\n",
              "  <thead>\n",
              "    <tr style=\"text-align: right;\">\n",
              "      <th></th>\n",
              "      <th>Mission</th>\n",
              "      <th>Total weight (kg)</th>\n",
              "      <th>Payload (kg)</th>\n",
              "      <th>Sample weight from total (kg)</th>\n",
              "      <th>Sample weight from payload (kg)</th>\n",
              "    </tr>\n",
              "  </thead>\n",
              "  <tbody>\n",
              "    <tr>\n",
              "      <th>0</th>\n",
              "      <td>artemis1</td>\n",
              "      <td>26520</td>\n",
              "      <td>26988</td>\n",
              "      <td>75.549232</td>\n",
              "      <td>38.779584</td>\n",
              "    </tr>\n",
              "    <tr>\n",
              "      <th>1</th>\n",
              "      <td>artemis1b</td>\n",
              "      <td>26520</td>\n",
              "      <td>37965</td>\n",
              "      <td>75.549232</td>\n",
              "      <td>54.552649</td>\n",
              "    </tr>\n",
              "    <tr>\n",
              "      <th>2</th>\n",
              "      <td>artemis2</td>\n",
              "      <td>26520</td>\n",
              "      <td>42955</td>\n",
              "      <td>75.549232</td>\n",
              "      <td>61.722877</td>\n",
              "    </tr>\n",
              "  </tbody>\n",
              "</table>\n",
              "</div>"
            ],
            "text/plain": [
              "     Mission  Total weight (kg)  Payload (kg)  Sample weight from total (kg)  \\\n",
              "0   artemis1              26520         26988                      75.549232   \n",
              "1  artemis1b              26520         37965                      75.549232   \n",
              "2   artemis2              26520         42955                      75.549232   \n",
              "\n",
              "   Sample weight from payload (kg)  \n",
              "0                        38.779584  \n",
              "1                        54.552649  \n",
              "2                        61.722877  "
            ]
          },
          "execution_count": 43,
          "metadata": {},
          "output_type": "execute_result"
        }
      ],
      "source": [
        "#artemis_mission 데이터프레임에 'Sample weight from payload (kg)' 컬럼을 추가한다.\n",
        "\n"
      ]
    },
    {
      "cell_type": "code",
      "execution_count": null,
      "metadata": {
        "gather": {
          "logged": 1718683928731
        },
        "jupyter": {
          "outputs_hidden": false,
          "source_hidden": false
        },
        "nteract": {
          "transient": {
            "deleting": false
          }
        }
      },
      "outputs": [
        {
          "data": {
            "text/html": [
              "<div>\n",
              "<style scoped>\n",
              "    .dataframe tbody tr th:only-of-type {\n",
              "        vertical-align: middle;\n",
              "    }\n",
              "\n",
              "    .dataframe tbody tr th {\n",
              "        vertical-align: top;\n",
              "    }\n",
              "\n",
              "    .dataframe thead th {\n",
              "        text-align: right;\n",
              "    }\n",
              "</style>\n",
              "<table border=\"1\" class=\"dataframe\">\n",
              "  <thead>\n",
              "    <tr style=\"text-align: right;\">\n",
              "      <th></th>\n",
              "      <th>Mission</th>\n",
              "      <th>Total weight (kg)</th>\n",
              "      <th>Payload (kg)</th>\n",
              "      <th>Sample weight from total (kg)</th>\n",
              "      <th>Sample weight from payload (kg)</th>\n",
              "      <th>Estimated sample weight (kg)</th>\n",
              "    </tr>\n",
              "  </thead>\n",
              "  <tbody>\n",
              "    <tr>\n",
              "      <th>0</th>\n",
              "      <td>artemis1</td>\n",
              "      <td>26520</td>\n",
              "      <td>26988</td>\n",
              "      <td>75.549232</td>\n",
              "      <td>38.779584</td>\n",
              "      <td>57.164408</td>\n",
              "    </tr>\n",
              "    <tr>\n",
              "      <th>1</th>\n",
              "      <td>artemis1b</td>\n",
              "      <td>26520</td>\n",
              "      <td>37965</td>\n",
              "      <td>75.549232</td>\n",
              "      <td>54.552649</td>\n",
              "      <td>65.050940</td>\n",
              "    </tr>\n",
              "    <tr>\n",
              "      <th>2</th>\n",
              "      <td>artemis2</td>\n",
              "      <td>26520</td>\n",
              "      <td>42955</td>\n",
              "      <td>75.549232</td>\n",
              "      <td>61.722877</td>\n",
              "      <td>68.636054</td>\n",
              "    </tr>\n",
              "  </tbody>\n",
              "</table>\n",
              "</div>"
            ],
            "text/plain": [
              "     Mission  Total weight (kg)  Payload (kg)  Sample weight from total (kg)  \\\n",
              "0   artemis1              26520         26988                      75.549232   \n",
              "1  artemis1b              26520         37965                      75.549232   \n",
              "2   artemis2              26520         42955                      75.549232   \n",
              "\n",
              "   Sample weight from payload (kg)  Estimated sample weight (kg)  \n",
              "0                        38.779584                     57.164408  \n",
              "1                        54.552649                     65.050940  \n",
              "2                        61.722877                     68.636054  "
            ]
          },
          "execution_count": 44,
          "metadata": {},
          "output_type": "execute_result"
        }
      ],
      "source": [
        "# artemis_mission 데이터프레임에 'Estimated sample weight (kg)' 컬럼을 추가한다.\n",
        "\n"
      ]
    },
    {
      "cell_type": "markdown",
      "metadata": {
        "nteract": {
          "transient": {
            "deleting": false
          }
        }
      },
      "source": [
        "##아르테미스 임무에서 가져올 암석 종류 구하기"
      ]
    },
    {
      "cell_type": "code",
      "execution_count": null,
      "metadata": {
        "gather": {
          "logged": 1718683929003
        },
        "jupyter": {
          "outputs_hidden": false,
          "source_hidden": false
        },
        "nteract": {
          "transient": {
            "deleting": false
          }
        }
      },
      "outputs": [
        {
          "data": {
            "text/html": [
              "<div>\n",
              "<style scoped>\n",
              "    .dataframe tbody tr th:only-of-type {\n",
              "        vertical-align: middle;\n",
              "    }\n",
              "\n",
              "    .dataframe tbody tr th {\n",
              "        vertical-align: top;\n",
              "    }\n",
              "\n",
              "    .dataframe thead th {\n",
              "        text-align: right;\n",
              "    }\n",
              "</style>\n",
              "<table border=\"1\" class=\"dataframe\">\n",
              "  <thead>\n",
              "    <tr style=\"text-align: right;\">\n",
              "      <th></th>\n",
              "      <th>ID</th>\n",
              "      <th>Mission</th>\n",
              "      <th>Type</th>\n",
              "      <th>Subtype</th>\n",
              "      <th>Weight (kg)</th>\n",
              "      <th>Pristine (%)</th>\n",
              "    </tr>\n",
              "  </thead>\n",
              "  <tbody>\n",
              "    <tr>\n",
              "      <th>0</th>\n",
              "      <td>10001</td>\n",
              "      <td>Apollo11</td>\n",
              "      <td>Soil</td>\n",
              "      <td>Unsieved</td>\n",
              "      <td>0.1258</td>\n",
              "      <td>88.36</td>\n",
              "    </tr>\n",
              "    <tr>\n",
              "      <th>1</th>\n",
              "      <td>10002</td>\n",
              "      <td>Apollo11</td>\n",
              "      <td>Soil</td>\n",
              "      <td>Unsieved</td>\n",
              "      <td>5.6290</td>\n",
              "      <td>93.73</td>\n",
              "    </tr>\n",
              "    <tr>\n",
              "      <th>2</th>\n",
              "      <td>10003</td>\n",
              "      <td>Apollo11</td>\n",
              "      <td>Basalt</td>\n",
              "      <td>Ilmenite</td>\n",
              "      <td>0.2130</td>\n",
              "      <td>65.56</td>\n",
              "    </tr>\n",
              "    <tr>\n",
              "      <th>3</th>\n",
              "      <td>10004</td>\n",
              "      <td>Apollo11</td>\n",
              "      <td>Core</td>\n",
              "      <td>Unsieved</td>\n",
              "      <td>0.0448</td>\n",
              "      <td>71.76</td>\n",
              "    </tr>\n",
              "    <tr>\n",
              "      <th>4</th>\n",
              "      <td>10005</td>\n",
              "      <td>Apollo11</td>\n",
              "      <td>Core</td>\n",
              "      <td>Unsieved</td>\n",
              "      <td>0.0534</td>\n",
              "      <td>40.31</td>\n",
              "    </tr>\n",
              "  </tbody>\n",
              "</table>\n",
              "</div>"
            ],
            "text/plain": [
              "      ID   Mission    Type   Subtype  Weight (kg)  Pristine (%)\n",
              "0  10001  Apollo11    Soil  Unsieved       0.1258         88.36\n",
              "1  10002  Apollo11    Soil  Unsieved       5.6290         93.73\n",
              "2  10003  Apollo11  Basalt  Ilmenite       0.2130         65.56\n",
              "3  10004  Apollo11    Core  Unsieved       0.0448         71.76\n",
              "4  10005  Apollo11    Core  Unsieved       0.0534         40.31"
            ]
          },
          "execution_count": 45,
          "metadata": {},
          "output_type": "execute_result"
        }
      ],
      "source": [
        "# rock_samples의 5개 정보 확인하기\n"
      ]
    },
    {
      "cell_type": "code",
      "execution_count": null,
      "metadata": {
        "gather": {
          "logged": 1718683929399
        },
        "jupyter": {
          "outputs_hidden": false,
          "source_hidden": false
        },
        "nteract": {
          "transient": {
            "deleting": false
          }
        }
      },
      "outputs": [
        {
          "data": {
            "text/html": [
              "<div>\n",
              "<style scoped>\n",
              "    .dataframe tbody tr th:only-of-type {\n",
              "        vertical-align: middle;\n",
              "    }\n",
              "\n",
              "    .dataframe tbody tr th {\n",
              "        vertical-align: top;\n",
              "    }\n",
              "\n",
              "    .dataframe thead th {\n",
              "        text-align: right;\n",
              "    }\n",
              "</style>\n",
              "<table border=\"1\" class=\"dataframe\">\n",
              "  <thead>\n",
              "    <tr style=\"text-align: right;\">\n",
              "      <th></th>\n",
              "      <th>ID</th>\n",
              "      <th>Mission</th>\n",
              "      <th>Type</th>\n",
              "      <th>Subtype</th>\n",
              "      <th>Weight (kg)</th>\n",
              "      <th>Pristine (%)</th>\n",
              "      <th>Remaining (kg)</th>\n",
              "    </tr>\n",
              "  </thead>\n",
              "  <tbody>\n",
              "    <tr>\n",
              "      <th>0</th>\n",
              "      <td>10001</td>\n",
              "      <td>Apollo11</td>\n",
              "      <td>Soil</td>\n",
              "      <td>Unsieved</td>\n",
              "      <td>0.1258</td>\n",
              "      <td>88.36</td>\n",
              "      <td>0.111157</td>\n",
              "    </tr>\n",
              "    <tr>\n",
              "      <th>1</th>\n",
              "      <td>10002</td>\n",
              "      <td>Apollo11</td>\n",
              "      <td>Soil</td>\n",
              "      <td>Unsieved</td>\n",
              "      <td>5.6290</td>\n",
              "      <td>93.73</td>\n",
              "      <td>5.276062</td>\n",
              "    </tr>\n",
              "    <tr>\n",
              "      <th>2</th>\n",
              "      <td>10003</td>\n",
              "      <td>Apollo11</td>\n",
              "      <td>Basalt</td>\n",
              "      <td>Ilmenite</td>\n",
              "      <td>0.2130</td>\n",
              "      <td>65.56</td>\n",
              "      <td>0.139643</td>\n",
              "    </tr>\n",
              "    <tr>\n",
              "      <th>3</th>\n",
              "      <td>10004</td>\n",
              "      <td>Apollo11</td>\n",
              "      <td>Core</td>\n",
              "      <td>Unsieved</td>\n",
              "      <td>0.0448</td>\n",
              "      <td>71.76</td>\n",
              "      <td>0.032148</td>\n",
              "    </tr>\n",
              "    <tr>\n",
              "      <th>4</th>\n",
              "      <td>10005</td>\n",
              "      <td>Apollo11</td>\n",
              "      <td>Core</td>\n",
              "      <td>Unsieved</td>\n",
              "      <td>0.0534</td>\n",
              "      <td>40.31</td>\n",
              "      <td>0.021526</td>\n",
              "    </tr>\n",
              "  </tbody>\n",
              "</table>\n",
              "</div>"
            ],
            "text/plain": [
              "      ID   Mission    Type   Subtype  Weight (kg)  Pristine (%)  \\\n",
              "0  10001  Apollo11    Soil  Unsieved       0.1258         88.36   \n",
              "1  10002  Apollo11    Soil  Unsieved       5.6290         93.73   \n",
              "2  10003  Apollo11  Basalt  Ilmenite       0.2130         65.56   \n",
              "3  10004  Apollo11    Core  Unsieved       0.0448         71.76   \n",
              "4  10005  Apollo11    Core  Unsieved       0.0534         40.31   \n",
              "\n",
              "   Remaining (kg)  \n",
              "0        0.111157  \n",
              "1        5.276062  \n",
              "2        0.139643  \n",
              "3        0.032148  \n",
              "4        0.021526  "
            ]
          },
          "execution_count": 46,
          "metadata": {},
          "output_type": "execute_result"
        }
      ],
      "source": [
        "# rock_samples 데이터프레임에 암석샘플의 남은 양을 나타내는 'Remaining (kg)' 컬럼추가\n"
      ]
    },
    {
      "cell_type": "code",
      "execution_count": null,
      "metadata": {
        "gather": {
          "logged": 1718683929880
        },
        "jupyter": {
          "outputs_hidden": false,
          "source_hidden": false
        },
        "nteract": {
          "transient": {
            "deleting": false
          }
        }
      },
      "outputs": [],
      "source": [
        "# rock_samples 수치데이터 요약 통계 확인\n"
      ]
    },
    {
      "cell_type": "code",
      "execution_count": null,
      "metadata": {},
      "outputs": [
        {
          "data": {
            "text/html": [
              "<div>\n",
              "<style scoped>\n",
              "    .dataframe tbody tr th:only-of-type {\n",
              "        vertical-align: middle;\n",
              "    }\n",
              "\n",
              "    .dataframe tbody tr th {\n",
              "        vertical-align: top;\n",
              "    }\n",
              "\n",
              "    .dataframe thead th {\n",
              "        text-align: right;\n",
              "    }\n",
              "</style>\n",
              "<table border=\"1\" class=\"dataframe\">\n",
              "  <thead>\n",
              "    <tr style=\"text-align: right;\">\n",
              "      <th></th>\n",
              "      <th>ID</th>\n",
              "      <th>Mission</th>\n",
              "      <th>Type</th>\n",
              "      <th>Subtype</th>\n",
              "      <th>Weight (kg)</th>\n",
              "      <th>Pristine (%)</th>\n",
              "    </tr>\n",
              "  </thead>\n",
              "  <tbody>\n",
              "    <tr>\n",
              "      <th>0</th>\n",
              "      <td>10001</td>\n",
              "      <td>Apollo11</td>\n",
              "      <td>Soil</td>\n",
              "      <td>Unsieved</td>\n",
              "      <td>0.12580</td>\n",
              "      <td>88.36</td>\n",
              "    </tr>\n",
              "    <tr>\n",
              "      <th>1</th>\n",
              "      <td>10002</td>\n",
              "      <td>Apollo11</td>\n",
              "      <td>Soil</td>\n",
              "      <td>Unsieved</td>\n",
              "      <td>5.62900</td>\n",
              "      <td>93.73</td>\n",
              "    </tr>\n",
              "    <tr>\n",
              "      <th>2</th>\n",
              "      <td>10003</td>\n",
              "      <td>Apollo11</td>\n",
              "      <td>Basalt</td>\n",
              "      <td>Ilmenite</td>\n",
              "      <td>0.21300</td>\n",
              "      <td>65.56</td>\n",
              "    </tr>\n",
              "    <tr>\n",
              "      <th>3</th>\n",
              "      <td>10004</td>\n",
              "      <td>Apollo11</td>\n",
              "      <td>Core</td>\n",
              "      <td>Unsieved</td>\n",
              "      <td>0.04480</td>\n",
              "      <td>71.76</td>\n",
              "    </tr>\n",
              "    <tr>\n",
              "      <th>4</th>\n",
              "      <td>10005</td>\n",
              "      <td>Apollo11</td>\n",
              "      <td>Core</td>\n",
              "      <td>Unsieved</td>\n",
              "      <td>0.05340</td>\n",
              "      <td>40.31</td>\n",
              "    </tr>\n",
              "    <tr>\n",
              "      <th>...</th>\n",
              "      <td>...</td>\n",
              "      <td>...</td>\n",
              "      <td>...</td>\n",
              "      <td>...</td>\n",
              "      <td>...</td>\n",
              "      <td>...</td>\n",
              "    </tr>\n",
              "    <tr>\n",
              "      <th>2224</th>\n",
              "      <td>79528</td>\n",
              "      <td>Apollo17</td>\n",
              "      <td>Breccia</td>\n",
              "      <td>Regolith</td>\n",
              "      <td>0.00238</td>\n",
              "      <td>100.00</td>\n",
              "    </tr>\n",
              "    <tr>\n",
              "      <th>2225</th>\n",
              "      <td>79529</td>\n",
              "      <td>Apollo17</td>\n",
              "      <td>Breccia</td>\n",
              "      <td>Regolith</td>\n",
              "      <td>0.00184</td>\n",
              "      <td>100.00</td>\n",
              "    </tr>\n",
              "    <tr>\n",
              "      <th>2226</th>\n",
              "      <td>79535</td>\n",
              "      <td>Apollo17</td>\n",
              "      <td>Breccia</td>\n",
              "      <td>Regolith</td>\n",
              "      <td>0.00169</td>\n",
              "      <td>100.00</td>\n",
              "    </tr>\n",
              "    <tr>\n",
              "      <th>2227</th>\n",
              "      <td>79536</td>\n",
              "      <td>Apollo17</td>\n",
              "      <td>Breccia</td>\n",
              "      <td>Regolith</td>\n",
              "      <td>0.00166</td>\n",
              "      <td>100.00</td>\n",
              "    </tr>\n",
              "    <tr>\n",
              "      <th>2228</th>\n",
              "      <td>79537</td>\n",
              "      <td>Apollo17</td>\n",
              "      <td>Breccia</td>\n",
              "      <td>Regolith</td>\n",
              "      <td>0.00105</td>\n",
              "      <td>100.00</td>\n",
              "    </tr>\n",
              "  </tbody>\n",
              "</table>\n",
              "<p>2229 rows × 6 columns</p>\n",
              "</div>"
            ],
            "text/plain": [
              "         ID   Mission     Type   Subtype  Weight (kg)  Pristine (%)\n",
              "0     10001  Apollo11     Soil  Unsieved      0.12580         88.36\n",
              "1     10002  Apollo11     Soil  Unsieved      5.62900         93.73\n",
              "2     10003  Apollo11   Basalt  Ilmenite      0.21300         65.56\n",
              "3     10004  Apollo11     Core  Unsieved      0.04480         71.76\n",
              "4     10005  Apollo11     Core  Unsieved      0.05340         40.31\n",
              "...     ...       ...      ...       ...          ...           ...\n",
              "2224  79528  Apollo17  Breccia  Regolith      0.00238        100.00\n",
              "2225  79529  Apollo17  Breccia  Regolith      0.00184        100.00\n",
              "2226  79535  Apollo17  Breccia  Regolith      0.00169        100.00\n",
              "2227  79536  Apollo17  Breccia  Regolith      0.00166        100.00\n",
              "2228  79537  Apollo17  Breccia  Regolith      0.00105        100.00\n",
              "\n",
              "[2229 rows x 6 columns]"
            ]
          },
          "execution_count": 135,
          "metadata": {},
          "output_type": "execute_result"
        }
      ],
      "source": [
        "rocks"
      ]
    },
    {
      "cell_type": "code",
      "execution_count": null,
      "metadata": {
        "gather": {
          "logged": 1718683930026
        },
        "jupyter": {
          "outputs_hidden": false,
          "source_hidden": false
        },
        "nteract": {
          "transient": {
            "deleting": false
          }
        }
      },
      "outputs": [
        {
          "data": {
            "text/html": [
              "<div>\n",
              "<style scoped>\n",
              "    .dataframe tbody tr th:only-of-type {\n",
              "        vertical-align: middle;\n",
              "    }\n",
              "\n",
              "    .dataframe tbody tr th {\n",
              "        vertical-align: top;\n",
              "    }\n",
              "\n",
              "    .dataframe thead th {\n",
              "        text-align: right;\n",
              "    }\n",
              "</style>\n",
              "<table border=\"1\" class=\"dataframe\">\n",
              "  <thead>\n",
              "    <tr style=\"text-align: right;\">\n",
              "      <th></th>\n",
              "      <th>ID</th>\n",
              "      <th>Mission</th>\n",
              "      <th>Type</th>\n",
              "      <th>Subtype</th>\n",
              "      <th>Weight (kg)</th>\n",
              "      <th>Pristine (%)</th>\n",
              "    </tr>\n",
              "  </thead>\n",
              "  <tbody>\n",
              "    <tr>\n",
              "      <th>1</th>\n",
              "      <td>10002</td>\n",
              "      <td>Apollo11</td>\n",
              "      <td>Soil</td>\n",
              "      <td>Unsieved</td>\n",
              "      <td>5.6290</td>\n",
              "      <td>93.73</td>\n",
              "    </tr>\n",
              "    <tr>\n",
              "      <th>2</th>\n",
              "      <td>10003</td>\n",
              "      <td>Apollo11</td>\n",
              "      <td>Basalt</td>\n",
              "      <td>Ilmenite</td>\n",
              "      <td>0.2130</td>\n",
              "      <td>65.56</td>\n",
              "    </tr>\n",
              "    <tr>\n",
              "      <th>7</th>\n",
              "      <td>10010</td>\n",
              "      <td>Apollo11</td>\n",
              "      <td>Soil</td>\n",
              "      <td>Unsieved</td>\n",
              "      <td>0.4910</td>\n",
              "      <td>91.03</td>\n",
              "    </tr>\n",
              "    <tr>\n",
              "      <th>11</th>\n",
              "      <td>10017</td>\n",
              "      <td>Apollo11</td>\n",
              "      <td>Basalt</td>\n",
              "      <td>Ilmenite</td>\n",
              "      <td>0.9730</td>\n",
              "      <td>43.71</td>\n",
              "    </tr>\n",
              "    <tr>\n",
              "      <th>12</th>\n",
              "      <td>10018</td>\n",
              "      <td>Apollo11</td>\n",
              "      <td>Breccia</td>\n",
              "      <td>Regolith</td>\n",
              "      <td>0.2130</td>\n",
              "      <td>97.71</td>\n",
              "    </tr>\n",
              "    <tr>\n",
              "      <th>...</th>\n",
              "      <td>...</td>\n",
              "      <td>...</td>\n",
              "      <td>...</td>\n",
              "      <td>...</td>\n",
              "      <td>...</td>\n",
              "      <td>...</td>\n",
              "    </tr>\n",
              "    <tr>\n",
              "      <th>2187</th>\n",
              "      <td>79195</td>\n",
              "      <td>Apollo17</td>\n",
              "      <td>Breccia</td>\n",
              "      <td>Fragmental</td>\n",
              "      <td>0.3685</td>\n",
              "      <td>97.92</td>\n",
              "    </tr>\n",
              "    <tr>\n",
              "      <th>2189</th>\n",
              "      <td>79215</td>\n",
              "      <td>Apollo17</td>\n",
              "      <td>Crustal</td>\n",
              "      <td>Cataclasite</td>\n",
              "      <td>0.5538</td>\n",
              "      <td>93.33</td>\n",
              "    </tr>\n",
              "    <tr>\n",
              "      <th>2200</th>\n",
              "      <td>79241</td>\n",
              "      <td>Apollo17</td>\n",
              "      <td>Soil</td>\n",
              "      <td>&lt;1mm</td>\n",
              "      <td>0.1743</td>\n",
              "      <td>93.24</td>\n",
              "    </tr>\n",
              "    <tr>\n",
              "      <th>2206</th>\n",
              "      <td>79261</td>\n",
              "      <td>Apollo17</td>\n",
              "      <td>Soil</td>\n",
              "      <td>&lt;1mm</td>\n",
              "      <td>0.1878</td>\n",
              "      <td>86.38</td>\n",
              "    </tr>\n",
              "    <tr>\n",
              "      <th>2212</th>\n",
              "      <td>79511</td>\n",
              "      <td>Apollo17</td>\n",
              "      <td>Soil</td>\n",
              "      <td>&lt;1mm</td>\n",
              "      <td>0.1792</td>\n",
              "      <td>95.88</td>\n",
              "    </tr>\n",
              "  </tbody>\n",
              "</table>\n",
              "<p>424 rows × 6 columns</p>\n",
              "</div>"
            ],
            "text/plain": [
              "         ID   Mission     Type      Subtype  Weight (kg)  Pristine (%)\n",
              "1     10002  Apollo11     Soil     Unsieved       5.6290         93.73\n",
              "2     10003  Apollo11   Basalt     Ilmenite       0.2130         65.56\n",
              "7     10010  Apollo11     Soil     Unsieved       0.4910         91.03\n",
              "11    10017  Apollo11   Basalt     Ilmenite       0.9730         43.71\n",
              "12    10018  Apollo11  Breccia     Regolith       0.2130         97.71\n",
              "...     ...       ...      ...          ...          ...           ...\n",
              "2187  79195  Apollo17  Breccia   Fragmental       0.3685         97.92\n",
              "2189  79215  Apollo17  Crustal  Cataclasite       0.5538         93.33\n",
              "2200  79241  Apollo17     Soil         <1mm       0.1743         93.24\n",
              "2206  79261  Apollo17     Soil         <1mm       0.1878         86.38\n",
              "2212  79511  Apollo17     Soil         <1mm       0.1792         95.88\n",
              "\n",
              "[424 rows x 6 columns]"
            ]
          },
          "execution_count": 136,
          "metadata": {},
          "output_type": "execute_result"
        }
      ],
      "source": [
        "# rock_samples['Weight (kg)']의 모든 값이 0.16kg 이상 인지 확인\n",
        "rocks.loc[(rocks['Weight (kg)']>=0.16)]"
      ]
    },
    {
      "cell_type": "code",
      "execution_count": 127,
      "metadata": {
        "gather": {
          "logged": 1718683930391
        },
        "jupyter": {
          "outputs_hidden": false,
          "source_hidden": false
        },
        "nteract": {
          "transient": {
            "deleting": false
          }
        }
      },
      "outputs": [
        {
          "ename": "KeyError",
          "evalue": "'Weight(kg)'",
          "output_type": "error",
          "traceback": [
            "\u001b[31m---------------------------------------------------------------------------\u001b[39m",
            "\u001b[31mKeyError\u001b[39m                                  Traceback (most recent call last)",
            "\u001b[36mFile \u001b[39m\u001b[32mc:\\Users\\EL90\\AppData\\Local\\Programs\\Python\\Python311\\Lib\\site-packages\\pandas\\core\\indexes\\base.py:3812\u001b[39m, in \u001b[36mIndex.get_loc\u001b[39m\u001b[34m(self, key)\u001b[39m\n\u001b[32m   3811\u001b[39m \u001b[38;5;28;01mtry\u001b[39;00m:\n\u001b[32m-> \u001b[39m\u001b[32m3812\u001b[39m     \u001b[38;5;28;01mreturn\u001b[39;00m \u001b[38;5;28;43mself\u001b[39;49m\u001b[43m.\u001b[49m\u001b[43m_engine\u001b[49m\u001b[43m.\u001b[49m\u001b[43mget_loc\u001b[49m\u001b[43m(\u001b[49m\u001b[43mcasted_key\u001b[49m\u001b[43m)\u001b[49m\n\u001b[32m   3813\u001b[39m \u001b[38;5;28;01mexcept\u001b[39;00m \u001b[38;5;167;01mKeyError\u001b[39;00m \u001b[38;5;28;01mas\u001b[39;00m err:\n",
            "\u001b[36mFile \u001b[39m\u001b[32mpandas/_libs/index.pyx:167\u001b[39m, in \u001b[36mpandas._libs.index.IndexEngine.get_loc\u001b[39m\u001b[34m()\u001b[39m\n",
            "\u001b[36mFile \u001b[39m\u001b[32mpandas/_libs/index.pyx:196\u001b[39m, in \u001b[36mpandas._libs.index.IndexEngine.get_loc\u001b[39m\u001b[34m()\u001b[39m\n",
            "\u001b[36mFile \u001b[39m\u001b[32mpandas/_libs/hashtable_class_helper.pxi:7088\u001b[39m, in \u001b[36mpandas._libs.hashtable.PyObjectHashTable.get_item\u001b[39m\u001b[34m()\u001b[39m\n",
            "\u001b[36mFile \u001b[39m\u001b[32mpandas/_libs/hashtable_class_helper.pxi:7096\u001b[39m, in \u001b[36mpandas._libs.hashtable.PyObjectHashTable.get_item\u001b[39m\u001b[34m()\u001b[39m\n",
            "\u001b[31mKeyError\u001b[39m: 'Weight(kg)'",
            "\nThe above exception was the direct cause of the following exception:\n",
            "\u001b[31mKeyError\u001b[39m                                  Traceback (most recent call last)",
            "\u001b[36mCell\u001b[39m\u001b[36m \u001b[39m\u001b[32mIn[127]\u001b[39m\u001b[32m, line 2\u001b[39m\n\u001b[32m      1\u001b[39m \u001b[38;5;66;03m# rock_samples['Weight (kg)']이 0.16kg 이상 이면서 rock_samples['Pristine (%)']이 50 이하인지 확인\u001b[39;00m\n\u001b[32m----> \u001b[39m\u001b[32m2\u001b[39m rocks.loc[(\u001b[43mrocks\u001b[49m\u001b[43m[\u001b[49m\u001b[33;43m'\u001b[39;49m\u001b[33;43mWeight(kg)\u001b[39;49m\u001b[33;43m'\u001b[39;49m\u001b[43m]\u001b[49m>=\u001b[32m0.16\u001b[39m)&(rocks[\u001b[33m'\u001b[39m\u001b[33mPristine (\u001b[39m\u001b[33m%\u001b[39m\u001b[33m)\u001b[39m\u001b[33m'\u001b[39m]<\u001b[32m50\u001b[39m)]\n",
            "\u001b[36mFile \u001b[39m\u001b[32mc:\\Users\\EL90\\AppData\\Local\\Programs\\Python\\Python311\\Lib\\site-packages\\pandas\\core\\frame.py:4107\u001b[39m, in \u001b[36mDataFrame.__getitem__\u001b[39m\u001b[34m(self, key)\u001b[39m\n\u001b[32m   4105\u001b[39m \u001b[38;5;28;01mif\u001b[39;00m \u001b[38;5;28mself\u001b[39m.columns.nlevels > \u001b[32m1\u001b[39m:\n\u001b[32m   4106\u001b[39m     \u001b[38;5;28;01mreturn\u001b[39;00m \u001b[38;5;28mself\u001b[39m._getitem_multilevel(key)\n\u001b[32m-> \u001b[39m\u001b[32m4107\u001b[39m indexer = \u001b[38;5;28;43mself\u001b[39;49m\u001b[43m.\u001b[49m\u001b[43mcolumns\u001b[49m\u001b[43m.\u001b[49m\u001b[43mget_loc\u001b[49m\u001b[43m(\u001b[49m\u001b[43mkey\u001b[49m\u001b[43m)\u001b[49m\n\u001b[32m   4108\u001b[39m \u001b[38;5;28;01mif\u001b[39;00m is_integer(indexer):\n\u001b[32m   4109\u001b[39m     indexer = [indexer]\n",
            "\u001b[36mFile \u001b[39m\u001b[32mc:\\Users\\EL90\\AppData\\Local\\Programs\\Python\\Python311\\Lib\\site-packages\\pandas\\core\\indexes\\base.py:3819\u001b[39m, in \u001b[36mIndex.get_loc\u001b[39m\u001b[34m(self, key)\u001b[39m\n\u001b[32m   3814\u001b[39m     \u001b[38;5;28;01mif\u001b[39;00m \u001b[38;5;28misinstance\u001b[39m(casted_key, \u001b[38;5;28mslice\u001b[39m) \u001b[38;5;129;01mor\u001b[39;00m (\n\u001b[32m   3815\u001b[39m         \u001b[38;5;28misinstance\u001b[39m(casted_key, abc.Iterable)\n\u001b[32m   3816\u001b[39m         \u001b[38;5;129;01mand\u001b[39;00m \u001b[38;5;28many\u001b[39m(\u001b[38;5;28misinstance\u001b[39m(x, \u001b[38;5;28mslice\u001b[39m) \u001b[38;5;28;01mfor\u001b[39;00m x \u001b[38;5;129;01min\u001b[39;00m casted_key)\n\u001b[32m   3817\u001b[39m     ):\n\u001b[32m   3818\u001b[39m         \u001b[38;5;28;01mraise\u001b[39;00m InvalidIndexError(key)\n\u001b[32m-> \u001b[39m\u001b[32m3819\u001b[39m     \u001b[38;5;28;01mraise\u001b[39;00m \u001b[38;5;167;01mKeyError\u001b[39;00m(key) \u001b[38;5;28;01mfrom\u001b[39;00m\u001b[38;5;250m \u001b[39m\u001b[34;01merr\u001b[39;00m\n\u001b[32m   3820\u001b[39m \u001b[38;5;28;01mexcept\u001b[39;00m \u001b[38;5;167;01mTypeError\u001b[39;00m:\n\u001b[32m   3821\u001b[39m     \u001b[38;5;66;03m# If we have a listlike key, _check_indexing_error will raise\u001b[39;00m\n\u001b[32m   3822\u001b[39m     \u001b[38;5;66;03m#  InvalidIndexError. Otherwise we fall through and re-raise\u001b[39;00m\n\u001b[32m   3823\u001b[39m     \u001b[38;5;66;03m#  the TypeError.\u001b[39;00m\n\u001b[32m   3824\u001b[39m     \u001b[38;5;28mself\u001b[39m._check_indexing_error(key)\n",
            "\u001b[31mKeyError\u001b[39m: 'Weight(kg)'"
          ]
        }
      ],
      "source": [
        "# rock_samples['Weight (kg)']이 0.16kg 이상 이면서 rock_samples['Pristine (%)']이 50 이하인지 확인\n",
        "rocks.loc[(rocks['Weight(kg)']>=0.16)&(rocks['Pristine (%)']<50)]"
      ]
    },
    {
      "cell_type": "code",
      "execution_count": 128,
      "metadata": {
        "gather": {
          "logged": 1718683930536
        },
        "jupyter": {
          "outputs_hidden": false,
          "source_hidden": false
        },
        "nteract": {
          "transient": {
            "deleting": false
          }
        }
      },
      "outputs": [
        {
          "data": {
            "text/html": [
              "<div>\n",
              "<style scoped>\n",
              "    .dataframe tbody tr th:only-of-type {\n",
              "        vertical-align: middle;\n",
              "    }\n",
              "\n",
              "    .dataframe tbody tr th {\n",
              "        vertical-align: top;\n",
              "    }\n",
              "\n",
              "    .dataframe thead th {\n",
              "        text-align: right;\n",
              "    }\n",
              "</style>\n",
              "<table border=\"1\" class=\"dataframe\">\n",
              "  <thead>\n",
              "    <tr style=\"text-align: right;\">\n",
              "      <th></th>\n",
              "      <th>ID</th>\n",
              "      <th>Mission</th>\n",
              "      <th>Type</th>\n",
              "      <th>Subtype</th>\n",
              "      <th>Weight (kg)</th>\n",
              "      <th>Pristine (%)</th>\n",
              "    </tr>\n",
              "  </thead>\n",
              "  <tbody>\n",
              "    <tr>\n",
              "      <th>11</th>\n",
              "      <td>10017</td>\n",
              "      <td>Apollo11</td>\n",
              "      <td>Basalt</td>\n",
              "      <td>Ilmenite</td>\n",
              "      <td>0.9730</td>\n",
              "      <td>43.71</td>\n",
              "    </tr>\n",
              "    <tr>\n",
              "      <th>14</th>\n",
              "      <td>10020</td>\n",
              "      <td>Apollo11</td>\n",
              "      <td>Basalt</td>\n",
              "      <td>Ilmenite</td>\n",
              "      <td>0.4250</td>\n",
              "      <td>27.88</td>\n",
              "    </tr>\n",
              "    <tr>\n",
              "      <th>15</th>\n",
              "      <td>10021</td>\n",
              "      <td>Apollo11</td>\n",
              "      <td>Breccia</td>\n",
              "      <td>Regolith</td>\n",
              "      <td>0.2500</td>\n",
              "      <td>30.21</td>\n",
              "    </tr>\n",
              "    <tr>\n",
              "      <th>29</th>\n",
              "      <td>10045</td>\n",
              "      <td>Apollo11</td>\n",
              "      <td>Basalt</td>\n",
              "      <td>Olivine</td>\n",
              "      <td>0.1850</td>\n",
              "      <td>12.13</td>\n",
              "    </tr>\n",
              "    <tr>\n",
              "      <th>37</th>\n",
              "      <td>10057</td>\n",
              "      <td>Apollo11</td>\n",
              "      <td>Basalt</td>\n",
              "      <td>Ilmenite</td>\n",
              "      <td>0.9190</td>\n",
              "      <td>35.15</td>\n",
              "    </tr>\n",
              "    <tr>\n",
              "      <th>39</th>\n",
              "      <td>10059</td>\n",
              "      <td>Apollo11</td>\n",
              "      <td>Breccia</td>\n",
              "      <td>Regolith</td>\n",
              "      <td>0.1880</td>\n",
              "      <td>36.94</td>\n",
              "    </tr>\n",
              "    <tr>\n",
              "      <th>52</th>\n",
              "      <td>10072</td>\n",
              "      <td>Apollo11</td>\n",
              "      <td>Basalt</td>\n",
              "      <td>Ilmenite</td>\n",
              "      <td>0.4470</td>\n",
              "      <td>15.22</td>\n",
              "    </tr>\n",
              "    <tr>\n",
              "      <th>59</th>\n",
              "      <td>10086</td>\n",
              "      <td>Apollo11</td>\n",
              "      <td>Soil</td>\n",
              "      <td>Unsieved</td>\n",
              "      <td>0.8230</td>\n",
              "      <td>0.01</td>\n",
              "    </tr>\n",
              "    <tr>\n",
              "      <th>68</th>\n",
              "      <td>12002</td>\n",
              "      <td>Apollo12</td>\n",
              "      <td>Basalt</td>\n",
              "      <td>Olivine</td>\n",
              "      <td>1.5300</td>\n",
              "      <td>49.04</td>\n",
              "    </tr>\n",
              "    <tr>\n",
              "      <th>69</th>\n",
              "      <td>12003</td>\n",
              "      <td>Apollo12</td>\n",
              "      <td>Soil</td>\n",
              "      <td>Unsieved</td>\n",
              "      <td>0.3000</td>\n",
              "      <td>28.52</td>\n",
              "    </tr>\n",
              "    <tr>\n",
              "      <th>72</th>\n",
              "      <td>12006</td>\n",
              "      <td>Apollo12</td>\n",
              "      <td>Basalt</td>\n",
              "      <td>Olivine</td>\n",
              "      <td>0.2064</td>\n",
              "      <td>0.53</td>\n",
              "    </tr>\n",
              "    <tr>\n",
              "      <th>94</th>\n",
              "      <td>12028</td>\n",
              "      <td>Apollo12</td>\n",
              "      <td>Core</td>\n",
              "      <td>Unsieved</td>\n",
              "      <td>0.1896</td>\n",
              "      <td>27.56</td>\n",
              "    </tr>\n",
              "    <tr>\n",
              "      <th>113</th>\n",
              "      <td>12047</td>\n",
              "      <td>Apollo12</td>\n",
              "      <td>Basalt</td>\n",
              "      <td>Ilmenite</td>\n",
              "      <td>0.1930</td>\n",
              "      <td>33.70</td>\n",
              "    </tr>\n",
              "    <tr>\n",
              "      <th>118</th>\n",
              "      <td>12053</td>\n",
              "      <td>Apollo12</td>\n",
              "      <td>Basalt</td>\n",
              "      <td>Pigeonite</td>\n",
              "      <td>0.8790</td>\n",
              "      <td>46.43</td>\n",
              "    </tr>\n",
              "    <tr>\n",
              "      <th>120</th>\n",
              "      <td>12055</td>\n",
              "      <td>Apollo12</td>\n",
              "      <td>Basalt</td>\n",
              "      <td>Pigeonite</td>\n",
              "      <td>0.9120</td>\n",
              "      <td>26.00</td>\n",
              "    </tr>\n",
              "    <tr>\n",
              "      <th>353</th>\n",
              "      <td>15012</td>\n",
              "      <td>Apollo15</td>\n",
              "      <td>Soil</td>\n",
              "      <td>Unsieved</td>\n",
              "      <td>0.3122</td>\n",
              "      <td>5.77</td>\n",
              "    </tr>\n",
              "    <tr>\n",
              "      <th>354</th>\n",
              "      <td>15013</td>\n",
              "      <td>Apollo15</td>\n",
              "      <td>Soil</td>\n",
              "      <td>Unsieved</td>\n",
              "      <td>0.2962</td>\n",
              "      <td>8.80</td>\n",
              "    </tr>\n",
              "    <tr>\n",
              "      <th>426</th>\n",
              "      <td>15205</td>\n",
              "      <td>Apollo15</td>\n",
              "      <td>Breccia</td>\n",
              "      <td>Regolith</td>\n",
              "      <td>0.3373</td>\n",
              "      <td>24.70</td>\n",
              "    </tr>\n",
              "    <tr>\n",
              "      <th>534</th>\n",
              "      <td>15405</td>\n",
              "      <td>Apollo15</td>\n",
              "      <td>Breccia</td>\n",
              "      <td>ImpactMelt</td>\n",
              "      <td>0.5131</td>\n",
              "      <td>35.91</td>\n",
              "    </tr>\n",
              "    <tr>\n",
              "      <th>570</th>\n",
              "      <td>15475</td>\n",
              "      <td>Apollo15</td>\n",
              "      <td>Basalt</td>\n",
              "      <td>Pigeonite</td>\n",
              "      <td>0.4068</td>\n",
              "      <td>49.60</td>\n",
              "    </tr>\n",
              "    <tr>\n",
              "      <th>575</th>\n",
              "      <td>15498</td>\n",
              "      <td>Apollo15</td>\n",
              "      <td>Breccia</td>\n",
              "      <td>Regolith</td>\n",
              "      <td>2.3400</td>\n",
              "      <td>34.11</td>\n",
              "    </tr>\n",
              "    <tr>\n",
              "      <th>607</th>\n",
              "      <td>15555</td>\n",
              "      <td>Apollo15</td>\n",
              "      <td>Basalt</td>\n",
              "      <td>Olivine</td>\n",
              "      <td>9.6140</td>\n",
              "      <td>46.61</td>\n",
              "    </tr>\n",
              "    <tr>\n",
              "      <th>718</th>\n",
              "      <td>60016</td>\n",
              "      <td>Apollo16</td>\n",
              "      <td>Breccia</td>\n",
              "      <td>Fragmental</td>\n",
              "      <td>4.3070</td>\n",
              "      <td>49.57</td>\n",
              "    </tr>\n",
              "    <tr>\n",
              "      <th>722</th>\n",
              "      <td>60025</td>\n",
              "      <td>Apollo16</td>\n",
              "      <td>Breccia</td>\n",
              "      <td>Anorthosite</td>\n",
              "      <td>1.8360</td>\n",
              "      <td>43.61</td>\n",
              "    </tr>\n",
              "    <tr>\n",
              "      <th>1221</th>\n",
              "      <td>66075</td>\n",
              "      <td>Apollo16</td>\n",
              "      <td>Breccia</td>\n",
              "      <td>Fragmental</td>\n",
              "      <td>0.3471</td>\n",
              "      <td>32.97</td>\n",
              "    </tr>\n",
              "    <tr>\n",
              "      <th>1645</th>\n",
              "      <td>71566</td>\n",
              "      <td>Apollo17</td>\n",
              "      <td>Basalt</td>\n",
              "      <td>Ilmenite</td>\n",
              "      <td>0.4144</td>\n",
              "      <td>45.06</td>\n",
              "    </tr>\n",
              "    <tr>\n",
              "      <th>2183</th>\n",
              "      <td>79155</td>\n",
              "      <td>Apollo17</td>\n",
              "      <td>Basalt</td>\n",
              "      <td>Ilmenite</td>\n",
              "      <td>0.3188</td>\n",
              "      <td>25.97</td>\n",
              "    </tr>\n",
              "  </tbody>\n",
              "</table>\n",
              "</div>"
            ],
            "text/plain": [
              "         ID   Mission     Type      Subtype  Weight (kg)  Pristine (%)\n",
              "11    10017  Apollo11   Basalt     Ilmenite       0.9730         43.71\n",
              "14    10020  Apollo11   Basalt     Ilmenite       0.4250         27.88\n",
              "15    10021  Apollo11  Breccia     Regolith       0.2500         30.21\n",
              "29    10045  Apollo11   Basalt      Olivine       0.1850         12.13\n",
              "37    10057  Apollo11   Basalt     Ilmenite       0.9190         35.15\n",
              "39    10059  Apollo11  Breccia     Regolith       0.1880         36.94\n",
              "52    10072  Apollo11   Basalt     Ilmenite       0.4470         15.22\n",
              "59    10086  Apollo11     Soil     Unsieved       0.8230          0.01\n",
              "68    12002  Apollo12   Basalt      Olivine       1.5300         49.04\n",
              "69    12003  Apollo12     Soil     Unsieved       0.3000         28.52\n",
              "72    12006  Apollo12   Basalt      Olivine       0.2064          0.53\n",
              "94    12028  Apollo12     Core     Unsieved       0.1896         27.56\n",
              "113   12047  Apollo12   Basalt     Ilmenite       0.1930         33.70\n",
              "118   12053  Apollo12   Basalt    Pigeonite       0.8790         46.43\n",
              "120   12055  Apollo12   Basalt    Pigeonite       0.9120         26.00\n",
              "353   15012  Apollo15     Soil     Unsieved       0.3122          5.77\n",
              "354   15013  Apollo15     Soil     Unsieved       0.2962          8.80\n",
              "426   15205  Apollo15  Breccia     Regolith       0.3373         24.70\n",
              "534   15405  Apollo15  Breccia   ImpactMelt       0.5131         35.91\n",
              "570   15475  Apollo15   Basalt    Pigeonite       0.4068         49.60\n",
              "575   15498  Apollo15  Breccia     Regolith       2.3400         34.11\n",
              "607   15555  Apollo15   Basalt      Olivine       9.6140         46.61\n",
              "718   60016  Apollo16  Breccia   Fragmental       4.3070         49.57\n",
              "722   60025  Apollo16  Breccia  Anorthosite       1.8360         43.61\n",
              "1221  66075  Apollo16  Breccia   Fragmental       0.3471         32.97\n",
              "1645  71566  Apollo17   Basalt     Ilmenite       0.4144         45.06\n",
              "2183  79155  Apollo17   Basalt     Ilmenite       0.3188         25.97"
            ]
          },
          "execution_count": 128,
          "metadata": {},
          "output_type": "execute_result"
        }
      ],
      "source": [
        "#위의 두 조건을 모두 만족하는 행만 추출해서 low_samples라는 데이터 프레임을 만든다.\n",
        "\n",
        "low_samples=rocks.loc[(rocks['Weight (kg)']>=0.16)&(rocks['Pristine (%)']<=50)]\n",
        "low_samples"
      ]
    },
    {
      "cell_type": "code",
      "execution_count": 129,
      "metadata": {
        "gather": {
          "logged": 1718683930723
        },
        "jupyter": {
          "outputs_hidden": false,
          "source_hidden": false
        },
        "nteract": {
          "transient": {
            "deleting": false
          }
        }
      },
      "outputs": [
        {
          "name": "stdout",
          "output_type": "stream",
          "text": [
            "<class 'pandas.core.frame.DataFrame'>\n",
            "Index: 27 entries, 11 to 2183\n",
            "Data columns (total 6 columns):\n",
            " #   Column        Non-Null Count  Dtype  \n",
            "---  ------        --------------  -----  \n",
            " 0   ID            27 non-null     int64  \n",
            " 1   Mission       27 non-null     object \n",
            " 2   Type          27 non-null     object \n",
            " 3   Subtype       27 non-null     object \n",
            " 4   Weight (kg)   27 non-null     float64\n",
            " 5   Pristine (%)  27 non-null     float64\n",
            "dtypes: float64(2), int64(1), object(3)\n",
            "memory usage: 1.5+ KB\n"
          ]
        }
      ],
      "source": [
        "low_samples.info()"
      ]
    },
    {
      "cell_type": "code",
      "execution_count": 130,
      "metadata": {
        "gather": {
          "logged": 1718683930863
        },
        "jupyter": {
          "outputs_hidden": false,
          "source_hidden": false
        },
        "nteract": {
          "transient": {
            "deleting": false
          }
        }
      },
      "outputs": [
        {
          "data": {
            "text/plain": [
              "Type\n",
              "Basalt     14\n",
              "Breccia     8\n",
              "Soil        4\n",
              "Core        1\n",
              "Name: count, dtype: int64"
            ]
          },
          "execution_count": 130,
          "metadata": {},
          "output_type": "execute_result"
        }
      ],
      "source": [
        "# low_samples 데이터프레임에서 암석유형('Type')별로 개수를 센다.\n",
        "low_samples['Type'].value_counts()\n"
      ]
    },
    {
      "cell_type": "code",
      "execution_count": null,
      "metadata": {},
      "outputs": [],
      "source": []
    },
    {
      "cell_type": "code",
      "execution_count": 131,
      "metadata": {
        "gather": {
          "logged": 1718683931015
        },
        "jupyter": {
          "outputs_hidden": false,
          "source_hidden": false
        },
        "nteract": {
          "transient": {
            "deleting": false
          }
        }
      },
      "outputs": [
        {
          "data": {
            "text/plain": [
              "11       True\n",
              "14       True\n",
              "15       True\n",
              "29       True\n",
              "37       True\n",
              "39       True\n",
              "52       True\n",
              "59      False\n",
              "68       True\n",
              "69      False\n",
              "72       True\n",
              "94      False\n",
              "113      True\n",
              "118      True\n",
              "120      True\n",
              "353     False\n",
              "354     False\n",
              "426      True\n",
              "534      True\n",
              "570      True\n",
              "575      True\n",
              "607      True\n",
              "718      True\n",
              "722      True\n",
              "1221     True\n",
              "1645     True\n",
              "2183     True\n",
              "Name: Type, dtype: bool"
            ]
          },
          "execution_count": 131,
          "metadata": {},
          "output_type": "execute_result"
        }
      ],
      "source": [
        "#low_samples['Type']의 값이 'Basalt'이거나 'Breccia' 인지 확인 -> isin(리스트)\n",
        "low_samples['Type'].isin(['Basalt','Breccia'])"
      ]
    },
    {
      "cell_type": "code",
      "execution_count": 132,
      "metadata": {
        "gather": {
          "logged": 1718683931182
        },
        "jupyter": {
          "outputs_hidden": false,
          "source_hidden": false
        },
        "nteract": {
          "transient": {
            "deleting": false
          }
        }
      },
      "outputs": [
        {
          "data": {
            "text/html": [
              "<div>\n",
              "<style scoped>\n",
              "    .dataframe tbody tr th:only-of-type {\n",
              "        vertical-align: middle;\n",
              "    }\n",
              "\n",
              "    .dataframe tbody tr th {\n",
              "        vertical-align: top;\n",
              "    }\n",
              "\n",
              "    .dataframe thead th {\n",
              "        text-align: right;\n",
              "    }\n",
              "</style>\n",
              "<table border=\"1\" class=\"dataframe\">\n",
              "  <thead>\n",
              "    <tr style=\"text-align: right;\">\n",
              "      <th></th>\n",
              "      <th>ID</th>\n",
              "      <th>Mission</th>\n",
              "      <th>Type</th>\n",
              "      <th>Subtype</th>\n",
              "      <th>Weight (kg)</th>\n",
              "      <th>Pristine (%)</th>\n",
              "    </tr>\n",
              "  </thead>\n",
              "  <tbody>\n",
              "    <tr>\n",
              "      <th>11</th>\n",
              "      <td>10017</td>\n",
              "      <td>Apollo11</td>\n",
              "      <td>Basalt</td>\n",
              "      <td>Ilmenite</td>\n",
              "      <td>0.9730</td>\n",
              "      <td>43.71</td>\n",
              "    </tr>\n",
              "    <tr>\n",
              "      <th>14</th>\n",
              "      <td>10020</td>\n",
              "      <td>Apollo11</td>\n",
              "      <td>Basalt</td>\n",
              "      <td>Ilmenite</td>\n",
              "      <td>0.4250</td>\n",
              "      <td>27.88</td>\n",
              "    </tr>\n",
              "    <tr>\n",
              "      <th>15</th>\n",
              "      <td>10021</td>\n",
              "      <td>Apollo11</td>\n",
              "      <td>Breccia</td>\n",
              "      <td>Regolith</td>\n",
              "      <td>0.2500</td>\n",
              "      <td>30.21</td>\n",
              "    </tr>\n",
              "    <tr>\n",
              "      <th>29</th>\n",
              "      <td>10045</td>\n",
              "      <td>Apollo11</td>\n",
              "      <td>Basalt</td>\n",
              "      <td>Olivine</td>\n",
              "      <td>0.1850</td>\n",
              "      <td>12.13</td>\n",
              "    </tr>\n",
              "    <tr>\n",
              "      <th>37</th>\n",
              "      <td>10057</td>\n",
              "      <td>Apollo11</td>\n",
              "      <td>Basalt</td>\n",
              "      <td>Ilmenite</td>\n",
              "      <td>0.9190</td>\n",
              "      <td>35.15</td>\n",
              "    </tr>\n",
              "    <tr>\n",
              "      <th>39</th>\n",
              "      <td>10059</td>\n",
              "      <td>Apollo11</td>\n",
              "      <td>Breccia</td>\n",
              "      <td>Regolith</td>\n",
              "      <td>0.1880</td>\n",
              "      <td>36.94</td>\n",
              "    </tr>\n",
              "    <tr>\n",
              "      <th>52</th>\n",
              "      <td>10072</td>\n",
              "      <td>Apollo11</td>\n",
              "      <td>Basalt</td>\n",
              "      <td>Ilmenite</td>\n",
              "      <td>0.4470</td>\n",
              "      <td>15.22</td>\n",
              "    </tr>\n",
              "    <tr>\n",
              "      <th>68</th>\n",
              "      <td>12002</td>\n",
              "      <td>Apollo12</td>\n",
              "      <td>Basalt</td>\n",
              "      <td>Olivine</td>\n",
              "      <td>1.5300</td>\n",
              "      <td>49.04</td>\n",
              "    </tr>\n",
              "    <tr>\n",
              "      <th>72</th>\n",
              "      <td>12006</td>\n",
              "      <td>Apollo12</td>\n",
              "      <td>Basalt</td>\n",
              "      <td>Olivine</td>\n",
              "      <td>0.2064</td>\n",
              "      <td>0.53</td>\n",
              "    </tr>\n",
              "    <tr>\n",
              "      <th>113</th>\n",
              "      <td>12047</td>\n",
              "      <td>Apollo12</td>\n",
              "      <td>Basalt</td>\n",
              "      <td>Ilmenite</td>\n",
              "      <td>0.1930</td>\n",
              "      <td>33.70</td>\n",
              "    </tr>\n",
              "    <tr>\n",
              "      <th>118</th>\n",
              "      <td>12053</td>\n",
              "      <td>Apollo12</td>\n",
              "      <td>Basalt</td>\n",
              "      <td>Pigeonite</td>\n",
              "      <td>0.8790</td>\n",
              "      <td>46.43</td>\n",
              "    </tr>\n",
              "    <tr>\n",
              "      <th>120</th>\n",
              "      <td>12055</td>\n",
              "      <td>Apollo12</td>\n",
              "      <td>Basalt</td>\n",
              "      <td>Pigeonite</td>\n",
              "      <td>0.9120</td>\n",
              "      <td>26.00</td>\n",
              "    </tr>\n",
              "    <tr>\n",
              "      <th>426</th>\n",
              "      <td>15205</td>\n",
              "      <td>Apollo15</td>\n",
              "      <td>Breccia</td>\n",
              "      <td>Regolith</td>\n",
              "      <td>0.3373</td>\n",
              "      <td>24.70</td>\n",
              "    </tr>\n",
              "    <tr>\n",
              "      <th>534</th>\n",
              "      <td>15405</td>\n",
              "      <td>Apollo15</td>\n",
              "      <td>Breccia</td>\n",
              "      <td>ImpactMelt</td>\n",
              "      <td>0.5131</td>\n",
              "      <td>35.91</td>\n",
              "    </tr>\n",
              "    <tr>\n",
              "      <th>570</th>\n",
              "      <td>15475</td>\n",
              "      <td>Apollo15</td>\n",
              "      <td>Basalt</td>\n",
              "      <td>Pigeonite</td>\n",
              "      <td>0.4068</td>\n",
              "      <td>49.60</td>\n",
              "    </tr>\n",
              "    <tr>\n",
              "      <th>575</th>\n",
              "      <td>15498</td>\n",
              "      <td>Apollo15</td>\n",
              "      <td>Breccia</td>\n",
              "      <td>Regolith</td>\n",
              "      <td>2.3400</td>\n",
              "      <td>34.11</td>\n",
              "    </tr>\n",
              "    <tr>\n",
              "      <th>607</th>\n",
              "      <td>15555</td>\n",
              "      <td>Apollo15</td>\n",
              "      <td>Basalt</td>\n",
              "      <td>Olivine</td>\n",
              "      <td>9.6140</td>\n",
              "      <td>46.61</td>\n",
              "    </tr>\n",
              "    <tr>\n",
              "      <th>718</th>\n",
              "      <td>60016</td>\n",
              "      <td>Apollo16</td>\n",
              "      <td>Breccia</td>\n",
              "      <td>Fragmental</td>\n",
              "      <td>4.3070</td>\n",
              "      <td>49.57</td>\n",
              "    </tr>\n",
              "    <tr>\n",
              "      <th>722</th>\n",
              "      <td>60025</td>\n",
              "      <td>Apollo16</td>\n",
              "      <td>Breccia</td>\n",
              "      <td>Anorthosite</td>\n",
              "      <td>1.8360</td>\n",
              "      <td>43.61</td>\n",
              "    </tr>\n",
              "    <tr>\n",
              "      <th>1221</th>\n",
              "      <td>66075</td>\n",
              "      <td>Apollo16</td>\n",
              "      <td>Breccia</td>\n",
              "      <td>Fragmental</td>\n",
              "      <td>0.3471</td>\n",
              "      <td>32.97</td>\n",
              "    </tr>\n",
              "    <tr>\n",
              "      <th>1645</th>\n",
              "      <td>71566</td>\n",
              "      <td>Apollo17</td>\n",
              "      <td>Basalt</td>\n",
              "      <td>Ilmenite</td>\n",
              "      <td>0.4144</td>\n",
              "      <td>45.06</td>\n",
              "    </tr>\n",
              "    <tr>\n",
              "      <th>2183</th>\n",
              "      <td>79155</td>\n",
              "      <td>Apollo17</td>\n",
              "      <td>Basalt</td>\n",
              "      <td>Ilmenite</td>\n",
              "      <td>0.3188</td>\n",
              "      <td>25.97</td>\n",
              "    </tr>\n",
              "  </tbody>\n",
              "</table>\n",
              "</div>"
            ],
            "text/plain": [
              "         ID   Mission     Type      Subtype  Weight (kg)  Pristine (%)\n",
              "11    10017  Apollo11   Basalt     Ilmenite       0.9730         43.71\n",
              "14    10020  Apollo11   Basalt     Ilmenite       0.4250         27.88\n",
              "15    10021  Apollo11  Breccia     Regolith       0.2500         30.21\n",
              "29    10045  Apollo11   Basalt      Olivine       0.1850         12.13\n",
              "37    10057  Apollo11   Basalt     Ilmenite       0.9190         35.15\n",
              "39    10059  Apollo11  Breccia     Regolith       0.1880         36.94\n",
              "52    10072  Apollo11   Basalt     Ilmenite       0.4470         15.22\n",
              "68    12002  Apollo12   Basalt      Olivine       1.5300         49.04\n",
              "72    12006  Apollo12   Basalt      Olivine       0.2064          0.53\n",
              "113   12047  Apollo12   Basalt     Ilmenite       0.1930         33.70\n",
              "118   12053  Apollo12   Basalt    Pigeonite       0.8790         46.43\n",
              "120   12055  Apollo12   Basalt    Pigeonite       0.9120         26.00\n",
              "426   15205  Apollo15  Breccia     Regolith       0.3373         24.70\n",
              "534   15405  Apollo15  Breccia   ImpactMelt       0.5131         35.91\n",
              "570   15475  Apollo15   Basalt    Pigeonite       0.4068         49.60\n",
              "575   15498  Apollo15  Breccia     Regolith       2.3400         34.11\n",
              "607   15555  Apollo15   Basalt      Olivine       9.6140         46.61\n",
              "718   60016  Apollo16  Breccia   Fragmental       4.3070         49.57\n",
              "722   60025  Apollo16  Breccia  Anorthosite       1.8360         43.61\n",
              "1221  66075  Apollo16  Breccia   Fragmental       0.3471         32.97\n",
              "1645  71566  Apollo17   Basalt     Ilmenite       0.4144         45.06\n",
              "2183  79155  Apollo17   Basalt     Ilmenite       0.3188         25.97"
            ]
          },
          "execution_count": 132,
          "metadata": {},
          "output_type": "execute_result"
        }
      ],
      "source": [
        "# low_samples['Type'] 의 값이 'Basalt'이거나 'Breccia'인 행만 추출해서 needed_samples 데이터프레임 만들기\n",
        "sample_needed = low_samples.loc[low_samples['Type'].isin(['Basalt','Breccia'])]\n",
        "sample_needed"
      ]
    },
    {
      "cell_type": "code",
      "execution_count": 133,
      "metadata": {
        "gather": {
          "logged": 1718683931320
        },
        "jupyter": {
          "outputs_hidden": false,
          "source_hidden": false
        },
        "nteract": {
          "transient": {
            "deleting": false
          }
        }
      },
      "outputs": [
        {
          "name": "stdout",
          "output_type": "stream",
          "text": [
            "<class 'pandas.core.frame.DataFrame'>\n",
            "Index: 22 entries, 11 to 2183\n",
            "Data columns (total 6 columns):\n",
            " #   Column        Non-Null Count  Dtype  \n",
            "---  ------        --------------  -----  \n",
            " 0   ID            22 non-null     int64  \n",
            " 1   Mission       22 non-null     object \n",
            " 2   Type          22 non-null     object \n",
            " 3   Subtype       22 non-null     object \n",
            " 4   Weight (kg)   22 non-null     float64\n",
            " 5   Pristine (%)  22 non-null     float64\n",
            "dtypes: float64(2), int64(1), object(3)\n",
            "memory usage: 1.2+ KB\n"
          ]
        }
      ],
      "source": [
        "# needed_samples 정보확인\n",
        "sample_needed.info()"
      ]
    },
    {
      "cell_type": "code",
      "execution_count": 134,
      "metadata": {},
      "outputs": [
        {
          "data": {
            "text/html": [
              "<div>\n",
              "<style scoped>\n",
              "    .dataframe tbody tr th:only-of-type {\n",
              "        vertical-align: middle;\n",
              "    }\n",
              "\n",
              "    .dataframe tbody tr th {\n",
              "        vertical-align: top;\n",
              "    }\n",
              "\n",
              "    .dataframe thead th {\n",
              "        text-align: right;\n",
              "    }\n",
              "</style>\n",
              "<table border=\"1\" class=\"dataframe\">\n",
              "  <thead>\n",
              "    <tr style=\"text-align: right;\">\n",
              "      <th></th>\n",
              "      <th>ID</th>\n",
              "      <th>Mission</th>\n",
              "      <th>Type</th>\n",
              "      <th>Subtype</th>\n",
              "      <th>Weight (kg)</th>\n",
              "      <th>Pristine (%)</th>\n",
              "    </tr>\n",
              "  </thead>\n",
              "  <tbody>\n",
              "    <tr>\n",
              "      <th>11</th>\n",
              "      <td>10017</td>\n",
              "      <td>Apollo11</td>\n",
              "      <td>Basalt</td>\n",
              "      <td>Ilmenite</td>\n",
              "      <td>0.973</td>\n",
              "      <td>43.71</td>\n",
              "    </tr>\n",
              "    <tr>\n",
              "      <th>14</th>\n",
              "      <td>10020</td>\n",
              "      <td>Apollo11</td>\n",
              "      <td>Basalt</td>\n",
              "      <td>Ilmenite</td>\n",
              "      <td>0.425</td>\n",
              "      <td>27.88</td>\n",
              "    </tr>\n",
              "    <tr>\n",
              "      <th>15</th>\n",
              "      <td>10021</td>\n",
              "      <td>Apollo11</td>\n",
              "      <td>Breccia</td>\n",
              "      <td>Regolith</td>\n",
              "      <td>0.250</td>\n",
              "      <td>30.21</td>\n",
              "    </tr>\n",
              "    <tr>\n",
              "      <th>29</th>\n",
              "      <td>10045</td>\n",
              "      <td>Apollo11</td>\n",
              "      <td>Basalt</td>\n",
              "      <td>Olivine</td>\n",
              "      <td>0.185</td>\n",
              "      <td>12.13</td>\n",
              "    </tr>\n",
              "    <tr>\n",
              "      <th>37</th>\n",
              "      <td>10057</td>\n",
              "      <td>Apollo11</td>\n",
              "      <td>Basalt</td>\n",
              "      <td>Ilmenite</td>\n",
              "      <td>0.919</td>\n",
              "      <td>35.15</td>\n",
              "    </tr>\n",
              "  </tbody>\n",
              "</table>\n",
              "</div>"
            ],
            "text/plain": [
              "       ID   Mission     Type   Subtype  Weight (kg)  Pristine (%)\n",
              "11  10017  Apollo11   Basalt  Ilmenite        0.973         43.71\n",
              "14  10020  Apollo11   Basalt  Ilmenite        0.425         27.88\n",
              "15  10021  Apollo11  Breccia  Regolith        0.250         30.21\n",
              "29  10045  Apollo11   Basalt   Olivine        0.185         12.13\n",
              "37  10057  Apollo11   Basalt  Ilmenite        0.919         35.15"
            ]
          },
          "execution_count": 134,
          "metadata": {},
          "output_type": "execute_result"
        }
      ],
      "source": [
        "sample_needed.head()"
      ]
    },
    {
      "cell_type": "code",
      "execution_count": 135,
      "metadata": {
        "gather": {
          "logged": 1718683931459
        },
        "jupyter": {
          "outputs_hidden": false,
          "source_hidden": false
        },
        "nteract": {
          "transient": {
            "deleting": false
          }
        }
      },
      "outputs": [
        {
          "data": {
            "text/plain": [
              "Type\n",
              "Basalt     17.4234\n",
              "Breccia    10.1185\n",
              "Name: Weight (kg), dtype: float64"
            ]
          },
          "execution_count": 135,
          "metadata": {},
          "output_type": "execute_result"
        }
      ],
      "source": [
        "# needed_samples 데이터프레임에서 'Type'으로 groupby해서 암석 샘플의 총중량의 합을 구한다\n",
        "sample_needed.groupby('Type')['Weight (kg)'].sum()"
      ]
    },
    {
      "cell_type": "code",
      "execution_count": 136,
      "metadata": {},
      "outputs": [
        {
          "data": {
            "text/plain": [
              "Type     ID     Mission   Subtype   Weight (kg)  Pristine (%)\n",
              "Basalt   10003  Apollo11  Ilmenite  0.21300      65.56           1\n",
              "         10017  Apollo11  Ilmenite  0.97300      43.71           1\n",
              "         10020  Apollo11  Ilmenite  0.42500      27.88           1\n",
              "         10022  Apollo11  Ilmenite  0.09559      42.19           1\n",
              "         10024  Apollo11  Ilmenite  0.06812      40.06           1\n",
              "                                                                ..\n",
              "Soil     79512  Apollo17  1-2mm     0.01132      93.36           1\n",
              "         79513  Apollo17  2-4mm     0.00994      89.94           1\n",
              "         79514  Apollo17  4-10mm    0.01224      97.47           1\n",
              "Special  69003  Apollo16  unsieved  0.00100      23.70           1\n",
              "         69004  Apollo16  unsieved  0.00200      0.40            1\n",
              "Name: count, Length: 2226, dtype: int64"
            ]
          },
          "execution_count": 136,
          "metadata": {},
          "output_type": "execute_result"
        }
      ],
      "source": [
        "rocks.groupby('Type').value_counts()"
      ]
    },
    {
      "cell_type": "code",
      "execution_count": null,
      "metadata": {},
      "outputs": [],
      "source": []
    },
    {
      "cell_type": "code",
      "execution_count": 137,
      "metadata": {
        "gather": {
          "logged": 1718683931606
        },
        "jupyter": {
          "outputs_hidden": false,
          "source_hidden": false
        },
        "nteract": {
          "transient": {
            "deleting": false
          }
        }
      },
      "outputs": [
        {
          "data": {
            "text/plain": [
              "Type\n",
              "Basalt      93.14077\n",
              "Breccia    168.88075\n",
              "Core        19.93587\n",
              "Crustal      4.74469\n",
              "Soil        87.58981\n",
              "Special      0.74410\n",
              "Name: Weight (kg), dtype: float64"
            ]
          },
          "execution_count": 137,
          "metadata": {},
          "output_type": "execute_result"
        }
      ],
      "source": [
        "# rock_samples 데이터프레임에서 'Type'으로 groupby 해서 암석 샘플의 중량의 합을 구한다. \n",
        "#           -> 아폴로 임무에서 처음부터 수집이 안된 암석을 구한다.\n",
        "rocks\n",
        "rocks.groupby('Type')['Weight (kg)'].sum()\n",
        "\n",
        "#########처음부터 수집이 안된암석이라는 게 값이 없는 함수? 수집 0 값인 거??"
      ]
    },
    {
      "cell_type": "code",
      "execution_count": 138,
      "metadata": {
        "gather": {
          "logged": 1718683931765
        },
        "jupyter": {
          "outputs_hidden": false,
          "source_hidden": false
        },
        "nteract": {
          "transient": {
            "deleting": false
          }
        }
      },
      "outputs": [
        {
          "data": {
            "text/plain": [
              "0       False\n",
              "1       False\n",
              "2       False\n",
              "3       False\n",
              "4       False\n",
              "        ...  \n",
              "2224    False\n",
              "2225    False\n",
              "2226    False\n",
              "2227    False\n",
              "2228    False\n",
              "Name: Type, Length: 2229, dtype: bool"
            ]
          },
          "execution_count": 138,
          "metadata": {},
          "output_type": "execute_result"
        }
      ],
      "source": [
        "rocks['Type'] == 'Crustal'"
      ]
    },
    {
      "cell_type": "code",
      "execution_count": 139,
      "metadata": {
        "gather": {
          "logged": 1718683931927
        },
        "jupyter": {
          "outputs_hidden": false,
          "source_hidden": false
        },
        "nteract": {
          "transient": {
            "deleting": false
          }
        }
      },
      "outputs": [
        {
          "data": {
            "text/html": [
              "<div>\n",
              "<style scoped>\n",
              "    .dataframe tbody tr th:only-of-type {\n",
              "        vertical-align: middle;\n",
              "    }\n",
              "\n",
              "    .dataframe tbody tr th {\n",
              "        vertical-align: top;\n",
              "    }\n",
              "\n",
              "    .dataframe thead th {\n",
              "        text-align: right;\n",
              "    }\n",
              "</style>\n",
              "<table border=\"1\" class=\"dataframe\">\n",
              "  <thead>\n",
              "    <tr style=\"text-align: right;\">\n",
              "      <th></th>\n",
              "      <th>ID</th>\n",
              "      <th>Mission</th>\n",
              "      <th>Type</th>\n",
              "      <th>Subtype</th>\n",
              "      <th>Weight (kg)</th>\n",
              "      <th>Pristine (%)</th>\n",
              "    </tr>\n",
              "  </thead>\n",
              "  <tbody>\n",
              "    <tr>\n",
              "      <th>497</th>\n",
              "      <td>15361</td>\n",
              "      <td>Apollo15</td>\n",
              "      <td>Crustal</td>\n",
              "      <td>Cataclastic</td>\n",
              "      <td>0.00090</td>\n",
              "      <td>66.56</td>\n",
              "    </tr>\n",
              "    <tr>\n",
              "      <th>498</th>\n",
              "      <td>15362</td>\n",
              "      <td>Apollo15</td>\n",
              "      <td>Crustal</td>\n",
              "      <td>Cataclastic</td>\n",
              "      <td>0.00420</td>\n",
              "      <td>56.88</td>\n",
              "    </tr>\n",
              "    <tr>\n",
              "      <th>499</th>\n",
              "      <td>15363</td>\n",
              "      <td>Apollo15</td>\n",
              "      <td>Crustal</td>\n",
              "      <td>Cataclastic</td>\n",
              "      <td>0.00050</td>\n",
              "      <td>71.00</td>\n",
              "    </tr>\n",
              "    <tr>\n",
              "      <th>540</th>\n",
              "      <td>15415</td>\n",
              "      <td>Apollo15</td>\n",
              "      <td>Crustal</td>\n",
              "      <td>Anorthosite</td>\n",
              "      <td>0.26940</td>\n",
              "      <td>67.07</td>\n",
              "    </tr>\n",
              "    <tr>\n",
              "      <th>557</th>\n",
              "      <td>15437</td>\n",
              "      <td>Apollo15</td>\n",
              "      <td>Crustal</td>\n",
              "      <td>Anorthosite</td>\n",
              "      <td>0.00100</td>\n",
              "      <td>80.00</td>\n",
              "    </tr>\n",
              "    <tr>\n",
              "      <th>731</th>\n",
              "      <td>60057</td>\n",
              "      <td>Apollo16</td>\n",
              "      <td>Crustal</td>\n",
              "      <td>Anorthosite</td>\n",
              "      <td>0.00310</td>\n",
              "      <td>100.00</td>\n",
              "    </tr>\n",
              "    <tr>\n",
              "      <th>733</th>\n",
              "      <td>60059</td>\n",
              "      <td>Apollo16</td>\n",
              "      <td>Crustal</td>\n",
              "      <td>Anorthosite</td>\n",
              "      <td>0.00105</td>\n",
              "      <td>100.00</td>\n",
              "    </tr>\n",
              "    <tr>\n",
              "      <th>769</th>\n",
              "      <td>60619</td>\n",
              "      <td>Apollo16</td>\n",
              "      <td>Crustal</td>\n",
              "      <td>Anorthosite</td>\n",
              "      <td>0.02800</td>\n",
              "      <td>90.75</td>\n",
              "    </tr>\n",
              "    <tr>\n",
              "      <th>802</th>\n",
              "      <td>61017</td>\n",
              "      <td>Apollo16</td>\n",
              "      <td>Crustal</td>\n",
              "      <td>Anorthosite</td>\n",
              "      <td>0.00262</td>\n",
              "      <td>100.00</td>\n",
              "    </tr>\n",
              "    <tr>\n",
              "      <th>831</th>\n",
              "      <td>61226</td>\n",
              "      <td>Apollo16</td>\n",
              "      <td>Crustal</td>\n",
              "      <td>Anorthosite</td>\n",
              "      <td>0.00153</td>\n",
              "      <td>100.00</td>\n",
              "    </tr>\n",
              "    <tr>\n",
              "      <th>887</th>\n",
              "      <td>61577</td>\n",
              "      <td>Apollo16</td>\n",
              "      <td>Crustal</td>\n",
              "      <td>Anorthosite</td>\n",
              "      <td>0.00021</td>\n",
              "      <td>76.19</td>\n",
              "    </tr>\n",
              "    <tr>\n",
              "      <th>894</th>\n",
              "      <td>62236</td>\n",
              "      <td>Apollo16</td>\n",
              "      <td>Crustal</td>\n",
              "      <td>Anorthosite</td>\n",
              "      <td>0.05727</td>\n",
              "      <td>76.76</td>\n",
              "    </tr>\n",
              "    <tr>\n",
              "      <th>895</th>\n",
              "      <td>62237</td>\n",
              "      <td>Apollo16</td>\n",
              "      <td>Crustal</td>\n",
              "      <td>Anorthosite</td>\n",
              "      <td>0.06235</td>\n",
              "      <td>62.81</td>\n",
              "    </tr>\n",
              "    <tr>\n",
              "      <th>896</th>\n",
              "      <td>62238</td>\n",
              "      <td>Apollo16</td>\n",
              "      <td>Crustal</td>\n",
              "      <td>Anorthosite</td>\n",
              "      <td>0.00157</td>\n",
              "      <td>100.00</td>\n",
              "    </tr>\n",
              "    <tr>\n",
              "      <th>903</th>\n",
              "      <td>62246</td>\n",
              "      <td>Apollo16</td>\n",
              "      <td>Crustal</td>\n",
              "      <td>Anorthosite</td>\n",
              "      <td>0.00459</td>\n",
              "      <td>95.49</td>\n",
              "    </tr>\n",
              "    <tr>\n",
              "      <th>1009</th>\n",
              "      <td>64516</td>\n",
              "      <td>Apollo16</td>\n",
              "      <td>Crustal</td>\n",
              "      <td>Anorthosite</td>\n",
              "      <td>0.00293</td>\n",
              "      <td>94.23</td>\n",
              "    </tr>\n",
              "    <tr>\n",
              "      <th>1012</th>\n",
              "      <td>64519</td>\n",
              "      <td>Apollo16</td>\n",
              "      <td>Crustal</td>\n",
              "      <td>Anorthosite</td>\n",
              "      <td>0.00112</td>\n",
              "      <td>95.55</td>\n",
              "    </tr>\n",
              "    <tr>\n",
              "      <th>1013</th>\n",
              "      <td>64525</td>\n",
              "      <td>Apollo16</td>\n",
              "      <td>Crustal</td>\n",
              "      <td>Anorthosite</td>\n",
              "      <td>0.00111</td>\n",
              "      <td>86.72</td>\n",
              "    </tr>\n",
              "    <tr>\n",
              "      <th>1201</th>\n",
              "      <td>65909</td>\n",
              "      <td>Apollo16</td>\n",
              "      <td>Crustal</td>\n",
              "      <td>Anorthosite</td>\n",
              "      <td>0.00202</td>\n",
              "      <td>86.36</td>\n",
              "    </tr>\n",
              "    <tr>\n",
              "      <th>1203</th>\n",
              "      <td>65916</td>\n",
              "      <td>Apollo16</td>\n",
              "      <td>Crustal</td>\n",
              "      <td>Anorthosite</td>\n",
              "      <td>0.00099</td>\n",
              "      <td>95.98</td>\n",
              "    </tr>\n",
              "    <tr>\n",
              "      <th>1313</th>\n",
              "      <td>67635</td>\n",
              "      <td>Apollo16</td>\n",
              "      <td>Crustal</td>\n",
              "      <td>Anorthosite</td>\n",
              "      <td>0.00912</td>\n",
              "      <td>87.37</td>\n",
              "    </tr>\n",
              "    <tr>\n",
              "      <th>1314</th>\n",
              "      <td>67636</td>\n",
              "      <td>Apollo16</td>\n",
              "      <td>Crustal</td>\n",
              "      <td>Anorthosite</td>\n",
              "      <td>0.00323</td>\n",
              "      <td>87.62</td>\n",
              "    </tr>\n",
              "    <tr>\n",
              "      <th>1315</th>\n",
              "      <td>67637</td>\n",
              "      <td>Apollo16</td>\n",
              "      <td>Crustal</td>\n",
              "      <td>Anorthosite</td>\n",
              "      <td>0.00234</td>\n",
              "      <td>88.68</td>\n",
              "    </tr>\n",
              "    <tr>\n",
              "      <th>1401</th>\n",
              "      <td>67955</td>\n",
              "      <td>Apollo16</td>\n",
              "      <td>Crustal</td>\n",
              "      <td>Fragmental</td>\n",
              "      <td>0.16260</td>\n",
              "      <td>85.94</td>\n",
              "    </tr>\n",
              "    <tr>\n",
              "      <th>1721</th>\n",
              "      <td>72415</td>\n",
              "      <td>Apollo17</td>\n",
              "      <td>Crustal</td>\n",
              "      <td>Cataclasite</td>\n",
              "      <td>0.03234</td>\n",
              "      <td>58.89</td>\n",
              "    </tr>\n",
              "    <tr>\n",
              "      <th>1722</th>\n",
              "      <td>72416</td>\n",
              "      <td>Apollo17</td>\n",
              "      <td>Crustal</td>\n",
              "      <td>Cataclasite</td>\n",
              "      <td>0.01153</td>\n",
              "      <td>64.61</td>\n",
              "    </tr>\n",
              "    <tr>\n",
              "      <th>1723</th>\n",
              "      <td>72417</td>\n",
              "      <td>Apollo17</td>\n",
              "      <td>Crustal</td>\n",
              "      <td>Cataclasite</td>\n",
              "      <td>0.01132</td>\n",
              "      <td>2.76</td>\n",
              "    </tr>\n",
              "    <tr>\n",
              "      <th>1724</th>\n",
              "      <td>72418</td>\n",
              "      <td>Apollo17</td>\n",
              "      <td>Crustal</td>\n",
              "      <td>Cataclasite</td>\n",
              "      <td>0.00355</td>\n",
              "      <td>88.25</td>\n",
              "    </tr>\n",
              "    <tr>\n",
              "      <th>1762</th>\n",
              "      <td>72559</td>\n",
              "      <td>Apollo17</td>\n",
              "      <td>Crustal</td>\n",
              "      <td>Cataclasite</td>\n",
              "      <td>0.02780</td>\n",
              "      <td>95.41</td>\n",
              "    </tr>\n",
              "    <tr>\n",
              "      <th>1793</th>\n",
              "      <td>73146</td>\n",
              "      <td>Apollo17</td>\n",
              "      <td>Crustal</td>\n",
              "      <td>Cataclasite</td>\n",
              "      <td>0.00301</td>\n",
              "      <td>90.03</td>\n",
              "    </tr>\n",
              "    <tr>\n",
              "      <th>1957</th>\n",
              "      <td>76235</td>\n",
              "      <td>Apollo17</td>\n",
              "      <td>Crustal</td>\n",
              "      <td>Cataclasite</td>\n",
              "      <td>0.02656</td>\n",
              "      <td>60.36</td>\n",
              "    </tr>\n",
              "    <tr>\n",
              "      <th>1999</th>\n",
              "      <td>76335</td>\n",
              "      <td>Apollo17</td>\n",
              "      <td>Crustal</td>\n",
              "      <td>Cataclasite</td>\n",
              "      <td>0.50289</td>\n",
              "      <td>97.14</td>\n",
              "    </tr>\n",
              "    <tr>\n",
              "      <th>2008</th>\n",
              "      <td>76535</td>\n",
              "      <td>Apollo17</td>\n",
              "      <td>Crustal</td>\n",
              "      <td>Troctolite</td>\n",
              "      <td>0.15550</td>\n",
              "      <td>47.89</td>\n",
              "    </tr>\n",
              "    <tr>\n",
              "      <th>2009</th>\n",
              "      <td>76536</td>\n",
              "      <td>Apollo17</td>\n",
              "      <td>Crustal</td>\n",
              "      <td>Cataclasite</td>\n",
              "      <td>0.01026</td>\n",
              "      <td>93.16</td>\n",
              "    </tr>\n",
              "    <tr>\n",
              "      <th>2032</th>\n",
              "      <td>77017</td>\n",
              "      <td>Apollo17</td>\n",
              "      <td>Crustal</td>\n",
              "      <td>Cataclasite</td>\n",
              "      <td>1.73000</td>\n",
              "      <td>93.14</td>\n",
              "    </tr>\n",
              "    <tr>\n",
              "      <th>2037</th>\n",
              "      <td>77077</td>\n",
              "      <td>Apollo17</td>\n",
              "      <td>Crustal</td>\n",
              "      <td>Cataclasite</td>\n",
              "      <td>0.00000</td>\n",
              "      <td>90.64</td>\n",
              "    </tr>\n",
              "    <tr>\n",
              "      <th>2043</th>\n",
              "      <td>77215</td>\n",
              "      <td>Apollo17</td>\n",
              "      <td>Crustal</td>\n",
              "      <td>Cataclasite</td>\n",
              "      <td>0.84640</td>\n",
              "      <td>93.03</td>\n",
              "    </tr>\n",
              "    <tr>\n",
              "      <th>2075</th>\n",
              "      <td>78155</td>\n",
              "      <td>Apollo17</td>\n",
              "      <td>Crustal</td>\n",
              "      <td>Cataclasite</td>\n",
              "      <td>0.00000</td>\n",
              "      <td>87.66</td>\n",
              "    </tr>\n",
              "    <tr>\n",
              "      <th>2086</th>\n",
              "      <td>78235</td>\n",
              "      <td>Apollo17</td>\n",
              "      <td>Crustal</td>\n",
              "      <td>Norite</td>\n",
              "      <td>0.19900</td>\n",
              "      <td>69.76</td>\n",
              "    </tr>\n",
              "    <tr>\n",
              "      <th>2087</th>\n",
              "      <td>78236</td>\n",
              "      <td>Apollo17</td>\n",
              "      <td>Crustal</td>\n",
              "      <td>Norite</td>\n",
              "      <td>0.00000</td>\n",
              "      <td>87.73</td>\n",
              "    </tr>\n",
              "    <tr>\n",
              "      <th>2088</th>\n",
              "      <td>78237</td>\n",
              "      <td>Apollo17</td>\n",
              "      <td>Crustal</td>\n",
              "      <td>Norite</td>\n",
              "      <td>0.00000</td>\n",
              "      <td>0.00</td>\n",
              "    </tr>\n",
              "    <tr>\n",
              "      <th>2089</th>\n",
              "      <td>78238</td>\n",
              "      <td>Apollo17</td>\n",
              "      <td>Crustal</td>\n",
              "      <td>Norite</td>\n",
              "      <td>0.00000</td>\n",
              "      <td>86.03</td>\n",
              "    </tr>\n",
              "    <tr>\n",
              "      <th>2092</th>\n",
              "      <td>78256</td>\n",
              "      <td>Apollo17</td>\n",
              "      <td>Crustal</td>\n",
              "      <td>Pristine</td>\n",
              "      <td>0.00000</td>\n",
              "      <td>0.00</td>\n",
              "    </tr>\n",
              "    <tr>\n",
              "      <th>2126</th>\n",
              "      <td>78517</td>\n",
              "      <td>Apollo17</td>\n",
              "      <td>Crustal</td>\n",
              "      <td>Cataclasite</td>\n",
              "      <td>0.00182</td>\n",
              "      <td>82.97</td>\n",
              "    </tr>\n",
              "    <tr>\n",
              "      <th>2130</th>\n",
              "      <td>78527</td>\n",
              "      <td>Apollo17</td>\n",
              "      <td>Crustal</td>\n",
              "      <td>Cataclasite</td>\n",
              "      <td>0.00516</td>\n",
              "      <td>82.05</td>\n",
              "    </tr>\n",
              "    <tr>\n",
              "      <th>2189</th>\n",
              "      <td>79215</td>\n",
              "      <td>Apollo17</td>\n",
              "      <td>Crustal</td>\n",
              "      <td>Cataclasite</td>\n",
              "      <td>0.55380</td>\n",
              "      <td>93.33</td>\n",
              "    </tr>\n",
              "  </tbody>\n",
              "</table>\n",
              "</div>"
            ],
            "text/plain": [
              "         ID   Mission     Type      Subtype  Weight (kg)  Pristine (%)\n",
              "497   15361  Apollo15  Crustal  Cataclastic      0.00090         66.56\n",
              "498   15362  Apollo15  Crustal  Cataclastic      0.00420         56.88\n",
              "499   15363  Apollo15  Crustal  Cataclastic      0.00050         71.00\n",
              "540   15415  Apollo15  Crustal  Anorthosite      0.26940         67.07\n",
              "557   15437  Apollo15  Crustal  Anorthosite      0.00100         80.00\n",
              "731   60057  Apollo16  Crustal  Anorthosite      0.00310        100.00\n",
              "733   60059  Apollo16  Crustal  Anorthosite      0.00105        100.00\n",
              "769   60619  Apollo16  Crustal  Anorthosite      0.02800         90.75\n",
              "802   61017  Apollo16  Crustal  Anorthosite      0.00262        100.00\n",
              "831   61226  Apollo16  Crustal  Anorthosite      0.00153        100.00\n",
              "887   61577  Apollo16  Crustal  Anorthosite      0.00021         76.19\n",
              "894   62236  Apollo16  Crustal  Anorthosite      0.05727         76.76\n",
              "895   62237  Apollo16  Crustal  Anorthosite      0.06235         62.81\n",
              "896   62238  Apollo16  Crustal  Anorthosite      0.00157        100.00\n",
              "903   62246  Apollo16  Crustal  Anorthosite      0.00459         95.49\n",
              "1009  64516  Apollo16  Crustal  Anorthosite      0.00293         94.23\n",
              "1012  64519  Apollo16  Crustal  Anorthosite      0.00112         95.55\n",
              "1013  64525  Apollo16  Crustal  Anorthosite      0.00111         86.72\n",
              "1201  65909  Apollo16  Crustal  Anorthosite      0.00202         86.36\n",
              "1203  65916  Apollo16  Crustal  Anorthosite      0.00099         95.98\n",
              "1313  67635  Apollo16  Crustal  Anorthosite      0.00912         87.37\n",
              "1314  67636  Apollo16  Crustal  Anorthosite      0.00323         87.62\n",
              "1315  67637  Apollo16  Crustal  Anorthosite      0.00234         88.68\n",
              "1401  67955  Apollo16  Crustal   Fragmental      0.16260         85.94\n",
              "1721  72415  Apollo17  Crustal  Cataclasite      0.03234         58.89\n",
              "1722  72416  Apollo17  Crustal  Cataclasite      0.01153         64.61\n",
              "1723  72417  Apollo17  Crustal  Cataclasite      0.01132          2.76\n",
              "1724  72418  Apollo17  Crustal  Cataclasite      0.00355         88.25\n",
              "1762  72559  Apollo17  Crustal  Cataclasite      0.02780         95.41\n",
              "1793  73146  Apollo17  Crustal  Cataclasite      0.00301         90.03\n",
              "1957  76235  Apollo17  Crustal  Cataclasite      0.02656         60.36\n",
              "1999  76335  Apollo17  Crustal  Cataclasite      0.50289         97.14\n",
              "2008  76535  Apollo17  Crustal   Troctolite      0.15550         47.89\n",
              "2009  76536  Apollo17  Crustal  Cataclasite      0.01026         93.16\n",
              "2032  77017  Apollo17  Crustal  Cataclasite      1.73000         93.14\n",
              "2037  77077  Apollo17  Crustal  Cataclasite      0.00000         90.64\n",
              "2043  77215  Apollo17  Crustal  Cataclasite      0.84640         93.03\n",
              "2075  78155  Apollo17  Crustal  Cataclasite      0.00000         87.66\n",
              "2086  78235  Apollo17  Crustal       Norite      0.19900         69.76\n",
              "2087  78236  Apollo17  Crustal       Norite      0.00000         87.73\n",
              "2088  78237  Apollo17  Crustal       Norite      0.00000          0.00\n",
              "2089  78238  Apollo17  Crustal       Norite      0.00000         86.03\n",
              "2092  78256  Apollo17  Crustal     Pristine      0.00000          0.00\n",
              "2126  78517  Apollo17  Crustal  Cataclasite      0.00182         82.97\n",
              "2130  78527  Apollo17  Crustal  Cataclasite      0.00516         82.05\n",
              "2189  79215  Apollo17  Crustal  Cataclasite      0.55380         93.33"
            ]
          },
          "execution_count": 139,
          "metadata": {},
          "output_type": "execute_result"
        }
      ],
      "source": [
        "# rock_samples에서 'Type'이 'Crustal'. 인 행만 추출한다.\n",
        "crustal=rocks[rocks['Type'] == 'Crustal']\n",
        "crustal\n"
      ]
    },
    {
      "cell_type": "code",
      "execution_count": 140,
      "metadata": {
        "gather": {
          "logged": 1718683932081
        },
        "jupyter": {
          "outputs_hidden": false,
          "source_hidden": false
        },
        "nteract": {
          "transient": {
            "deleting": false
          }
        }
      },
      "outputs": [
        {
          "data": {
            "text/html": [
              "<div>\n",
              "<style scoped>\n",
              "    .dataframe tbody tr th:only-of-type {\n",
              "        vertical-align: middle;\n",
              "    }\n",
              "\n",
              "    .dataframe tbody tr th {\n",
              "        vertical-align: top;\n",
              "    }\n",
              "\n",
              "    .dataframe thead th {\n",
              "        text-align: right;\n",
              "    }\n",
              "</style>\n",
              "<table border=\"1\" class=\"dataframe\">\n",
              "  <thead>\n",
              "    <tr style=\"text-align: right;\">\n",
              "      <th></th>\n",
              "      <th>ID</th>\n",
              "      <th>Mission</th>\n",
              "      <th>Type</th>\n",
              "      <th>Subtype</th>\n",
              "      <th>Weight (kg)</th>\n",
              "      <th>Pristine (%)</th>\n",
              "    </tr>\n",
              "  </thead>\n",
              "  <tbody>\n",
              "    <tr>\n",
              "      <th>11</th>\n",
              "      <td>10017</td>\n",
              "      <td>Apollo11</td>\n",
              "      <td>Basalt</td>\n",
              "      <td>Ilmenite</td>\n",
              "      <td>0.97300</td>\n",
              "      <td>43.71</td>\n",
              "    </tr>\n",
              "    <tr>\n",
              "      <th>14</th>\n",
              "      <td>10020</td>\n",
              "      <td>Apollo11</td>\n",
              "      <td>Basalt</td>\n",
              "      <td>Ilmenite</td>\n",
              "      <td>0.42500</td>\n",
              "      <td>27.88</td>\n",
              "    </tr>\n",
              "    <tr>\n",
              "      <th>15</th>\n",
              "      <td>10021</td>\n",
              "      <td>Apollo11</td>\n",
              "      <td>Breccia</td>\n",
              "      <td>Regolith</td>\n",
              "      <td>0.25000</td>\n",
              "      <td>30.21</td>\n",
              "    </tr>\n",
              "    <tr>\n",
              "      <th>29</th>\n",
              "      <td>10045</td>\n",
              "      <td>Apollo11</td>\n",
              "      <td>Basalt</td>\n",
              "      <td>Olivine</td>\n",
              "      <td>0.18500</td>\n",
              "      <td>12.13</td>\n",
              "    </tr>\n",
              "    <tr>\n",
              "      <th>37</th>\n",
              "      <td>10057</td>\n",
              "      <td>Apollo11</td>\n",
              "      <td>Basalt</td>\n",
              "      <td>Ilmenite</td>\n",
              "      <td>0.91900</td>\n",
              "      <td>35.15</td>\n",
              "    </tr>\n",
              "    <tr>\n",
              "      <th>...</th>\n",
              "      <td>...</td>\n",
              "      <td>...</td>\n",
              "      <td>...</td>\n",
              "      <td>...</td>\n",
              "      <td>...</td>\n",
              "      <td>...</td>\n",
              "    </tr>\n",
              "    <tr>\n",
              "      <th>2089</th>\n",
              "      <td>78238</td>\n",
              "      <td>Apollo17</td>\n",
              "      <td>Crustal</td>\n",
              "      <td>Norite</td>\n",
              "      <td>0.00000</td>\n",
              "      <td>86.03</td>\n",
              "    </tr>\n",
              "    <tr>\n",
              "      <th>2092</th>\n",
              "      <td>78256</td>\n",
              "      <td>Apollo17</td>\n",
              "      <td>Crustal</td>\n",
              "      <td>Pristine</td>\n",
              "      <td>0.00000</td>\n",
              "      <td>0.00</td>\n",
              "    </tr>\n",
              "    <tr>\n",
              "      <th>2126</th>\n",
              "      <td>78517</td>\n",
              "      <td>Apollo17</td>\n",
              "      <td>Crustal</td>\n",
              "      <td>Cataclasite</td>\n",
              "      <td>0.00182</td>\n",
              "      <td>82.97</td>\n",
              "    </tr>\n",
              "    <tr>\n",
              "      <th>2130</th>\n",
              "      <td>78527</td>\n",
              "      <td>Apollo17</td>\n",
              "      <td>Crustal</td>\n",
              "      <td>Cataclasite</td>\n",
              "      <td>0.00516</td>\n",
              "      <td>82.05</td>\n",
              "    </tr>\n",
              "    <tr>\n",
              "      <th>2189</th>\n",
              "      <td>79215</td>\n",
              "      <td>Apollo17</td>\n",
              "      <td>Crustal</td>\n",
              "      <td>Cataclasite</td>\n",
              "      <td>0.55380</td>\n",
              "      <td>93.33</td>\n",
              "    </tr>\n",
              "  </tbody>\n",
              "</table>\n",
              "<p>68 rows × 6 columns</p>\n",
              "</div>"
            ],
            "text/plain": [
              "         ID   Mission     Type      Subtype  Weight (kg)  Pristine (%)\n",
              "11    10017  Apollo11   Basalt     Ilmenite      0.97300         43.71\n",
              "14    10020  Apollo11   Basalt     Ilmenite      0.42500         27.88\n",
              "15    10021  Apollo11  Breccia     Regolith      0.25000         30.21\n",
              "29    10045  Apollo11   Basalt      Olivine      0.18500         12.13\n",
              "37    10057  Apollo11   Basalt     Ilmenite      0.91900         35.15\n",
              "...     ...       ...      ...          ...          ...           ...\n",
              "2089  78238  Apollo17  Crustal       Norite      0.00000         86.03\n",
              "2092  78256  Apollo17  Crustal     Pristine      0.00000          0.00\n",
              "2126  78517  Apollo17  Crustal  Cataclasite      0.00182         82.97\n",
              "2130  78527  Apollo17  Crustal  Cataclasite      0.00516         82.05\n",
              "2189  79215  Apollo17  Crustal  Cataclasite      0.55380         93.33\n",
              "\n",
              "[68 rows x 6 columns]"
            ]
          },
          "execution_count": 140,
          "metadata": {},
          "output_type": "execute_result"
        }
      ],
      "source": [
        "# needed_samples에 crustal을 추가한다.\n",
        "# 변수선언안하고 crustal 자리에 type 값 바로 넣어줘도 되긴 함.\n",
        "\n",
        "# sample_needed = pd.concat([sample_needed,rocks[rocks['Type'] == 'Crustal']])\n",
        "crustal=rocks[rocks['Type'] == 'Crustal']\n",
        "sample_needed = pd.concat([sample_needed,crustal])\n",
        "sample_needed"
      ]
    },
    {
      "cell_type": "code",
      "execution_count": 141,
      "metadata": {
        "gather": {
          "logged": 1718683932244
        },
        "jupyter": {
          "outputs_hidden": false,
          "source_hidden": false
        },
        "nteract": {
          "transient": {
            "deleting": false
          }
        }
      },
      "outputs": [
        {
          "name": "stdout",
          "output_type": "stream",
          "text": [
            "<class 'pandas.core.frame.DataFrame'>\n",
            "Index: 68 entries, 11 to 2189\n",
            "Data columns (total 6 columns):\n",
            " #   Column        Non-Null Count  Dtype  \n",
            "---  ------        --------------  -----  \n",
            " 0   ID            68 non-null     int64  \n",
            " 1   Mission       68 non-null     object \n",
            " 2   Type          68 non-null     object \n",
            " 3   Subtype       68 non-null     object \n",
            " 4   Weight (kg)   68 non-null     float64\n",
            " 5   Pristine (%)  68 non-null     float64\n",
            "dtypes: float64(2), int64(1), object(3)\n",
            "memory usage: 3.7+ KB\n"
          ]
        }
      ],
      "source": [
        "sample_needed.info()"
      ]
    },
    {
      "cell_type": "code",
      "execution_count": 142,
      "metadata": {
        "gather": {
          "logged": 1718683955389
        },
        "jupyter": {
          "outputs_hidden": false,
          "source_hidden": false
        },
        "nteract": {
          "transient": {
            "deleting": false
          }
        }
      },
      "outputs": [
        {
          "data": {
            "text/plain": [
              "array(['Basalt', 'Breccia', 'Crustal'], dtype=object)"
            ]
          },
          "execution_count": 142,
          "metadata": {},
          "output_type": "execute_result"
        }
      ],
      "source": [
        "sample_needed.Type.unique()"
      ]
    },
    {
      "cell_type": "code",
      "execution_count": 143,
      "metadata": {
        "gather": {
          "logged": 1718683995393
        },
        "jupyter": {
          "outputs_hidden": false,
          "source_hidden": false
        },
        "nteract": {
          "transient": {
            "deleting": false
          }
        }
      },
      "outputs": [
        {
          "data": {
            "text/plain": [
              "array(['Basalt', 'Breccia', 'Crustal'], dtype=object)"
            ]
          },
          "execution_count": 143,
          "metadata": {},
          "output_type": "execute_result"
        }
      ],
      "source": [
        "sample_needed['Type'].unique()"
      ]
    },
    {
      "cell_type": "markdown",
      "metadata": {
        "nteract": {
          "transient": {
            "deleting": false
          }
        }
      },
      "source": [
        "## needed samples overview 만들기"
      ]
    },
    {
      "cell_type": "code",
      "execution_count": 144,
      "metadata": {
        "gather": {
          "logged": 1718685037125
        },
        "jupyter": {
          "outputs_hidden": false,
          "source_hidden": false
        },
        "nteract": {
          "transient": {
            "deleting": false
          }
        }
      },
      "outputs": [],
      "source": [
        "## 아르테미스 임무에 전달할 최종 데이터프레임 needed_samples_overview 만든다.\n"
      ]
    },
    {
      "cell_type": "code",
      "execution_count": 145,
      "metadata": {
        "gather": {
          "logged": 1718685109777
        },
        "jupyter": {
          "outputs_hidden": false,
          "source_hidden": false
        },
        "nteract": {
          "transient": {
            "deleting": false
          }
        }
      },
      "outputs": [],
      "source": [
        "# needed samples 데이터프레임에서 중복되지 않은 암석유형을 추출한다.\n"
      ]
    },
    {
      "cell_type": "code",
      "execution_count": 146,
      "metadata": {
        "gather": {
          "logged": 1718685228127
        },
        "jupyter": {
          "outputs_hidden": false,
          "source_hidden": false
        },
        "nteract": {
          "transient": {
            "deleting": false
          }
        }
      },
      "outputs": [
        {
          "data": {
            "text/plain": [
              "Type\n",
              "Basalt     17.42340\n",
              "Breccia    10.11850\n",
              "Crustal     4.74469\n",
              "Name: Weight (kg), dtype: float64"
            ]
          },
          "execution_count": 146,
          "metadata": {},
          "output_type": "execute_result"
        }
      ],
      "source": [
        "# needed_samples 데이터프레임에서 암석유형별('Type') 중량 합을 구한다.\n",
        "\n",
        "sample_needed.groupby('Type')['Weight (kg)'].sum()"
      ]
    },
    {
      "cell_type": "code",
      "execution_count": 147,
      "metadata": {
        "gather": {
          "logged": 1718685364437
        },
        "jupyter": {
          "outputs_hidden": false,
          "source_hidden": false
        },
        "nteract": {
          "transient": {
            "deleting": false
          }
        }
      },
      "outputs": [
        {
          "data": {
            "text/html": [
              "<div>\n",
              "<style scoped>\n",
              "    .dataframe tbody tr th:only-of-type {\n",
              "        vertical-align: middle;\n",
              "    }\n",
              "\n",
              "    .dataframe tbody tr th {\n",
              "        vertical-align: top;\n",
              "    }\n",
              "\n",
              "    .dataframe thead th {\n",
              "        text-align: right;\n",
              "    }\n",
              "</style>\n",
              "<table border=\"1\" class=\"dataframe\">\n",
              "  <thead>\n",
              "    <tr style=\"text-align: right;\">\n",
              "      <th></th>\n",
              "      <th>Type</th>\n",
              "      <th>Weight (kg)</th>\n",
              "    </tr>\n",
              "  </thead>\n",
              "  <tbody>\n",
              "    <tr>\n",
              "      <th>0</th>\n",
              "      <td>Basalt</td>\n",
              "      <td>17.42340</td>\n",
              "    </tr>\n",
              "    <tr>\n",
              "      <th>1</th>\n",
              "      <td>Breccia</td>\n",
              "      <td>10.11850</td>\n",
              "    </tr>\n",
              "    <tr>\n",
              "      <th>2</th>\n",
              "      <td>Crustal</td>\n",
              "      <td>4.74469</td>\n",
              "    </tr>\n",
              "  </tbody>\n",
              "</table>\n",
              "</div>"
            ],
            "text/plain": [
              "      Type  Weight (kg)\n",
              "0   Basalt     17.42340\n",
              "1  Breccia     10.11850\n",
              "2  Crustal      4.74469"
            ]
          },
          "execution_count": 147,
          "metadata": {},
          "output_type": "execute_result"
        }
      ],
      "source": [
        "needed_sample_weight = sample_needed.groupby('Type')['Weight (kg)'].sum().reset_index()\n",
        "needed_sample_weight"
      ]
    },
    {
      "cell_type": "code",
      "execution_count": 148,
      "metadata": {},
      "outputs": [
        {
          "data": {
            "text/html": [
              "<div>\n",
              "<style scoped>\n",
              "    .dataframe tbody tr th:only-of-type {\n",
              "        vertical-align: middle;\n",
              "    }\n",
              "\n",
              "    .dataframe tbody tr th {\n",
              "        vertical-align: top;\n",
              "    }\n",
              "\n",
              "    .dataframe thead th {\n",
              "        text-align: right;\n",
              "    }\n",
              "</style>\n",
              "<table border=\"1\" class=\"dataframe\">\n",
              "  <thead>\n",
              "    <tr style=\"text-align: right;\">\n",
              "      <th></th>\n",
              "      <th>Type</th>\n",
              "      <th>Aver.Weight (kg)</th>\n",
              "    </tr>\n",
              "  </thead>\n",
              "  <tbody>\n",
              "    <tr>\n",
              "      <th>0</th>\n",
              "      <td>Basalt</td>\n",
              "      <td>1.244529</td>\n",
              "    </tr>\n",
              "    <tr>\n",
              "      <th>1</th>\n",
              "      <td>Breccia</td>\n",
              "      <td>1.264813</td>\n",
              "    </tr>\n",
              "    <tr>\n",
              "      <th>2</th>\n",
              "      <td>Crustal</td>\n",
              "      <td>0.103145</td>\n",
              "    </tr>\n",
              "  </tbody>\n",
              "</table>\n",
              "</div>"
            ],
            "text/plain": [
              "      Type  Aver.Weight (kg)\n",
              "0   Basalt          1.244529\n",
              "1  Breccia          1.264813\n",
              "2  Crustal          0.103145"
            ]
          },
          "execution_count": 148,
          "metadata": {},
          "output_type": "execute_result"
        }
      ],
      "source": [
        "needed_sample_average=sample_needed.groupby('Type')['Weight (kg)'].mean().reset_index()\n",
        "\n",
        "needed_sample_average.rename(columns={'Weight (kg)':'Aver.Weight (kg)'},inplace=True)\n",
        "needed_sample_average\n"
      ]
    },
    {
      "cell_type": "code",
      "execution_count": 149,
      "metadata": {
        "gather": {
          "logged": 1718685506197
        },
        "jupyter": {
          "outputs_hidden": false,
          "source_hidden": false
        },
        "nteract": {
          "transient": {
            "deleting": false
          }
        }
      },
      "outputs": [
        {
          "data": {
            "text/html": [
              "<div>\n",
              "<style scoped>\n",
              "    .dataframe tbody tr th:only-of-type {\n",
              "        vertical-align: middle;\n",
              "    }\n",
              "\n",
              "    .dataframe tbody tr th {\n",
              "        vertical-align: top;\n",
              "    }\n",
              "\n",
              "    .dataframe thead th {\n",
              "        text-align: right;\n",
              "    }\n",
              "</style>\n",
              "<table border=\"1\" class=\"dataframe\">\n",
              "  <thead>\n",
              "    <tr style=\"text-align: right;\">\n",
              "      <th></th>\n",
              "      <th>Type</th>\n",
              "      <th>Weight (kg)</th>\n",
              "      <th>Aver.Weight (kg)</th>\n",
              "    </tr>\n",
              "  </thead>\n",
              "  <tbody>\n",
              "    <tr>\n",
              "      <th>0</th>\n",
              "      <td>Basalt</td>\n",
              "      <td>17.42340</td>\n",
              "      <td>1.244529</td>\n",
              "    </tr>\n",
              "    <tr>\n",
              "      <th>1</th>\n",
              "      <td>Breccia</td>\n",
              "      <td>10.11850</td>\n",
              "      <td>1.264813</td>\n",
              "    </tr>\n",
              "    <tr>\n",
              "      <th>2</th>\n",
              "      <td>Crustal</td>\n",
              "      <td>4.74469</td>\n",
              "      <td>0.103145</td>\n",
              "    </tr>\n",
              "  </tbody>\n",
              "</table>\n",
              "</div>"
            ],
            "text/plain": [
              "      Type  Weight (kg)  Aver.Weight (kg)\n",
              "0   Basalt     17.42340          1.244529\n",
              "1  Breccia     10.11850          1.264813\n",
              "2  Crustal      4.74469          0.103145"
            ]
          },
          "execution_count": 149,
          "metadata": {},
          "output_type": "execute_result"
        }
      ],
      "source": [
        "# 두 데이터프레임을 병합한다.\n",
        "needed_sample_overview = pd.merge(needed_sample_weight,needed_sample_average, on='Type', how='outer')\n",
        "needed_sample_overview"
      ]
    },
    {
      "cell_type": "code",
      "execution_count": 150,
      "metadata": {
        "gather": {
          "logged": 1718685632691
        },
        "jupyter": {
          "outputs_hidden": false,
          "source_hidden": false
        },
        "nteract": {
          "transient": {
            "deleting": false
          }
        }
      },
      "outputs": [
        {
          "data": {
            "text/html": [
              "<div>\n",
              "<style scoped>\n",
              "    .dataframe tbody tr th:only-of-type {\n",
              "        vertical-align: middle;\n",
              "    }\n",
              "\n",
              "    .dataframe tbody tr th {\n",
              "        vertical-align: top;\n",
              "    }\n",
              "\n",
              "    .dataframe thead th {\n",
              "        text-align: right;\n",
              "    }\n",
              "</style>\n",
              "<table border=\"1\" class=\"dataframe\">\n",
              "  <thead>\n",
              "    <tr style=\"text-align: right;\">\n",
              "      <th></th>\n",
              "      <th>Type</th>\n",
              "      <th>Total weight (kg)</th>\n",
              "      <th>Aver.Weight (kg)</th>\n",
              "    </tr>\n",
              "  </thead>\n",
              "  <tbody>\n",
              "    <tr>\n",
              "      <th>0</th>\n",
              "      <td>Basalt</td>\n",
              "      <td>17.42340</td>\n",
              "      <td>1.244529</td>\n",
              "    </tr>\n",
              "    <tr>\n",
              "      <th>1</th>\n",
              "      <td>Breccia</td>\n",
              "      <td>10.11850</td>\n",
              "      <td>1.264813</td>\n",
              "    </tr>\n",
              "    <tr>\n",
              "      <th>2</th>\n",
              "      <td>Crustal</td>\n",
              "      <td>4.74469</td>\n",
              "      <td>0.103145</td>\n",
              "    </tr>\n",
              "  </tbody>\n",
              "</table>\n",
              "</div>"
            ],
            "text/plain": [
              "      Type  Total weight (kg)  Aver.Weight (kg)\n",
              "0   Basalt           17.42340          1.244529\n",
              "1  Breccia           10.11850          1.264813\n",
              "2  Crustal            4.74469          0.103145"
            ]
          },
          "execution_count": 150,
          "metadata": {},
          "output_type": "execute_result"
        }
      ],
      "source": [
        "# 컬럼명을 변경 'Weight (kg)' -> 'Total weight (kg)'\n",
        "\n",
        "needed_sample_overview.rename(columns={'Weight (kg)': 'Total weight (kg)'}, inplace=True)\n",
        "needed_sample_overview"
      ]
    },
    {
      "cell_type": "code",
      "execution_count": null,
      "metadata": {
        "gather": {
          "logged": 1718685790983
        },
        "jupyter": {
          "outputs_hidden": false,
          "source_hidden": false
        },
        "nteract": {
          "transient": {
            "deleting": false
          }
        }
      },
      "outputs": [
        {
          "data": {
            "text/html": [
              "<div>\n",
              "<style scoped>\n",
              "    .dataframe tbody tr th:only-of-type {\n",
              "        vertical-align: middle;\n",
              "    }\n",
              "\n",
              "    .dataframe tbody tr th {\n",
              "        vertical-align: top;\n",
              "    }\n",
              "\n",
              "    .dataframe thead th {\n",
              "        text-align: right;\n",
              "    }\n",
              "</style>\n",
              "<table border=\"1\" class=\"dataframe\">\n",
              "  <thead>\n",
              "    <tr style=\"text-align: right;\">\n",
              "      <th></th>\n",
              "      <th>Type</th>\n",
              "      <th>Weight (kg)</th>\n",
              "    </tr>\n",
              "  </thead>\n",
              "  <tbody>\n",
              "    <tr>\n",
              "      <th>0</th>\n",
              "      <td>Basalt</td>\n",
              "      <td>1.244529</td>\n",
              "    </tr>\n",
              "    <tr>\n",
              "      <th>1</th>\n",
              "      <td>Breccia</td>\n",
              "      <td>1.264813</td>\n",
              "    </tr>\n",
              "    <tr>\n",
              "      <th>2</th>\n",
              "      <td>Crustal</td>\n",
              "      <td>0.103145</td>\n",
              "    </tr>\n",
              "  </tbody>\n",
              "</table>\n",
              "</div>"
            ],
            "text/plain": [
              "      Type  Weight (kg)\n",
              "0   Basalt     1.244529\n",
              "1  Breccia     1.264813\n",
              "2  Crustal     0.103145"
            ]
          },
          "execution_count": 73,
          "metadata": {},
          "output_type": "execute_result"
        }
      ],
      "source": [
        "# needed_samples 데이터프레임에서 암석유형별 중량의 평균을 구한다.\n",
        "\n"
      ]
    },
    {
      "cell_type": "code",
      "execution_count": null,
      "metadata": {
        "gather": {
          "logged": 1718685883504
        },
        "jupyter": {
          "outputs_hidden": false,
          "source_hidden": false
        },
        "nteract": {
          "transient": {
            "deleting": false
          }
        }
      },
      "outputs": [
        {
          "data": {
            "text/html": [
              "<div>\n",
              "<style scoped>\n",
              "    .dataframe tbody tr th:only-of-type {\n",
              "        vertical-align: middle;\n",
              "    }\n",
              "\n",
              "    .dataframe tbody tr th {\n",
              "        vertical-align: top;\n",
              "    }\n",
              "\n",
              "    .dataframe thead th {\n",
              "        text-align: right;\n",
              "    }\n",
              "</style>\n",
              "<table border=\"1\" class=\"dataframe\">\n",
              "  <thead>\n",
              "    <tr style=\"text-align: right;\">\n",
              "      <th></th>\n",
              "      <th>Type</th>\n",
              "      <th>Total weight (kg)</th>\n",
              "      <th>Weight (kg)</th>\n",
              "    </tr>\n",
              "  </thead>\n",
              "  <tbody>\n",
              "    <tr>\n",
              "      <th>0</th>\n",
              "      <td>Basalt</td>\n",
              "      <td>17.42340</td>\n",
              "      <td>1.244529</td>\n",
              "    </tr>\n",
              "    <tr>\n",
              "      <th>1</th>\n",
              "      <td>Breccia</td>\n",
              "      <td>10.11850</td>\n",
              "      <td>1.264813</td>\n",
              "    </tr>\n",
              "    <tr>\n",
              "      <th>2</th>\n",
              "      <td>Crustal</td>\n",
              "      <td>4.74469</td>\n",
              "      <td>0.103145</td>\n",
              "    </tr>\n",
              "  </tbody>\n",
              "</table>\n",
              "</div>"
            ],
            "text/plain": [
              "      Type  Total weight (kg)  Weight (kg)\n",
              "0   Basalt           17.42340     1.244529\n",
              "1  Breccia           10.11850     1.264813\n",
              "2  Crustal            4.74469     0.103145"
            ]
          },
          "execution_count": 75,
          "metadata": {},
          "output_type": "execute_result"
        }
      ],
      "source": [
        "# 두 데이터프레임을 병합한다.\n"
      ]
    },
    {
      "cell_type": "code",
      "execution_count": 151,
      "metadata": {
        "gather": {
          "logged": 1718685955093
        },
        "jupyter": {
          "outputs_hidden": false,
          "source_hidden": false
        },
        "nteract": {
          "transient": {
            "deleting": false
          }
        }
      },
      "outputs": [
        {
          "data": {
            "text/html": [
              "<div>\n",
              "<style scoped>\n",
              "    .dataframe tbody tr th:only-of-type {\n",
              "        vertical-align: middle;\n",
              "    }\n",
              "\n",
              "    .dataframe tbody tr th {\n",
              "        vertical-align: top;\n",
              "    }\n",
              "\n",
              "    .dataframe thead th {\n",
              "        text-align: right;\n",
              "    }\n",
              "</style>\n",
              "<table border=\"1\" class=\"dataframe\">\n",
              "  <thead>\n",
              "    <tr style=\"text-align: right;\">\n",
              "      <th></th>\n",
              "      <th>Type</th>\n",
              "      <th>Total weight (kg)</th>\n",
              "      <th>Aver.Weight (kg)</th>\n",
              "    </tr>\n",
              "  </thead>\n",
              "  <tbody>\n",
              "    <tr>\n",
              "      <th>0</th>\n",
              "      <td>Basalt</td>\n",
              "      <td>17.42340</td>\n",
              "      <td>1.244529</td>\n",
              "    </tr>\n",
              "    <tr>\n",
              "      <th>1</th>\n",
              "      <td>Breccia</td>\n",
              "      <td>10.11850</td>\n",
              "      <td>1.264813</td>\n",
              "    </tr>\n",
              "    <tr>\n",
              "      <th>2</th>\n",
              "      <td>Crustal</td>\n",
              "      <td>4.74469</td>\n",
              "      <td>0.103145</td>\n",
              "    </tr>\n",
              "  </tbody>\n",
              "</table>\n",
              "</div>"
            ],
            "text/plain": [
              "      Type  Total weight (kg)  Aver.Weight (kg)\n",
              "0   Basalt           17.42340          1.244529\n",
              "1  Breccia           10.11850          1.264813\n",
              "2  Crustal            4.74469          0.103145"
            ]
          },
          "execution_count": 151,
          "metadata": {},
          "output_type": "execute_result"
        }
      ],
      "source": [
        "# 컬럼명을 변경 'Weight (kg)' -> 'Average weight (kg)'\n",
        "needed_sample_overview"
      ]
    },
    {
      "cell_type": "code",
      "execution_count": 152,
      "metadata": {
        "gather": {
          "logged": 1718686270585
        },
        "jupyter": {
          "outputs_hidden": false,
          "source_hidden": false
        },
        "nteract": {
          "transient": {
            "deleting": false
          }
        }
      },
      "outputs": [
        {
          "data": {
            "text/html": [
              "<div>\n",
              "<style scoped>\n",
              "    .dataframe tbody tr th:only-of-type {\n",
              "        vertical-align: middle;\n",
              "    }\n",
              "\n",
              "    .dataframe tbody tr th {\n",
              "        vertical-align: top;\n",
              "    }\n",
              "\n",
              "    .dataframe thead th {\n",
              "        text-align: right;\n",
              "    }\n",
              "</style>\n",
              "<table border=\"1\" class=\"dataframe\">\n",
              "  <thead>\n",
              "    <tr style=\"text-align: right;\">\n",
              "      <th></th>\n",
              "      <th>count</th>\n",
              "    </tr>\n",
              "    <tr>\n",
              "      <th>Type</th>\n",
              "      <th></th>\n",
              "    </tr>\n",
              "  </thead>\n",
              "  <tbody>\n",
              "    <tr>\n",
              "      <th>Breccia</th>\n",
              "      <td>959</td>\n",
              "    </tr>\n",
              "    <tr>\n",
              "      <th>Soil</th>\n",
              "      <td>813</td>\n",
              "    </tr>\n",
              "    <tr>\n",
              "      <th>Basalt</th>\n",
              "      <td>351</td>\n",
              "    </tr>\n",
              "    <tr>\n",
              "      <th>Core</th>\n",
              "      <td>56</td>\n",
              "    </tr>\n",
              "    <tr>\n",
              "      <th>Crustal</th>\n",
              "      <td>46</td>\n",
              "    </tr>\n",
              "    <tr>\n",
              "      <th>Special</th>\n",
              "      <td>4</td>\n",
              "    </tr>\n",
              "  </tbody>\n",
              "</table>\n",
              "</div>"
            ],
            "text/plain": [
              "         count\n",
              "Type          \n",
              "Breccia    959\n",
              "Soil       813\n",
              "Basalt     351\n",
              "Core        56\n",
              "Crustal     46\n",
              "Special      4"
            ]
          },
          "execution_count": 152,
          "metadata": {},
          "output_type": "execute_result"
        }
      ],
      "source": [
        "# rock_samples 데이터프레임에서 암석유형별('Type') 개수를 구해서 total_rock_count 라는 데이터프레임을 만든다.\n",
        "rocks['Type'].value_counts()\n",
        "\n",
        "total_rock_count=pd.DataFrame(rocks['Type'].value_counts())\n",
        "total_rock_count"
      ]
    },
    {
      "cell_type": "code",
      "execution_count": null,
      "metadata": {},
      "outputs": [],
      "source": []
    },
    {
      "cell_type": "code",
      "execution_count": null,
      "metadata": {},
      "outputs": [
        {
          "data": {
            "text/plain": [
              "Type\n",
              "Breccia    959\n",
              "Soil       813\n",
              "Basalt     351\n",
              "Core        56\n",
              "Crustal     46\n",
              "Special      4\n",
              "Name: count, dtype: int64"
            ]
          },
          "execution_count": 186,
          "metadata": {},
          "output_type": "execute_result"
        }
      ],
      "source": [
        "rocks['Type'].value_counts()\n"
      ]
    },
    {
      "cell_type": "code",
      "execution_count": null,
      "metadata": {},
      "outputs": [
        {
          "name": "stdout",
          "output_type": "stream",
          "text": [
            "<class 'pandas.core.frame.DataFrame'>\n",
            "Index: 6 entries, Breccia to Special\n",
            "Data columns (total 1 columns):\n",
            " #   Column  Non-Null Count  Dtype\n",
            "---  ------  --------------  -----\n",
            " 0   count   6 non-null      int64\n",
            "dtypes: int64(1)\n",
            "memory usage: 96.0+ bytes\n"
          ]
        }
      ],
      "source": [
        "total_rock_count.info()"
      ]
    },
    {
      "cell_type": "code",
      "execution_count": null,
      "metadata": {},
      "outputs": [],
      "source": []
    },
    {
      "cell_type": "code",
      "execution_count": null,
      "metadata": {},
      "outputs": [
        {
          "data": {
            "text/html": [
              "<div>\n",
              "<style scoped>\n",
              "    .dataframe tbody tr th:only-of-type {\n",
              "        vertical-align: middle;\n",
              "    }\n",
              "\n",
              "    .dataframe tbody tr th {\n",
              "        vertical-align: top;\n",
              "    }\n",
              "\n",
              "    .dataframe thead th {\n",
              "        text-align: right;\n",
              "    }\n",
              "</style>\n",
              "<table border=\"1\" class=\"dataframe\">\n",
              "  <thead>\n",
              "    <tr style=\"text-align: right;\">\n",
              "      <th></th>\n",
              "      <th>ID</th>\n",
              "      <th>Mission</th>\n",
              "      <th>Type</th>\n",
              "      <th>Subtype</th>\n",
              "      <th>Weight (kg)</th>\n",
              "      <th>Pristine (%)</th>\n",
              "    </tr>\n",
              "  </thead>\n",
              "  <tbody>\n",
              "    <tr>\n",
              "      <th>0</th>\n",
              "      <td>10001</td>\n",
              "      <td>Apollo11</td>\n",
              "      <td>Soil</td>\n",
              "      <td>Unsieved</td>\n",
              "      <td>0.12580</td>\n",
              "      <td>88.36</td>\n",
              "    </tr>\n",
              "    <tr>\n",
              "      <th>1</th>\n",
              "      <td>10002</td>\n",
              "      <td>Apollo11</td>\n",
              "      <td>Soil</td>\n",
              "      <td>Unsieved</td>\n",
              "      <td>5.62900</td>\n",
              "      <td>93.73</td>\n",
              "    </tr>\n",
              "    <tr>\n",
              "      <th>2</th>\n",
              "      <td>10003</td>\n",
              "      <td>Apollo11</td>\n",
              "      <td>Basalt</td>\n",
              "      <td>Ilmenite</td>\n",
              "      <td>0.21300</td>\n",
              "      <td>65.56</td>\n",
              "    </tr>\n",
              "    <tr>\n",
              "      <th>3</th>\n",
              "      <td>10004</td>\n",
              "      <td>Apollo11</td>\n",
              "      <td>Core</td>\n",
              "      <td>Unsieved</td>\n",
              "      <td>0.04480</td>\n",
              "      <td>71.76</td>\n",
              "    </tr>\n",
              "    <tr>\n",
              "      <th>4</th>\n",
              "      <td>10005</td>\n",
              "      <td>Apollo11</td>\n",
              "      <td>Core</td>\n",
              "      <td>Unsieved</td>\n",
              "      <td>0.05340</td>\n",
              "      <td>40.31</td>\n",
              "    </tr>\n",
              "    <tr>\n",
              "      <th>...</th>\n",
              "      <td>...</td>\n",
              "      <td>...</td>\n",
              "      <td>...</td>\n",
              "      <td>...</td>\n",
              "      <td>...</td>\n",
              "      <td>...</td>\n",
              "    </tr>\n",
              "    <tr>\n",
              "      <th>2224</th>\n",
              "      <td>79528</td>\n",
              "      <td>Apollo17</td>\n",
              "      <td>Breccia</td>\n",
              "      <td>Regolith</td>\n",
              "      <td>0.00238</td>\n",
              "      <td>100.00</td>\n",
              "    </tr>\n",
              "    <tr>\n",
              "      <th>2225</th>\n",
              "      <td>79529</td>\n",
              "      <td>Apollo17</td>\n",
              "      <td>Breccia</td>\n",
              "      <td>Regolith</td>\n",
              "      <td>0.00184</td>\n",
              "      <td>100.00</td>\n",
              "    </tr>\n",
              "    <tr>\n",
              "      <th>2226</th>\n",
              "      <td>79535</td>\n",
              "      <td>Apollo17</td>\n",
              "      <td>Breccia</td>\n",
              "      <td>Regolith</td>\n",
              "      <td>0.00169</td>\n",
              "      <td>100.00</td>\n",
              "    </tr>\n",
              "    <tr>\n",
              "      <th>2227</th>\n",
              "      <td>79536</td>\n",
              "      <td>Apollo17</td>\n",
              "      <td>Breccia</td>\n",
              "      <td>Regolith</td>\n",
              "      <td>0.00166</td>\n",
              "      <td>100.00</td>\n",
              "    </tr>\n",
              "    <tr>\n",
              "      <th>2228</th>\n",
              "      <td>79537</td>\n",
              "      <td>Apollo17</td>\n",
              "      <td>Breccia</td>\n",
              "      <td>Regolith</td>\n",
              "      <td>0.00105</td>\n",
              "      <td>100.00</td>\n",
              "    </tr>\n",
              "  </tbody>\n",
              "</table>\n",
              "<p>2229 rows × 6 columns</p>\n",
              "</div>"
            ],
            "text/plain": [
              "         ID   Mission     Type   Subtype  Weight (kg)  Pristine (%)\n",
              "0     10001  Apollo11     Soil  Unsieved      0.12580         88.36\n",
              "1     10002  Apollo11     Soil  Unsieved      5.62900         93.73\n",
              "2     10003  Apollo11   Basalt  Ilmenite      0.21300         65.56\n",
              "3     10004  Apollo11     Core  Unsieved      0.04480         71.76\n",
              "4     10005  Apollo11     Core  Unsieved      0.05340         40.31\n",
              "...     ...       ...      ...       ...          ...           ...\n",
              "2224  79528  Apollo17  Breccia  Regolith      0.00238        100.00\n",
              "2225  79529  Apollo17  Breccia  Regolith      0.00184        100.00\n",
              "2226  79535  Apollo17  Breccia  Regolith      0.00169        100.00\n",
              "2227  79536  Apollo17  Breccia  Regolith      0.00166        100.00\n",
              "2228  79537  Apollo17  Breccia  Regolith      0.00105        100.00\n",
              "\n",
              "[2229 rows x 6 columns]"
            ]
          },
          "execution_count": 34,
          "metadata": {},
          "output_type": "execute_result"
        }
      ],
      "source": [
        "rocks"
      ]
    },
    {
      "cell_type": "code",
      "execution_count": null,
      "metadata": {},
      "outputs": [],
      "source": []
    },
    {
      "cell_type": "code",
      "execution_count": 153,
      "metadata": {
        "gather": {
          "logged": 1718686309369
        },
        "jupyter": {
          "outputs_hidden": false,
          "source_hidden": false
        },
        "nteract": {
          "transient": {
            "deleting": false
          }
        }
      },
      "outputs": [
        {
          "data": {
            "text/html": [
              "<div>\n",
              "<style scoped>\n",
              "    .dataframe tbody tr th:only-of-type {\n",
              "        vertical-align: middle;\n",
              "    }\n",
              "\n",
              "    .dataframe tbody tr th {\n",
              "        vertical-align: top;\n",
              "    }\n",
              "\n",
              "    .dataframe thead th {\n",
              "        text-align: right;\n",
              "    }\n",
              "</style>\n",
              "<table border=\"1\" class=\"dataframe\">\n",
              "  <thead>\n",
              "    <tr style=\"text-align: right;\">\n",
              "      <th></th>\n",
              "      <th>Type</th>\n",
              "      <th>Total weight (kg)</th>\n",
              "      <th>Aver.Weight (kg)</th>\n",
              "      <th>count</th>\n",
              "    </tr>\n",
              "  </thead>\n",
              "  <tbody>\n",
              "    <tr>\n",
              "      <th>0</th>\n",
              "      <td>Basalt</td>\n",
              "      <td>17.42340</td>\n",
              "      <td>1.244529</td>\n",
              "      <td>351</td>\n",
              "    </tr>\n",
              "    <tr>\n",
              "      <th>1</th>\n",
              "      <td>Breccia</td>\n",
              "      <td>10.11850</td>\n",
              "      <td>1.264813</td>\n",
              "      <td>959</td>\n",
              "    </tr>\n",
              "    <tr>\n",
              "      <th>2</th>\n",
              "      <td>Crustal</td>\n",
              "      <td>4.74469</td>\n",
              "      <td>0.103145</td>\n",
              "      <td>46</td>\n",
              "    </tr>\n",
              "  </tbody>\n",
              "</table>\n",
              "</div>"
            ],
            "text/plain": [
              "      Type  Total weight (kg)  Aver.Weight (kg)  count\n",
              "0   Basalt           17.42340          1.244529    351\n",
              "1  Breccia           10.11850          1.264813    959\n",
              "2  Crustal            4.74469          0.103145     46"
            ]
          },
          "execution_count": 153,
          "metadata": {},
          "output_type": "execute_result"
        }
      ],
      "source": [
        "# 두 데이터프레임을 병합한다.\n",
        "needed_sample_overview = pd.merge(needed_sample_overview,total_rock_count, on='Type', how='inner')\n",
        "needed_sample_overview"
      ]
    },
    {
      "cell_type": "code",
      "execution_count": null,
      "metadata": {},
      "outputs": [],
      "source": []
    },
    {
      "cell_type": "code",
      "execution_count": 154,
      "metadata": {
        "gather": {
          "logged": 1718686425106
        },
        "jupyter": {
          "outputs_hidden": false,
          "source_hidden": false
        },
        "nteract": {
          "transient": {
            "deleting": false
          }
        }
      },
      "outputs": [
        {
          "ename": "NameError",
          "evalue": "name 'needed_samples_overview' is not defined",
          "output_type": "error",
          "traceback": [
            "\u001b[31m---------------------------------------------------------------------------\u001b[39m",
            "\u001b[31mNameError\u001b[39m                                 Traceback (most recent call last)",
            "\u001b[36mCell\u001b[39m\u001b[36m \u001b[39m\u001b[32mIn[154]\u001b[39m\u001b[32m, line 3\u001b[39m\n\u001b[32m      1\u001b[39m \u001b[38;5;66;03m# 컬럼명을 변경한다. 'ID' -> 'Number of samples'\u001b[39;00m\n\u001b[32m----> \u001b[39m\u001b[32m3\u001b[39m \u001b[43mneeded_samples_overview\u001b[49m.rename(columns={\u001b[33m'\u001b[39m\u001b[33mID\u001b[39m\u001b[33m'\u001b[39m : \u001b[33m'\u001b[39m\u001b[33mNumber of samples\u001b[39m\u001b[33m'\u001b[39m}, inplace=\u001b[38;5;28;01mTrue\u001b[39;00m)\n\u001b[32m      4\u001b[39m needed_samples_overview\n",
            "\u001b[31mNameError\u001b[39m: name 'needed_samples_overview' is not defined"
          ]
        }
      ],
      "source": [
        "# 컬럼명을 변경한다. 'ID' -> 'Number of samples'\n",
        "\n",
        "needed_samples_overview.rename(columns={'ID' : 'Number of samples'}, inplace=True)\n",
        "needed_samples_overview"
      ]
    },
    {
      "cell_type": "code",
      "execution_count": null,
      "metadata": {
        "gather": {
          "logged": 1718686527101
        },
        "jupyter": {
          "outputs_hidden": false,
          "source_hidden": false
        },
        "nteract": {
          "transient": {
            "deleting": false
          }
        }
      },
      "outputs": [
        {
          "data": {
            "text/plain": [
              "1356"
            ]
          },
          "execution_count": 82,
          "metadata": {},
          "output_type": "execute_result"
        }
      ],
      "source": [
        "# needed_samples_overview['Number of samples'] 의 총합을 구하고 total_rocks에 할당\n"
      ]
    },
    {
      "cell_type": "code",
      "execution_count": null,
      "metadata": {
        "gather": {
          "logged": 1718686635216
        },
        "jupyter": {
          "outputs_hidden": false,
          "source_hidden": false
        },
        "nteract": {
          "transient": {
            "deleting": false
          }
        }
      },
      "outputs": [
        {
          "data": {
            "text/html": [
              "<div>\n",
              "<style scoped>\n",
              "    .dataframe tbody tr th:only-of-type {\n",
              "        vertical-align: middle;\n",
              "    }\n",
              "\n",
              "    .dataframe tbody tr th {\n",
              "        vertical-align: top;\n",
              "    }\n",
              "\n",
              "    .dataframe thead th {\n",
              "        text-align: right;\n",
              "    }\n",
              "</style>\n",
              "<table border=\"1\" class=\"dataframe\">\n",
              "  <thead>\n",
              "    <tr style=\"text-align: right;\">\n",
              "      <th></th>\n",
              "      <th>Type</th>\n",
              "      <th>Total weight (kg)</th>\n",
              "      <th>Average weight (kg)</th>\n",
              "      <th>Number of samples</th>\n",
              "      <th>Percentage of rocks</th>\n",
              "    </tr>\n",
              "  </thead>\n",
              "  <tbody>\n",
              "    <tr>\n",
              "      <th>0</th>\n",
              "      <td>Basalt</td>\n",
              "      <td>17.42340</td>\n",
              "      <td>1.244529</td>\n",
              "      <td>351</td>\n",
              "      <td>0.258850</td>\n",
              "    </tr>\n",
              "    <tr>\n",
              "      <th>1</th>\n",
              "      <td>Breccia</td>\n",
              "      <td>10.11850</td>\n",
              "      <td>1.264813</td>\n",
              "      <td>959</td>\n",
              "      <td>0.707227</td>\n",
              "    </tr>\n",
              "    <tr>\n",
              "      <th>2</th>\n",
              "      <td>Crustal</td>\n",
              "      <td>4.74469</td>\n",
              "      <td>0.103145</td>\n",
              "      <td>46</td>\n",
              "      <td>0.033923</td>\n",
              "    </tr>\n",
              "  </tbody>\n",
              "</table>\n",
              "</div>"
            ],
            "text/plain": [
              "      Type  Total weight (kg)  Average weight (kg)  Number of samples  \\\n",
              "0   Basalt           17.42340             1.244529                351   \n",
              "1  Breccia           10.11850             1.264813                959   \n",
              "2  Crustal            4.74469             0.103145                 46   \n",
              "\n",
              "   Percentage of rocks  \n",
              "0             0.258850  \n",
              "1             0.707227  \n",
              "2             0.033923  "
            ]
          },
          "execution_count": 83,
          "metadata": {},
          "output_type": "execute_result"
        }
      ],
      "source": [
        "# 각 암석유형별로 차지하는 비율을 구해서 'Percentage of rocks'라는 컬럼에 할당한다.\n"
      ]
    },
    {
      "cell_type": "code",
      "execution_count": null,
      "metadata": {
        "gather": {
          "logged": 1718686674903
        },
        "jupyter": {
          "outputs_hidden": false,
          "source_hidden": false
        },
        "nteract": {
          "transient": {
            "deleting": false
          }
        }
      },
      "outputs": [
        {
          "data": {
            "text/html": [
              "<div>\n",
              "<style scoped>\n",
              "    .dataframe tbody tr th:only-of-type {\n",
              "        vertical-align: middle;\n",
              "    }\n",
              "\n",
              "    .dataframe tbody tr th {\n",
              "        vertical-align: top;\n",
              "    }\n",
              "\n",
              "    .dataframe thead th {\n",
              "        text-align: right;\n",
              "    }\n",
              "</style>\n",
              "<table border=\"1\" class=\"dataframe\">\n",
              "  <thead>\n",
              "    <tr style=\"text-align: right;\">\n",
              "      <th></th>\n",
              "      <th>Mission</th>\n",
              "      <th>Total weight (kg)</th>\n",
              "      <th>Payload (kg)</th>\n",
              "      <th>Sample weight from total (kg)</th>\n",
              "      <th>Sample weight from payload (kg)</th>\n",
              "      <th>Estimated sample weight (kg)</th>\n",
              "    </tr>\n",
              "  </thead>\n",
              "  <tbody>\n",
              "    <tr>\n",
              "      <th>0</th>\n",
              "      <td>artemis1</td>\n",
              "      <td>26520</td>\n",
              "      <td>26988</td>\n",
              "      <td>75.549232</td>\n",
              "      <td>38.779584</td>\n",
              "      <td>57.164408</td>\n",
              "    </tr>\n",
              "    <tr>\n",
              "      <th>1</th>\n",
              "      <td>artemis1b</td>\n",
              "      <td>26520</td>\n",
              "      <td>37965</td>\n",
              "      <td>75.549232</td>\n",
              "      <td>54.552649</td>\n",
              "      <td>65.050940</td>\n",
              "    </tr>\n",
              "    <tr>\n",
              "      <th>2</th>\n",
              "      <td>artemis2</td>\n",
              "      <td>26520</td>\n",
              "      <td>42955</td>\n",
              "      <td>75.549232</td>\n",
              "      <td>61.722877</td>\n",
              "      <td>68.636054</td>\n",
              "    </tr>\n",
              "  </tbody>\n",
              "</table>\n",
              "</div>"
            ],
            "text/plain": [
              "     Mission  Total weight (kg)  Payload (kg)  Sample weight from total (kg)  \\\n",
              "0   artemis1              26520         26988                      75.549232   \n",
              "1  artemis1b              26520         37965                      75.549232   \n",
              "2   artemis2              26520         42955                      75.549232   \n",
              "\n",
              "   Sample weight from payload (kg)  Estimated sample weight (kg)  \n",
              "0                        38.779584                     57.164408  \n",
              "1                        54.552649                     65.050940  \n",
              "2                        61.722877                     68.636054  "
            ]
          },
          "execution_count": 84,
          "metadata": {},
          "output_type": "execute_result"
        }
      ],
      "source": [
        "artemis_mission"
      ]
    },
    {
      "cell_type": "code",
      "execution_count": null,
      "metadata": {
        "gather": {
          "logged": 1718686817437
        },
        "jupyter": {
          "outputs_hidden": false,
          "source_hidden": false
        },
        "nteract": {
          "transient": {
            "deleting": false
          }
        }
      },
      "outputs": [
        {
          "data": {
            "text/plain": [
              "63.61713411579792"
            ]
          },
          "execution_count": 85,
          "metadata": {},
          "output_type": "execute_result"
        }
      ],
      "source": [
        "# artemis_mission['Estimated sample weight (kg)']의 평균을 구해서 Artemis 달탐사의 에상 암석 중량을 구한다.\n"
      ]
    },
    {
      "cell_type": "code",
      "execution_count": null,
      "metadata": {
        "gather": {
          "logged": 1718686970547
        },
        "jupyter": {
          "outputs_hidden": false,
          "source_hidden": false
        },
        "nteract": {
          "transient": {
            "deleting": false
          }
        }
      },
      "outputs": [
        {
          "data": {
            "text/html": [
              "<div>\n",
              "<style scoped>\n",
              "    .dataframe tbody tr th:only-of-type {\n",
              "        vertical-align: middle;\n",
              "    }\n",
              "\n",
              "    .dataframe tbody tr th {\n",
              "        vertical-align: top;\n",
              "    }\n",
              "\n",
              "    .dataframe thead th {\n",
              "        text-align: right;\n",
              "    }\n",
              "</style>\n",
              "<table border=\"1\" class=\"dataframe\">\n",
              "  <thead>\n",
              "    <tr style=\"text-align: right;\">\n",
              "      <th></th>\n",
              "      <th>Type</th>\n",
              "      <th>Total weight (kg)</th>\n",
              "      <th>Average weight (kg)</th>\n",
              "      <th>Number of samples</th>\n",
              "      <th>Percentage of rocks</th>\n",
              "      <th>Weight to collect</th>\n",
              "    </tr>\n",
              "  </thead>\n",
              "  <tbody>\n",
              "    <tr>\n",
              "      <th>0</th>\n",
              "      <td>Basalt</td>\n",
              "      <td>17.42340</td>\n",
              "      <td>1.244529</td>\n",
              "      <td>351</td>\n",
              "      <td>0.258850</td>\n",
              "      <td>16.467267</td>\n",
              "    </tr>\n",
              "    <tr>\n",
              "      <th>1</th>\n",
              "      <td>Breccia</td>\n",
              "      <td>10.11850</td>\n",
              "      <td>1.264813</td>\n",
              "      <td>959</td>\n",
              "      <td>0.707227</td>\n",
              "      <td>44.991764</td>\n",
              "    </tr>\n",
              "    <tr>\n",
              "      <th>2</th>\n",
              "      <td>Crustal</td>\n",
              "      <td>4.74469</td>\n",
              "      <td>0.103145</td>\n",
              "      <td>46</td>\n",
              "      <td>0.033923</td>\n",
              "      <td>2.158103</td>\n",
              "    </tr>\n",
              "  </tbody>\n",
              "</table>\n",
              "</div>"
            ],
            "text/plain": [
              "      Type  Total weight (kg)  Average weight (kg)  Number of samples  \\\n",
              "0   Basalt           17.42340             1.244529                351   \n",
              "1  Breccia           10.11850             1.264813                959   \n",
              "2  Crustal            4.74469             0.103145                 46   \n",
              "\n",
              "   Percentage of rocks  Weight to collect  \n",
              "0             0.258850          16.467267  \n",
              "1             0.707227          44.991764  \n",
              "2             0.033923           2.158103  "
            ]
          },
          "execution_count": 86,
          "metadata": {},
          "output_type": "execute_result"
        }
      ],
      "source": [
        "# needed_samples_overview['Weight to collect'] 컬럼을 만든다.\n"
      ]
    },
    {
      "cell_type": "code",
      "execution_count": null,
      "metadata": {
        "gather": {
          "logged": 1718687100407
        },
        "jupyter": {
          "outputs_hidden": false,
          "source_hidden": false
        },
        "nteract": {
          "transient": {
            "deleting": false
          }
        }
      },
      "outputs": [
        {
          "data": {
            "text/html": [
              "<div>\n",
              "<style scoped>\n",
              "    .dataframe tbody tr th:only-of-type {\n",
              "        vertical-align: middle;\n",
              "    }\n",
              "\n",
              "    .dataframe tbody tr th {\n",
              "        vertical-align: top;\n",
              "    }\n",
              "\n",
              "    .dataframe thead th {\n",
              "        text-align: right;\n",
              "    }\n",
              "</style>\n",
              "<table border=\"1\" class=\"dataframe\">\n",
              "  <thead>\n",
              "    <tr style=\"text-align: right;\">\n",
              "      <th></th>\n",
              "      <th>Type</th>\n",
              "      <th>Total weight (kg)</th>\n",
              "      <th>Average weight (kg)</th>\n",
              "      <th>Number of samples</th>\n",
              "      <th>Percentage of rocks</th>\n",
              "      <th>Weight to collect</th>\n",
              "      <th>Rocks to collect</th>\n",
              "    </tr>\n",
              "  </thead>\n",
              "  <tbody>\n",
              "    <tr>\n",
              "      <th>0</th>\n",
              "      <td>Basalt</td>\n",
              "      <td>17.42340</td>\n",
              "      <td>1.244529</td>\n",
              "      <td>351</td>\n",
              "      <td>0.258850</td>\n",
              "      <td>16.467267</td>\n",
              "      <td>13.231731</td>\n",
              "    </tr>\n",
              "    <tr>\n",
              "      <th>1</th>\n",
              "      <td>Breccia</td>\n",
              "      <td>10.11850</td>\n",
              "      <td>1.264813</td>\n",
              "      <td>959</td>\n",
              "      <td>0.707227</td>\n",
              "      <td>44.991764</td>\n",
              "      <td>35.571884</td>\n",
              "    </tr>\n",
              "    <tr>\n",
              "      <th>2</th>\n",
              "      <td>Crustal</td>\n",
              "      <td>4.74469</td>\n",
              "      <td>0.103145</td>\n",
              "      <td>46</td>\n",
              "      <td>0.033923</td>\n",
              "      <td>2.158103</td>\n",
              "      <td>20.922917</td>\n",
              "    </tr>\n",
              "  </tbody>\n",
              "</table>\n",
              "</div>"
            ],
            "text/plain": [
              "      Type  Total weight (kg)  Average weight (kg)  Number of samples  \\\n",
              "0   Basalt           17.42340             1.244529                351   \n",
              "1  Breccia           10.11850             1.264813                959   \n",
              "2  Crustal            4.74469             0.103145                 46   \n",
              "\n",
              "   Percentage of rocks  Weight to collect  Rocks to collect  \n",
              "0             0.258850          16.467267         13.231731  \n",
              "1             0.707227          44.991764         35.571884  \n",
              "2             0.033923           2.158103         20.922917  "
            ]
          },
          "execution_count": 87,
          "metadata": {},
          "output_type": "execute_result"
        }
      ],
      "source": [
        "# 수집할 각각의 암석 개수를 알려준다.\n",
        "needed_sample_overview['rocks to collect']\n"
      ]
    }
  ],
  "metadata": {
    "kernel_info": {
      "name": "python3"
    },
    "kernelspec": {
      "display_name": "Python 3",
      "language": "python",
      "name": "python3"
    },
    "language_info": {
      "codemirror_mode": {
        "name": "ipython",
        "version": 3
      },
      "file_extension": ".py",
      "mimetype": "text/x-python",
      "name": "python",
      "nbconvert_exporter": "python",
      "pygments_lexer": "ipython3",
      "version": "3.11.9"
    },
    "microsoft": {
      "host": {
        "AzureML": {
          "notebookHasBeenCompleted": true
        }
      }
    },
    "nteract": {
      "version": "nteract-front-end@1.0.0"
    }
  },
  "nbformat": 4,
  "nbformat_minor": 2
}
